{
 "cells": [
  {
   "cell_type": "code",
   "execution_count": 1,
   "metadata": {},
   "outputs": [],
   "source": [
    "import pandas as pd\n",
    "\n",
    "from pytorch_lightning import Trainer\n",
    "\n",
    "from massspecgym.datasets import MassSpecDataset, RetrievalDataset, MassSpecDataModule\n",
    "from massspecgym.transforms import SpecTokenizer, MolFingerprinter\n",
    "%load_ext autoreload\n",
    "%autoreload 2"
   ]
  },
  {
   "attachments": {},
   "cell_type": "markdown",
   "metadata": {},
   "source": [
    "## Debug data loading"
   ]
  },
  {
   "cell_type": "code",
   "execution_count": 23,
   "metadata": {},
   "outputs": [],
   "source": [
    "# Load dataset\n",
    "dataset = MassSpecDataset(\n",
    "    mgf_pth='../data/example_5_spectra.mgf',\n",
    "    spec_preproc=SpecTokenizer(n_peaks=60),\n",
    "    mol_preproc=MolFingerprinter()\n",
    ")\n",
    "\n",
    "# Init data module\n",
    "data_module = MassSpecDataModule(\n",
    "    dataset=dataset,\n",
    "    split_pth='../data/example_5_spectra_split.csv',\n",
    "    batch_size=2\n",
    ")"
   ]
  },
  {
   "attachments": {},
   "cell_type": "markdown",
   "metadata": {},
   "source": [
    "## Debug retrieval data loading"
   ]
  },
  {
   "cell_type": "code",
   "execution_count": 3,
   "metadata": {},
   "outputs": [
    {
     "name": "stdout",
     "output_type": "stream",
     "text": [
      "torch.Size([2, 12, 2])\n",
      "torch.Size([1, 12, 2])\n"
     ]
    }
   ],
   "source": [
    "# Load dataset\n",
    "dataset = RetrievalDataset(\n",
    "    candidates_pth='../data/example_5_spectra_candidates.json',\n",
    "    mgf_pth='../data/example_5_spectra.mgf',\n",
    "    spec_preproc=SpecTokenizer(n_peaks=60),\n",
    "    mol_preproc=MolFingerprinter()\n",
    ")\n",
    "\n",
    "# Init data module\n",
    "data_module = MassSpecDataModule(\n",
    "    dataset=dataset,\n",
    "    split_pth='../data/example_5_spectra_split.csv',\n",
    "    batch_size=2\n",
    ")"
   ]
  }
 ],
 "metadata": {
  "kernelspec": {
   "display_name": "massspecgym",
   "language": "python",
   "name": "python3"
  },
  "language_info": {
   "codemirror_mode": {
    "name": "ipython",
    "version": 3
   },
   "file_extension": ".py",
   "mimetype": "text/x-python",
   "name": "python",
   "nbconvert_exporter": "python",
   "pygments_lexer": "ipython3",
   "version": "3.11.0"
  },
  "orig_nbformat": 4
 },
 "nbformat": 4,
 "nbformat_minor": 2
}
