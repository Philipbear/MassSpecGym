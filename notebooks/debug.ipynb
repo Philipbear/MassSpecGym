{
 "cells": [
  {
   "cell_type": "code",
   "execution_count": 1,
   "metadata": {},
   "outputs": [
    {
     "name": "stderr",
     "output_type": "stream",
     "text": [
      "/Users/anton/miniconda3/envs/massspecgym/lib/python3.11/site-packages/tqdm/auto.py:21: TqdmWarning: IProgress not found. Please update jupyter and ipywidgets. See https://ipywidgets.readthedocs.io/en/stable/user_install.html\n",
      "  from .autonotebook import tqdm as notebook_tqdm\n"
     ]
    }
   ],
   "source": [
    "import pandas as pd\n",
    "\n",
    "import torch\n",
    "from pytorch_lightning import Trainer\n",
    "\n",
    "from massspecgym.datasets import MassSpecDataset, RetrievalDataset, MassSpecDataModule\n",
    "from massspecgym.transforms import SpecTokenizer, MolFingerprinter\n",
    "%load_ext autoreload\n",
    "%autoreload 2"
   ]
  },
  {
   "attachments": {},
   "cell_type": "markdown",
   "metadata": {},
   "source": [
    "## Debug data loading"
   ]
  },
  {
   "cell_type": "code",
   "execution_count": 2,
   "metadata": {},
   "outputs": [],
   "source": [
    "# Load dataset\n",
    "dataset = MassSpecDataset(\n",
    "    mgf_pth='../data/debug/example_5_spectra.mgf',\n",
    "    spec_transform=SpecTokenizer(n_peaks=60),\n",
    "    mol_transform=MolFingerprinter()\n",
    ")\n",
    "\n",
    "# Init data module\n",
    "data_module = MassSpecDataModule(\n",
    "    dataset=dataset,\n",
    "    split_pth='../data/debug/example_5_spectra_split.tsv',\n",
    "    batch_size=2\n",
    ")"
   ]
  },
  {
   "cell_type": "code",
   "execution_count": 3,
   "metadata": {},
   "outputs": [
    {
     "name": "stdout",
     "output_type": "stream",
     "text": [
      "spec torch.Size([2, 60, 2]) torch.float64\n",
      "mol torch.Size([2, 2048]) torch.int32\n",
      "precursor_mz torch.Size([2]) torch.float64\n",
      "adduct ['[M+H]+', '[M+H]+']\n"
     ]
    }
   ],
   "source": [
    "# Iterate over batches\n",
    "data_module.prepare_data()\n",
    "data_module.setup()\n",
    "dataloader = data_module.train_dataloader()\n",
    "for batch in dataloader:\n",
    "    for k, v in batch.items():\n",
    "        if isinstance(v, torch.Tensor):\n",
    "            print(k, v.shape, v.dtype)\n",
    "        else:\n",
    "            print(k, v)\n",
    "    break"
   ]
  },
  {
   "attachments": {},
   "cell_type": "markdown",
   "metadata": {},
   "source": [
    "## Debug retrieval data loading"
   ]
  },
  {
   "cell_type": "code",
   "execution_count": 12,
   "metadata": {},
   "outputs": [],
   "source": [
    "# Load dataset\n",
    "dataset = RetrievalDataset(\n",
    "    candidates_pth='../data/debug/example_5_spectra_candidates.json',\n",
    "    mgf_pth='../data/debug/example_5_spectra.mgf',\n",
    "    spec_transform=SpecTokenizer(n_peaks=60),\n",
    "    mol_transform=MolFingerprinter()\n",
    ")\n",
    "\n",
    "# Init data module\n",
    "data_module = MassSpecDataModule(\n",
    "    dataset=dataset,\n",
    "    split_pth='../data/debug/example_5_spectra_split.tsv',\n",
    "    batch_size=2\n",
    ")"
   ]
  },
  {
   "cell_type": "code",
   "execution_count": 16,
   "metadata": {},
   "outputs": [
    {
     "name": "stdout",
     "output_type": "stream",
     "text": [
      "spec torch.Size([2, 60, 2]) torch.float64\n",
      "mol torch.Size([2, 2048]) torch.int32\n",
      "precursor_mz torch.Size([2]) torch.float64\n",
      "adduct 2 <class 'str'>\n",
      "candidates 97 <class 'numpy.ndarray'>\n",
      "labels 97 <class 'bool'>\n",
      "batch_ptr 2 <class 'int'>\n"
     ]
    }
   ],
   "source": [
    "# Iterate over batches\n",
    "data_module.prepare_data()\n",
    "data_module.setup()\n",
    "dataloader = data_module.train_dataloader()\n",
    "for batch in dataloader:\n",
    "    for k, v in batch.items():\n",
    "        if isinstance(v, torch.Tensor):\n",
    "            print(k, v.shape, v.dtype)\n",
    "        elif isinstance(v, list):\n",
    "            print(k, len(v), type(v[0]))\n",
    "        else:\n",
    "            print(k, v)\n",
    "        # print(v)\n",
    "    break"
   ]
  }
 ],
 "metadata": {
  "kernelspec": {
   "display_name": "massspecgym",
   "language": "python",
   "name": "python3"
  },
  "language_info": {
   "codemirror_mode": {
    "name": "ipython",
    "version": 3
   },
   "file_extension": ".py",
   "mimetype": "text/x-python",
   "name": "python",
   "nbconvert_exporter": "python",
   "pygments_lexer": "ipython3",
   "version": "3.11.9"
  },
  "orig_nbformat": 4
 },
 "nbformat": 4,
 "nbformat_minor": 2
}
