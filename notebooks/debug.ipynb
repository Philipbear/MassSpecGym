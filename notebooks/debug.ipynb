{
 "cells": [
  {
   "cell_type": "code",
   "execution_count": 1,
   "metadata": {},
   "outputs": [
    {
     "name": "stderr",
     "output_type": "stream",
     "text": [
      "/Users/anton/miniconda3/envs/massspecgym/lib/python3.11/site-packages/tqdm/auto.py:21: TqdmWarning: IProgress not found. Please update jupyter and ipywidgets. See https://ipywidgets.readthedocs.io/en/stable/user_install.html\n",
      "  from .autonotebook import tqdm as notebook_tqdm\n"
     ]
    }
   ],
   "source": [
    "import pandas as pd\n",
    "\n",
    "import torch\n",
    "from pytorch_lightning import Trainer\n",
    "\n",
    "from massspecgym.data import MassSpecDataset, RetrievalDataset, MassSpecDataModule\n",
    "from massspecgym.transforms import SpecTokenizer, MolFingerprinter\n",
    "\n",
    "%load_ext autoreload\n",
    "%autoreload 2"
   ]
  },
  {
   "attachments": {},
   "cell_type": "markdown",
   "metadata": {},
   "source": [
    "## Debug data loading"
   ]
  },
  {
   "cell_type": "code",
   "execution_count": 2,
   "metadata": {},
   "outputs": [],
   "source": [
    "# Load dataset\n",
    "dataset = MassSpecDataset(\n",
    "    mgf_pth=\"../data/debug/example_5_spectra.mgf\",\n",
    "    spec_transform=SpecTokenizer(n_peaks=60),\n",
    "    mol_transform=MolFingerprinter(),\n",
    ")\n",
    "\n",
    "# Init data module\n",
    "data_module = MassSpecDataModule(\n",
    "    dataset=dataset, split_pth=\"../data/debug/example_5_spectra_split.tsv\", batch_size=2\n",
    ")"
   ]
  },
  {
   "cell_type": "code",
   "execution_count": 3,
   "metadata": {},
   "outputs": [
    {
     "name": "stdout",
     "output_type": "stream",
     "text": [
      "spec torch.Size([2, 60, 2]) torch.float64\n",
      "mol torch.Size([2, 2048]) torch.int32\n",
      "precursor_mz torch.Size([2]) torch.float64\n",
      "adduct ['[M+H]+', '[M+H]+']\n"
     ]
    }
   ],
   "source": [
    "# Iterate over batches\n",
    "data_module.prepare_data()\n",
    "data_module.setup()\n",
    "dataloader = data_module.train_dataloader()\n",
    "for batch in dataloader:\n",
    "    for k, v in batch.items():\n",
    "        if isinstance(v, torch.Tensor):\n",
    "            print(k, v.shape, v.dtype)\n",
    "        else:\n",
    "            print(k, v)\n",
    "    break"
   ]
  },
  {
   "attachments": {},
   "cell_type": "markdown",
   "metadata": {},
   "source": [
    "## Debug retrieval data loading"
   ]
  },
  {
   "cell_type": "code",
   "execution_count": 4,
   "metadata": {},
   "outputs": [],
   "source": [
    "# Load dataset\n",
    "dataset = RetrievalDataset(\n",
    "    candidates_pth=\"../data/debug/example_5_spectra_candidates.json\",\n",
    "    mgf_pth=\"../data/debug/example_5_spectra.mgf\",\n",
    "    spec_transform=SpecTokenizer(n_peaks=60),\n",
    "    mol_transform=MolFingerprinter(),\n",
    ")\n",
    "\n",
    "# Init data module\n",
    "data_module = MassSpecDataModule(\n",
    "    dataset=dataset, split_pth=\"../data/debug/example_5_spectra_split.tsv\", batch_size=2\n",
    ")"
   ]
  },
  {
   "cell_type": "code",
   "execution_count": 5,
   "metadata": {},
   "outputs": [
    {
     "name": "stdout",
     "output_type": "stream",
     "text": [
      "spec torch.Size([2, 60, 2]) torch.float64 tensor([[4.2034e+01, 6.9330e-02],\n",
      "        [5.8029e+01, 1.1370e-01],\n",
      "        [5.9032e+01, 2.1160e-02],\n",
      "        [6.0033e+01, 1.2680e-02],\n",
      "        [6.3023e+01, 2.0060e-02],\n",
      "        [6.4018e+01, 2.3740e-02],\n",
      "        [6.5038e+01, 9.2300e-03],\n",
      "        [6.6033e+01, 2.1340e-02],\n",
      "        [6.9992e+01, 1.9380e-02],\n",
      "        [7.8034e+01, 4.0970e-02],\n",
      "        [7.9029e+01, 1.2570e-02],\n",
      "        [8.6060e+01, 9.9590e-02],\n",
      "        [8.7064e+01, 3.7690e-02],\n",
      "        [8.8064e+01, 1.4990e-02],\n",
      "        [9.1018e+01, 3.7890e-02],\n",
      "        [9.3044e+01, 7.2130e-02],\n",
      "        [1.0405e+02, 5.2920e-02],\n",
      "        [1.0504e+02, 4.7760e-02],\n",
      "        [1.0505e+02, 3.4940e-02],\n",
      "        [1.0603e+02, 1.1420e-02],\n",
      "        [1.2006e+02, 7.7780e-02],\n",
      "        [1.2104e+02, 6.7510e-02],\n",
      "        [1.2501e+02, 2.9480e-02],\n",
      "        [1.3303e+02, 2.0740e-02],\n",
      "        [1.3304e+02, 3.9790e-02],\n",
      "        [1.3502e+02, 9.0800e-03],\n",
      "        [1.4805e+02, 4.7210e-02],\n",
      "        [1.5401e+02, 2.1390e-02],\n",
      "        [1.6005e+02, 3.3110e-02],\n",
      "        [1.6103e+02, 1.4670e-02],\n",
      "        [1.7605e+02, 2.2882e-01],\n",
      "        [1.9406e+02, 2.4336e-01],\n",
      "        [2.0404e+02, 2.4707e-01],\n",
      "        [2.2108e+02, 1.7600e-02],\n",
      "        [2.2205e+02, 1.0000e+00],\n",
      "        [2.2209e+02, 1.4730e-02],\n",
      "        [2.2309e+02, 1.6790e-02],\n",
      "        [2.4807e+02, 1.0100e-02],\n",
      "        [2.4907e+02, 2.4240e-02],\n",
      "        [2.5008e+02, 2.5560e-02],\n",
      "        [2.5108e+02, 1.5130e-02],\n",
      "        [2.7703e+02, 1.5520e-02],\n",
      "        [2.9307e+02, 1.3090e-02],\n",
      "        [3.0815e+02, 1.7230e-02],\n",
      "        [3.0915e+02, 3.7110e-02],\n",
      "        [3.1015e+02, 1.9040e-02],\n",
      "        [3.2106e+02, 1.2690e-02],\n",
      "        [3.5704e+02, 4.7850e-02],\n",
      "        [4.1119e+02, 1.4230e-02],\n",
      "        [4.1219e+02, 5.7380e-02],\n",
      "        [4.1320e+02, 8.0050e-02],\n",
      "        [4.9807e+02, 1.8120e-02],\n",
      "        [0.0000e+00, 0.0000e+00],\n",
      "        [0.0000e+00, 0.0000e+00],\n",
      "        [0.0000e+00, 0.0000e+00],\n",
      "        [0.0000e+00, 0.0000e+00],\n",
      "        [0.0000e+00, 0.0000e+00],\n",
      "        [0.0000e+00, 0.0000e+00],\n",
      "        [0.0000e+00, 0.0000e+00],\n",
      "        [0.0000e+00, 0.0000e+00]], dtype=torch.float64)\n",
      "mol torch.Size([2, 2048]) torch.int32 tensor([0, 0, 0,  ..., 0, 0, 0], dtype=torch.int32)\n",
      "precursor_mz torch.Size([2]) torch.float64 tensor(498.0730, dtype=torch.float64)\n",
      "adduct 2 <class 'str'> [M+H]+\n",
      "candidates torch.Size([156, 2048]) torch.int32 tensor([0, 0, 0,  ..., 0, 0, 0], dtype=torch.int32)\n",
      "labels torch.Size([156]) torch.bool tensor(False)\n",
      "batch_ptr torch.Size([2]) torch.int64 tensor(26)\n"
     ]
    }
   ],
   "source": [
    "# Iterate over batches\n",
    "data_module.prepare_data()\n",
    "data_module.setup()\n",
    "dataloader = data_module.train_dataloader()\n",
    "for batch in dataloader:\n",
    "    for k, v in batch.items():\n",
    "        if isinstance(v, torch.Tensor):\n",
    "            print(k, v.shape, v.dtype, v[0])\n",
    "        elif isinstance(v, list):\n",
    "            print(k, len(v), type(v[0]), v[0])\n",
    "        else:\n",
    "            print(k, v)\n",
    "        # print(v)\n",
    "    break"
   ]
  },
  {
   "attachments": {},
   "cell_type": "markdown",
   "metadata": {},
   "source": [
    "## Debug de novo data loading"
   ]
  },
  {
   "cell_type": "code",
   "execution_count": 11,
   "metadata": {},
   "outputs": [],
   "source": [
    "# Load dataset\n",
    "dataset = MassSpecDataset(\n",
    "    mgf_pth=\"../data/debug/example_5_spectra.mgf\",\n",
    "    spec_transform=SpecTokenizer(n_peaks=60),\n",
    "    # mol_transform=MolFingerprinter(),\n",
    ")\n",
    "\n",
    "# Init data module\n",
    "data_module = MassSpecDataModule(\n",
    "    dataset=dataset, split_pth=\"../data/debug/example_5_spectra_split.tsv\", batch_size=2\n",
    ")"
   ]
  },
  {
   "cell_type": "code",
   "execution_count": 12,
   "metadata": {},
   "outputs": [
    {
     "name": "stdout",
     "output_type": "stream",
     "text": [
      "spec torch.Size([2, 60, 2]) torch.float64 tensor([[7.0065e+01, 2.8620e-02],\n",
      "        [8.4081e+01, 1.5110e-02],\n",
      "        [1.0908e+02, 1.3850e-02],\n",
      "        [1.1409e+02, 2.8860e-02],\n",
      "        [1.2302e+02, 1.4149e-01],\n",
      "        [1.6106e+02, 2.5200e-02],\n",
      "        [2.0209e+02, 1.4350e-02],\n",
      "        [2.3011e+02, 3.3670e-02],\n",
      "        [2.4113e+02, 2.6664e-01],\n",
      "        [2.6116e+02, 3.0620e-02],\n",
      "        [2.7114e+02, 4.1501e-01],\n",
      "        [2.8915e+02, 1.0000e+00],\n",
      "        [3.4618e+02, 2.6100e-01],\n",
      "        [3.5114e+02, 1.2000e-02],\n",
      "        [4.1019e+02, 8.7500e-02],\n",
      "        [0.0000e+00, 0.0000e+00],\n",
      "        [0.0000e+00, 0.0000e+00],\n",
      "        [0.0000e+00, 0.0000e+00],\n",
      "        [0.0000e+00, 0.0000e+00],\n",
      "        [0.0000e+00, 0.0000e+00],\n",
      "        [0.0000e+00, 0.0000e+00],\n",
      "        [0.0000e+00, 0.0000e+00],\n",
      "        [0.0000e+00, 0.0000e+00],\n",
      "        [0.0000e+00, 0.0000e+00],\n",
      "        [0.0000e+00, 0.0000e+00],\n",
      "        [0.0000e+00, 0.0000e+00],\n",
      "        [0.0000e+00, 0.0000e+00],\n",
      "        [0.0000e+00, 0.0000e+00],\n",
      "        [0.0000e+00, 0.0000e+00],\n",
      "        [0.0000e+00, 0.0000e+00],\n",
      "        [0.0000e+00, 0.0000e+00],\n",
      "        [0.0000e+00, 0.0000e+00],\n",
      "        [0.0000e+00, 0.0000e+00],\n",
      "        [0.0000e+00, 0.0000e+00],\n",
      "        [0.0000e+00, 0.0000e+00],\n",
      "        [0.0000e+00, 0.0000e+00],\n",
      "        [0.0000e+00, 0.0000e+00],\n",
      "        [0.0000e+00, 0.0000e+00],\n",
      "        [0.0000e+00, 0.0000e+00],\n",
      "        [0.0000e+00, 0.0000e+00],\n",
      "        [0.0000e+00, 0.0000e+00],\n",
      "        [0.0000e+00, 0.0000e+00],\n",
      "        [0.0000e+00, 0.0000e+00],\n",
      "        [0.0000e+00, 0.0000e+00],\n",
      "        [0.0000e+00, 0.0000e+00],\n",
      "        [0.0000e+00, 0.0000e+00],\n",
      "        [0.0000e+00, 0.0000e+00],\n",
      "        [0.0000e+00, 0.0000e+00],\n",
      "        [0.0000e+00, 0.0000e+00],\n",
      "        [0.0000e+00, 0.0000e+00],\n",
      "        [0.0000e+00, 0.0000e+00],\n",
      "        [0.0000e+00, 0.0000e+00],\n",
      "        [0.0000e+00, 0.0000e+00],\n",
      "        [0.0000e+00, 0.0000e+00],\n",
      "        [0.0000e+00, 0.0000e+00],\n",
      "        [0.0000e+00, 0.0000e+00],\n",
      "        [0.0000e+00, 0.0000e+00],\n",
      "        [0.0000e+00, 0.0000e+00],\n",
      "        [0.0000e+00, 0.0000e+00],\n",
      "        [0.0000e+00, 0.0000e+00]], dtype=torch.float64)\n",
      "mol 2 <class 'str'> CNC(=O)O[C@H]1COc2c(cc(N3CCN(C4COC4)CC3)cc2)[C@@H]1NC(=O)c1ccc(F)cc1\n",
      "precursor_mz torch.Size([2]) torch.float64 tensor(485.2195, dtype=torch.float64)\n",
      "adduct 2 <class 'str'> [M+H]+\n"
     ]
    }
   ],
   "source": [
    "# Iterate over batches\n",
    "data_module.prepare_data()\n",
    "data_module.setup()\n",
    "dataloader = data_module.train_dataloader()\n",
    "for batch in dataloader:\n",
    "    for k, v in batch.items():\n",
    "        if isinstance(v, torch.Tensor):\n",
    "            print(k, v.shape, v.dtype, v[0])\n",
    "        elif isinstance(v, list):\n",
    "            print(k, len(v), type(v[0]), v[0])\n",
    "        else:\n",
    "            print(k, v)\n",
    "        # print(v)\n",
    "    break"
   ]
  }
 ],
 "metadata": {
  "kernelspec": {
   "display_name": "massspecgym",
   "language": "python",
   "name": "python3"
  },
  "language_info": {
   "codemirror_mode": {
    "name": "ipython",
    "version": 3
   },
   "file_extension": ".py",
   "mimetype": "text/x-python",
   "name": "python",
   "nbconvert_exporter": "python",
   "pygments_lexer": "ipython3",
   "version": "3.11.9"
  },
  "orig_nbformat": 4
 },
 "nbformat": 4,
 "nbformat_minor": 2
}
