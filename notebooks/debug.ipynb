{
 "cells": [
  {
   "cell_type": "code",
   "execution_count": 1,
   "metadata": {},
   "outputs": [],
   "source": [
    "import pandas as pd\n",
    "\n",
    "from pytorch_lightning import Trainer\n",
    "\n",
    "from massspecgym.datasets import MassSpecDataset, RetrievalDataset, MassSpecDataModule\n",
    "from massspecgym.transforms import SpecTokenizer, MolFingerprinter\n",
    "%load_ext autoreload\n",
    "%autoreload 2"
   ]
  },
  {
   "attachments": {},
   "cell_type": "markdown",
   "metadata": {},
   "source": [
    "## Debug data loading"
   ]
  },
  {
   "cell_type": "code",
   "execution_count": 2,
   "metadata": {},
   "outputs": [],
   "source": [
    "# Load dataset\n",
    "dataset = MassSpecDataset(\n",
    "    mgf_pth='../data/example_5_spectra.mgf',\n",
    "    spec_preproc=SpecTokenizer(n_peaks=60),\n",
    "    mol_preproc=MolFingerprinter()\n",
    ")\n",
    "\n",
    "# Init data module\n",
    "data_module = MassSpecDataModule(\n",
    "    dataset=dataset,\n",
    "    split_pth='../data/example_5_spectra_split.csv',\n",
    "    batch_size=2\n",
    ")"
   ]
  },
  {
   "attachments": {},
   "cell_type": "markdown",
   "metadata": {},
   "source": [
    "## Debug retrieval data loading"
   ]
  },
  {
   "cell_type": "code",
   "execution_count": 3,
   "metadata": {},
   "outputs": [
    {
     "ename": "TypeError",
     "evalue": "RetrievalDataset.__init__() missing 1 required positional argument: 'candidates_pth'",
     "output_type": "error",
     "traceback": [
      "\u001b[0;31m---------------------------------------------------------------------------\u001b[0m",
      "\u001b[0;31mTypeError\u001b[0m                                 Traceback (most recent call last)",
      "Cell \u001b[0;32mIn[3], line 2\u001b[0m\n\u001b[1;32m      1\u001b[0m \u001b[39m# Load dataset\u001b[39;00m\n\u001b[0;32m----> 2\u001b[0m dataset \u001b[39m=\u001b[39m RetrievalDataset(\n\u001b[1;32m      3\u001b[0m     mgf_pth\u001b[39m=\u001b[39;49m\u001b[39m'\u001b[39;49m\u001b[39m../data/example_5_spectra.mgf\u001b[39;49m\u001b[39m'\u001b[39;49m,\n\u001b[1;32m      4\u001b[0m     spec_preproc\u001b[39m=\u001b[39;49mSpecTokenizer(n_peaks\u001b[39m=\u001b[39;49m\u001b[39m60\u001b[39;49m),\n\u001b[1;32m      5\u001b[0m     mol_preproc\u001b[39m=\u001b[39;49mMolFingerprinter()\n\u001b[1;32m      6\u001b[0m )\n\u001b[1;32m      8\u001b[0m \u001b[39m# Init data module\u001b[39;00m\n\u001b[1;32m      9\u001b[0m data_module \u001b[39m=\u001b[39m MassSpecDataModule(\n\u001b[1;32m     10\u001b[0m     dataset\u001b[39m=\u001b[39mdataset,\n\u001b[1;32m     11\u001b[0m     split_pth\u001b[39m=\u001b[39m\u001b[39m'\u001b[39m\u001b[39m../data/example_5_spectra_split.csv\u001b[39m\u001b[39m'\u001b[39m,\n\u001b[1;32m     12\u001b[0m     batch_size\u001b[39m=\u001b[39m\u001b[39m2\u001b[39m\n\u001b[1;32m     13\u001b[0m )\n",
      "\u001b[0;31mTypeError\u001b[0m: RetrievalDataset.__init__() missing 1 required positional argument: 'candidates_pth'"
     ]
    }
   ],
   "source": [
    "# Load dataset\n",
    "dataset = RetrievalDataset(\n",
    "    candidates_pth='../data/example_5_spectra_candidates.json',\n",
    "    mgf_pth='../data/example_5_spectra.mgf',\n",
    "    spec_preproc=SpecTokenizer(n_peaks=60),\n",
    "    mol_preproc=MolFingerprinter()\n",
    ")\n",
    "\n",
    "# Init data module\n",
    "data_module = MassSpecDataModule(\n",
    "    dataset=dataset,\n",
    "    split_pth='../data/example_5_spectra_split.csv',\n",
    "    batch_size=2\n",
    ")"
   ]
  }
 ],
 "metadata": {
  "kernelspec": {
   "display_name": "massspecgym",
   "language": "python",
   "name": "python3"
  },
  "language_info": {
   "codemirror_mode": {
    "name": "ipython",
    "version": 3
   },
   "file_extension": ".py",
   "mimetype": "text/x-python",
   "name": "python",
   "nbconvert_exporter": "python",
   "pygments_lexer": "ipython3",
   "version": "3.11.9"
  },
  "orig_nbformat": 4
 },
 "nbformat": 4,
 "nbformat_minor": 2
}
