{
 "cells": [
  {
   "cell_type": "code",
   "execution_count": 1,
   "metadata": {},
   "outputs": [
    {
     "name": "stderr",
     "output_type": "stream",
     "text": [
      "/Users/anton/miniconda3/envs/massspecgym/lib/python3.11/site-packages/tqdm/auto.py:21: TqdmWarning: IProgress not found. Please update jupyter and ipywidgets. See https://ipywidgets.readthedocs.io/en/stable/user_install.html\n",
      "  from .autonotebook import tqdm as notebook_tqdm\n"
     ]
    }
   ],
   "source": [
    "import pandas as pd\n",
    "\n",
    "import torch\n",
    "from pytorch_lightning import Trainer\n",
    "\n",
    "from massspecgym.datasets import MassSpecDataset, RetrievalDataset, MassSpecDataModule\n",
    "from massspecgym.transforms import SpecTokenizer, MolFingerprinter\n",
    "\n",
    "%load_ext autoreload\n",
    "%autoreload 2"
   ]
  },
  {
   "attachments": {},
   "cell_type": "markdown",
   "metadata": {},
   "source": [
    "## Debug data loading"
   ]
  },
  {
   "cell_type": "code",
   "execution_count": 2,
   "metadata": {},
   "outputs": [],
   "source": [
    "# Load dataset\n",
    "dataset = MassSpecDataset(\n",
    "    mgf_pth=\"../data/debug/example_5_spectra.mgf\",\n",
    "    spec_transform=SpecTokenizer(n_peaks=60),\n",
    "    mol_transform=MolFingerprinter(),\n",
    ")\n",
    "\n",
    "# Init data module\n",
    "data_module = MassSpecDataModule(\n",
    "    dataset=dataset, split_pth=\"../data/debug/example_5_spectra_split.tsv\", batch_size=2\n",
    ")"
   ]
  },
  {
   "cell_type": "code",
   "execution_count": 3,
   "metadata": {},
   "outputs": [
    {
     "name": "stdout",
     "output_type": "stream",
     "text": [
      "spec torch.Size([2, 60, 2]) torch.float64\n",
      "mol torch.Size([2, 2048]) torch.int32\n",
      "precursor_mz torch.Size([2]) torch.float64\n",
      "adduct ['[M+H]+', '[M+H]+']\n"
     ]
    }
   ],
   "source": [
    "# Iterate over batches\n",
    "data_module.prepare_data()\n",
    "data_module.setup()\n",
    "dataloader = data_module.train_dataloader()\n",
    "for batch in dataloader:\n",
    "    for k, v in batch.items():\n",
    "        if isinstance(v, torch.Tensor):\n",
    "            print(k, v.shape, v.dtype)\n",
    "        else:\n",
    "            print(k, v)\n",
    "    break"
   ]
  },
  {
   "attachments": {},
   "cell_type": "markdown",
   "metadata": {},
   "source": [
    "## Debug retrieval data loading"
   ]
  },
  {
   "cell_type": "code",
   "execution_count": 4,
   "metadata": {},
   "outputs": [],
   "source": [
    "# Load dataset\n",
    "dataset = RetrievalDataset(\n",
    "    candidates_pth=\"../data/debug/example_5_spectra_candidates.json\",\n",
    "    mgf_pth=\"../data/debug/example_5_spectra.mgf\",\n",
    "    spec_transform=SpecTokenizer(n_peaks=60),\n",
    "    mol_transform=MolFingerprinter(),\n",
    ")\n",
    "\n",
    "# Init data module\n",
    "data_module = MassSpecDataModule(\n",
    "    dataset=dataset, split_pth=\"../data/debug/example_5_spectra_split.tsv\", batch_size=2\n",
    ")"
   ]
  },
  {
   "cell_type": "code",
   "execution_count": 6,
   "metadata": {},
   "outputs": [
    {
     "name": "stdout",
     "output_type": "stream",
     "text": [
      "spec torch.Size([2, 60, 2]) torch.float64 tensor([[7.0065e+01, 2.8620e-02],\n",
      "        [8.4081e+01, 1.5110e-02],\n",
      "        [1.0908e+02, 1.3850e-02],\n",
      "        [1.1409e+02, 2.8860e-02],\n",
      "        [1.2302e+02, 1.4149e-01],\n",
      "        [1.6106e+02, 2.5200e-02],\n",
      "        [2.0209e+02, 1.4350e-02],\n",
      "        [2.3011e+02, 3.3670e-02],\n",
      "        [2.4113e+02, 2.6664e-01],\n",
      "        [2.6116e+02, 3.0620e-02],\n",
      "        [2.7114e+02, 4.1501e-01],\n",
      "        [2.8915e+02, 1.0000e+00],\n",
      "        [3.4618e+02, 2.6100e-01],\n",
      "        [3.5114e+02, 1.2000e-02],\n",
      "        [4.1019e+02, 8.7500e-02],\n",
      "        [0.0000e+00, 0.0000e+00],\n",
      "        [0.0000e+00, 0.0000e+00],\n",
      "        [0.0000e+00, 0.0000e+00],\n",
      "        [0.0000e+00, 0.0000e+00],\n",
      "        [0.0000e+00, 0.0000e+00],\n",
      "        [0.0000e+00, 0.0000e+00],\n",
      "        [0.0000e+00, 0.0000e+00],\n",
      "        [0.0000e+00, 0.0000e+00],\n",
      "        [0.0000e+00, 0.0000e+00],\n",
      "        [0.0000e+00, 0.0000e+00],\n",
      "        [0.0000e+00, 0.0000e+00],\n",
      "        [0.0000e+00, 0.0000e+00],\n",
      "        [0.0000e+00, 0.0000e+00],\n",
      "        [0.0000e+00, 0.0000e+00],\n",
      "        [0.0000e+00, 0.0000e+00],\n",
      "        [0.0000e+00, 0.0000e+00],\n",
      "        [0.0000e+00, 0.0000e+00],\n",
      "        [0.0000e+00, 0.0000e+00],\n",
      "        [0.0000e+00, 0.0000e+00],\n",
      "        [0.0000e+00, 0.0000e+00],\n",
      "        [0.0000e+00, 0.0000e+00],\n",
      "        [0.0000e+00, 0.0000e+00],\n",
      "        [0.0000e+00, 0.0000e+00],\n",
      "        [0.0000e+00, 0.0000e+00],\n",
      "        [0.0000e+00, 0.0000e+00],\n",
      "        [0.0000e+00, 0.0000e+00],\n",
      "        [0.0000e+00, 0.0000e+00],\n",
      "        [0.0000e+00, 0.0000e+00],\n",
      "        [0.0000e+00, 0.0000e+00],\n",
      "        [0.0000e+00, 0.0000e+00],\n",
      "        [0.0000e+00, 0.0000e+00],\n",
      "        [0.0000e+00, 0.0000e+00],\n",
      "        [0.0000e+00, 0.0000e+00],\n",
      "        [0.0000e+00, 0.0000e+00],\n",
      "        [0.0000e+00, 0.0000e+00],\n",
      "        [0.0000e+00, 0.0000e+00],\n",
      "        [0.0000e+00, 0.0000e+00],\n",
      "        [0.0000e+00, 0.0000e+00],\n",
      "        [0.0000e+00, 0.0000e+00],\n",
      "        [0.0000e+00, 0.0000e+00],\n",
      "        [0.0000e+00, 0.0000e+00],\n",
      "        [0.0000e+00, 0.0000e+00],\n",
      "        [0.0000e+00, 0.0000e+00],\n",
      "        [0.0000e+00, 0.0000e+00],\n",
      "        [0.0000e+00, 0.0000e+00]], dtype=torch.float64)\n",
      "mol torch.Size([2, 2048]) torch.int32 tensor([0, 0, 0,  ..., 0, 0, 0], dtype=torch.int32)\n",
      "precursor_mz torch.Size([2]) torch.float64 tensor(485.2195, dtype=torch.float64)\n",
      "adduct 2 <class 'str'> [M+H]+\n",
      "candidates 201 <class 'numpy.ndarray'> [0 1 0 ... 0 0 0]\n",
      "labels 201 <class 'bool'> False\n",
      "batch_ptr 2 <class 'int'> 130\n"
     ]
    }
   ],
   "source": [
    "# Iterate over batches\n",
    "data_module.prepare_data()\n",
    "data_module.setup()\n",
    "dataloader = data_module.train_dataloader()\n",
    "for batch in dataloader:\n",
    "    for k, v in batch.items():\n",
    "        if isinstance(v, torch.Tensor):\n",
    "            print(k, v.shape, v.dtype, v[0])\n",
    "        elif isinstance(v, list):\n",
    "            print(k, len(v), type(v[0]), v[0])\n",
    "        else:\n",
    "            print(k, v)\n",
    "        # print(v)\n",
    "    break"
   ]
  }
 ],
 "metadata": {
  "kernelspec": {
   "display_name": "massspecgym",
   "language": "python",
   "name": "python3"
  },
  "language_info": {
   "codemirror_mode": {
    "name": "ipython",
    "version": 3
   },
   "file_extension": ".py",
   "mimetype": "text/x-python",
   "name": "python",
   "nbconvert_exporter": "python",
   "pygments_lexer": "ipython3",
   "version": "3.11.9"
  },
  "orig_nbformat": 4
 },
 "nbformat": 4,
 "nbformat_minor": 2
}
