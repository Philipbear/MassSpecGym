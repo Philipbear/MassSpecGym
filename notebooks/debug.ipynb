{
 "cells": [
  {
   "cell_type": "code",
   "execution_count": 1,
   "metadata": {},
   "outputs": [],
   "source": [
    "import pandas as pd\n",
    "\n",
    "from pytorch_lightning import Trainer\n",
    "\n",
    "from massspecgym.datasets import MassSpecDataModule\n",
    "from massspecgym.preprocessors import SpecTokenizer, MolFingerprinter\n",
    "from massspecgym.models.retrieval.deepsets import DeepSetsRetrieval\n",
    "%load_ext autoreload\n",
    "%autoreload 2"
   ]
  },
  {
   "attachments": {},
   "cell_type": "markdown",
   "metadata": {},
   "source": [
    "## Debug data loading"
   ]
  },
  {
   "cell_type": "code",
   "execution_count": 23,
   "metadata": {},
   "outputs": [
    {
     "name": "stdout",
     "output_type": "stream",
     "text": [
      "torch.Size([2, 12, 2])\n",
      "torch.Size([1, 12, 2])\n"
     ]
    }
   ],
   "source": [
    "spec_preproc = SpecTokenizer(n_peaks=12)\n",
    "mol_preproc = MolFingerprinter()\n",
    "data_module = MassSpecDataModule(\n",
    "    mgf_pth='../data/example_5_spectra.mgf',\n",
    "    spec_preproc=spec_preproc,\n",
    "    mol_preproc=mol_preproc,\n",
    "    split_pth='../data/example_5_spectra_split.tsv',\n",
    "    batch_size=2\n",
    ")\n",
    "data_module.prepare_data()\n",
    "data_module.setup()\n",
    "for b in data_module.train_dataloader():\n",
    "    print(b['spec'].shape)"
   ]
  }
 ],
 "metadata": {
  "kernelspec": {
   "display_name": "massspecgym",
   "language": "python",
   "name": "python3"
  },
  "language_info": {
   "codemirror_mode": {
    "name": "ipython",
    "version": 3
   },
   "file_extension": ".py",
   "mimetype": "text/x-python",
   "name": "python",
   "nbconvert_exporter": "python",
   "pygments_lexer": "ipython3",
   "version": "3.11.0"
  },
  "orig_nbformat": 4
 },
 "nbformat": 4,
 "nbformat_minor": 2
}
