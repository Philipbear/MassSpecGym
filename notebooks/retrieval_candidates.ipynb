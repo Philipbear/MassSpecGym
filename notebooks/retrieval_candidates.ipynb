{
 "cells": [
  {
   "cell_type": "code",
   "execution_count": 1,
   "metadata": {},
   "outputs": [],
   "source": [
    "%reload_ext autoreload\n",
    "%autoreload 2"
   ]
  },
  {
   "cell_type": "code",
   "execution_count": 2,
   "metadata": {},
   "outputs": [],
   "source": [
    "import os\n",
    "import logging\n",
    "import random\n",
    "import typing as T\n",
    "import json\n",
    "import ctypes\n",
    "from multiprocessing import Pool, cpu_count, Array\n",
    "from collections import defaultdict\n",
    "\n",
    "import pandas as pd\n",
    "from tqdm import tqdm\n",
    "from rdkit import Chem\n",
    "from rdkit import RDLogger\n",
    "from rdkit.Chem.rdMolDescriptors import CalcMolFormula, CalcExactMolWt\n",
    "\n",
    "import massspecgym.utils as utils"
   ]
  },
  {
   "cell_type": "code",
   "execution_count": 3,
   "metadata": {},
   "outputs": [],
   "source": [
    "random.seed(0)\n",
    "\n",
    "tqdm.pandas()\n",
    "\n",
    "# Suppress RDKit warnings and errors\n",
    "lg = RDLogger.logger()\n",
    "lg.setLevel(RDLogger.CRITICAL)\n",
    "\n",
    "# Configure logging\n",
    "logging.basicConfig(level=logging.INFO, format='%(asctime)s - %(levelname)s - %(message)s')"
   ]
  },
  {
   "attachments": {},
   "cell_type": "markdown",
   "metadata": {},
   "source": [
    "## Read sets of molecules"
   ]
  },
  {
   "cell_type": "code",
   "execution_count": 12,
   "metadata": {},
   "outputs": [
    {
     "data": {
      "application/vnd.jupyter.widget-view+json": {
       "model_id": "ffd07e4a7b1b4101b392c1edfa45d006",
       "version_major": 2,
       "version_minor": 0
      },
      "text/plain": [
       "MassSpecGym_retrieval_molecules_1M.tsv:   0%|          | 0.00/291M [00:00<?, ?B/s]"
      ]
     },
     "metadata": {},
     "output_type": "display_data"
    },
    {
     "data": {
      "text/plain": [
       "((1032456, 5),\n",
       " Index(['smiles', 'inchi_key_2D', 'inchi', 'formula', 'mass'], dtype='object'))"
      ]
     },
     "execution_count": 12,
     "metadata": {},
     "output_type": "execute_result"
    }
   ],
   "source": [
    "df_1M = pd.read_csv(utils.hugging_face_download('molecules/MassSpecGym_retrieval_molecules_1M.tsv'), sep='\\t')\n",
    "df_1M.shape, df_1M.columns"
   ]
  },
  {
   "cell_type": "code",
   "execution_count": 5,
   "metadata": {},
   "outputs": [
    {
     "data": {
      "text/plain": [
       "((4175091, 4),\n",
       " Index(['smiles', 'inchikey', 'formula', 'mass'], dtype='object'))"
      ]
     },
     "execution_count": 5,
     "metadata": {},
     "output_type": "execute_result"
    }
   ],
   "source": [
    "df_4M = pd.read_csv(utils.hugging_face_download('molecules/MassSpecGym_retrieval_molecules_4M.tsv'), sep='\\t')\n",
    "df_4M.shape, df_4M.columns"
   ]
  },
  {
   "cell_type": "code",
   "execution_count": 6,
   "metadata": {},
   "outputs": [],
   "source": [
    "df_pubchem_118M = pd.read_csv('MassSpecGym_retrieval_molecules_pubchem_118M.tsv', sep='\\t')\n",
    "# df_pubchem_118M = pd.read_csv(utils.hugging_face_download('molecules/MassSpecGym_retrieval_molecules_pubchem_118M.tsv'), sep='\\t')\n",
    "# df_pubchem_118M.shape, df_pubchem_118M.columns"
   ]
  },
  {
   "attachments": {},
   "cell_type": "markdown",
   "metadata": {},
   "source": [
    "## Read spectral library"
   ]
  },
  {
   "cell_type": "code",
   "execution_count": 7,
   "metadata": {},
   "outputs": [
    {
     "name": "stderr",
     "output_type": "stream",
     "text": [
      "/tmp/ipykernel_234873/2379360413.py:1: DtypeWarning: Columns (11) have mixed types. Specify dtype option on import or set low_memory=False.\n",
      "  df_massspecgym = pd.read_csv(utils.hugging_face_download('MassSpecGym.tsv'), sep='\\t')\n"
     ]
    },
    {
     "data": {
      "text/plain": [
       "(414049, 33597)"
      ]
     },
     "execution_count": 7,
     "metadata": {},
     "output_type": "execute_result"
    }
   ],
   "source": [
    "df_massspecgym = pd.read_csv(utils.hugging_face_download('MassSpecGym.tsv'), sep='\\t')\n",
    "smiles = df_massspecgym['smiles']\n",
    "smiles = smiles.drop_duplicates()\n",
    "len(df_massspecgym), len(smiles)"
   ]
  },
  {
   "attachments": {},
   "cell_type": "markdown",
   "metadata": {},
   "source": [
    "## Generate retrieval candidates from molecule sets for the spectral library"
   ]
  },
  {
   "cell_type": "code",
   "execution_count": 8,
   "metadata": {},
   "outputs": [],
   "source": [
    "def dedup(seq):\n",
    "    \"\"\"Deduplicate list while preserving order (https://stackoverflow.com/a/480227)\"\"\"\n",
    "    seen = set()\n",
    "    seen_add = seen.add\n",
    "    return [x for x in seq if not (x in seen or seen_add(x))]\n",
    "\n",
    "\n",
    "def get_candidates(\n",
    "        query_smiles: T.Iterable[str],\n",
    "        df: pd.DataFrame,\n",
    "        cand_type: str = 'formula',\n",
    "        max_cands: int = 256,\n",
    "        candidates: T.Optional[T.Mapping] = None,\n",
    "        check_query_in_cands: bool = False\n",
    "    ) -> T.Mapping:\n",
    "    \"\"\"For query SMILES strings, find similar SMILES from the dataframe\"\"\"\n",
    "    if candidates is None:\n",
    "        candidates = defaultdict(list)\n",
    "    if check_query_in_cands:\n",
    "        n_queries_absent_in_db = 0\n",
    "\n",
    "    for s in tqdm(query_smiles):\n",
    "\n",
    "        # Add query SMILES as on of the candidates\n",
    "        if not candidates[s]:\n",
    "            candidates[s].append(s)\n",
    "\n",
    "        # Query is already saturated with candidantes\n",
    "        if len(candidates[s]) == max_cands:\n",
    "            continue\n",
    "\n",
    "        # Find new candidates for the query\n",
    "        if cand_type == 'formula':\n",
    "            formula = CalcMolFormula(Chem.MolFromSmiles(s))\n",
    "            new_cands = df['smiles'][df['formula'] == formula].tolist()\n",
    "        elif cand_type == 'mass':\n",
    "            mass = CalcExactMolWt(Chem.MolFromSmiles(s))\n",
    "            mass_eps = mass * 1e-6 * 10  # 10 ppm\n",
    "            new_cands = df['smiles'][(df['weight'] - mass).abs() < mass_eps].tolist()\n",
    "        else:\n",
    "            raise ValueError(f'Unknown candidates type {cand_type}.')\n",
    "\n",
    "        # Shuffle new candidates to reach a random sample if prunned in the next step\n",
    "        random.shuffle(new_cands)\n",
    "\n",
    "        # Check is query SMILES is found in the corresponding candidate list\n",
    "        if check_query_in_cands and s not in candidates[s]:\n",
    "            n_queries_absent_in_db += 1\n",
    "\n",
    "        # Add new candidates until maximum number is reached\n",
    "        candidates[s].extend(new_cands)\n",
    "        candidates[s] = dedup(candidates[s])[:max_cands]\n",
    "        \n",
    "    if check_query_in_cands:\n",
    "        print('Number of queries absent in the database:', n_queries_absent_in_db)\n",
    "    return candidates"
   ]
  },
  {
   "cell_type": "code",
   "execution_count": 9,
   "metadata": {},
   "outputs": [],
   "source": [
    "def init(shared_smiles, shared_formula, shared_mass):\n",
    "    global df_smiles, df_formula, df_mass\n",
    "    df_smiles = shared_smiles\n",
    "    df_formula = shared_formula\n",
    "    df_mass = shared_mass\n",
    "\n",
    "def get_candidates_single(args):\n",
    "    index, smiles, cand_type, max_cands = args\n",
    "    candidates_single = []\n",
    "\n",
    "    # Log the process ID\n",
    "    # logging.info(f'Process ID: {os.getpid()} handling SMILES: {smiles}')\n",
    "\n",
    "    # Add query SMILES as one of the candidates\n",
    "    if not candidates_single:\n",
    "        candidates_single.append(smiles)\n",
    "\n",
    "    # Query is already saturated with candidates\n",
    "    if len(candidates_single) == max_cands:\n",
    "        return candidates_single\n",
    "\n",
    "    # Find new candidates for the query\n",
    "    if cand_type == 'formula':\n",
    "        formula = CalcMolFormula(Chem.MolFromSmiles(smiles))\n",
    "        new_cands = [df_smiles[i] for i in range(len(df_smiles)) if df_formula[i] == formula]\n",
    "    elif cand_type == 'mass':\n",
    "        mass = CalcExactMolWt(Chem.MolFromSmiles(smiles))\n",
    "        mass_eps = mass * 1e-6 * 10  # 10 ppm\n",
    "        new_cands = [df_smiles[i] for i in range(len(df_smiles)) if abs(df_mass[i] - mass) < mass_eps]\n",
    "    else:\n",
    "        raise ValueError(f'Unknown candidates type {cand_type}.')\n",
    "\n",
    "    # Shuffle new candidates to reach a random sample if pruned in the next step\n",
    "    random.shuffle(new_cands)\n",
    "\n",
    "    # Add new candidates until the maximum number is reached\n",
    "    candidates_single.extend(new_cands)\n",
    "    candidates_single = dedup(candidates_single)[:max_cands]\n",
    "\n",
    "    return candidates_single\n",
    "\n",
    "def get_candidates_parallel(\n",
    "        query_smiles: T.Iterable[str],\n",
    "        df: pd.DataFrame,\n",
    "        cand_type: str = 'formula',\n",
    "        max_cands: int = 256,\n",
    "        df_candidates: T.Optional[pd.DataFrame] = None,\n",
    "        max_workers: int = cpu_count() - 2\n",
    "    ) -> pd.DataFrame:\n",
    "    \"\"\"For query SMILES strings, find similar SMILES from the dataframe in parallel\"\"\"\n",
    "    logging.info('Starting get_candidates_parallel')\n",
    "\n",
    "    if df_candidates is None:\n",
    "        df_candidates = pd.DataFrame({'smiles': query_smiles, 'cands': [[] for _ in query_smiles]})\n",
    "        logging.info('Initialized df_candidates with empty candidate lists')\n",
    "\n",
    "    # Convert DataFrame columns to numpy arrays\n",
    "    df_smiles_array = df['smiles'].to_numpy()\n",
    "    df_formula_array = df['formula'].fillna('').to_numpy()\n",
    "    df_mass_array = df['mass'].to_numpy()\n",
    "\n",
    "    # Create shared arrays not to copy df for each process (critical in the case of whole PubChem)\n",
    "    shared_smiles = Array(ctypes.c_wchar_p, df_smiles_array, lock=False)\n",
    "    shared_formula = Array(ctypes.c_wchar_p, df_formula_array, lock=False)\n",
    "    shared_mass = Array(ctypes.c_double, df_mass_array, lock=False)\n",
    "\n",
    "    logging.info(f'Setting up shared arrays with {max_workers} workers')\n",
    "    \n",
    "    with Pool(processes=max_workers, initializer=init, initargs=(shared_smiles, shared_formula, shared_mass)) as pool:\n",
    "        args = [(index, row['smiles'], cand_type, max_cands) for index, row in df_candidates.iterrows()]\n",
    "        \n",
    "        # Use tqdm to show the progress bar\n",
    "        results = []\n",
    "        for result in tqdm(pool.imap(get_candidates_single, args), total=len(args)):\n",
    "            results.append(result)\n",
    "        \n",
    "        df_candidates['cands'] = results\n",
    "        logging.info('Finished multiprocessing pool')\n",
    "\n",
    "    logging.info('Completed get_candidates_parallel')\n",
    "    return df_candidates"
   ]
  },
  {
   "cell_type": "code",
   "execution_count": 13,
   "metadata": {},
   "outputs": [
    {
     "name": "stderr",
     "output_type": "stream",
     "text": [
      "2024-05-29 17:22:58,083 - INFO - Starting get_candidates_parallel\n",
      "2024-05-29 17:22:58,099 - INFO - Initialized df_candidates with empty candidate lists\n",
      "2024-05-29 17:23:00,375 - INFO - Setting up shared arrays with 32 workers\n",
      "100%|██████████| 33597/33597 [01:37<00:00, 345.42it/s]\n",
      "2024-05-29 17:25:00,135 - INFO - Finished multiprocessing pool\n",
      "2024-05-29 17:25:02,124 - INFO - Completed get_candidates_parallel\n"
     ]
    },
    {
     "data": {
      "text/plain": [
       "<Axes: >"
      ]
     },
     "execution_count": 13,
     "metadata": {},
     "output_type": "execute_result"
    },
    {
     "data": {
      "image/png": "[encoded data removed]",
      "text/plain": [
       "<Figure size 640x480 with 1 Axes>"
      ]
     },
     "metadata": {},
     "output_type": "display_data"
    }
   ],
   "source": [
    "candidates = get_candidates_parallel(smiles, df_1M, cand_type='mass', max_workers=32)\n",
    "candidates['cands'].apply(len).hist(bins=100)"
   ]
  },
  {
   "cell_type": "code",
   "execution_count": 14,
   "metadata": {},
   "outputs": [
    {
     "name": "stderr",
     "output_type": "stream",
     "text": [
      "2024-05-29 17:25:18,727 - INFO - Starting get_candidates_parallel\n",
      "2024-05-29 17:25:27,745 - INFO - Setting up shared arrays with 126 workers\n",
      "100%|██████████| 33597/33597 [03:34<00:00, 156.64it/s]\n",
      "2024-05-29 17:30:32,873 - INFO - Finished multiprocessing pool\n",
      "2024-05-29 17:30:36,032 - INFO - Completed get_candidates_parallel\n"
     ]
    },
    {
     "data": {
      "text/plain": [
       "<Axes: >"
      ]
     },
     "execution_count": 14,
     "metadata": {},
     "output_type": "execute_result"
    },
    {
     "data": {
      "image/png": "[encoded data removed]",
      "text/plain": [
       "<Figure size 640x480 with 1 Axes>"
      ]
     },
     "metadata": {},
     "output_type": "display_data"
    }
   ],
   "source": [
    "candidates = get_candidates_parallel(smiles, df_4M, cand_type='mass', df_candidates=candidates)\n",
    "candidates['cands'].apply(len).hist(bins=100)"
   ]
  },
  {
   "cell_type": "code",
   "execution_count": 15,
   "metadata": {},
   "outputs": [],
   "source": [
    "candidates.to_pickle('cands_4M_mass.pkl')\n",
    "# candidates = pd.read_pickle('cands_4M_mass.pkl')"
   ]
  },
  {
   "cell_type": "code",
   "execution_count": 16,
   "metadata": {},
   "outputs": [
    {
     "name": "stderr",
     "output_type": "stream",
     "text": [
      "2024-05-29 17:36:26,877 - INFO - Starting get_candidates_parallel\n",
      "2024-05-29 17:49:58,699 - INFO - Setting up shared arrays with 126 workers\n",
      "100%|██████████| 33597/33597 [2:42:07<00:00,  3.45it/s]  \n",
      "2024-05-29 20:37:41,651 - INFO - Finished multiprocessing pool\n",
      "2024-05-29 20:37:53,865 - INFO - Completed get_candidates_parallel\n"
     ]
    },
    {
     "data": {
      "text/plain": [
       "<Axes: >"
      ]
     },
     "execution_count": 16,
     "metadata": {},
     "output_type": "execute_result"
    },
    {
     "data": {
      "image/png": "[encoded data removed]",
      "text/plain": [
       "<Figure size 640x480 with 1 Axes>"
      ]
     },
     "metadata": {},
     "output_type": "display_data"
    }
   ],
   "source": [
    "candidates = get_candidates_parallel(smiles, df_pubchem_118M, cand_type='mass', df_candidates=candidates)\n",
    "candidates['cands'].apply(len).hist(bins=100)"
   ]
  },
  {
   "cell_type": "code",
   "execution_count": 4,
   "metadata": {},
   "outputs": [],
   "source": [
    "# candidates.to_pickle('cands_pubchem_118M_mass.pkl')\n",
    "candidates = pd.read_pickle('cands_pubchem_118M_mass.pkl')"
   ]
  },
  {
   "cell_type": "code",
   "execution_count": 11,
   "metadata": {},
   "outputs": [],
   "source": [
    "# Write candidates dictionary to JSON file\n",
    "with open('MassSpecGym_retrieval_candidates_mass.json', 'w') as json_file:\n",
    "    candidates_dict = dict(zip(candidates['smiles'], candidates['cands']))\n",
    "    json.dump(candidates_dict, json_file)"
   ]
  }
 ],
 "metadata": {
  "kernelspec": {
   "display_name": "msml311",
   "language": "python",
   "name": "python3"
  },
  "language_info": {
   "codemirror_mode": {
    "name": "ipython",
    "version": 3
   },
   "file_extension": ".py",
   "mimetype": "text/x-python",
   "name": "python",
   "nbconvert_exporter": "python",
   "pygments_lexer": "ipython3",
   "version": "3.11.8"
  },
  "orig_nbformat": 4
 },
 "nbformat": 4,
 "nbformat_minor": 2
}
