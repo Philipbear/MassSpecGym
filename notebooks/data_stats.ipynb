{
 "cells": [
  {
   "cell_type": "code",
   "execution_count": 4,
   "id": "11bbaae0-a30f-428d-8e64-e4e71d66f32f",
   "metadata": {},
   "outputs": [],
   "source": [
    "import pandas as pd\n",
    "import numpy as np\n",
    "import seaborn as sns\n",
    "import matplotlib.pyplot as plt\n",
    "from tqdm import tqdm\n",
    "tqdm.pandas()\n",
    "from scipy.spatial.distance import squareform\n",
    "from rdkit import Chem\n",
    "from rdkit.Chem import Draw\n",
    "from rdkit.Chem import DataStructs\n",
    "import massspecgym.utils as utils\n",
    "import json"
   ]
  },
  {
   "cell_type": "code",
   "execution_count": 5,
   "id": "cbef8e13-e7fd-4dd0-a2f7-f8a74b870ac7",
   "metadata": {},
   "outputs": [],
   "source": [
    "df = pd.read_csv(utils.hugging_face_download(\"MassSpecGym.tsv\"), sep=\"\\t\")"
   ]
  },
  {
   "cell_type": "code",
   "execution_count": 6,
   "id": "bf28b5bf-44d8-4795-a575-7f5ce863b912",
   "metadata": {},
   "outputs": [
    {
     "data": {
      "text/plain": [
       "(231104, 15)"
      ]
     },
     "execution_count": 6,
     "metadata": {},
     "output_type": "execute_result"
    }
   ],
   "source": [
    "df.shape"
   ]
  },
  {
   "cell_type": "code",
   "execution_count": 7,
   "id": "16510f88-4eaf-4517-b316-4c3165fdba2f",
   "metadata": {},
   "outputs": [
    {
     "data": {
      "text/html": [
       "<div>\n",
       "<style scoped>\n",
       "    .dataframe tbody tr th:only-of-type {\n",
       "        vertical-align: middle;\n",
       "    }\n",
       "\n",
       "    .dataframe tbody tr th {\n",
       "        vertical-align: top;\n",
       "    }\n",
       "\n",
       "    .dataframe thead th {\n",
       "        text-align: right;\n",
       "    }\n",
       "</style>\n",
       "<table border=\"1\" class=\"dataframe\">\n",
       "  <thead>\n",
       "    <tr style=\"text-align: right;\">\n",
       "      <th></th>\n",
       "      <th>smiles</th>\n",
       "      <th>identifier</th>\n",
       "    </tr>\n",
       "    <tr>\n",
       "      <th>fold</th>\n",
       "      <th></th>\n",
       "      <th></th>\n",
       "    </tr>\n",
       "  </thead>\n",
       "  <tbody>\n",
       "    <tr>\n",
       "      <th>test</th>\n",
       "      <td>3170</td>\n",
       "      <td>17556</td>\n",
       "    </tr>\n",
       "    <tr>\n",
       "      <th>train</th>\n",
       "      <td>25046</td>\n",
       "      <td>194119</td>\n",
       "    </tr>\n",
       "    <tr>\n",
       "      <th>val</th>\n",
       "      <td>3386</td>\n",
       "      <td>19429</td>\n",
       "    </tr>\n",
       "  </tbody>\n",
       "</table>\n",
       "</div>"
      ],
      "text/plain": [
       "       smiles  identifier\n",
       "fold                     \n",
       "test     3170       17556\n",
       "train   25046      194119\n",
       "val      3386       19429"
      ]
     },
     "execution_count": 7,
     "metadata": {},
     "output_type": "execute_result"
    }
   ],
   "source": [
    "df.groupby(['fold']).agg({'smiles': 'nunique', 'identifier': 'nunique'})"
   ]
  },
  {
   "cell_type": "code",
   "execution_count": 8,
   "id": "1ef07bd2-71ae-4e83-92ca-4c1f8f9a4275",
   "metadata": {},
   "outputs": [
    {
     "data": {
      "text/html": [
       "<div>\n",
       "<style scoped>\n",
       "    .dataframe tbody tr th:only-of-type {\n",
       "        vertical-align: middle;\n",
       "    }\n",
       "\n",
       "    .dataframe tbody tr th {\n",
       "        vertical-align: top;\n",
       "    }\n",
       "\n",
       "    .dataframe thead th {\n",
       "        text-align: right;\n",
       "    }\n",
       "</style>\n",
       "<table border=\"1\" class=\"dataframe\">\n",
       "  <thead>\n",
       "    <tr style=\"text-align: right;\">\n",
       "      <th></th>\n",
       "      <th>smiles</th>\n",
       "      <th>identifier</th>\n",
       "    </tr>\n",
       "    <tr>\n",
       "      <th>adduct</th>\n",
       "      <th></th>\n",
       "      <th></th>\n",
       "    </tr>\n",
       "  </thead>\n",
       "  <tbody>\n",
       "    <tr>\n",
       "      <th>[M+H]+</th>\n",
       "      <td>30388</td>\n",
       "      <td>195237</td>\n",
       "    </tr>\n",
       "    <tr>\n",
       "      <th>[M+Na]+</th>\n",
       "      <td>6695</td>\n",
       "      <td>35867</td>\n",
       "    </tr>\n",
       "  </tbody>\n",
       "</table>\n",
       "</div>"
      ],
      "text/plain": [
       "         smiles  identifier\n",
       "adduct                     \n",
       "[M+H]+    30388      195237\n",
       "[M+Na]+    6695       35867"
      ]
     },
     "execution_count": 8,
     "metadata": {},
     "output_type": "execute_result"
    }
   ],
   "source": [
    "df.groupby(['adduct']).agg({'smiles': 'nunique', 'identifier': 'nunique'})"
   ]
  },
  {
   "cell_type": "code",
   "execution_count": 23,
   "id": "b30ea56a-0860-4569-9472-6be29d025465",
   "metadata": {},
   "outputs": [
    {
     "data": {
      "text/plain": [
       "stratification_group\n",
       "[M+H]+ITFTnone(5, 100]          37555\n",
       "[M+Na]+ITFTnone(5, 100]         21223\n",
       "[M+H]+QTOFother(5, 100]         17604\n",
       "[M+H]+ITFTother(5, 100]         16213\n",
       "[M+H]+QFTother(5, 100]          12467\n",
       "                                ...  \n",
       "[M+H]+nan10.0(0, 5]                 1\n",
       "[M+H]+nan30.0(0, 5]                 1\n",
       "[M+H]+Orbitrap10.0(100, inf)        1\n",
       "[M+Na]+nannone(100, inf)            1\n",
       "[M+Na]+Orbitrapother(5, 100]        1\n",
       "Name: count, Length: 135, dtype: int64"
      ]
     },
     "execution_count": 23,
     "metadata": {},
     "output_type": "execute_result"
    }
   ],
   "source": [
    "\n",
    "top_k_ces = df['collision_energy'].value_counts().index[:5]\n",
    "#smiles_vc = df['smiles'].value_counts()\n",
    "smiles_vc = df['smiles'].value_counts()\n",
    "\n",
    "def simple_ce(ce):\n",
    "    if pd.isnull(ce):\n",
    "        return 'none'\n",
    "    if ce in top_k_ces:\n",
    "        return str(ce)\n",
    "    return 'other'\n",
    "\n",
    "def simple_smiles_count(smiles):\n",
    "    c = smiles_vc[smiles]\n",
    "    if c <= 5:\n",
    "        return '(0, 5]'\n",
    "    elif c > 100:\n",
    "        return '(100, inf)'\n",
    "    return '(5, 100]'\n",
    "\n",
    "def count_peaks(row):\n",
    "    return len(row['mzs'].split(','))\n",
    "\n",
    "def get_mz_range(row):\n",
    "    mzs = list(map(float, row['mzs'].split(',')))\n",
    "    return max(mzs) - min(mzs)\n",
    "    \n",
    "def stratification_group(row):\n",
    "    return str(row['adduct']) + \\\n",
    "        str(row['instrument_type']) + \\\n",
    "        str(simple_ce(row['collision_energy'])) + \\\n",
    "        str(simple_smiles_count(row['smiles']))\n",
    "df['stratification_group'] = df.apply(stratification_group, axis=1)\n",
    "df['peak_counts'] = df.apply(count_peaks, axis=1)\n",
    "df['mz_range'] = df.apply(get_mz_range, axis=1)\n",
    "df['stratification_group'].value_counts()"
   ]
  },
  {
   "cell_type": "code",
   "execution_count": 26,
   "id": "23448a51-7996-4042-aa8d-ac98517d1671",
   "metadata": {},
   "outputs": [
    {
     "data": {
      "text/plain": [
       "{'10.0', '20.0', '30.0', '45.0', '60.0', 'none', 'other'}"
      ]
     },
     "execution_count": 26,
     "metadata": {},
     "output_type": "execute_result"
    }
   ],
   "source": [
    "set(df_plot['collision_energy'].tolist())"
   ]
  },
  {
   "cell_type": "code",
   "execution_count": 27,
   "id": "68a4d17c-3829-4080-b707-4dd0cb17fa75",
   "metadata": {
    "scrolled": true
   },
   "outputs": [
    {
     "data": {
      "image/png": "[encoded data removed]",
      "text/plain": [
       "<Figure size 600x400 with 1 Axes>"
      ]
     },
     "metadata": {},
     "output_type": "display_data"
    },
    {
     "data": {
      "image/png": "[encoded data removed]",
      "text/plain": [
       "<Figure size 600x400 with 1 Axes>"
      ]
     },
     "metadata": {},
     "output_type": "display_data"
    },
    {
     "data": {
      "image/png": "[encoded data removed]",
      "text/plain": [
       "<Figure size 600x400 with 1 Axes>"
      ]
     },
     "metadata": {},
     "output_type": "display_data"
    },
    {
     "data": {
      "image/png": "[encoded data removed]",
      "text/plain": [
       "<Figure size 600x400 with 1 Axes>"
      ]
     },
     "metadata": {},
     "output_type": "display_data"
    }
   ],
   "source": [
    "utils.init_plotting(figsize=(6, 4))\n",
    "df_plot = df.copy()\n",
    "df_plot['instrument_type'] = df_plot['instrument_type'].str.replace('Q Exactive Focus Hybrid Quadrupole Orbitrap Mass Spectrometer (Thermo Fisher Scientific)', 'Q Exactive')\n",
    "df_plot['collision_energy'] = df_plot['collision_energy'].apply(simple_ce)\n",
    "df_plot['smiles_count'] = df_plot['smiles'].apply(simple_smiles_count)\n",
    "\n",
    "sns.histplot(y='instrument_type', data=df_plot, multiple='dodge', discrete=True, shrink=.8)\n",
    "plt.xscale('log')\n",
    "plt.savefig(\"../instr.png\", dpi = 300.0, format=\"png\", bbox_inches='tight')\n",
    "plt.show()\n",
    "\n",
    "df_plot['collision_energy'] = pd.Categorical(df_plot['collision_energy'], ['10.0', '20.0', \n",
    "                                                                           '30.0', '45.0',\n",
    "                                                                          '60.0', 'other', 'none'])\n",
    "sns.histplot(y='collision_energy', data=df_plot, multiple='dodge', discrete=True, shrink=.8)\n",
    "plt.xscale('log')\n",
    "plt.savefig(\"../ce.png\", dpi = 300.0, format=\"png\", bbox_inches='tight')\n",
    "plt.show()\n",
    "\n",
    "sns.histplot(y='adduct', data=df_plot, multiple='dodge', discrete=True, shrink=.8)\n",
    "# plt.xscale('log')\n",
    "plt.savefig(\"../adduct.png\", dpi = 300.0, format=\"png\", bbox_inches='tight')\n",
    "plt.show()\n",
    "\n",
    "df_plot['smiles_count'] = pd.Categorical(df_plot['smiles_count'], ['(0, 5]', '(5, 100]', '(100, inf)'])\n",
    "sns.histplot(y='smiles_count', data=df_plot, multiple='dodge', discrete=True, shrink=.8)\n",
    "plt.savefig(\"../smiles.png\", dpi = 300.0, format=\"png\", bbox_inches='tight')\n",
    "plt.show()"
   ]
  },
  {
   "cell_type": "code",
   "execution_count": 28,
   "id": "e987e458-c422-4305-9195-122b57a79029",
   "metadata": {},
   "outputs": [
    {
     "data": {
      "image/png": "[encoded data removed]",
      "text/plain": [
       "<Figure size 500x500 with 1 Axes>"
      ]
     },
     "metadata": {},
     "output_type": "display_data"
    }
   ],
   "source": [
    "sns.displot(data=df_plot, x=\"peak_counts\", kde=True)\n",
    "plt.savefig(\"../peak_counts.png\", dpi = 300.0, format=\"png\", bbox_inches='tight')\n",
    "plt.show()"
   ]
  },
  {
   "cell_type": "code",
   "execution_count": 29,
   "id": "b19b558c-458c-4fd0-b60b-5ad5b346cb87",
   "metadata": {},
   "outputs": [
    {
     "name": "stdout",
     "output_type": "stream",
     "text": [
      "36.48863282331764\n"
     ]
    }
   ],
   "source": [
    "print(df_plot['peak_counts'].mean())"
   ]
  },
  {
   "cell_type": "code",
   "execution_count": 30,
   "id": "204d97f3-d066-4e2d-8500-129cbd57e9da",
   "metadata": {},
   "outputs": [
    {
     "data": {
      "image/png": "[encoded data removed]",
      "text/plain": [
       "<Figure size 500x500 with 1 Axes>"
      ]
     },
     "metadata": {},
     "output_type": "display_data"
    }
   ],
   "source": [
    "sns.displot(data=df_plot[df_plot['mz_range'] != 0], x=\"mz_range\", kde=True)\n",
    "plt.ylim(0,7000)\n",
    "plt.savefig(\"../mz_range.png\", dpi = 300.0, format=\"png\", bbox_inches='tight')\n",
    "plt.show()"
   ]
  },
  {
   "cell_type": "code",
   "execution_count": 31,
   "id": "a085967c-2e00-43be-a353-fb7a898b9798",
   "metadata": {},
   "outputs": [
    {
     "name": "stdout",
     "output_type": "stream",
     "text": [
      "263.11216615435825\n"
     ]
    }
   ],
   "source": [
    "print(df['mz_range'].mean())"
   ]
  },
  {
   "cell_type": "code",
   "execution_count": 32,
   "id": "0b7f23ce-ba62-40a8-a58d-247b57c04514",
   "metadata": {},
   "outputs": [],
   "source": [
    "from huggingface_hub import hf_hub_download\n",
    "def hugging_face_download_cand(file_name: str) -> str:\n",
    "    \"\"\"\n",
    "    Download a file from the Hugging Face Hub and return its location on disk.\n",
    "\n",
    "    Args:\n",
    "        file_name (str): Name of the file to download.\n",
    "    \"\"\"\n",
    "    return hf_hub_download(\n",
    "        repo_id=\"roman-bushuiev/MassSpecGym\",  # TODO: not beta\n",
    "        filename=\"data/molecules/\" + file_name,\n",
    "        repo_type=\"dataset\",\n",
    "    )\n"
   ]
  },
  {
   "cell_type": "code",
   "execution_count": 33,
   "id": "28ccb909-d68b-4a4e-8f49-99542a41d156",
   "metadata": {},
   "outputs": [
    {
     "data": {
      "application/vnd.jupyter.widget-view+json": {
       "model_id": "bc043b2727f846ad95ca20e58a3a344d",
       "version_major": 2,
       "version_minor": 0
      },
      "text/plain": [
       "(…)pecGym_retrieval_candidates_formula.json:   0%|          | 0.00/371M [00:00<?, ?B/s]"
      ]
     },
     "metadata": {},
     "output_type": "display_data"
    }
   ],
   "source": [
    "f = open(hugging_face_download_cand(\"MassSpecGym_retrieval_candidates_formula.json\"), \"rb\")\n",
    "cand_dict_form = json.load(f)\n",
    "f.close()"
   ]
  },
  {
   "cell_type": "code",
   "execution_count": 34,
   "id": "20531f4f-cd3e-48cd-8089-732e374af744",
   "metadata": {},
   "outputs": [
    {
     "data": {
      "application/vnd.jupyter.widget-view+json": {
       "model_id": "3dc6dc03172f4621a87ba4bbb1e9c6e9",
       "version_major": 2,
       "version_minor": 0
      },
      "text/plain": [
       "(…)ssSpecGym_retrieval_candidates_mass.json:   0%|          | 0.00/455M [00:00<?, ?B/s]"
      ]
     },
     "metadata": {},
     "output_type": "display_data"
    }
   ],
   "source": [
    "f = open(hugging_face_download_cand(\"MassSpecGym_retrieval_candidates_mass.json\"), \"rb\")\n",
    "cand_dict_mass = json.load(f)\n",
    "f.close()"
   ]
  },
  {
   "cell_type": "code",
   "execution_count": 36,
   "id": "d4fd5837-e025-4e20-b4cf-c1488989f42b",
   "metadata": {},
   "outputs": [],
   "source": [
    "smiles_list = df['smiles'].tolist()"
   ]
  },
  {
   "cell_type": "code",
   "execution_count": 37,
   "id": "c81113a2-26e3-431d-b1e5-ecb0b8af4269",
   "metadata": {},
   "outputs": [],
   "source": [
    "cand_counts_form = {k: len(v) for k,v in cand_dict_form.items() if k in smiles_list}\n",
    "cand_pd_form = pd.DataFrame(cand_counts_form.items(), columns=['Target', 'Number of Candidates'])"
   ]
  },
  {
   "cell_type": "code",
   "execution_count": 38,
   "id": "579eede8-8050-42ed-afd9-318a7841117c",
   "metadata": {},
   "outputs": [],
   "source": [
    "cand_counts_mass = {k: len(v) for k,v in cand_dict_mass.items() if k in smiles_list}\n",
    "cand_pd_mass = pd.DataFrame(cand_counts_mass.items(), columns=['Target', 'Number of Candidates'])"
   ]
  },
  {
   "cell_type": "code",
   "execution_count": 39,
   "id": "fbcd0bf1-e103-46dd-b6d7-07dca3a46b14",
   "metadata": {},
   "outputs": [
    {
     "data": {
      "text/plain": [
       "6769141"
      ]
     },
     "execution_count": 39,
     "metadata": {},
     "output_type": "execute_result"
    }
   ],
   "source": [
    "cand_pd_form['Number of Candidates'].sum()"
   ]
  },
  {
   "cell_type": "code",
   "execution_count": 40,
   "id": "471fbda5-07bf-4b19-92fa-98465f6eb66c",
   "metadata": {},
   "outputs": [
    {
     "data": {
      "text/plain": [
       "214.1997658376052"
      ]
     },
     "execution_count": 40,
     "metadata": {},
     "output_type": "execute_result"
    }
   ],
   "source": [
    "cand_pd_form['Number of Candidates'].mean()"
   ]
  },
  {
   "cell_type": "code",
   "execution_count": 41,
   "id": "22c83caf-7471-4092-9ac9-a60bffd9e09d",
   "metadata": {},
   "outputs": [
    {
     "data": {
      "text/plain": [
       "8020325"
      ]
     },
     "execution_count": 41,
     "metadata": {},
     "output_type": "execute_result"
    }
   ],
   "source": [
    "cand_pd_mass['Number of Candidates'].sum()"
   ]
  },
  {
   "cell_type": "code",
   "execution_count": 42,
   "id": "8e52f17a-5776-4905-ac2a-db98464b45e2",
   "metadata": {},
   "outputs": [
    {
     "data": {
      "text/plain": [
       "253.7916903993418"
      ]
     },
     "execution_count": 42,
     "metadata": {},
     "output_type": "execute_result"
    }
   ],
   "source": [
    "cand_pd_mass['Number of Candidates'].mean()"
   ]
  },
  {
   "cell_type": "code",
   "execution_count": null,
   "id": "448d6a06-3693-48b0-ba3e-547ed8e2c88e",
   "metadata": {},
   "outputs": [],
   "source": []
  }
 ],
 "metadata": {
  "kernelspec": {
   "display_name": "Python 3 (ipykernel)",
   "language": "python",
   "name": "python3"
  },
  "language_info": {
   "codemirror_mode": {
    "name": "ipython",
    "version": 3
   },
   "file_extension": ".py",
   "mimetype": "text/x-python",
   "name": "python",
   "nbconvert_exporter": "python",
   "pygments_lexer": "ipython3",
   "version": "3.11.9"
  }
 },
 "nbformat": 4,
 "nbformat_minor": 5
}
