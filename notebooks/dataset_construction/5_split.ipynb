{
 "cells": [
  {
   "cell_type": "code",
   "execution_count": 5,
   "metadata": {},
   "outputs": [],
   "source": [
    "import pandas as pd\n",
    "import h5py\n",
    "import numpy as np\n",
    "import seaborn as sns\n",
    "import matplotlib.pyplot as plt\n",
    "from tqdm import tqdm\n",
    "tqdm.pandas()\n",
    "from sklearn.model_selection import StratifiedGroupKFold\n",
    "from pandarallel import pandarallel\n",
    "from sklearn.cluster import AgglomerativeClustering\n",
    "from scipy.spatial.distance import squareform\n",
    "from rdkit import Chem\n",
    "from rdkit.Chem import Draw\n",
    "from rdkit.Chem import DataStructs\n",
    "from matchms import Spectrum\n",
    "from matchms.exporting import save_as_mgf\n",
    "import massspecgym.utils as utils"
   ]
  },
  {
   "cell_type": "code",
   "execution_count": 11,
   "metadata": {},
   "outputs": [
    {
     "name": "stderr",
     "output_type": "stream",
     "text": [
      "/var/folders/73/x57b4d9x09qbcqjjd5ccz_6r0000gn/T/ipykernel_4583/2974025736.py:1: DtypeWarning: Columns (10) have mixed types. Specify dtype option on import or set low_memory=False.\n",
      "  df = pd.read_csv('../../data/data/MassSpecGym.tsv', sep='\\t')\n"
     ]
    },
    {
     "data": {
      "text/html": [
       "<div>\n",
       "<style scoped>\n",
       "    .dataframe tbody tr th:only-of-type {\n",
       "        vertical-align: middle;\n",
       "    }\n",
       "\n",
       "    .dataframe tbody tr th {\n",
       "        vertical-align: top;\n",
       "    }\n",
       "\n",
       "    .dataframe thead th {\n",
       "        text-align: right;\n",
       "    }\n",
       "</style>\n",
       "<table border=\"1\" class=\"dataframe\">\n",
       "  <thead>\n",
       "    <tr style=\"text-align: right;\">\n",
       "      <th></th>\n",
       "      <th>mzs</th>\n",
       "      <th>intensities</th>\n",
       "      <th>inchi</th>\n",
       "      <th>inchikey</th>\n",
       "      <th>precursor_mz</th>\n",
       "      <th>adduct</th>\n",
       "      <th>parent_mass</th>\n",
       "      <th>formula</th>\n",
       "      <th>precursor_formula</th>\n",
       "      <th>instrument_type</th>\n",
       "      <th>collision_energy</th>\n",
       "      <th>identifier</th>\n",
       "      <th>smiles</th>\n",
       "    </tr>\n",
       "  </thead>\n",
       "  <tbody>\n",
       "    <tr>\n",
       "      <th>0</th>\n",
       "      <td>91.0542,125.0233,154.0499,155.0577,185.0961,20...</td>\n",
       "      <td>0.24524524524524524,1.0,0.08008008008008008,0....</td>\n",
       "      <td>InChI=1S/C16H17NO4/c1-11(18)17-14(8-12-6-4-3-5...</td>\n",
       "      <td>VFMQMACUYWGDOJ</td>\n",
       "      <td>288.1225</td>\n",
       "      <td>[M+H]+</td>\n",
       "      <td>287.115224</td>\n",
       "      <td>C16H17NO4</td>\n",
       "      <td>C16H18NO4</td>\n",
       "      <td>ITFT</td>\n",
       "      <td>30.0 (normalized=False, ramped=False)</td>\n",
       "      <td>MassSpecGymID0000001</td>\n",
       "      <td>CC(=O)N[C@@H](CC1=CC=CC=C1)C2=CC(=CC(=O)O2)OC</td>\n",
       "    </tr>\n",
       "    <tr>\n",
       "      <th>1</th>\n",
       "      <td>91.0542,125.0233,155.0577,185.0961,229.0859,24...</td>\n",
       "      <td>0.0990990990990991,0.28128128128128127,0.04004...</td>\n",
       "      <td>InChI=1S/C16H17NO4/c1-11(18)17-14(8-12-6-4-3-5...</td>\n",
       "      <td>VFMQMACUYWGDOJ</td>\n",
       "      <td>288.1225</td>\n",
       "      <td>[M+H]+</td>\n",
       "      <td>287.115224</td>\n",
       "      <td>C16H17NO4</td>\n",
       "      <td>C16H18NO4</td>\n",
       "      <td>ITFT</td>\n",
       "      <td>20.0 (normalized=False, ramped=False)</td>\n",
       "      <td>MassSpecGymID0000002</td>\n",
       "      <td>CC(=O)N[C@@H](CC1=CC=CC=C1)C2=CC(=CC(=O)O2)OC</td>\n",
       "    </tr>\n",
       "    <tr>\n",
       "      <th>2</th>\n",
       "      <td>69.0343,91.0542,125.0233,127.039,153.0699,154....</td>\n",
       "      <td>0.03403403403403404,0.31431431431431434,1.0,0....</td>\n",
       "      <td>InChI=1S/C16H17NO4/c1-11(18)17-14(8-12-6-4-3-5...</td>\n",
       "      <td>VFMQMACUYWGDOJ</td>\n",
       "      <td>288.1225</td>\n",
       "      <td>[M+H]+</td>\n",
       "      <td>287.115224</td>\n",
       "      <td>C16H17NO4</td>\n",
       "      <td>C16H18NO4</td>\n",
       "      <td>ITFT</td>\n",
       "      <td>40.0 (normalized=False, ramped=False)</td>\n",
       "      <td>MassSpecGymID0000003</td>\n",
       "      <td>CC(=O)N[C@@H](CC1=CC=CC=C1)C2=CC(=CC(=O)O2)OC</td>\n",
       "    </tr>\n",
       "    <tr>\n",
       "      <th>3</th>\n",
       "      <td>69.0343,91.0542,110.06,111.0441,112.0393,120.0...</td>\n",
       "      <td>0.17917917917917917,0.47347347347347346,0.0380...</td>\n",
       "      <td>InChI=1S/C16H17NO4/c1-11(18)17-14(8-12-6-4-3-5...</td>\n",
       "      <td>VFMQMACUYWGDOJ</td>\n",
       "      <td>288.1225</td>\n",
       "      <td>[M+H]+</td>\n",
       "      <td>287.115224</td>\n",
       "      <td>C16H17NO4</td>\n",
       "      <td>C16H18NO4</td>\n",
       "      <td>ITFT</td>\n",
       "      <td>55.0 (normalized=False, ramped=False)</td>\n",
       "      <td>MassSpecGymID0000004</td>\n",
       "      <td>CC(=O)N[C@@H](CC1=CC=CC=C1)C2=CC(=CC(=O)O2)OC</td>\n",
       "    </tr>\n",
       "    <tr>\n",
       "      <th>4</th>\n",
       "      <td>91.0542,125.0233,185.0961,229.0859,246.1125,28...</td>\n",
       "      <td>0.07807807807807808,0.1841841841841842,0.03503...</td>\n",
       "      <td>InChI=1S/C16H17NO4/c1-11(18)17-14(8-12-6-4-3-5...</td>\n",
       "      <td>VFMQMACUYWGDOJ</td>\n",
       "      <td>288.1225</td>\n",
       "      <td>[M+H]+</td>\n",
       "      <td>287.115224</td>\n",
       "      <td>C16H17NO4</td>\n",
       "      <td>C16H18NO4</td>\n",
       "      <td>ITFT</td>\n",
       "      <td>10.0 (normalized=False, ramped=False)</td>\n",
       "      <td>MassSpecGymID0000005</td>\n",
       "      <td>CC(=O)N[C@@H](CC1=CC=CC=C1)C2=CC(=CC(=O)O2)OC</td>\n",
       "    </tr>\n",
       "    <tr>\n",
       "      <th>...</th>\n",
       "      <td>...</td>\n",
       "      <td>...</td>\n",
       "      <td>...</td>\n",
       "      <td>...</td>\n",
       "      <td>...</td>\n",
       "      <td>...</td>\n",
       "      <td>...</td>\n",
       "      <td>...</td>\n",
       "      <td>...</td>\n",
       "      <td>...</td>\n",
       "      <td>...</td>\n",
       "      <td>...</td>\n",
       "      <td>...</td>\n",
       "    </tr>\n",
       "    <tr>\n",
       "      <th>233441</th>\n",
       "      <td>77.5606,85.238739,152.079361,156.231537,189.96...</td>\n",
       "      <td>0.00022242662384734551,0.0007871876908597226,0...</td>\n",
       "      <td>InChI=1S/C56H98N16O13/c1-7-32(4)13-11-12-16-44...</td>\n",
       "      <td>WQVJHHACXVLGBL</td>\n",
       "      <td>1225.7400</td>\n",
       "      <td>[M+Na]+</td>\n",
       "      <td>1202.750782</td>\n",
       "      <td>C56H98N16O13</td>\n",
       "      <td>C56H98N16NaO13</td>\n",
       "      <td>QTOF</td>\n",
       "      <td>NaN</td>\n",
       "      <td>MassSpecGymID0414170</td>\n",
       "      <td>CCC(C)CCCCC(=O)N[C@@H](CCN)C(=O)N[C@@H]([C@@H]...</td>\n",
       "    </tr>\n",
       "    <tr>\n",
       "      <th>233442</th>\n",
       "      <td>72.043739,86.060242,98.058304,99.0634,126.0537...</td>\n",
       "      <td>0.0019527744563354998,0.0016939927337585416,0....</td>\n",
       "      <td>InChI=1S/C22H23ClN2O8/c1-21(32)7-6-8-15(25(2)3...</td>\n",
       "      <td>DHPRQBPJLMKORJ</td>\n",
       "      <td>479.1230</td>\n",
       "      <td>[M+H]+</td>\n",
       "      <td>478.115724</td>\n",
       "      <td>C22H23ClN2O8</td>\n",
       "      <td>C22H24ClN2O8</td>\n",
       "      <td>QTOF</td>\n",
       "      <td>NaN</td>\n",
       "      <td>MassSpecGymID0414171</td>\n",
       "      <td>C[C@@]1([C@H]2C[C@H]3[C@@H](C(=O)C(=C([C@]3(C(...</td>\n",
       "    </tr>\n",
       "    <tr>\n",
       "      <th>233443</th>\n",
       "      <td>72.080132,102.233917,113.082344,113.121498,114...</td>\n",
       "      <td>0.021173783463613503,0.007516001055215398,0.03...</td>\n",
       "      <td>InChI=1S/C21H43N5O7/c1-9(25-3)13-6-5-10(22)19(...</td>\n",
       "      <td>CEAZRRDELHUEMR</td>\n",
       "      <td>478.3250</td>\n",
       "      <td>[M+H]+</td>\n",
       "      <td>477.317724</td>\n",
       "      <td>C21H43N5O7</td>\n",
       "      <td>C21H44N5O7</td>\n",
       "      <td>QTOF</td>\n",
       "      <td>NaN</td>\n",
       "      <td>MassSpecGymID0414172</td>\n",
       "      <td>C[C@H]([C@@H]1CC[C@H]([C@H](O1)O[C@@H]2[C@H](C...</td>\n",
       "    </tr>\n",
       "    <tr>\n",
       "      <th>233444</th>\n",
       "      <td>55.053627,56.455425,58.065819,67.053543,82.065...</td>\n",
       "      <td>0.031731527156456024,0.017878400151027027,0.07...</td>\n",
       "      <td>InChI=1S/C21H43N5O7/c1-9(25-3)13-6-5-10(22)19(...</td>\n",
       "      <td>CEAZRRDELHUEMR</td>\n",
       "      <td>478.3250</td>\n",
       "      <td>[M+H]+</td>\n",
       "      <td>477.317724</td>\n",
       "      <td>C21H43N5O7</td>\n",
       "      <td>C21H44N5O7</td>\n",
       "      <td>QTOF</td>\n",
       "      <td>NaN</td>\n",
       "      <td>MassSpecGymID0414173</td>\n",
       "      <td>C[C@H]([C@@H]1CC[C@H]([C@H](O1)O[C@@H]2[C@H](C...</td>\n",
       "    </tr>\n",
       "    <tr>\n",
       "      <th>233445</th>\n",
       "      <td>55.055058,56.049213,57.05315,58.064835,58.0875...</td>\n",
       "      <td>0.1514287137530871,0.09596071713375486,0.06401...</td>\n",
       "      <td>InChI=1S/C21H43N5O7/c1-9(25-3)13-6-5-10(22)19(...</td>\n",
       "      <td>CEAZRRDELHUEMR</td>\n",
       "      <td>478.3250</td>\n",
       "      <td>[M+H]+</td>\n",
       "      <td>477.317724</td>\n",
       "      <td>C21H43N5O7</td>\n",
       "      <td>C21H44N5O7</td>\n",
       "      <td>QTOF</td>\n",
       "      <td>NaN</td>\n",
       "      <td>MassSpecGymID0414174</td>\n",
       "      <td>C[C@H]([C@@H]1CC[C@H]([C@H](O1)O[C@@H]2[C@H](C...</td>\n",
       "    </tr>\n",
       "  </tbody>\n",
       "</table>\n",
       "<p>233446 rows × 13 columns</p>\n",
       "</div>"
      ],
      "text/plain": [
       "                                                      mzs  \\\n",
       "0       91.0542,125.0233,154.0499,155.0577,185.0961,20...   \n",
       "1       91.0542,125.0233,155.0577,185.0961,229.0859,24...   \n",
       "2       69.0343,91.0542,125.0233,127.039,153.0699,154....   \n",
       "3       69.0343,91.0542,110.06,111.0441,112.0393,120.0...   \n",
       "4       91.0542,125.0233,185.0961,229.0859,246.1125,28...   \n",
       "...                                                   ...   \n",
       "233441  77.5606,85.238739,152.079361,156.231537,189.96...   \n",
       "233442  72.043739,86.060242,98.058304,99.0634,126.0537...   \n",
       "233443  72.080132,102.233917,113.082344,113.121498,114...   \n",
       "233444  55.053627,56.455425,58.065819,67.053543,82.065...   \n",
       "233445  55.055058,56.049213,57.05315,58.064835,58.0875...   \n",
       "\n",
       "                                              intensities  \\\n",
       "0       0.24524524524524524,1.0,0.08008008008008008,0....   \n",
       "1       0.0990990990990991,0.28128128128128127,0.04004...   \n",
       "2       0.03403403403403404,0.31431431431431434,1.0,0....   \n",
       "3       0.17917917917917917,0.47347347347347346,0.0380...   \n",
       "4       0.07807807807807808,0.1841841841841842,0.03503...   \n",
       "...                                                   ...   \n",
       "233441  0.00022242662384734551,0.0007871876908597226,0...   \n",
       "233442  0.0019527744563354998,0.0016939927337585416,0....   \n",
       "233443  0.021173783463613503,0.007516001055215398,0.03...   \n",
       "233444  0.031731527156456024,0.017878400151027027,0.07...   \n",
       "233445  0.1514287137530871,0.09596071713375486,0.06401...   \n",
       "\n",
       "                                                    inchi        inchikey  \\\n",
       "0       InChI=1S/C16H17NO4/c1-11(18)17-14(8-12-6-4-3-5...  VFMQMACUYWGDOJ   \n",
       "1       InChI=1S/C16H17NO4/c1-11(18)17-14(8-12-6-4-3-5...  VFMQMACUYWGDOJ   \n",
       "2       InChI=1S/C16H17NO4/c1-11(18)17-14(8-12-6-4-3-5...  VFMQMACUYWGDOJ   \n",
       "3       InChI=1S/C16H17NO4/c1-11(18)17-14(8-12-6-4-3-5...  VFMQMACUYWGDOJ   \n",
       "4       InChI=1S/C16H17NO4/c1-11(18)17-14(8-12-6-4-3-5...  VFMQMACUYWGDOJ   \n",
       "...                                                   ...             ...   \n",
       "233441  InChI=1S/C56H98N16O13/c1-7-32(4)13-11-12-16-44...  WQVJHHACXVLGBL   \n",
       "233442  InChI=1S/C22H23ClN2O8/c1-21(32)7-6-8-15(25(2)3...  DHPRQBPJLMKORJ   \n",
       "233443  InChI=1S/C21H43N5O7/c1-9(25-3)13-6-5-10(22)19(...  CEAZRRDELHUEMR   \n",
       "233444  InChI=1S/C21H43N5O7/c1-9(25-3)13-6-5-10(22)19(...  CEAZRRDELHUEMR   \n",
       "233445  InChI=1S/C21H43N5O7/c1-9(25-3)13-6-5-10(22)19(...  CEAZRRDELHUEMR   \n",
       "\n",
       "        precursor_mz   adduct  parent_mass       formula precursor_formula  \\\n",
       "0           288.1225   [M+H]+   287.115224     C16H17NO4         C16H18NO4   \n",
       "1           288.1225   [M+H]+   287.115224     C16H17NO4         C16H18NO4   \n",
       "2           288.1225   [M+H]+   287.115224     C16H17NO4         C16H18NO4   \n",
       "3           288.1225   [M+H]+   287.115224     C16H17NO4         C16H18NO4   \n",
       "4           288.1225   [M+H]+   287.115224     C16H17NO4         C16H18NO4   \n",
       "...              ...      ...          ...           ...               ...   \n",
       "233441     1225.7400  [M+Na]+  1202.750782  C56H98N16O13    C56H98N16NaO13   \n",
       "233442      479.1230   [M+H]+   478.115724  C22H23ClN2O8      C22H24ClN2O8   \n",
       "233443      478.3250   [M+H]+   477.317724    C21H43N5O7        C21H44N5O7   \n",
       "233444      478.3250   [M+H]+   477.317724    C21H43N5O7        C21H44N5O7   \n",
       "233445      478.3250   [M+H]+   477.317724    C21H43N5O7        C21H44N5O7   \n",
       "\n",
       "       instrument_type                       collision_energy  \\\n",
       "0                 ITFT  30.0 (normalized=False, ramped=False)   \n",
       "1                 ITFT  20.0 (normalized=False, ramped=False)   \n",
       "2                 ITFT  40.0 (normalized=False, ramped=False)   \n",
       "3                 ITFT  55.0 (normalized=False, ramped=False)   \n",
       "4                 ITFT  10.0 (normalized=False, ramped=False)   \n",
       "...                ...                                    ...   \n",
       "233441            QTOF                                    NaN   \n",
       "233442            QTOF                                    NaN   \n",
       "233443            QTOF                                    NaN   \n",
       "233444            QTOF                                    NaN   \n",
       "233445            QTOF                                    NaN   \n",
       "\n",
       "                  identifier  \\\n",
       "0       MassSpecGymID0000001   \n",
       "1       MassSpecGymID0000002   \n",
       "2       MassSpecGymID0000003   \n",
       "3       MassSpecGymID0000004   \n",
       "4       MassSpecGymID0000005   \n",
       "...                      ...   \n",
       "233441  MassSpecGymID0414170   \n",
       "233442  MassSpecGymID0414171   \n",
       "233443  MassSpecGymID0414172   \n",
       "233444  MassSpecGymID0414173   \n",
       "233445  MassSpecGymID0414174   \n",
       "\n",
       "                                                   smiles  \n",
       "0           CC(=O)N[C@@H](CC1=CC=CC=C1)C2=CC(=CC(=O)O2)OC  \n",
       "1           CC(=O)N[C@@H](CC1=CC=CC=C1)C2=CC(=CC(=O)O2)OC  \n",
       "2           CC(=O)N[C@@H](CC1=CC=CC=C1)C2=CC(=CC(=O)O2)OC  \n",
       "3           CC(=O)N[C@@H](CC1=CC=CC=C1)C2=CC(=CC(=O)O2)OC  \n",
       "4           CC(=O)N[C@@H](CC1=CC=CC=C1)C2=CC(=CC(=O)O2)OC  \n",
       "...                                                   ...  \n",
       "233441  CCC(C)CCCCC(=O)N[C@@H](CCN)C(=O)N[C@@H]([C@@H]...  \n",
       "233442  C[C@@]1([C@H]2C[C@H]3[C@@H](C(=O)C(=C([C@]3(C(...  \n",
       "233443  C[C@H]([C@@H]1CC[C@H]([C@H](O1)O[C@@H]2[C@H](C...  \n",
       "233444  C[C@H]([C@@H]1CC[C@H]([C@H](O1)O[C@@H]2[C@H](C...  \n",
       "233445  C[C@H]([C@@H]1CC[C@H]([C@H](O1)O[C@@H]2[C@H](C...  \n",
       "\n",
       "[233446 rows x 13 columns]"
      ]
     },
     "execution_count": 11,
     "metadata": {},
     "output_type": "execute_result"
    }
   ],
   "source": [
    "df = pd.read_csv('../../data/data/MassSpecGym.tsv', sep='\\t')\n",
    "df"
   ]
  },
  {
   "cell_type": "markdown",
   "metadata": {},
   "source": [
    "### Prepare SMILES and pre-computed MCES distances"
   ]
  },
  {
   "cell_type": "code",
   "execution_count": 12,
   "metadata": {},
   "outputs": [
    {
     "name": "stdout",
     "output_type": "stream",
     "text": [
      "['mces', 'mces_smiles_order']\n"
     ]
    },
    {
     "data": {
      "text/plain": [
       "((34731, 34731), 34731)"
      ]
     },
     "execution_count": 12,
     "metadata": {},
     "output_type": "execute_result"
    }
   ],
   "source": [
    "f = h5py.File('../../data/all_smiles_standardized_mces/all_smiles_mces.hdf5', 'r')\n",
    "print(list(f.keys()))\n",
    "dists = squareform(f['mces'])\n",
    "dists_smiles = f['mces_smiles_order'][:].astype(str).tolist()\n",
    "dists.shape, len(dists_smiles)"
   ]
  },
  {
   "cell_type": "code",
   "execution_count": 13,
   "metadata": {},
   "outputs": [],
   "source": [
    "for s in df['smiles'].unique():\n",
    "    assert s in dists_smiles"
   ]
  },
  {
   "cell_type": "code",
   "execution_count": 15,
   "metadata": {},
   "outputs": [
    {
     "name": "stdout",
     "output_type": "stream",
     "text": [
      "32010 32010 32010\n"
     ]
    },
    {
     "data": {
      "text/plain": [
       "(32010, (32010, 32010))"
      ]
     },
     "execution_count": 15,
     "metadata": {},
     "output_type": "execute_result"
    }
   ],
   "source": [
    "unique_smiles = df['smiles'].unique()\n",
    "smiles_mask = np.array([s in unique_smiles for s in dists_smiles])\n",
    "print(smiles_mask.shape[0], smiles_mask.sum(), len(unique_smiles))\n",
    "\n",
    "dists = dists[smiles_mask, :][:, smiles_mask]\n",
    "dists_smiles = np.array(dists_smiles)[smiles_mask]\n",
    "\n",
    "from scipy.linalg import issymmetric\n",
    "assert issymmetric(dists)\n",
    "\n",
    "len(dists_smiles), dists.shape"
   ]
  },
  {
   "cell_type": "markdown",
   "metadata": {},
   "source": [
    "### Perform agglomerative clustering using MCES distances"
   ]
  },
  {
   "cell_type": "code",
   "execution_count": 16,
   "metadata": {},
   "outputs": [
    {
     "data": {
      "text/plain": [
       "19      20472\n",
       "476        90\n",
       "411        90\n",
       "468        73\n",
       "1894       71\n",
       "        ...  \n",
       "4884        1\n",
       "4885        1\n",
       "4587        1\n",
       "4886        1\n",
       "4452        1\n",
       "Name: count, Length: 7642, dtype: int64"
      ]
     },
     "execution_count": 16,
     "metadata": {},
     "output_type": "execute_result"
    }
   ],
   "source": [
    "clustering = AgglomerativeClustering(\n",
    "    metric='precomputed',\n",
    "    linkage='single',\n",
    "    distance_threshold=10,\n",
    "    n_clusters=None\n",
    ").fit(dists)\n",
    "clusters = clustering.labels_\n",
    "pd.Series(clusters).value_counts()"
   ]
  },
  {
   "cell_type": "code",
   "execution_count": 21,
   "metadata": {},
   "outputs": [
    {
     "data": {
      "image/png": "[encoded data removed]",
      "text/plain": [
       "<IPython.core.display.Image object>"
      ]
     },
     "execution_count": 21,
     "metadata": {},
     "output_type": "execute_result"
    }
   ],
   "source": [
    "Draw.MolsToGridImage([Chem.MolFromSmiles(s) for s in dists_smiles[np.where(clusters == 2)[0]]], molsPerRow=6, subImgSize=(200, 200))"
   ]
  },
  {
   "cell_type": "markdown",
   "metadata": {},
   "source": [
    "### Define train-validation-test split"
   ]
  },
  {
   "cell_type": "markdown",
   "metadata": {},
   "source": [
    "Compute metadata stratification groups"
   ]
  },
  {
   "cell_type": "code",
   "execution_count": 22,
   "metadata": {},
   "outputs": [
    {
     "data": {
      "text/plain": [
       "stratification_group\n",
       "[M+H]+ITFTnone(5, 100]                                   38057\n",
       "[M+Na]+ITFTnone(5, 100]                                  21861\n",
       "[M+H]+QTOFother(5, 100]                                  17644\n",
       "[M+H]+ITFTother(5, 100]                                  16233\n",
       "[M+H]+QFTother(5, 100]                                   12553\n",
       "                                                         ...  \n",
       "[M+Na]+QFT20.0 (normalized=False, ramped=False)(0, 3)        1\n",
       "[M+Na]+nannone(100, inf)                                     1\n",
       "[M+H]+nan30.0 (normalized=False, ramped=False)(0, 3)         1\n",
       "[M+H]+QTOF45.0 (normalized=False, ramped=False)(0, 3)        1\n",
       "[M+Na]+Orbitrapother(0, 3)                                   1\n",
       "Name: count, Length: 169, dtype: int64"
      ]
     },
     "execution_count": 22,
     "metadata": {},
     "output_type": "execute_result"
    }
   ],
   "source": [
    "smiles_to_cluster = dict(zip(dists_smiles, clusters))\n",
    "df['cluster'] = df['smiles'].map(smiles_to_cluster)\n",
    "\n",
    "top_k_ces = df['collision_energy'].value_counts().index[:5]\n",
    "smiles_vc = df['smiles'].value_counts()\n",
    "\n",
    "def simple_ce(ce):\n",
    "    if pd.isnull(ce):\n",
    "        return 'none'\n",
    "    if ce in top_k_ces:\n",
    "        return ce\n",
    "    return 'other'\n",
    "\n",
    "def simple_smiles_count(smiles):\n",
    "    c = smiles_vc[smiles]\n",
    "    if c < 3:\n",
    "        return '(0, 3)'\n",
    "    elif c <= 5:\n",
    "        return '(3, 5]'\n",
    "    elif c > 100:\n",
    "        return '(100, inf)'\n",
    "    return '(5, 100]'\n",
    "\n",
    "def stratification_group(row):\n",
    "    return str(row['adduct']) + \\\n",
    "        str(row['instrument_type']) + \\\n",
    "        str(simple_ce(row['collision_energy'])) + \\\n",
    "        str(simple_smiles_count(row['smiles']))\n",
    "df['stratification_group'] = df.apply(stratification_group, axis=1)\n",
    "df['stratification_group'].value_counts()"
   ]
  },
  {
   "cell_type": "markdown",
   "metadata": {},
   "source": [
    "Split with `StratifiedGroupKFold`"
   ]
  },
  {
   "cell_type": "code",
   "execution_count": 23,
   "metadata": {},
   "outputs": [
    {
     "name": "stderr",
     "output_type": "stream",
     "text": [
      "/Users/roman/miniconda/envs/massspecgym/lib/python3.11/site-packages/sklearn/model_selection/_split.py:994: UserWarning: The least populated class in y has only 1 members, which is less than n_splits=3.\n",
      "  warnings.warn(\n"
     ]
    },
    {
     "name": "stdout",
     "output_type": "stream",
     "text": [
      "170111 (72.87 %)\n",
      "31568 (13.52 %)\n",
      "31767 (13.61 %)\n"
     ]
    }
   ],
   "source": [
    "X = df['identifier'].values\n",
    "y = df['stratification_group'].values\n",
    "groups = df['cluster'].values\n",
    "sgkf = StratifiedGroupKFold(n_splits=3)\n",
    "sgkf_split = sgkf.split(X, y, groups)\n",
    "folds = []\n",
    "for i, (train_index, test_index) in enumerate(sgkf_split):\n",
    "    print(f'{len(test_index)} ({len(test_index) / len(X) * 100:.2f} %)')\n",
    "    folds.append(X[test_index])"
   ]
  },
  {
   "cell_type": "code",
   "execution_count": 24,
   "metadata": {},
   "outputs": [
    {
     "name": "stdout",
     "output_type": "stream",
     "text": [
      "Full dataset (percentage=False)\n"
     ]
    },
    {
     "data": {
      "text/html": [
       "<div>\n",
       "<style scoped>\n",
       "    .dataframe tbody tr th:only-of-type {\n",
       "        vertical-align: middle;\n",
       "    }\n",
       "\n",
       "    .dataframe tbody tr th {\n",
       "        vertical-align: top;\n",
       "    }\n",
       "\n",
       "    .dataframe thead th {\n",
       "        text-align: right;\n",
       "    }\n",
       "</style>\n",
       "<table border=\"1\" class=\"dataframe\">\n",
       "  <thead>\n",
       "    <tr style=\"text-align: right;\">\n",
       "      <th></th>\n",
       "      <th>smiles</th>\n",
       "      <th>identifier</th>\n",
       "      <th>cluster</th>\n",
       "    </tr>\n",
       "    <tr>\n",
       "      <th>fold</th>\n",
       "      <th></th>\n",
       "      <th></th>\n",
       "      <th></th>\n",
       "    </tr>\n",
       "  </thead>\n",
       "  <tbody>\n",
       "    <tr>\n",
       "      <th>test</th>\n",
       "      <td>5720</td>\n",
       "      <td>31767</td>\n",
       "      <td>3766</td>\n",
       "    </tr>\n",
       "    <tr>\n",
       "      <th>train</th>\n",
       "      <td>20540</td>\n",
       "      <td>170111</td>\n",
       "      <td>69</td>\n",
       "    </tr>\n",
       "    <tr>\n",
       "      <th>val</th>\n",
       "      <td>5750</td>\n",
       "      <td>31568</td>\n",
       "      <td>3807</td>\n",
       "    </tr>\n",
       "  </tbody>\n",
       "</table>\n",
       "</div>"
      ],
      "text/plain": [
       "       smiles  identifier  cluster\n",
       "fold                              \n",
       "test     5720       31767     3766\n",
       "train   20540      170111       69\n",
       "val      5750       31568     3807"
      ]
     },
     "metadata": {},
     "output_type": "display_data"
    },
    {
     "name": "stdout",
     "output_type": "stream",
     "text": [
      "All metadata available (percentage=False)\n"
     ]
    },
    {
     "data": {
      "text/html": [
       "<div>\n",
       "<style scoped>\n",
       "    .dataframe tbody tr th:only-of-type {\n",
       "        vertical-align: middle;\n",
       "    }\n",
       "\n",
       "    .dataframe tbody tr th {\n",
       "        vertical-align: top;\n",
       "    }\n",
       "\n",
       "    .dataframe thead th {\n",
       "        text-align: right;\n",
       "    }\n",
       "</style>\n",
       "<table border=\"1\" class=\"dataframe\">\n",
       "  <thead>\n",
       "    <tr style=\"text-align: right;\">\n",
       "      <th></th>\n",
       "      <th>smiles</th>\n",
       "      <th>identifier</th>\n",
       "      <th>cluster</th>\n",
       "    </tr>\n",
       "    <tr>\n",
       "      <th>fold</th>\n",
       "      <th></th>\n",
       "      <th></th>\n",
       "      <th></th>\n",
       "    </tr>\n",
       "  </thead>\n",
       "  <tbody>\n",
       "    <tr>\n",
       "      <th>test</th>\n",
       "      <td>4173</td>\n",
       "      <td>17205</td>\n",
       "      <td>3220</td>\n",
       "    </tr>\n",
       "    <tr>\n",
       "      <th>train</th>\n",
       "      <td>10206</td>\n",
       "      <td>87898</td>\n",
       "      <td>69</td>\n",
       "    </tr>\n",
       "    <tr>\n",
       "      <th>val</th>\n",
       "      <td>4194</td>\n",
       "      <td>17201</td>\n",
       "      <td>3239</td>\n",
       "    </tr>\n",
       "  </tbody>\n",
       "</table>\n",
       "</div>"
      ],
      "text/plain": [
       "       smiles  identifier  cluster\n",
       "fold                              \n",
       "test     4173       17205     3220\n",
       "train   10206       87898       69\n",
       "val      4194       17201     3239"
      ]
     },
     "metadata": {},
     "output_type": "display_data"
    },
    {
     "name": "stdout",
     "output_type": "stream",
     "text": [
      "Full dataset (percentage=True)\n"
     ]
    },
    {
     "data": {
      "text/html": [
       "<div>\n",
       "<style scoped>\n",
       "    .dataframe tbody tr th:only-of-type {\n",
       "        vertical-align: middle;\n",
       "    }\n",
       "\n",
       "    .dataframe tbody tr th {\n",
       "        vertical-align: top;\n",
       "    }\n",
       "\n",
       "    .dataframe thead th {\n",
       "        text-align: right;\n",
       "    }\n",
       "</style>\n",
       "<table border=\"1\" class=\"dataframe\">\n",
       "  <thead>\n",
       "    <tr style=\"text-align: right;\">\n",
       "      <th></th>\n",
       "      <th>smiles</th>\n",
       "      <th>identifier</th>\n",
       "      <th>cluster</th>\n",
       "    </tr>\n",
       "    <tr>\n",
       "      <th>fold</th>\n",
       "      <th></th>\n",
       "      <th></th>\n",
       "      <th></th>\n",
       "    </tr>\n",
       "  </thead>\n",
       "  <tbody>\n",
       "    <tr>\n",
       "      <th>test</th>\n",
       "      <td>17.87</td>\n",
       "      <td>13.61</td>\n",
       "      <td>49.28</td>\n",
       "    </tr>\n",
       "    <tr>\n",
       "      <th>train</th>\n",
       "      <td>64.17</td>\n",
       "      <td>72.87</td>\n",
       "      <td>0.90</td>\n",
       "    </tr>\n",
       "    <tr>\n",
       "      <th>val</th>\n",
       "      <td>17.96</td>\n",
       "      <td>13.52</td>\n",
       "      <td>49.82</td>\n",
       "    </tr>\n",
       "  </tbody>\n",
       "</table>\n",
       "</div>"
      ],
      "text/plain": [
       "       smiles  identifier  cluster\n",
       "fold                              \n",
       "test    17.87       13.61    49.28\n",
       "train   64.17       72.87     0.90\n",
       "val     17.96       13.52    49.82"
      ]
     },
     "metadata": {},
     "output_type": "display_data"
    },
    {
     "name": "stdout",
     "output_type": "stream",
     "text": [
      "All metadata available (percentage=True)\n"
     ]
    },
    {
     "data": {
      "text/html": [
       "<div>\n",
       "<style scoped>\n",
       "    .dataframe tbody tr th:only-of-type {\n",
       "        vertical-align: middle;\n",
       "    }\n",
       "\n",
       "    .dataframe tbody tr th {\n",
       "        vertical-align: top;\n",
       "    }\n",
       "\n",
       "    .dataframe thead th {\n",
       "        text-align: right;\n",
       "    }\n",
       "</style>\n",
       "<table border=\"1\" class=\"dataframe\">\n",
       "  <thead>\n",
       "    <tr style=\"text-align: right;\">\n",
       "      <th></th>\n",
       "      <th>smiles</th>\n",
       "      <th>identifier</th>\n",
       "      <th>cluster</th>\n",
       "    </tr>\n",
       "    <tr>\n",
       "      <th>fold</th>\n",
       "      <th></th>\n",
       "      <th></th>\n",
       "      <th></th>\n",
       "    </tr>\n",
       "  </thead>\n",
       "  <tbody>\n",
       "    <tr>\n",
       "      <th>test</th>\n",
       "      <td>22.47</td>\n",
       "      <td>14.07</td>\n",
       "      <td>49.33</td>\n",
       "    </tr>\n",
       "    <tr>\n",
       "      <th>train</th>\n",
       "      <td>54.95</td>\n",
       "      <td>71.87</td>\n",
       "      <td>1.06</td>\n",
       "    </tr>\n",
       "    <tr>\n",
       "      <th>val</th>\n",
       "      <td>22.58</td>\n",
       "      <td>14.06</td>\n",
       "      <td>49.62</td>\n",
       "    </tr>\n",
       "  </tbody>\n",
       "</table>\n",
       "</div>"
      ],
      "text/plain": [
       "       smiles  identifier  cluster\n",
       "fold                              \n",
       "test    22.47       14.07    49.33\n",
       "train   54.95       71.87     1.06\n",
       "val     22.58       14.06    49.62"
      ]
     },
     "metadata": {},
     "output_type": "display_data"
    }
   ],
   "source": [
    "folds_map = {}\n",
    "for i, fold in enumerate(folds):\n",
    "    for identifier in fold:\n",
    "        folds_map[identifier] = ['train', 'val', 'test'][i]\n",
    "df['fold'] = df['identifier'].map(folds_map)\n",
    "\n",
    "def fold_composition(df_q, percentage=True):\n",
    "    unique_counts = df_q.groupby(['fold']).agg({'smiles': 'nunique', 'identifier': 'nunique', 'cluster': 'nunique'})\n",
    "    if not percentage:\n",
    "        return unique_counts\n",
    "    total_counts = df_q.agg({'smiles': 'nunique', 'identifier': 'nunique', 'cluster': 'nunique'})\n",
    "    percentage_counts = (unique_counts / total_counts) * 100\n",
    "    percentage_counts = percentage_counts.round(2)\n",
    "    return percentage_counts\n",
    "for percentage in [False, True]:\n",
    "    print(f'Full dataset (percentage={percentage})')\n",
    "    display(fold_composition(df, percentage=percentage))\n",
    "    print(f'All metadata available (percentage={percentage})')\n",
    "    display(fold_composition(df.dropna(), percentage=percentage))"
   ]
  },
  {
   "cell_type": "markdown",
   "metadata": {},
   "source": [
    "### Additionally move random validation and test clusters to the train fold"
   ]
  },
  {
   "cell_type": "code",
   "execution_count": 25,
   "metadata": {},
   "outputs": [
    {
     "name": "stdout",
     "output_type": "stream",
     "text": [
      "Full dataset (percentage=False)\n"
     ]
    },
    {
     "data": {
      "text/html": [
       "<div>\n",
       "<style scoped>\n",
       "    .dataframe tbody tr th:only-of-type {\n",
       "        vertical-align: middle;\n",
       "    }\n",
       "\n",
       "    .dataframe tbody tr th {\n",
       "        vertical-align: top;\n",
       "    }\n",
       "\n",
       "    .dataframe thead th {\n",
       "        text-align: right;\n",
       "    }\n",
       "</style>\n",
       "<table border=\"1\" class=\"dataframe\">\n",
       "  <thead>\n",
       "    <tr style=\"text-align: right;\">\n",
       "      <th></th>\n",
       "      <th>smiles</th>\n",
       "      <th>identifier</th>\n",
       "      <th>cluster</th>\n",
       "    </tr>\n",
       "    <tr>\n",
       "      <th>fold</th>\n",
       "      <th></th>\n",
       "      <th></th>\n",
       "      <th></th>\n",
       "    </tr>\n",
       "  </thead>\n",
       "  <tbody>\n",
       "    <tr>\n",
       "      <th>test</th>\n",
       "      <td>3356</td>\n",
       "      <td>17382</td>\n",
       "      <td>2266</td>\n",
       "    </tr>\n",
       "    <tr>\n",
       "      <th>train</th>\n",
       "      <td>25320</td>\n",
       "      <td>197792</td>\n",
       "      <td>3069</td>\n",
       "    </tr>\n",
       "    <tr>\n",
       "      <th>val</th>\n",
       "      <td>3334</td>\n",
       "      <td>18272</td>\n",
       "      <td>2307</td>\n",
       "    </tr>\n",
       "  </tbody>\n",
       "</table>\n",
       "</div>"
      ],
      "text/plain": [
       "       smiles  identifier  cluster\n",
       "fold                              \n",
       "test     3356       17382     2266\n",
       "train   25320      197792     3069\n",
       "val      3334       18272     2307"
      ]
     },
     "metadata": {},
     "output_type": "display_data"
    },
    {
     "name": "stdout",
     "output_type": "stream",
     "text": [
      "All metadata available (percentage=False)\n"
     ]
    },
    {
     "data": {
      "text/html": [
       "<div>\n",
       "<style scoped>\n",
       "    .dataframe tbody tr th:only-of-type {\n",
       "        vertical-align: middle;\n",
       "    }\n",
       "\n",
       "    .dataframe tbody tr th {\n",
       "        vertical-align: top;\n",
       "    }\n",
       "\n",
       "    .dataframe thead th {\n",
       "        text-align: right;\n",
       "    }\n",
       "</style>\n",
       "<table border=\"1\" class=\"dataframe\">\n",
       "  <thead>\n",
       "    <tr style=\"text-align: right;\">\n",
       "      <th></th>\n",
       "      <th>smiles</th>\n",
       "      <th>identifier</th>\n",
       "      <th>cluster</th>\n",
       "    </tr>\n",
       "    <tr>\n",
       "      <th>fold</th>\n",
       "      <th></th>\n",
       "      <th></th>\n",
       "      <th></th>\n",
       "    </tr>\n",
       "  </thead>\n",
       "  <tbody>\n",
       "    <tr>\n",
       "      <th>test</th>\n",
       "      <td>2532</td>\n",
       "      <td>9930</td>\n",
       "      <td>1937</td>\n",
       "    </tr>\n",
       "    <tr>\n",
       "      <th>train</th>\n",
       "      <td>13583</td>\n",
       "      <td>102433</td>\n",
       "      <td>2630</td>\n",
       "    </tr>\n",
       "    <tr>\n",
       "      <th>val</th>\n",
       "      <td>2458</td>\n",
       "      <td>9941</td>\n",
       "      <td>1961</td>\n",
       "    </tr>\n",
       "  </tbody>\n",
       "</table>\n",
       "</div>"
      ],
      "text/plain": [
       "       smiles  identifier  cluster\n",
       "fold                              \n",
       "test     2532        9930     1937\n",
       "train   13583      102433     2630\n",
       "val      2458        9941     1961"
      ]
     },
     "metadata": {},
     "output_type": "display_data"
    },
    {
     "name": "stdout",
     "output_type": "stream",
     "text": [
      "Full dataset (percentage=True)\n"
     ]
    },
    {
     "data": {
      "text/html": [
       "<div>\n",
       "<style scoped>\n",
       "    .dataframe tbody tr th:only-of-type {\n",
       "        vertical-align: middle;\n",
       "    }\n",
       "\n",
       "    .dataframe tbody tr th {\n",
       "        vertical-align: top;\n",
       "    }\n",
       "\n",
       "    .dataframe thead th {\n",
       "        text-align: right;\n",
       "    }\n",
       "</style>\n",
       "<table border=\"1\" class=\"dataframe\">\n",
       "  <thead>\n",
       "    <tr style=\"text-align: right;\">\n",
       "      <th></th>\n",
       "      <th>smiles</th>\n",
       "      <th>identifier</th>\n",
       "      <th>cluster</th>\n",
       "    </tr>\n",
       "    <tr>\n",
       "      <th>fold</th>\n",
       "      <th></th>\n",
       "      <th></th>\n",
       "      <th></th>\n",
       "    </tr>\n",
       "  </thead>\n",
       "  <tbody>\n",
       "    <tr>\n",
       "      <th>test</th>\n",
       "      <td>10.48</td>\n",
       "      <td>7.45</td>\n",
       "      <td>29.65</td>\n",
       "    </tr>\n",
       "    <tr>\n",
       "      <th>train</th>\n",
       "      <td>79.10</td>\n",
       "      <td>84.73</td>\n",
       "      <td>40.16</td>\n",
       "    </tr>\n",
       "    <tr>\n",
       "      <th>val</th>\n",
       "      <td>10.42</td>\n",
       "      <td>7.83</td>\n",
       "      <td>30.19</td>\n",
       "    </tr>\n",
       "  </tbody>\n",
       "</table>\n",
       "</div>"
      ],
      "text/plain": [
       "       smiles  identifier  cluster\n",
       "fold                              \n",
       "test    10.48        7.45    29.65\n",
       "train   79.10       84.73    40.16\n",
       "val     10.42        7.83    30.19"
      ]
     },
     "metadata": {},
     "output_type": "display_data"
    },
    {
     "name": "stdout",
     "output_type": "stream",
     "text": [
      "All metadata available (percentage=True)\n"
     ]
    },
    {
     "data": {
      "text/html": [
       "<div>\n",
       "<style scoped>\n",
       "    .dataframe tbody tr th:only-of-type {\n",
       "        vertical-align: middle;\n",
       "    }\n",
       "\n",
       "    .dataframe tbody tr th {\n",
       "        vertical-align: top;\n",
       "    }\n",
       "\n",
       "    .dataframe thead th {\n",
       "        text-align: right;\n",
       "    }\n",
       "</style>\n",
       "<table border=\"1\" class=\"dataframe\">\n",
       "  <thead>\n",
       "    <tr style=\"text-align: right;\">\n",
       "      <th></th>\n",
       "      <th>smiles</th>\n",
       "      <th>identifier</th>\n",
       "      <th>cluster</th>\n",
       "    </tr>\n",
       "    <tr>\n",
       "      <th>fold</th>\n",
       "      <th></th>\n",
       "      <th></th>\n",
       "      <th></th>\n",
       "    </tr>\n",
       "  </thead>\n",
       "  <tbody>\n",
       "    <tr>\n",
       "      <th>test</th>\n",
       "      <td>13.63</td>\n",
       "      <td>8.12</td>\n",
       "      <td>29.67</td>\n",
       "    </tr>\n",
       "    <tr>\n",
       "      <th>train</th>\n",
       "      <td>73.13</td>\n",
       "      <td>83.75</td>\n",
       "      <td>40.29</td>\n",
       "    </tr>\n",
       "    <tr>\n",
       "      <th>val</th>\n",
       "      <td>13.23</td>\n",
       "      <td>8.13</td>\n",
       "      <td>30.04</td>\n",
       "    </tr>\n",
       "  </tbody>\n",
       "</table>\n",
       "</div>"
      ],
      "text/plain": [
       "       smiles  identifier  cluster\n",
       "fold                              \n",
       "test    13.63        8.12    29.67\n",
       "train   73.13       83.75    40.29\n",
       "val     13.23        8.13    30.04"
      ]
     },
     "metadata": {},
     "output_type": "display_data"
    }
   ],
   "source": [
    "df_split = df.copy()\n",
    "for f in ['val', 'test']:\n",
    "    df_fold = df[df['fold'] == f].copy()\n",
    "    rand_fold_clusters = df_fold['cluster'].drop_duplicates().sample(n=1500, random_state=42).values\n",
    "    df_split.loc[df_split['cluster'].isin(rand_fold_clusters), 'fold'] = 'train'\n",
    "\n",
    "for percentage in [False, True]:\n",
    "    print(f'Full dataset (percentage={percentage})')\n",
    "    display(fold_composition(df_split, percentage=percentage))\n",
    "    print(f'All metadata available (percentage={percentage})')\n",
    "    display(fold_composition(df_split.dropna(), percentage=percentage))"
   ]
  },
  {
   "cell_type": "code",
   "execution_count": 26,
   "metadata": {},
   "outputs": [
    {
     "name": "stdout",
     "output_type": "stream",
     "text": [
      "------------------------------ Full dataset ------------------------------\n"
     ]
    },
    {
     "data": {
      "image/png": "[encoded data removed]",
      "text/plain": [
       "<Figure size 300x300 with 1 Axes>"
      ]
     },
     "metadata": {},
     "output_type": "display_data"
    },
    {
     "data": {
      "image/png": "[encoded data removed]",
      "text/plain": [
       "<Figure size 300x300 with 1 Axes>"
      ]
     },
     "metadata": {},
     "output_type": "display_data"
    },
    {
     "data": {
      "image/png": "[encoded data removed]",
      "text/plain": [
       "<Figure size 300x300 with 1 Axes>"
      ]
     },
     "metadata": {},
     "output_type": "display_data"
    },
    {
     "data": {
      "image/png": "[encoded data removed]",
      "text/plain": [
       "<Figure size 300x300 with 1 Axes>"
      ]
     },
     "metadata": {},
     "output_type": "display_data"
    },
    {
     "name": "stdout",
     "output_type": "stream",
     "text": [
      "------------------------------ All metadata available ------------------------------\n"
     ]
    },
    {
     "data": {
      "image/png": "[encoded data removed]",
      "text/plain": [
       "<Figure size 300x300 with 1 Axes>"
      ]
     },
     "metadata": {},
     "output_type": "display_data"
    },
    {
     "data": {
      "image/png": "[encoded data removed]",
      "text/plain": [
       "<Figure size 300x300 with 1 Axes>"
      ]
     },
     "metadata": {},
     "output_type": "display_data"
    },
    {
     "data": {
      "image/png": "[encoded data removed]",
      "text/plain": [
       "<Figure size 300x300 with 1 Axes>"
      ]
     },
     "metadata": {},
     "output_type": "display_data"
    },
    {
     "data": {
      "image/png": "[encoded data removed]",
      "text/plain": [
       "<Figure size 300x300 with 1 Axes>"
      ]
     },
     "metadata": {},
     "output_type": "display_data"
    }
   ],
   "source": [
    "utils.init_plotting(figsize=(3, 3))\n",
    "\n",
    "for df_name, df_plot in [('Full dataset', df_split.copy()), ('All metadata available', df_split.copy().dropna())]:\n",
    "    print('-' * 30, df_name, '-' * 30)\n",
    "    df_plot['instrument_type'] = df_plot['instrument_type'].str.replace('Q Exactive Focus Hybrid Quadrupole Orbitrap Mass Spectrometer (Thermo Fisher Scientific)', 'Q Exactive')\n",
    "    df_plot['collision_energy'] = df_plot['collision_energy'].apply(simple_ce)\n",
    "    df_plot['smiles_count'] = df_plot['smiles'].apply(simple_smiles_count)\n",
    "\n",
    "    sns.histplot(y='instrument_type', data=df_plot, hue='fold', multiple='dodge', discrete=True, shrink=.8)\n",
    "    plt.xscale('log')\n",
    "    plt.show()\n",
    "\n",
    "    sns.histplot(y='collision_energy', data=df_plot, hue='fold', multiple='dodge', discrete=True, shrink=.8)\n",
    "    plt.xscale('log')\n",
    "    plt.show()\n",
    "\n",
    "    sns.histplot(y='adduct', data=df_plot, hue='fold', multiple='dodge', discrete=True, shrink=.8)\n",
    "    # plt.xscale('log')\n",
    "    plt.show()\n",
    "\n",
    "    sns.histplot(y='smiles_count', data=df_plot, hue='fold', multiple='dodge', discrete=True, shrink=.8)\n",
    "    plt.show()"
   ]
  },
  {
   "cell_type": "code",
   "execution_count": 27,
   "metadata": {},
   "outputs": [
    {
     "name": "stderr",
     "output_type": "stream",
     "text": [
      "100%|██████████| 25320/25320 [00:03<00:00, 7028.30it/s]\n",
      "100%|██████████| 3334/3334 [00:00<00:00, 5257.66it/s]\n",
      "100%|██████████| 3356/3356 [00:00<00:00, 5058.70it/s]\n"
     ]
    }
   ],
   "source": [
    "fps = {}\n",
    "for fold in ['train', 'val', 'test']:\n",
    "    df_fold = df_split[df_split['fold'] == fold]\n",
    "    df_fold = df_fold.drop_duplicates(subset='smiles')\n",
    "    fps[fold] = df_fold['smiles'].progress_apply(lambda s: utils.morgan_fp(Chem.MolFromSmiles(s), to_np=False))\n",
    "def max_train_tanimoto(test_fp, train_fps=fps['train']):\n",
    "    return max([DataStructs.FingerprintSimilarity(test_fp, train_fp) for train_fp in train_fps])"
   ]
  },
  {
   "cell_type": "code",
   "execution_count": 28,
   "metadata": {},
   "outputs": [
    {
     "name": "stdout",
     "output_type": "stream",
     "text": [
      "INFO: Pandarallel will run on 8 workers.\n",
      "INFO: Pandarallel will use standard multiprocessing data transfer (pipe) to transfer data between the main process and workers.\n"
     ]
    },
    {
     "data": {
      "application/vnd.jupyter.widget-view+json": {
       "model_id": "a45321e32842436eb45f25b9769145a7",
       "version_major": 2,
       "version_minor": 0
      },
      "text/plain": [
       "VBox(children=(HBox(children=(IntProgress(value=0, description='0.00%', max=420), Label(value='0 / 420'))), HB…"
      ]
     },
     "metadata": {},
     "output_type": "display_data"
    },
    {
     "data": {
      "image/png": "[encoded data removed]",
      "text/plain": [
       "<Figure size 400x300 with 1 Axes>"
      ]
     },
     "metadata": {},
     "output_type": "display_data"
    }
   ],
   "source": [
    "pandarallel.initialize(nb_workers=8, progress_bar=True)\n",
    "max_train_tanimotos = fps['test'].parallel_apply(lambda f: max_train_tanimoto(f, pd.concat([fps['train'], fps['val']])))\n",
    "utils.init_plotting(figsize=(4, 3))\n",
    "sns.histplot(max_train_tanimotos)\n",
    "plt.xlabel('Max Tanimoto from train+val set for test example')\n",
    "plt.show()"
   ]
  },
  {
   "cell_type": "code",
   "execution_count": 29,
   "metadata": {},
   "outputs": [
    {
     "name": "stdout",
     "output_type": "stream",
     "text": [
      "INFO: Pandarallel will run on 8 workers.\n",
      "INFO: Pandarallel will use standard multiprocessing data transfer (pipe) to transfer data between the main process and workers.\n"
     ]
    },
    {
     "data": {
      "application/vnd.jupyter.widget-view+json": {
       "model_id": "f1790e8787bd4756b8cd33f7f4ccb4ca",
       "version_major": 2,
       "version_minor": 0
      },
      "text/plain": [
       "VBox(children=(HBox(children=(IntProgress(value=0, description='0.00%', max=417), Label(value='0 / 417'))), HB…"
      ]
     },
     "metadata": {},
     "output_type": "display_data"
    },
    {
     "data": {
      "image/png": "[encoded data removed]",
      "text/plain": [
       "<Figure size 400x300 with 1 Axes>"
      ]
     },
     "metadata": {},
     "output_type": "display_data"
    }
   ],
   "source": [
    "pandarallel.initialize(nb_workers=8, progress_bar=True)\n",
    "max_train_tanimotos = fps['val'].parallel_apply(lambda f: max_train_tanimoto(f, fps['train']))\n",
    "utils.init_plotting(figsize=(4, 3))\n",
    "sns.histplot(max_train_tanimotos)\n",
    "plt.xlabel('Max Tanimoto from train set for validation example')\n",
    "plt.show()"
   ]
  },
  {
   "cell_type": "code",
   "execution_count": 30,
   "metadata": {},
   "outputs": [
    {
     "data": {
      "text/html": [
       "<div>\n",
       "<style scoped>\n",
       "    .dataframe tbody tr th:only-of-type {\n",
       "        vertical-align: middle;\n",
       "    }\n",
       "\n",
       "    .dataframe tbody tr th {\n",
       "        vertical-align: top;\n",
       "    }\n",
       "\n",
       "    .dataframe thead th {\n",
       "        text-align: right;\n",
       "    }\n",
       "</style>\n",
       "<table border=\"1\" class=\"dataframe\">\n",
       "  <thead>\n",
       "    <tr style=\"text-align: right;\">\n",
       "      <th></th>\n",
       "      <th>mzs</th>\n",
       "      <th>intensities</th>\n",
       "      <th>inchi</th>\n",
       "      <th>inchikey</th>\n",
       "      <th>precursor_mz</th>\n",
       "      <th>adduct</th>\n",
       "      <th>parent_mass</th>\n",
       "      <th>formula</th>\n",
       "      <th>precursor_formula</th>\n",
       "      <th>instrument_type</th>\n",
       "      <th>collision_energy</th>\n",
       "      <th>identifier</th>\n",
       "      <th>smiles</th>\n",
       "      <th>cluster</th>\n",
       "      <th>stratification_group</th>\n",
       "      <th>fold</th>\n",
       "    </tr>\n",
       "  </thead>\n",
       "  <tbody>\n",
       "    <tr>\n",
       "      <th>0</th>\n",
       "      <td>91.0542,125.0233,154.0499,155.0577,185.0961,20...</td>\n",
       "      <td>0.24524524524524524,1.0,0.08008008008008008,0....</td>\n",
       "      <td>InChI=1S/C16H17NO4/c1-11(18)17-14(8-12-6-4-3-5...</td>\n",
       "      <td>VFMQMACUYWGDOJ</td>\n",
       "      <td>288.1225</td>\n",
       "      <td>[M+H]+</td>\n",
       "      <td>287.115224</td>\n",
       "      <td>C16H17NO4</td>\n",
       "      <td>C16H18NO4</td>\n",
       "      <td>ITFT</td>\n",
       "      <td>30.0 (normalized=False, ramped=False)</td>\n",
       "      <td>MassSpecGymID0000001</td>\n",
       "      <td>CC(=O)N[C@@H](CC1=CC=CC=C1)C2=CC(=CC(=O)O2)OC</td>\n",
       "      <td>19</td>\n",
       "      <td>[M+H]+ITFT30.0 (normalized=False, ramped=False...</td>\n",
       "      <td>train</td>\n",
       "    </tr>\n",
       "    <tr>\n",
       "      <th>1</th>\n",
       "      <td>91.0542,125.0233,155.0577,185.0961,229.0859,24...</td>\n",
       "      <td>0.0990990990990991,0.28128128128128127,0.04004...</td>\n",
       "      <td>InChI=1S/C16H17NO4/c1-11(18)17-14(8-12-6-4-3-5...</td>\n",
       "      <td>VFMQMACUYWGDOJ</td>\n",
       "      <td>288.1225</td>\n",
       "      <td>[M+H]+</td>\n",
       "      <td>287.115224</td>\n",
       "      <td>C16H17NO4</td>\n",
       "      <td>C16H18NO4</td>\n",
       "      <td>ITFT</td>\n",
       "      <td>20.0 (normalized=False, ramped=False)</td>\n",
       "      <td>MassSpecGymID0000002</td>\n",
       "      <td>CC(=O)N[C@@H](CC1=CC=CC=C1)C2=CC(=CC(=O)O2)OC</td>\n",
       "      <td>19</td>\n",
       "      <td>[M+H]+ITFT20.0 (normalized=False, ramped=False...</td>\n",
       "      <td>train</td>\n",
       "    </tr>\n",
       "    <tr>\n",
       "      <th>2</th>\n",
       "      <td>69.0343,91.0542,125.0233,127.039,153.0699,154....</td>\n",
       "      <td>0.03403403403403404,0.31431431431431434,1.0,0....</td>\n",
       "      <td>InChI=1S/C16H17NO4/c1-11(18)17-14(8-12-6-4-3-5...</td>\n",
       "      <td>VFMQMACUYWGDOJ</td>\n",
       "      <td>288.1225</td>\n",
       "      <td>[M+H]+</td>\n",
       "      <td>287.115224</td>\n",
       "      <td>C16H17NO4</td>\n",
       "      <td>C16H18NO4</td>\n",
       "      <td>ITFT</td>\n",
       "      <td>40.0 (normalized=False, ramped=False)</td>\n",
       "      <td>MassSpecGymID0000003</td>\n",
       "      <td>CC(=O)N[C@@H](CC1=CC=CC=C1)C2=CC(=CC(=O)O2)OC</td>\n",
       "      <td>19</td>\n",
       "      <td>[M+H]+ITFTother(5, 100]</td>\n",
       "      <td>train</td>\n",
       "    </tr>\n",
       "    <tr>\n",
       "      <th>3</th>\n",
       "      <td>69.0343,91.0542,110.06,111.0441,112.0393,120.0...</td>\n",
       "      <td>0.17917917917917917,0.47347347347347346,0.0380...</td>\n",
       "      <td>InChI=1S/C16H17NO4/c1-11(18)17-14(8-12-6-4-3-5...</td>\n",
       "      <td>VFMQMACUYWGDOJ</td>\n",
       "      <td>288.1225</td>\n",
       "      <td>[M+H]+</td>\n",
       "      <td>287.115224</td>\n",
       "      <td>C16H17NO4</td>\n",
       "      <td>C16H18NO4</td>\n",
       "      <td>ITFT</td>\n",
       "      <td>55.0 (normalized=False, ramped=False)</td>\n",
       "      <td>MassSpecGymID0000004</td>\n",
       "      <td>CC(=O)N[C@@H](CC1=CC=CC=C1)C2=CC(=CC(=O)O2)OC</td>\n",
       "      <td>19</td>\n",
       "      <td>[M+H]+ITFTother(5, 100]</td>\n",
       "      <td>train</td>\n",
       "    </tr>\n",
       "    <tr>\n",
       "      <th>4</th>\n",
       "      <td>91.0542,125.0233,185.0961,229.0859,246.1125,28...</td>\n",
       "      <td>0.07807807807807808,0.1841841841841842,0.03503...</td>\n",
       "      <td>InChI=1S/C16H17NO4/c1-11(18)17-14(8-12-6-4-3-5...</td>\n",
       "      <td>VFMQMACUYWGDOJ</td>\n",
       "      <td>288.1225</td>\n",
       "      <td>[M+H]+</td>\n",
       "      <td>287.115224</td>\n",
       "      <td>C16H17NO4</td>\n",
       "      <td>C16H18NO4</td>\n",
       "      <td>ITFT</td>\n",
       "      <td>10.0 (normalized=False, ramped=False)</td>\n",
       "      <td>MassSpecGymID0000005</td>\n",
       "      <td>CC(=O)N[C@@H](CC1=CC=CC=C1)C2=CC(=CC(=O)O2)OC</td>\n",
       "      <td>19</td>\n",
       "      <td>[M+H]+ITFT10.0 (normalized=False, ramped=False...</td>\n",
       "      <td>train</td>\n",
       "    </tr>\n",
       "    <tr>\n",
       "      <th>...</th>\n",
       "      <td>...</td>\n",
       "      <td>...</td>\n",
       "      <td>...</td>\n",
       "      <td>...</td>\n",
       "      <td>...</td>\n",
       "      <td>...</td>\n",
       "      <td>...</td>\n",
       "      <td>...</td>\n",
       "      <td>...</td>\n",
       "      <td>...</td>\n",
       "      <td>...</td>\n",
       "      <td>...</td>\n",
       "      <td>...</td>\n",
       "      <td>...</td>\n",
       "      <td>...</td>\n",
       "      <td>...</td>\n",
       "    </tr>\n",
       "    <tr>\n",
       "      <th>233441</th>\n",
       "      <td>77.5606,85.238739,152.079361,156.231537,189.96...</td>\n",
       "      <td>0.00022242662384734551,0.0007871876908597226,0...</td>\n",
       "      <td>InChI=1S/C56H98N16O13/c1-7-32(4)13-11-12-16-44...</td>\n",
       "      <td>WQVJHHACXVLGBL</td>\n",
       "      <td>1225.7400</td>\n",
       "      <td>[M+Na]+</td>\n",
       "      <td>1202.750782</td>\n",
       "      <td>C56H98N16O13</td>\n",
       "      <td>C56H98N16NaO13</td>\n",
       "      <td>QTOF</td>\n",
       "      <td>NaN</td>\n",
       "      <td>MassSpecGymID0414170</td>\n",
       "      <td>CCC(C)CCCCC(=O)N[C@@H](CCN)C(=O)N[C@@H]([C@@H]...</td>\n",
       "      <td>2402</td>\n",
       "      <td>[M+Na]+QTOFnone(0, 3)</td>\n",
       "      <td>test</td>\n",
       "    </tr>\n",
       "    <tr>\n",
       "      <th>233442</th>\n",
       "      <td>72.043739,86.060242,98.058304,99.0634,126.0537...</td>\n",
       "      <td>0.0019527744563354998,0.0016939927337585416,0....</td>\n",
       "      <td>InChI=1S/C22H23ClN2O8/c1-21(32)7-6-8-15(25(2)3...</td>\n",
       "      <td>DHPRQBPJLMKORJ</td>\n",
       "      <td>479.1230</td>\n",
       "      <td>[M+H]+</td>\n",
       "      <td>478.115724</td>\n",
       "      <td>C22H23ClN2O8</td>\n",
       "      <td>C22H24ClN2O8</td>\n",
       "      <td>QTOF</td>\n",
       "      <td>NaN</td>\n",
       "      <td>MassSpecGymID0414171</td>\n",
       "      <td>C[C@@]1([C@H]2C[C@H]3[C@@H](C(=O)C(=C([C@]3(C(...</td>\n",
       "      <td>334</td>\n",
       "      <td>[M+H]+QTOFnone(0, 3)</td>\n",
       "      <td>test</td>\n",
       "    </tr>\n",
       "    <tr>\n",
       "      <th>233443</th>\n",
       "      <td>72.080132,102.233917,113.082344,113.121498,114...</td>\n",
       "      <td>0.021173783463613503,0.007516001055215398,0.03...</td>\n",
       "      <td>InChI=1S/C21H43N5O7/c1-9(25-3)13-6-5-10(22)19(...</td>\n",
       "      <td>CEAZRRDELHUEMR</td>\n",
       "      <td>478.3250</td>\n",
       "      <td>[M+H]+</td>\n",
       "      <td>477.317724</td>\n",
       "      <td>C21H43N5O7</td>\n",
       "      <td>C21H44N5O7</td>\n",
       "      <td>QTOF</td>\n",
       "      <td>NaN</td>\n",
       "      <td>MassSpecGymID0414172</td>\n",
       "      <td>C[C@H]([C@@H]1CC[C@H]([C@H](O1)O[C@@H]2[C@H](C...</td>\n",
       "      <td>148</td>\n",
       "      <td>[M+H]+QTOFnone(3, 5]</td>\n",
       "      <td>test</td>\n",
       "    </tr>\n",
       "    <tr>\n",
       "      <th>233444</th>\n",
       "      <td>55.053627,56.455425,58.065819,67.053543,82.065...</td>\n",
       "      <td>0.031731527156456024,0.017878400151027027,0.07...</td>\n",
       "      <td>InChI=1S/C21H43N5O7/c1-9(25-3)13-6-5-10(22)19(...</td>\n",
       "      <td>CEAZRRDELHUEMR</td>\n",
       "      <td>478.3250</td>\n",
       "      <td>[M+H]+</td>\n",
       "      <td>477.317724</td>\n",
       "      <td>C21H43N5O7</td>\n",
       "      <td>C21H44N5O7</td>\n",
       "      <td>QTOF</td>\n",
       "      <td>NaN</td>\n",
       "      <td>MassSpecGymID0414173</td>\n",
       "      <td>C[C@H]([C@@H]1CC[C@H]([C@H](O1)O[C@@H]2[C@H](C...</td>\n",
       "      <td>148</td>\n",
       "      <td>[M+H]+QTOFnone(3, 5]</td>\n",
       "      <td>test</td>\n",
       "    </tr>\n",
       "    <tr>\n",
       "      <th>233445</th>\n",
       "      <td>55.055058,56.049213,57.05315,58.064835,58.0875...</td>\n",
       "      <td>0.1514287137530871,0.09596071713375486,0.06401...</td>\n",
       "      <td>InChI=1S/C21H43N5O7/c1-9(25-3)13-6-5-10(22)19(...</td>\n",
       "      <td>CEAZRRDELHUEMR</td>\n",
       "      <td>478.3250</td>\n",
       "      <td>[M+H]+</td>\n",
       "      <td>477.317724</td>\n",
       "      <td>C21H43N5O7</td>\n",
       "      <td>C21H44N5O7</td>\n",
       "      <td>QTOF</td>\n",
       "      <td>NaN</td>\n",
       "      <td>MassSpecGymID0414174</td>\n",
       "      <td>C[C@H]([C@@H]1CC[C@H]([C@H](O1)O[C@@H]2[C@H](C...</td>\n",
       "      <td>148</td>\n",
       "      <td>[M+H]+QTOFnone(3, 5]</td>\n",
       "      <td>test</td>\n",
       "    </tr>\n",
       "  </tbody>\n",
       "</table>\n",
       "<p>233446 rows × 16 columns</p>\n",
       "</div>"
      ],
      "text/plain": [
       "                                                      mzs  \\\n",
       "0       91.0542,125.0233,154.0499,155.0577,185.0961,20...   \n",
       "1       91.0542,125.0233,155.0577,185.0961,229.0859,24...   \n",
       "2       69.0343,91.0542,125.0233,127.039,153.0699,154....   \n",
       "3       69.0343,91.0542,110.06,111.0441,112.0393,120.0...   \n",
       "4       91.0542,125.0233,185.0961,229.0859,246.1125,28...   \n",
       "...                                                   ...   \n",
       "233441  77.5606,85.238739,152.079361,156.231537,189.96...   \n",
       "233442  72.043739,86.060242,98.058304,99.0634,126.0537...   \n",
       "233443  72.080132,102.233917,113.082344,113.121498,114...   \n",
       "233444  55.053627,56.455425,58.065819,67.053543,82.065...   \n",
       "233445  55.055058,56.049213,57.05315,58.064835,58.0875...   \n",
       "\n",
       "                                              intensities  \\\n",
       "0       0.24524524524524524,1.0,0.08008008008008008,0....   \n",
       "1       0.0990990990990991,0.28128128128128127,0.04004...   \n",
       "2       0.03403403403403404,0.31431431431431434,1.0,0....   \n",
       "3       0.17917917917917917,0.47347347347347346,0.0380...   \n",
       "4       0.07807807807807808,0.1841841841841842,0.03503...   \n",
       "...                                                   ...   \n",
       "233441  0.00022242662384734551,0.0007871876908597226,0...   \n",
       "233442  0.0019527744563354998,0.0016939927337585416,0....   \n",
       "233443  0.021173783463613503,0.007516001055215398,0.03...   \n",
       "233444  0.031731527156456024,0.017878400151027027,0.07...   \n",
       "233445  0.1514287137530871,0.09596071713375486,0.06401...   \n",
       "\n",
       "                                                    inchi        inchikey  \\\n",
       "0       InChI=1S/C16H17NO4/c1-11(18)17-14(8-12-6-4-3-5...  VFMQMACUYWGDOJ   \n",
       "1       InChI=1S/C16H17NO4/c1-11(18)17-14(8-12-6-4-3-5...  VFMQMACUYWGDOJ   \n",
       "2       InChI=1S/C16H17NO4/c1-11(18)17-14(8-12-6-4-3-5...  VFMQMACUYWGDOJ   \n",
       "3       InChI=1S/C16H17NO4/c1-11(18)17-14(8-12-6-4-3-5...  VFMQMACUYWGDOJ   \n",
       "4       InChI=1S/C16H17NO4/c1-11(18)17-14(8-12-6-4-3-5...  VFMQMACUYWGDOJ   \n",
       "...                                                   ...             ...   \n",
       "233441  InChI=1S/C56H98N16O13/c1-7-32(4)13-11-12-16-44...  WQVJHHACXVLGBL   \n",
       "233442  InChI=1S/C22H23ClN2O8/c1-21(32)7-6-8-15(25(2)3...  DHPRQBPJLMKORJ   \n",
       "233443  InChI=1S/C21H43N5O7/c1-9(25-3)13-6-5-10(22)19(...  CEAZRRDELHUEMR   \n",
       "233444  InChI=1S/C21H43N5O7/c1-9(25-3)13-6-5-10(22)19(...  CEAZRRDELHUEMR   \n",
       "233445  InChI=1S/C21H43N5O7/c1-9(25-3)13-6-5-10(22)19(...  CEAZRRDELHUEMR   \n",
       "\n",
       "        precursor_mz   adduct  parent_mass       formula precursor_formula  \\\n",
       "0           288.1225   [M+H]+   287.115224     C16H17NO4         C16H18NO4   \n",
       "1           288.1225   [M+H]+   287.115224     C16H17NO4         C16H18NO4   \n",
       "2           288.1225   [M+H]+   287.115224     C16H17NO4         C16H18NO4   \n",
       "3           288.1225   [M+H]+   287.115224     C16H17NO4         C16H18NO4   \n",
       "4           288.1225   [M+H]+   287.115224     C16H17NO4         C16H18NO4   \n",
       "...              ...      ...          ...           ...               ...   \n",
       "233441     1225.7400  [M+Na]+  1202.750782  C56H98N16O13    C56H98N16NaO13   \n",
       "233442      479.1230   [M+H]+   478.115724  C22H23ClN2O8      C22H24ClN2O8   \n",
       "233443      478.3250   [M+H]+   477.317724    C21H43N5O7        C21H44N5O7   \n",
       "233444      478.3250   [M+H]+   477.317724    C21H43N5O7        C21H44N5O7   \n",
       "233445      478.3250   [M+H]+   477.317724    C21H43N5O7        C21H44N5O7   \n",
       "\n",
       "       instrument_type                       collision_energy  \\\n",
       "0                 ITFT  30.0 (normalized=False, ramped=False)   \n",
       "1                 ITFT  20.0 (normalized=False, ramped=False)   \n",
       "2                 ITFT  40.0 (normalized=False, ramped=False)   \n",
       "3                 ITFT  55.0 (normalized=False, ramped=False)   \n",
       "4                 ITFT  10.0 (normalized=False, ramped=False)   \n",
       "...                ...                                    ...   \n",
       "233441            QTOF                                    NaN   \n",
       "233442            QTOF                                    NaN   \n",
       "233443            QTOF                                    NaN   \n",
       "233444            QTOF                                    NaN   \n",
       "233445            QTOF                                    NaN   \n",
       "\n",
       "                  identifier  \\\n",
       "0       MassSpecGymID0000001   \n",
       "1       MassSpecGymID0000002   \n",
       "2       MassSpecGymID0000003   \n",
       "3       MassSpecGymID0000004   \n",
       "4       MassSpecGymID0000005   \n",
       "...                      ...   \n",
       "233441  MassSpecGymID0414170   \n",
       "233442  MassSpecGymID0414171   \n",
       "233443  MassSpecGymID0414172   \n",
       "233444  MassSpecGymID0414173   \n",
       "233445  MassSpecGymID0414174   \n",
       "\n",
       "                                                   smiles  cluster  \\\n",
       "0           CC(=O)N[C@@H](CC1=CC=CC=C1)C2=CC(=CC(=O)O2)OC       19   \n",
       "1           CC(=O)N[C@@H](CC1=CC=CC=C1)C2=CC(=CC(=O)O2)OC       19   \n",
       "2           CC(=O)N[C@@H](CC1=CC=CC=C1)C2=CC(=CC(=O)O2)OC       19   \n",
       "3           CC(=O)N[C@@H](CC1=CC=CC=C1)C2=CC(=CC(=O)O2)OC       19   \n",
       "4           CC(=O)N[C@@H](CC1=CC=CC=C1)C2=CC(=CC(=O)O2)OC       19   \n",
       "...                                                   ...      ...   \n",
       "233441  CCC(C)CCCCC(=O)N[C@@H](CCN)C(=O)N[C@@H]([C@@H]...     2402   \n",
       "233442  C[C@@]1([C@H]2C[C@H]3[C@@H](C(=O)C(=C([C@]3(C(...      334   \n",
       "233443  C[C@H]([C@@H]1CC[C@H]([C@H](O1)O[C@@H]2[C@H](C...      148   \n",
       "233444  C[C@H]([C@@H]1CC[C@H]([C@H](O1)O[C@@H]2[C@H](C...      148   \n",
       "233445  C[C@H]([C@@H]1CC[C@H]([C@H](O1)O[C@@H]2[C@H](C...      148   \n",
       "\n",
       "                                     stratification_group   fold  \n",
       "0       [M+H]+ITFT30.0 (normalized=False, ramped=False...  train  \n",
       "1       [M+H]+ITFT20.0 (normalized=False, ramped=False...  train  \n",
       "2                                 [M+H]+ITFTother(5, 100]  train  \n",
       "3                                 [M+H]+ITFTother(5, 100]  train  \n",
       "4       [M+H]+ITFT10.0 (normalized=False, ramped=False...  train  \n",
       "...                                                   ...    ...  \n",
       "233441                              [M+Na]+QTOFnone(0, 3)   test  \n",
       "233442                               [M+H]+QTOFnone(0, 3)   test  \n",
       "233443                               [M+H]+QTOFnone(3, 5]   test  \n",
       "233444                               [M+H]+QTOFnone(3, 5]   test  \n",
       "233445                               [M+H]+QTOFnone(3, 5]   test  \n",
       "\n",
       "[233446 rows x 16 columns]"
      ]
     },
     "execution_count": 30,
     "metadata": {},
     "output_type": "execute_result"
    }
   ],
   "source": [
    "df"
   ]
  },
  {
   "cell_type": "code",
   "execution_count": 32,
   "metadata": {},
   "outputs": [],
   "source": [
    "df = df_split.drop(columns=['cluster', 'stratification_group'])\n",
    "df['simulation_challenge'] = (~df.isna().sum(axis=1)) & (df['adduct'] == '[M+H]+')\n",
    "df.to_csv('../../data/data/MassSpecGym.tsv', sep='\\t', index=False)"
   ]
  },
  {
   "cell_type": "markdown",
   "metadata": {},
   "source": [
    "### Convert final dataset to `.mgf`"
   ]
  },
  {
   "cell_type": "code",
   "execution_count": 37,
   "metadata": {},
   "outputs": [
    {
     "name": "stderr",
     "output_type": "stream",
     "text": [
      " 33%|███▎      | 76013/233446 [00:09<00:19, 8236.55it/s]"
     ]
    }
   ],
   "source": [
    "spectra = []\n",
    "for i, row in tqdm(df.iterrows(), total=len(df)):\n",
    "    spec = Spectrum(\n",
    "        mz=np.array(list(map(float, row['mzs'].split(',')))),\n",
    "        intensities=np.array(list(map(float, row['intensities'].split(',')))),\n",
    "        metadata={k: v for k, v in row.items() if k not in ['mzs', 'intensities']}\n",
    "    )\n",
    "    spectra.append(spec)\n",
    "save_as_mgf(spectra, '../../data/data/auxiliary/MassSpecGym.mgf')"
   ]
  }
 ],
 "metadata": {
  "kernelspec": {
   "display_name": "massspecgym",
   "language": "python",
   "name": "python3"
  },
  "language_info": {
   "codemirror_mode": {
    "name": "ipython",
    "version": 3
   },
   "file_extension": ".py",
   "mimetype": "text/x-python",
   "name": "python",
   "nbconvert_exporter": "python",
   "pygments_lexer": "ipython3",
   "version": "3.11.9"
  }
 },
 "nbformat": 4,
 "nbformat_minor": 2
}
