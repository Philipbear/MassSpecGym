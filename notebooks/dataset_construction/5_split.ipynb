{
 "cells": [
  {
   "cell_type": "code",
   "execution_count": 3,
   "metadata": {},
   "outputs": [],
   "source": [
    "import pandas as pd\n",
    "import h5py\n",
    "import numpy as np\n",
    "import seaborn as sns\n",
    "import matplotlib.pyplot as plt\n",
    "from tqdm import tqdm\n",
    "tqdm.pandas()\n",
    "from sklearn.model_selection import StratifiedGroupKFold\n",
    "from pandarallel import pandarallel\n",
    "from sklearn.cluster import AgglomerativeClustering\n",
    "from scipy.spatial.distance import squareform\n",
    "from rdkit import Chem\n",
    "from rdkit.Chem import Draw\n",
    "from rdkit.Chem import DataStructs\n",
    "from matchms import Spectrum\n",
    "from matchms.exporting import save_as_mgf\n",
    "import massspecgym.utils as utils"
   ]
  },
  {
   "cell_type": "code",
   "execution_count": 23,
   "metadata": {},
   "outputs": [
    {
     "data": {
      "text/html": [
       "<div>\n",
       "<style scoped>\n",
       "    .dataframe tbody tr th:only-of-type {\n",
       "        vertical-align: middle;\n",
       "    }\n",
       "\n",
       "    .dataframe tbody tr th {\n",
       "        vertical-align: top;\n",
       "    }\n",
       "\n",
       "    .dataframe thead th {\n",
       "        text-align: right;\n",
       "    }\n",
       "</style>\n",
       "<table border=\"1\" class=\"dataframe\">\n",
       "  <thead>\n",
       "    <tr style=\"text-align: right;\">\n",
       "      <th></th>\n",
       "      <th>mzs</th>\n",
       "      <th>intensities</th>\n",
       "      <th>inchi</th>\n",
       "      <th>inchikey</th>\n",
       "      <th>precursor_mz</th>\n",
       "      <th>adduct</th>\n",
       "      <th>parent_mass</th>\n",
       "      <th>formula</th>\n",
       "      <th>precursor_formula</th>\n",
       "      <th>instrument_type</th>\n",
       "      <th>collision_energy</th>\n",
       "      <th>identifier</th>\n",
       "      <th>smiles</th>\n",
       "      <th>fold</th>\n",
       "      <th>simulation_challenge</th>\n",
       "    </tr>\n",
       "  </thead>\n",
       "  <tbody>\n",
       "    <tr>\n",
       "      <th>0</th>\n",
       "      <td>91.0542,125.0233,154.0499,155.0577,185.0961,20...</td>\n",
       "      <td>0.24524524524524524,1.0,0.08008008008008008,0....</td>\n",
       "      <td>InChI=1S/C16H17NO4/c1-11(18)17-14(8-12-6-4-3-5...</td>\n",
       "      <td>VFMQMACUYWGDOJ</td>\n",
       "      <td>288.1225</td>\n",
       "      <td>[M+H]+</td>\n",
       "      <td>287.115224</td>\n",
       "      <td>C16H17NO4</td>\n",
       "      <td>C16H18NO4</td>\n",
       "      <td>ITFT</td>\n",
       "      <td>30.0</td>\n",
       "      <td>MassSpecGymID0000001</td>\n",
       "      <td>CC(=O)N[C@@H](CC1=CC=CC=C1)C2=CC(=CC(=O)O2)OC</td>\n",
       "      <td>train</td>\n",
       "      <td>True</td>\n",
       "    </tr>\n",
       "    <tr>\n",
       "      <th>1</th>\n",
       "      <td>91.0542,125.0233,155.0577,185.0961,229.0859,24...</td>\n",
       "      <td>0.0990990990990991,0.28128128128128127,0.04004...</td>\n",
       "      <td>InChI=1S/C16H17NO4/c1-11(18)17-14(8-12-6-4-3-5...</td>\n",
       "      <td>VFMQMACUYWGDOJ</td>\n",
       "      <td>288.1225</td>\n",
       "      <td>[M+H]+</td>\n",
       "      <td>287.115224</td>\n",
       "      <td>C16H17NO4</td>\n",
       "      <td>C16H18NO4</td>\n",
       "      <td>ITFT</td>\n",
       "      <td>20.0</td>\n",
       "      <td>MassSpecGymID0000002</td>\n",
       "      <td>CC(=O)N[C@@H](CC1=CC=CC=C1)C2=CC(=CC(=O)O2)OC</td>\n",
       "      <td>train</td>\n",
       "      <td>True</td>\n",
       "    </tr>\n",
       "    <tr>\n",
       "      <th>2</th>\n",
       "      <td>69.0343,91.0542,125.0233,127.039,153.0699,154....</td>\n",
       "      <td>0.03403403403403404,0.31431431431431434,1.0,0....</td>\n",
       "      <td>InChI=1S/C16H17NO4/c1-11(18)17-14(8-12-6-4-3-5...</td>\n",
       "      <td>VFMQMACUYWGDOJ</td>\n",
       "      <td>288.1225</td>\n",
       "      <td>[M+H]+</td>\n",
       "      <td>287.115224</td>\n",
       "      <td>C16H17NO4</td>\n",
       "      <td>C16H18NO4</td>\n",
       "      <td>ITFT</td>\n",
       "      <td>40.0</td>\n",
       "      <td>MassSpecGymID0000003</td>\n",
       "      <td>CC(=O)N[C@@H](CC1=CC=CC=C1)C2=CC(=CC(=O)O2)OC</td>\n",
       "      <td>train</td>\n",
       "      <td>True</td>\n",
       "    </tr>\n",
       "    <tr>\n",
       "      <th>3</th>\n",
       "      <td>69.0343,91.0542,110.06,111.0441,112.0393,120.0...</td>\n",
       "      <td>0.17917917917917917,0.47347347347347346,0.0380...</td>\n",
       "      <td>InChI=1S/C16H17NO4/c1-11(18)17-14(8-12-6-4-3-5...</td>\n",
       "      <td>VFMQMACUYWGDOJ</td>\n",
       "      <td>288.1225</td>\n",
       "      <td>[M+H]+</td>\n",
       "      <td>287.115224</td>\n",
       "      <td>C16H17NO4</td>\n",
       "      <td>C16H18NO4</td>\n",
       "      <td>ITFT</td>\n",
       "      <td>55.0</td>\n",
       "      <td>MassSpecGymID0000004</td>\n",
       "      <td>CC(=O)N[C@@H](CC1=CC=CC=C1)C2=CC(=CC(=O)O2)OC</td>\n",
       "      <td>train</td>\n",
       "      <td>True</td>\n",
       "    </tr>\n",
       "    <tr>\n",
       "      <th>4</th>\n",
       "      <td>91.0542,125.0233,185.0961,229.0859,246.1125,28...</td>\n",
       "      <td>0.07807807807807808,0.1841841841841842,0.03503...</td>\n",
       "      <td>InChI=1S/C16H17NO4/c1-11(18)17-14(8-12-6-4-3-5...</td>\n",
       "      <td>VFMQMACUYWGDOJ</td>\n",
       "      <td>288.1225</td>\n",
       "      <td>[M+H]+</td>\n",
       "      <td>287.115224</td>\n",
       "      <td>C16H17NO4</td>\n",
       "      <td>C16H18NO4</td>\n",
       "      <td>ITFT</td>\n",
       "      <td>10.0</td>\n",
       "      <td>MassSpecGymID0000005</td>\n",
       "      <td>CC(=O)N[C@@H](CC1=CC=CC=C1)C2=CC(=CC(=O)O2)OC</td>\n",
       "      <td>train</td>\n",
       "      <td>True</td>\n",
       "    </tr>\n",
       "    <tr>\n",
       "      <th>...</th>\n",
       "      <td>...</td>\n",
       "      <td>...</td>\n",
       "      <td>...</td>\n",
       "      <td>...</td>\n",
       "      <td>...</td>\n",
       "      <td>...</td>\n",
       "      <td>...</td>\n",
       "      <td>...</td>\n",
       "      <td>...</td>\n",
       "      <td>...</td>\n",
       "      <td>...</td>\n",
       "      <td>...</td>\n",
       "      <td>...</td>\n",
       "      <td>...</td>\n",
       "      <td>...</td>\n",
       "    </tr>\n",
       "    <tr>\n",
       "      <th>231099</th>\n",
       "      <td>55.054474,58.029369,58.065601,59.049339,69.032...</td>\n",
       "      <td>0.0004935684823754727,0.00012405427491363124,0...</td>\n",
       "      <td>InChI=1S/C46H77NO17/c1-13-33-30(22-58-45-42(57...</td>\n",
       "      <td>WBPYTXDJUQJLPQ</td>\n",
       "      <td>916.5290</td>\n",
       "      <td>[M+H]+</td>\n",
       "      <td>915.521724</td>\n",
       "      <td>C46H77NO17</td>\n",
       "      <td>C46H78NO17</td>\n",
       "      <td>QTOF</td>\n",
       "      <td>NaN</td>\n",
       "      <td>MassSpecGymID0414168</td>\n",
       "      <td>CC[C@@H]1[C@H](/C=C(/C=C\\C(=O)[C@@H](C[C@@H]([...</td>\n",
       "      <td>val</td>\n",
       "      <td>False</td>\n",
       "    </tr>\n",
       "    <tr>\n",
       "      <th>231100</th>\n",
       "      <td>72.043739,86.060242,98.058304,99.0634,126.0537...</td>\n",
       "      <td>0.0019527744563354998,0.0016939927337585416,0....</td>\n",
       "      <td>InChI=1S/C22H23ClN2O8/c1-21(32)7-6-8-15(25(2)3...</td>\n",
       "      <td>DHPRQBPJLMKORJ</td>\n",
       "      <td>479.1230</td>\n",
       "      <td>[M+H]+</td>\n",
       "      <td>478.115724</td>\n",
       "      <td>C22H23ClN2O8</td>\n",
       "      <td>C22H24ClN2O8</td>\n",
       "      <td>QTOF</td>\n",
       "      <td>NaN</td>\n",
       "      <td>MassSpecGymID0414171</td>\n",
       "      <td>C[C@@]1([C@H]2C[C@H]3[C@@H](C(=O)C(=C([C@]3(C(...</td>\n",
       "      <td>test</td>\n",
       "      <td>False</td>\n",
       "    </tr>\n",
       "    <tr>\n",
       "      <th>231101</th>\n",
       "      <td>72.080132,102.233917,113.082344,113.121498,114...</td>\n",
       "      <td>0.021173783463613503,0.007516001055215398,0.03...</td>\n",
       "      <td>InChI=1S/C21H43N5O7/c1-9(25-3)13-6-5-10(22)19(...</td>\n",
       "      <td>CEAZRRDELHUEMR</td>\n",
       "      <td>478.3250</td>\n",
       "      <td>[M+H]+</td>\n",
       "      <td>477.317724</td>\n",
       "      <td>C21H43N5O7</td>\n",
       "      <td>C21H44N5O7</td>\n",
       "      <td>QTOF</td>\n",
       "      <td>NaN</td>\n",
       "      <td>MassSpecGymID0414172</td>\n",
       "      <td>C[C@H]([C@@H]1CC[C@H]([C@H](O1)O[C@@H]2[C@H](C...</td>\n",
       "      <td>val</td>\n",
       "      <td>False</td>\n",
       "    </tr>\n",
       "    <tr>\n",
       "      <th>231102</th>\n",
       "      <td>55.053627,56.455425,58.065819,67.053543,82.065...</td>\n",
       "      <td>0.031731527156456024,0.017878400151027027,0.07...</td>\n",
       "      <td>InChI=1S/C21H43N5O7/c1-9(25-3)13-6-5-10(22)19(...</td>\n",
       "      <td>CEAZRRDELHUEMR</td>\n",
       "      <td>478.3250</td>\n",
       "      <td>[M+H]+</td>\n",
       "      <td>477.317724</td>\n",
       "      <td>C21H43N5O7</td>\n",
       "      <td>C21H44N5O7</td>\n",
       "      <td>QTOF</td>\n",
       "      <td>NaN</td>\n",
       "      <td>MassSpecGymID0414173</td>\n",
       "      <td>C[C@H]([C@@H]1CC[C@H]([C@H](O1)O[C@@H]2[C@H](C...</td>\n",
       "      <td>val</td>\n",
       "      <td>False</td>\n",
       "    </tr>\n",
       "    <tr>\n",
       "      <th>231103</th>\n",
       "      <td>55.055058,56.049213,57.05315,58.064835,58.0875...</td>\n",
       "      <td>0.1514287137530871,0.09596071713375486,0.06401...</td>\n",
       "      <td>InChI=1S/C21H43N5O7/c1-9(25-3)13-6-5-10(22)19(...</td>\n",
       "      <td>CEAZRRDELHUEMR</td>\n",
       "      <td>478.3250</td>\n",
       "      <td>[M+H]+</td>\n",
       "      <td>477.317724</td>\n",
       "      <td>C21H43N5O7</td>\n",
       "      <td>C21H44N5O7</td>\n",
       "      <td>QTOF</td>\n",
       "      <td>NaN</td>\n",
       "      <td>MassSpecGymID0414174</td>\n",
       "      <td>C[C@H]([C@@H]1CC[C@H]([C@H](O1)O[C@@H]2[C@H](C...</td>\n",
       "      <td>val</td>\n",
       "      <td>False</td>\n",
       "    </tr>\n",
       "  </tbody>\n",
       "</table>\n",
       "<p>231104 rows × 15 columns</p>\n",
       "</div>"
      ],
      "text/plain": [
       "                                                      mzs  \\\n",
       "0       91.0542,125.0233,154.0499,155.0577,185.0961,20...   \n",
       "1       91.0542,125.0233,155.0577,185.0961,229.0859,24...   \n",
       "2       69.0343,91.0542,125.0233,127.039,153.0699,154....   \n",
       "3       69.0343,91.0542,110.06,111.0441,112.0393,120.0...   \n",
       "4       91.0542,125.0233,185.0961,229.0859,246.1125,28...   \n",
       "...                                                   ...   \n",
       "231099  55.054474,58.029369,58.065601,59.049339,69.032...   \n",
       "231100  72.043739,86.060242,98.058304,99.0634,126.0537...   \n",
       "231101  72.080132,102.233917,113.082344,113.121498,114...   \n",
       "231102  55.053627,56.455425,58.065819,67.053543,82.065...   \n",
       "231103  55.055058,56.049213,57.05315,58.064835,58.0875...   \n",
       "\n",
       "                                              intensities  \\\n",
       "0       0.24524524524524524,1.0,0.08008008008008008,0....   \n",
       "1       0.0990990990990991,0.28128128128128127,0.04004...   \n",
       "2       0.03403403403403404,0.31431431431431434,1.0,0....   \n",
       "3       0.17917917917917917,0.47347347347347346,0.0380...   \n",
       "4       0.07807807807807808,0.1841841841841842,0.03503...   \n",
       "...                                                   ...   \n",
       "231099  0.0004935684823754727,0.00012405427491363124,0...   \n",
       "231100  0.0019527744563354998,0.0016939927337585416,0....   \n",
       "231101  0.021173783463613503,0.007516001055215398,0.03...   \n",
       "231102  0.031731527156456024,0.017878400151027027,0.07...   \n",
       "231103  0.1514287137530871,0.09596071713375486,0.06401...   \n",
       "\n",
       "                                                    inchi        inchikey  \\\n",
       "0       InChI=1S/C16H17NO4/c1-11(18)17-14(8-12-6-4-3-5...  VFMQMACUYWGDOJ   \n",
       "1       InChI=1S/C16H17NO4/c1-11(18)17-14(8-12-6-4-3-5...  VFMQMACUYWGDOJ   \n",
       "2       InChI=1S/C16H17NO4/c1-11(18)17-14(8-12-6-4-3-5...  VFMQMACUYWGDOJ   \n",
       "3       InChI=1S/C16H17NO4/c1-11(18)17-14(8-12-6-4-3-5...  VFMQMACUYWGDOJ   \n",
       "4       InChI=1S/C16H17NO4/c1-11(18)17-14(8-12-6-4-3-5...  VFMQMACUYWGDOJ   \n",
       "...                                                   ...             ...   \n",
       "231099  InChI=1S/C46H77NO17/c1-13-33-30(22-58-45-42(57...  WBPYTXDJUQJLPQ   \n",
       "231100  InChI=1S/C22H23ClN2O8/c1-21(32)7-6-8-15(25(2)3...  DHPRQBPJLMKORJ   \n",
       "231101  InChI=1S/C21H43N5O7/c1-9(25-3)13-6-5-10(22)19(...  CEAZRRDELHUEMR   \n",
       "231102  InChI=1S/C21H43N5O7/c1-9(25-3)13-6-5-10(22)19(...  CEAZRRDELHUEMR   \n",
       "231103  InChI=1S/C21H43N5O7/c1-9(25-3)13-6-5-10(22)19(...  CEAZRRDELHUEMR   \n",
       "\n",
       "        precursor_mz  adduct  parent_mass       formula precursor_formula  \\\n",
       "0           288.1225  [M+H]+   287.115224     C16H17NO4         C16H18NO4   \n",
       "1           288.1225  [M+H]+   287.115224     C16H17NO4         C16H18NO4   \n",
       "2           288.1225  [M+H]+   287.115224     C16H17NO4         C16H18NO4   \n",
       "3           288.1225  [M+H]+   287.115224     C16H17NO4         C16H18NO4   \n",
       "4           288.1225  [M+H]+   287.115224     C16H17NO4         C16H18NO4   \n",
       "...              ...     ...          ...           ...               ...   \n",
       "231099      916.5290  [M+H]+   915.521724    C46H77NO17        C46H78NO17   \n",
       "231100      479.1230  [M+H]+   478.115724  C22H23ClN2O8      C22H24ClN2O8   \n",
       "231101      478.3250  [M+H]+   477.317724    C21H43N5O7        C21H44N5O7   \n",
       "231102      478.3250  [M+H]+   477.317724    C21H43N5O7        C21H44N5O7   \n",
       "231103      478.3250  [M+H]+   477.317724    C21H43N5O7        C21H44N5O7   \n",
       "\n",
       "       instrument_type  collision_energy            identifier  \\\n",
       "0                 ITFT              30.0  MassSpecGymID0000001   \n",
       "1                 ITFT              20.0  MassSpecGymID0000002   \n",
       "2                 ITFT              40.0  MassSpecGymID0000003   \n",
       "3                 ITFT              55.0  MassSpecGymID0000004   \n",
       "4                 ITFT              10.0  MassSpecGymID0000005   \n",
       "...                ...               ...                   ...   \n",
       "231099            QTOF               NaN  MassSpecGymID0414168   \n",
       "231100            QTOF               NaN  MassSpecGymID0414171   \n",
       "231101            QTOF               NaN  MassSpecGymID0414172   \n",
       "231102            QTOF               NaN  MassSpecGymID0414173   \n",
       "231103            QTOF               NaN  MassSpecGymID0414174   \n",
       "\n",
       "                                                   smiles   fold  \\\n",
       "0           CC(=O)N[C@@H](CC1=CC=CC=C1)C2=CC(=CC(=O)O2)OC  train   \n",
       "1           CC(=O)N[C@@H](CC1=CC=CC=C1)C2=CC(=CC(=O)O2)OC  train   \n",
       "2           CC(=O)N[C@@H](CC1=CC=CC=C1)C2=CC(=CC(=O)O2)OC  train   \n",
       "3           CC(=O)N[C@@H](CC1=CC=CC=C1)C2=CC(=CC(=O)O2)OC  train   \n",
       "4           CC(=O)N[C@@H](CC1=CC=CC=C1)C2=CC(=CC(=O)O2)OC  train   \n",
       "...                                                   ...    ...   \n",
       "231099  CC[C@@H]1[C@H](/C=C(/C=C\\C(=O)[C@@H](C[C@@H]([...    val   \n",
       "231100  C[C@@]1([C@H]2C[C@H]3[C@@H](C(=O)C(=C([C@]3(C(...   test   \n",
       "231101  C[C@H]([C@@H]1CC[C@H]([C@H](O1)O[C@@H]2[C@H](C...    val   \n",
       "231102  C[C@H]([C@@H]1CC[C@H]([C@H](O1)O[C@@H]2[C@H](C...    val   \n",
       "231103  C[C@H]([C@@H]1CC[C@H]([C@H](O1)O[C@@H]2[C@H](C...    val   \n",
       "\n",
       "        simulation_challenge  \n",
       "0                       True  \n",
       "1                       True  \n",
       "2                       True  \n",
       "3                       True  \n",
       "4                       True  \n",
       "...                      ...  \n",
       "231099                 False  \n",
       "231100                 False  \n",
       "231101                 False  \n",
       "231102                 False  \n",
       "231103                 False  \n",
       "\n",
       "[231104 rows x 15 columns]"
      ]
     },
     "execution_count": 23,
     "metadata": {},
     "output_type": "execute_result"
    }
   ],
   "source": [
    "df = pd.read_csv('../../data/data/MassSpecGym_std.tsv', sep='\\t')\n"
   ]
  },
  {
   "cell_type": "markdown",
   "metadata": {},
   "source": [
    "### Prepare SMILES and pre-computed MCES distances"
   ]
  },
  {
   "cell_type": "code",
   "execution_count": 5,
   "metadata": {},
   "outputs": [
    {
     "name": "stdout",
     "output_type": "stream",
     "text": [
      "['mces', 'mces_smiles_order']\n"
     ]
    },
    {
     "data": {
      "text/plain": [
       "((34731, 34731), 34731)"
      ]
     },
     "execution_count": 5,
     "metadata": {},
     "output_type": "execute_result"
    }
   ],
   "source": [
    "f = h5py.File('../../data/all_smiles_standardized_mces/all_smiles_mces.hdf5', 'r')\n",
    "print(list(f.keys()))\n",
    "dists = squareform(f['mces'])\n",
    "dists_smiles = f['mces_smiles_order'][:].astype(str).tolist()\n",
    "dists.shape, len(dists_smiles)"
   ]
  },
  {
   "cell_type": "code",
   "execution_count": 6,
   "metadata": {},
   "outputs": [],
   "source": [
    "for s in df['smiles'].unique():\n",
    "    assert s in dists_smiles"
   ]
  },
  {
   "cell_type": "code",
   "execution_count": 7,
   "metadata": {},
   "outputs": [
    {
     "name": "stdout",
     "output_type": "stream",
     "text": [
      "34731 31602 31602\n"
     ]
    },
    {
     "data": {
      "text/plain": [
       "(31602, (31602, 31602))"
      ]
     },
     "execution_count": 7,
     "metadata": {},
     "output_type": "execute_result"
    }
   ],
   "source": [
    "unique_smiles = df['smiles'].unique()\n",
    "smiles_mask = np.array([s in unique_smiles for s in dists_smiles])\n",
    "print(smiles_mask.shape[0], smiles_mask.sum(), len(unique_smiles))\n",
    "\n",
    "dists = dists[smiles_mask, :][:, smiles_mask]\n",
    "dists_smiles = np.array(dists_smiles)[smiles_mask]\n",
    "\n",
    "from scipy.linalg import issymmetric\n",
    "assert issymmetric(dists)\n",
    "\n",
    "len(dists_smiles), dists.shape"
   ]
  },
  {
   "cell_type": "markdown",
   "metadata": {},
   "source": [
    "### Perform agglomerative clustering using MCES distances"
   ]
  },
  {
   "cell_type": "code",
   "execution_count": 8,
   "metadata": {},
   "outputs": [
    {
     "data": {
      "text/plain": [
       "108     20472\n",
       "379        90\n",
       "934        90\n",
       "918        72\n",
       "115        71\n",
       "        ...  \n",
       "4777        1\n",
       "4778        1\n",
       "4779        1\n",
       "3967        1\n",
       "4342        1\n",
       "Name: count, Length: 7484, dtype: int64"
      ]
     },
     "execution_count": 8,
     "metadata": {},
     "output_type": "execute_result"
    }
   ],
   "source": [
    "clustering = AgglomerativeClustering(\n",
    "    metric='precomputed',\n",
    "    linkage='single',\n",
    "    distance_threshold=10,\n",
    "    n_clusters=None\n",
    ").fit(dists)\n",
    "clusters = clustering.labels_\n",
    "pd.Series(clusters).value_counts()"
   ]
  },
  {
   "cell_type": "code",
   "execution_count": 9,
   "metadata": {},
   "outputs": [
    {
     "data": {
      "image/png": "[encoded data removed]",
      "text/plain": [
       "<IPython.core.display.Image object>"
      ]
     },
     "execution_count": 9,
     "metadata": {},
     "output_type": "execute_result"
    }
   ],
   "source": [
    "Draw.MolsToGridImage([Chem.MolFromSmiles(s) for s in dists_smiles[np.where(clusters == 4)[0]]], molsPerRow=6, subImgSize=(200, 200))"
   ]
  },
  {
   "cell_type": "markdown",
   "metadata": {},
   "source": [
    "### Define train-validation-test split"
   ]
  },
  {
   "cell_type": "markdown",
   "metadata": {},
   "source": [
    "Compute metadata stratification groups"
   ]
  },
  {
   "cell_type": "code",
   "execution_count": 10,
   "metadata": {},
   "outputs": [
    {
     "data": {
      "text/plain": [
       "stratification_group\n",
       "[M+H]+ITFTnone(5, 100]        37555\n",
       "[M+Na]+ITFTnone(5, 100]       21223\n",
       "[M+H]+QTOFother(5, 100]       17604\n",
       "[M+H]+ITFTother(5, 100]       16213\n",
       "[M+H]+QFTother(5, 100]        12467\n",
       "                              ...  \n",
       "[M+H]+nan30.0(0, 3)               1\n",
       "[M+H]+nan10.0(0, 3)               1\n",
       "[M+H]+QTOF45.0(0, 3)              1\n",
       "[M+Na]+nannone(100, inf)          1\n",
       "[M+Na]+Orbitrapother(0, 3)        1\n",
       "Name: count, Length: 169, dtype: int64"
      ]
     },
     "execution_count": 10,
     "metadata": {},
     "output_type": "execute_result"
    }
   ],
   "source": [
    "smiles_to_cluster = dict(zip(dists_smiles, clusters))\n",
    "df['cluster'] = df['smiles'].map(smiles_to_cluster)\n",
    "\n",
    "top_k_ces = df['collision_energy'].value_counts().index[:5]\n",
    "smiles_vc = df['smiles'].value_counts()\n",
    "\n",
    "def simple_ce(ce):\n",
    "    if pd.isnull(ce):\n",
    "        return 'none'\n",
    "    if ce in top_k_ces:\n",
    "        return str(ce)\n",
    "    return 'other'\n",
    "\n",
    "def simple_smiles_count(smiles):\n",
    "    c = smiles_vc[smiles]\n",
    "    if c < 3:\n",
    "        return '(0, 3)'\n",
    "    elif c <= 5:\n",
    "        return '(3, 5]'\n",
    "    elif c > 100:\n",
    "        return '(100, inf)'\n",
    "    return '(5, 100]'\n",
    "\n",
    "def stratification_group(row):\n",
    "    return str(row['adduct']) + \\\n",
    "        str(row['instrument_type']) + \\\n",
    "        str(simple_ce(row['collision_energy'])) + \\\n",
    "        str(simple_smiles_count(row['smiles']))\n",
    "df['stratification_group'] = df.apply(stratification_group, axis=1)\n",
    "df['stratification_group'].value_counts()"
   ]
  },
  {
   "cell_type": "markdown",
   "metadata": {},
   "source": [
    "Split with `StratifiedGroupKFold`"
   ]
  },
  {
   "cell_type": "code",
   "execution_count": 11,
   "metadata": {},
   "outputs": [
    {
     "name": "stderr",
     "output_type": "stream",
     "text": [
      "/Users/roman/miniconda/envs/massspecgym/lib/python3.11/site-packages/sklearn/model_selection/_split.py:994: UserWarning: The least populated class in y has only 1 members, which is less than n_splits=3.\n",
      "  warnings.warn(\n"
     ]
    },
    {
     "name": "stdout",
     "output_type": "stream",
     "text": [
      "170096 (73.60 %)\n",
      "30294 (13.11 %)\n",
      "30714 (13.29 %)\n"
     ]
    }
   ],
   "source": [
    "X = df['identifier'].values\n",
    "y = df['stratification_group'].values\n",
    "groups = df['cluster'].values\n",
    "sgkf = StratifiedGroupKFold(n_splits=3)\n",
    "sgkf_split = sgkf.split(X, y, groups)\n",
    "folds = []\n",
    "for i, (train_index, test_index) in enumerate(sgkf_split):\n",
    "    print(f'{len(test_index)} ({len(test_index) / len(X) * 100:.2f} %)')\n",
    "    folds.append(X[test_index])"
   ]
  },
  {
   "cell_type": "code",
   "execution_count": 12,
   "metadata": {},
   "outputs": [
    {
     "name": "stdout",
     "output_type": "stream",
     "text": [
      "Full dataset (percentage=False)\n"
     ]
    },
    {
     "data": {
      "text/html": [
       "<div>\n",
       "<style scoped>\n",
       "    .dataframe tbody tr th:only-of-type {\n",
       "        vertical-align: middle;\n",
       "    }\n",
       "\n",
       "    .dataframe tbody tr th {\n",
       "        vertical-align: top;\n",
       "    }\n",
       "\n",
       "    .dataframe thead th {\n",
       "        text-align: right;\n",
       "    }\n",
       "</style>\n",
       "<table border=\"1\" class=\"dataframe\">\n",
       "  <thead>\n",
       "    <tr style=\"text-align: right;\">\n",
       "      <th></th>\n",
       "      <th>smiles</th>\n",
       "      <th>identifier</th>\n",
       "      <th>cluster</th>\n",
       "    </tr>\n",
       "    <tr>\n",
       "      <th>fold</th>\n",
       "      <th></th>\n",
       "      <th></th>\n",
       "      <th></th>\n",
       "    </tr>\n",
       "  </thead>\n",
       "  <tbody>\n",
       "    <tr>\n",
       "      <th>test</th>\n",
       "      <td>5525</td>\n",
       "      <td>30714</td>\n",
       "      <td>3702</td>\n",
       "    </tr>\n",
       "    <tr>\n",
       "      <th>train</th>\n",
       "      <td>20532</td>\n",
       "      <td>170096</td>\n",
       "      <td>61</td>\n",
       "    </tr>\n",
       "    <tr>\n",
       "      <th>val</th>\n",
       "      <td>5545</td>\n",
       "      <td>30294</td>\n",
       "      <td>3721</td>\n",
       "    </tr>\n",
       "  </tbody>\n",
       "</table>\n",
       "</div>"
      ],
      "text/plain": [
       "       smiles  identifier  cluster\n",
       "fold                              \n",
       "test     5525       30714     3702\n",
       "train   20532      170096       61\n",
       "val      5545       30294     3721"
      ]
     },
     "metadata": {},
     "output_type": "display_data"
    },
    {
     "name": "stdout",
     "output_type": "stream",
     "text": [
      "All metadata available (percentage=False)\n"
     ]
    },
    {
     "data": {
      "text/html": [
       "<div>\n",
       "<style scoped>\n",
       "    .dataframe tbody tr th:only-of-type {\n",
       "        vertical-align: middle;\n",
       "    }\n",
       "\n",
       "    .dataframe tbody tr th {\n",
       "        vertical-align: top;\n",
       "    }\n",
       "\n",
       "    .dataframe thead th {\n",
       "        text-align: right;\n",
       "    }\n",
       "</style>\n",
       "<table border=\"1\" class=\"dataframe\">\n",
       "  <thead>\n",
       "    <tr style=\"text-align: right;\">\n",
       "      <th></th>\n",
       "      <th>smiles</th>\n",
       "      <th>identifier</th>\n",
       "      <th>cluster</th>\n",
       "    </tr>\n",
       "    <tr>\n",
       "      <th>fold</th>\n",
       "      <th></th>\n",
       "      <th></th>\n",
       "      <th></th>\n",
       "    </tr>\n",
       "  </thead>\n",
       "  <tbody>\n",
       "    <tr>\n",
       "      <th>test</th>\n",
       "      <td>4107</td>\n",
       "      <td>16990</td>\n",
       "      <td>3201</td>\n",
       "    </tr>\n",
       "    <tr>\n",
       "      <th>train</th>\n",
       "      <td>10198</td>\n",
       "      <td>87883</td>\n",
       "      <td>61</td>\n",
       "    </tr>\n",
       "    <tr>\n",
       "      <th>val</th>\n",
       "      <td>4100</td>\n",
       "      <td>16834</td>\n",
       "      <td>3190</td>\n",
       "    </tr>\n",
       "  </tbody>\n",
       "</table>\n",
       "</div>"
      ],
      "text/plain": [
       "       smiles  identifier  cluster\n",
       "fold                              \n",
       "test     4107       16990     3201\n",
       "train   10198       87883       61\n",
       "val      4100       16834     3190"
      ]
     },
     "metadata": {},
     "output_type": "display_data"
    },
    {
     "name": "stdout",
     "output_type": "stream",
     "text": [
      "Full dataset (percentage=True)\n"
     ]
    },
    {
     "data": {
      "text/html": [
       "<div>\n",
       "<style scoped>\n",
       "    .dataframe tbody tr th:only-of-type {\n",
       "        vertical-align: middle;\n",
       "    }\n",
       "\n",
       "    .dataframe tbody tr th {\n",
       "        vertical-align: top;\n",
       "    }\n",
       "\n",
       "    .dataframe thead th {\n",
       "        text-align: right;\n",
       "    }\n",
       "</style>\n",
       "<table border=\"1\" class=\"dataframe\">\n",
       "  <thead>\n",
       "    <tr style=\"text-align: right;\">\n",
       "      <th></th>\n",
       "      <th>smiles</th>\n",
       "      <th>identifier</th>\n",
       "      <th>cluster</th>\n",
       "    </tr>\n",
       "    <tr>\n",
       "      <th>fold</th>\n",
       "      <th></th>\n",
       "      <th></th>\n",
       "      <th></th>\n",
       "    </tr>\n",
       "  </thead>\n",
       "  <tbody>\n",
       "    <tr>\n",
       "      <th>test</th>\n",
       "      <td>17.48</td>\n",
       "      <td>13.29</td>\n",
       "      <td>49.47</td>\n",
       "    </tr>\n",
       "    <tr>\n",
       "      <th>train</th>\n",
       "      <td>64.97</td>\n",
       "      <td>73.60</td>\n",
       "      <td>0.82</td>\n",
       "    </tr>\n",
       "    <tr>\n",
       "      <th>val</th>\n",
       "      <td>17.55</td>\n",
       "      <td>13.11</td>\n",
       "      <td>49.72</td>\n",
       "    </tr>\n",
       "  </tbody>\n",
       "</table>\n",
       "</div>"
      ],
      "text/plain": [
       "       smiles  identifier  cluster\n",
       "fold                              \n",
       "test    17.48       13.29    49.47\n",
       "train   64.97       73.60     0.82\n",
       "val     17.55       13.11    49.72"
      ]
     },
     "metadata": {},
     "output_type": "display_data"
    },
    {
     "name": "stdout",
     "output_type": "stream",
     "text": [
      "All metadata available (percentage=True)\n"
     ]
    },
    {
     "data": {
      "text/html": [
       "<div>\n",
       "<style scoped>\n",
       "    .dataframe tbody tr th:only-of-type {\n",
       "        vertical-align: middle;\n",
       "    }\n",
       "\n",
       "    .dataframe tbody tr th {\n",
       "        vertical-align: top;\n",
       "    }\n",
       "\n",
       "    .dataframe thead th {\n",
       "        text-align: right;\n",
       "    }\n",
       "</style>\n",
       "<table border=\"1\" class=\"dataframe\">\n",
       "  <thead>\n",
       "    <tr style=\"text-align: right;\">\n",
       "      <th></th>\n",
       "      <th>smiles</th>\n",
       "      <th>identifier</th>\n",
       "      <th>cluster</th>\n",
       "    </tr>\n",
       "    <tr>\n",
       "      <th>fold</th>\n",
       "      <th></th>\n",
       "      <th></th>\n",
       "      <th></th>\n",
       "    </tr>\n",
       "  </thead>\n",
       "  <tbody>\n",
       "    <tr>\n",
       "      <th>test</th>\n",
       "      <td>22.31</td>\n",
       "      <td>13.96</td>\n",
       "      <td>49.61</td>\n",
       "    </tr>\n",
       "    <tr>\n",
       "      <th>train</th>\n",
       "      <td>55.41</td>\n",
       "      <td>72.21</td>\n",
       "      <td>0.95</td>\n",
       "    </tr>\n",
       "    <tr>\n",
       "      <th>val</th>\n",
       "      <td>22.28</td>\n",
       "      <td>13.83</td>\n",
       "      <td>49.44</td>\n",
       "    </tr>\n",
       "  </tbody>\n",
       "</table>\n",
       "</div>"
      ],
      "text/plain": [
       "       smiles  identifier  cluster\n",
       "fold                              \n",
       "test    22.31       13.96    49.61\n",
       "train   55.41       72.21     0.95\n",
       "val     22.28       13.83    49.44"
      ]
     },
     "metadata": {},
     "output_type": "display_data"
    }
   ],
   "source": [
    "folds_map = {}\n",
    "for i, fold in enumerate(folds):\n",
    "    for identifier in fold:\n",
    "        folds_map[identifier] = ['train', 'val', 'test'][i]\n",
    "df['fold'] = df['identifier'].map(folds_map)\n",
    "\n",
    "def fold_composition(df_q, percentage=True):\n",
    "    unique_counts = df_q.groupby(['fold']).agg({'smiles': 'nunique', 'identifier': 'nunique', 'cluster': 'nunique'})\n",
    "    if not percentage:\n",
    "        return unique_counts\n",
    "    total_counts = df_q.agg({'smiles': 'nunique', 'identifier': 'nunique', 'cluster': 'nunique'})\n",
    "    percentage_counts = (unique_counts / total_counts) * 100\n",
    "    percentage_counts = percentage_counts.round(2)\n",
    "    return percentage_counts\n",
    "for percentage in [False, True]:\n",
    "    print(f'Full dataset (percentage={percentage})')\n",
    "    display(fold_composition(df, percentage=percentage))\n",
    "    print(f'All metadata available (percentage={percentage})')\n",
    "    display(fold_composition(df.dropna(), percentage=percentage))"
   ]
  },
  {
   "cell_type": "markdown",
   "metadata": {},
   "source": [
    "### Additionally move random validation and test clusters to the train fold"
   ]
  },
  {
   "cell_type": "code",
   "execution_count": 13,
   "metadata": {},
   "outputs": [
    {
     "name": "stdout",
     "output_type": "stream",
     "text": [
      "Full dataset (percentage=False)\n"
     ]
    },
    {
     "data": {
      "text/html": [
       "<div>\n",
       "<style scoped>\n",
       "    .dataframe tbody tr th:only-of-type {\n",
       "        vertical-align: middle;\n",
       "    }\n",
       "\n",
       "    .dataframe tbody tr th {\n",
       "        vertical-align: top;\n",
       "    }\n",
       "\n",
       "    .dataframe thead th {\n",
       "        text-align: right;\n",
       "    }\n",
       "</style>\n",
       "<table border=\"1\" class=\"dataframe\">\n",
       "  <thead>\n",
       "    <tr style=\"text-align: right;\">\n",
       "      <th></th>\n",
       "      <th>smiles</th>\n",
       "      <th>identifier</th>\n",
       "      <th>cluster</th>\n",
       "    </tr>\n",
       "    <tr>\n",
       "      <th>fold</th>\n",
       "      <th></th>\n",
       "      <th></th>\n",
       "      <th></th>\n",
       "    </tr>\n",
       "  </thead>\n",
       "  <tbody>\n",
       "    <tr>\n",
       "      <th>test</th>\n",
       "      <td>3170</td>\n",
       "      <td>17556</td>\n",
       "      <td>2202</td>\n",
       "    </tr>\n",
       "    <tr>\n",
       "      <th>train</th>\n",
       "      <td>25046</td>\n",
       "      <td>194119</td>\n",
       "      <td>3061</td>\n",
       "    </tr>\n",
       "    <tr>\n",
       "      <th>val</th>\n",
       "      <td>3386</td>\n",
       "      <td>19429</td>\n",
       "      <td>2221</td>\n",
       "    </tr>\n",
       "  </tbody>\n",
       "</table>\n",
       "</div>"
      ],
      "text/plain": [
       "       smiles  identifier  cluster\n",
       "fold                              \n",
       "test     3170       17556     2202\n",
       "train   25046      194119     3061\n",
       "val      3386       19429     2221"
      ]
     },
     "metadata": {},
     "output_type": "display_data"
    },
    {
     "name": "stdout",
     "output_type": "stream",
     "text": [
      "All metadata available (percentage=False)\n"
     ]
    },
    {
     "data": {
      "text/html": [
       "<div>\n",
       "<style scoped>\n",
       "    .dataframe tbody tr th:only-of-type {\n",
       "        vertical-align: middle;\n",
       "    }\n",
       "\n",
       "    .dataframe tbody tr th {\n",
       "        vertical-align: top;\n",
       "    }\n",
       "\n",
       "    .dataframe thead th {\n",
       "        text-align: right;\n",
       "    }\n",
       "</style>\n",
       "<table border=\"1\" class=\"dataframe\">\n",
       "  <thead>\n",
       "    <tr style=\"text-align: right;\">\n",
       "      <th></th>\n",
       "      <th>smiles</th>\n",
       "      <th>identifier</th>\n",
       "      <th>cluster</th>\n",
       "    </tr>\n",
       "    <tr>\n",
       "      <th>fold</th>\n",
       "      <th></th>\n",
       "      <th></th>\n",
       "      <th></th>\n",
       "    </tr>\n",
       "  </thead>\n",
       "  <tbody>\n",
       "    <tr>\n",
       "      <th>test</th>\n",
       "      <td>2417</td>\n",
       "      <td>10159</td>\n",
       "      <td>1907</td>\n",
       "    </tr>\n",
       "    <tr>\n",
       "      <th>train</th>\n",
       "      <td>13543</td>\n",
       "      <td>101573</td>\n",
       "      <td>2628</td>\n",
       "    </tr>\n",
       "    <tr>\n",
       "      <th>val</th>\n",
       "      <td>2445</td>\n",
       "      <td>9975</td>\n",
       "      <td>1917</td>\n",
       "    </tr>\n",
       "  </tbody>\n",
       "</table>\n",
       "</div>"
      ],
      "text/plain": [
       "       smiles  identifier  cluster\n",
       "fold                              \n",
       "test     2417       10159     1907\n",
       "train   13543      101573     2628\n",
       "val      2445        9975     1917"
      ]
     },
     "metadata": {},
     "output_type": "display_data"
    },
    {
     "name": "stdout",
     "output_type": "stream",
     "text": [
      "Full dataset (percentage=True)\n"
     ]
    },
    {
     "data": {
      "text/html": [
       "<div>\n",
       "<style scoped>\n",
       "    .dataframe tbody tr th:only-of-type {\n",
       "        vertical-align: middle;\n",
       "    }\n",
       "\n",
       "    .dataframe tbody tr th {\n",
       "        vertical-align: top;\n",
       "    }\n",
       "\n",
       "    .dataframe thead th {\n",
       "        text-align: right;\n",
       "    }\n",
       "</style>\n",
       "<table border=\"1\" class=\"dataframe\">\n",
       "  <thead>\n",
       "    <tr style=\"text-align: right;\">\n",
       "      <th></th>\n",
       "      <th>smiles</th>\n",
       "      <th>identifier</th>\n",
       "      <th>cluster</th>\n",
       "    </tr>\n",
       "    <tr>\n",
       "      <th>fold</th>\n",
       "      <th></th>\n",
       "      <th></th>\n",
       "      <th></th>\n",
       "    </tr>\n",
       "  </thead>\n",
       "  <tbody>\n",
       "    <tr>\n",
       "      <th>test</th>\n",
       "      <td>10.03</td>\n",
       "      <td>7.60</td>\n",
       "      <td>29.42</td>\n",
       "    </tr>\n",
       "    <tr>\n",
       "      <th>train</th>\n",
       "      <td>79.25</td>\n",
       "      <td>84.00</td>\n",
       "      <td>40.90</td>\n",
       "    </tr>\n",
       "    <tr>\n",
       "      <th>val</th>\n",
       "      <td>10.71</td>\n",
       "      <td>8.41</td>\n",
       "      <td>29.68</td>\n",
       "    </tr>\n",
       "  </tbody>\n",
       "</table>\n",
       "</div>"
      ],
      "text/plain": [
       "       smiles  identifier  cluster\n",
       "fold                              \n",
       "test    10.03        7.60    29.42\n",
       "train   79.25       84.00    40.90\n",
       "val     10.71        8.41    29.68"
      ]
     },
     "metadata": {},
     "output_type": "display_data"
    },
    {
     "name": "stdout",
     "output_type": "stream",
     "text": [
      "All metadata available (percentage=True)\n"
     ]
    },
    {
     "data": {
      "text/html": [
       "<div>\n",
       "<style scoped>\n",
       "    .dataframe tbody tr th:only-of-type {\n",
       "        vertical-align: middle;\n",
       "    }\n",
       "\n",
       "    .dataframe tbody tr th {\n",
       "        vertical-align: top;\n",
       "    }\n",
       "\n",
       "    .dataframe thead th {\n",
       "        text-align: right;\n",
       "    }\n",
       "</style>\n",
       "<table border=\"1\" class=\"dataframe\">\n",
       "  <thead>\n",
       "    <tr style=\"text-align: right;\">\n",
       "      <th></th>\n",
       "      <th>smiles</th>\n",
       "      <th>identifier</th>\n",
       "      <th>cluster</th>\n",
       "    </tr>\n",
       "    <tr>\n",
       "      <th>fold</th>\n",
       "      <th></th>\n",
       "      <th></th>\n",
       "      <th></th>\n",
       "    </tr>\n",
       "  </thead>\n",
       "  <tbody>\n",
       "    <tr>\n",
       "      <th>test</th>\n",
       "      <td>13.13</td>\n",
       "      <td>8.35</td>\n",
       "      <td>29.56</td>\n",
       "    </tr>\n",
       "    <tr>\n",
       "      <th>train</th>\n",
       "      <td>73.58</td>\n",
       "      <td>83.46</td>\n",
       "      <td>40.73</td>\n",
       "    </tr>\n",
       "    <tr>\n",
       "      <th>val</th>\n",
       "      <td>13.28</td>\n",
       "      <td>8.20</td>\n",
       "      <td>29.71</td>\n",
       "    </tr>\n",
       "  </tbody>\n",
       "</table>\n",
       "</div>"
      ],
      "text/plain": [
       "       smiles  identifier  cluster\n",
       "fold                              \n",
       "test    13.13        8.35    29.56\n",
       "train   73.58       83.46    40.73\n",
       "val     13.28        8.20    29.71"
      ]
     },
     "metadata": {},
     "output_type": "display_data"
    }
   ],
   "source": [
    "df_split = df.copy()\n",
    "for f in ['val', 'test']:\n",
    "    df_fold = df[df['fold'] == f].copy()\n",
    "    rand_fold_clusters = df_fold['cluster'].drop_duplicates().sample(n=1500, random_state=42).values\n",
    "    df_split.loc[df_split['cluster'].isin(rand_fold_clusters), 'fold'] = 'train'\n",
    "\n",
    "for percentage in [False, True]:\n",
    "    print(f'Full dataset (percentage={percentage})')\n",
    "    display(fold_composition(df_split, percentage=percentage))\n",
    "    print(f'All metadata available (percentage={percentage})')\n",
    "    display(fold_composition(df_split.dropna(), percentage=percentage))"
   ]
  },
  {
   "cell_type": "code",
   "execution_count": 14,
   "metadata": {},
   "outputs": [
    {
     "name": "stdout",
     "output_type": "stream",
     "text": [
      "------------------------------ Full dataset ------------------------------\n"
     ]
    },
    {
     "data": {
      "text/plain": [
       "collision_energy\n",
       "none     109358\n",
       "other     60546\n",
       "20.0      18506\n",
       "60.0      16015\n",
       "30.0      12780\n",
       "10.0       7305\n",
       "45.0       6594\n",
       "Name: count, dtype: int64"
      ]
     },
     "metadata": {},
     "output_type": "display_data"
    },
    {
     "data": {
      "image/png": "[encoded data removed]",
      "text/plain": [
       "<Figure size 300x300 with 1 Axes>"
      ]
     },
     "metadata": {},
     "output_type": "display_data"
    },
    {
     "data": {
      "image/png": "[encoded data removed]",
      "text/plain": [
       "<Figure size 300x300 with 1 Axes>"
      ]
     },
     "metadata": {},
     "output_type": "display_data"
    },
    {
     "data": {
      "image/png": "[encoded data removed]",
      "text/plain": [
       "<Figure size 300x300 with 1 Axes>"
      ]
     },
     "metadata": {},
     "output_type": "display_data"
    },
    {
     "data": {
      "image/png": "[encoded data removed]",
      "text/plain": [
       "<Figure size 300x300 with 1 Axes>"
      ]
     },
     "metadata": {},
     "output_type": "display_data"
    },
    {
     "name": "stdout",
     "output_type": "stream",
     "text": [
      "------------------------------ All metadata available ------------------------------\n"
     ]
    },
    {
     "data": {
      "text/plain": [
       "collision_energy\n",
       "other    60509\n",
       "20.0     18506\n",
       "60.0     16015\n",
       "30.0     12779\n",
       "10.0      7304\n",
       "45.0      6594\n",
       "Name: count, dtype: int64"
      ]
     },
     "metadata": {},
     "output_type": "display_data"
    },
    {
     "data": {
      "image/png": "[encoded data removed]",
      "text/plain": [
       "<Figure size 300x300 with 1 Axes>"
      ]
     },
     "metadata": {},
     "output_type": "display_data"
    },
    {
     "data": {
      "image/png": "[encoded data removed]",
      "text/plain": [
       "<Figure size 300x300 with 1 Axes>"
      ]
     },
     "metadata": {},
     "output_type": "display_data"
    },
    {
     "data": {
      "image/png": "[encoded data removed]",
      "text/plain": [
       "<Figure size 300x300 with 1 Axes>"
      ]
     },
     "metadata": {},
     "output_type": "display_data"
    },
    {
     "data": {
      "image/png": "[encoded data removed]",
      "text/plain": [
       "<Figure size 300x300 with 1 Axes>"
      ]
     },
     "metadata": {},
     "output_type": "display_data"
    }
   ],
   "source": [
    "utils.init_plotting(figsize=(3, 3))\n",
    "\n",
    "for df_name, df_plot in [('Full dataset', df_split.copy()), ('All metadata available', df_split.copy().dropna())]:\n",
    "    print('-' * 30, df_name, '-' * 30)\n",
    "    df_plot['instrument_type'] = df_plot['instrument_type'].str.replace('Q Exactive Focus Hybrid Quadrupole Orbitrap Mass Spectrometer (Thermo Fisher Scientific)', 'Q Exactive')\n",
    "    df_plot['collision_energy'] = df_plot['collision_energy'].apply(simple_ce)\n",
    "    display(df_plot['collision_energy'].value_counts())\n",
    "    df_plot['smiles_count'] = df_plot['smiles'].apply(simple_smiles_count)\n",
    "\n",
    "    sns.histplot(y='instrument_type', data=df_plot, hue='fold', multiple='dodge', discrete=True, shrink=.8)\n",
    "    plt.xscale('log')\n",
    "    plt.show()\n",
    "\n",
    "    sns.histplot(y='collision_energy', data=df_plot, hue='fold', multiple='dodge', discrete=True, shrink=.8)\n",
    "    plt.xscale('log')\n",
    "    plt.show()\n",
    "\n",
    "    sns.histplot(y='adduct', data=df_plot, hue='fold', multiple='dodge', discrete=True, shrink=.8)\n",
    "    # plt.xscale('log')\n",
    "    plt.show()\n",
    "\n",
    "    sns.histplot(y='smiles_count', data=df_plot, hue='fold', multiple='dodge', discrete=True, shrink=.8)\n",
    "    plt.show()"
   ]
  },
  {
   "cell_type": "code",
   "execution_count": 15,
   "metadata": {},
   "outputs": [
    {
     "name": "stderr",
     "output_type": "stream",
     "text": [
      "100%|██████████| 25046/25046 [00:03<00:00, 6763.11it/s]\n",
      "100%|██████████| 3386/3386 [00:00<00:00, 4887.09it/s]\n",
      "100%|██████████| 3170/3170 [00:00<00:00, 5230.49it/s]\n"
     ]
    }
   ],
   "source": [
    "fps = {}\n",
    "for fold in ['train', 'val', 'test']:\n",
    "    df_fold = df_split[df_split['fold'] == fold]\n",
    "    df_fold = df_fold.drop_duplicates(subset='smiles')\n",
    "    fps[fold] = df_fold['smiles'].progress_apply(lambda s: utils.morgan_fp(Chem.MolFromSmiles(s), to_np=False))\n",
    "def max_train_tanimoto(test_fp, train_fps=fps['train']):\n",
    "    return max([DataStructs.FingerprintSimilarity(test_fp, train_fp) for train_fp in train_fps])"
   ]
  },
  {
   "cell_type": "code",
   "execution_count": 16,
   "metadata": {},
   "outputs": [
    {
     "name": "stdout",
     "output_type": "stream",
     "text": [
      "INFO: Pandarallel will run on 8 workers.\n",
      "INFO: Pandarallel will use standard multiprocessing data transfer (pipe) to transfer data between the main process and workers.\n"
     ]
    },
    {
     "data": {
      "application/vnd.jupyter.widget-view+json": {
       "model_id": "1da4f1440a744956b17273c31704cf9d",
       "version_major": 2,
       "version_minor": 0
      },
      "text/plain": [
       "VBox(children=(HBox(children=(IntProgress(value=0, description='0.00%', max=397), Label(value='0 / 397'))), HB…"
      ]
     },
     "metadata": {},
     "output_type": "display_data"
    },
    {
     "data": {
      "image/png": "[encoded data removed]",
      "text/plain": [
       "<Figure size 400x300 with 1 Axes>"
      ]
     },
     "metadata": {},
     "output_type": "display_data"
    }
   ],
   "source": [
    "pandarallel.initialize(nb_workers=8, progress_bar=True)\n",
    "max_train_tanimotos = fps['test'].parallel_apply(lambda f: max_train_tanimoto(f, pd.concat([fps['train'], fps['val']])))\n",
    "utils.init_plotting(figsize=(4, 3))\n",
    "sns.histplot(max_train_tanimotos)\n",
    "plt.xlabel('Max Tanimoto from train+val set for test example')\n",
    "plt.show()"
   ]
  },
  {
   "cell_type": "code",
   "execution_count": 17,
   "metadata": {},
   "outputs": [
    {
     "name": "stdout",
     "output_type": "stream",
     "text": [
      "INFO: Pandarallel will run on 8 workers.\n",
      "INFO: Pandarallel will use standard multiprocessing data transfer (pipe) to transfer data between the main process and workers.\n"
     ]
    },
    {
     "data": {
      "application/vnd.jupyter.widget-view+json": {
       "model_id": "86490ac0ab764a76992ce2fb137734ab",
       "version_major": 2,
       "version_minor": 0
      },
      "text/plain": [
       "VBox(children=(HBox(children=(IntProgress(value=0, description='0.00%', max=424), Label(value='0 / 424'))), HB…"
      ]
     },
     "metadata": {},
     "output_type": "display_data"
    },
    {
     "data": {
      "image/png": "[encoded data removed]",
      "text/plain": [
       "<Figure size 400x300 with 1 Axes>"
      ]
     },
     "metadata": {},
     "output_type": "display_data"
    }
   ],
   "source": [
    "pandarallel.initialize(nb_workers=8, progress_bar=True)\n",
    "max_train_tanimotos = fps['val'].parallel_apply(lambda f: max_train_tanimoto(f, fps['train']))\n",
    "utils.init_plotting(figsize=(4, 3))\n",
    "sns.histplot(max_train_tanimotos)\n",
    "plt.xlabel('Max Tanimoto from train set for validation example')\n",
    "plt.show()"
   ]
  },
  {
   "cell_type": "code",
   "execution_count": 18,
   "metadata": {},
   "outputs": [
    {
     "data": {
      "text/html": [
       "<div>\n",
       "<style scoped>\n",
       "    .dataframe tbody tr th:only-of-type {\n",
       "        vertical-align: middle;\n",
       "    }\n",
       "\n",
       "    .dataframe tbody tr th {\n",
       "        vertical-align: top;\n",
       "    }\n",
       "\n",
       "    .dataframe thead th {\n",
       "        text-align: right;\n",
       "    }\n",
       "</style>\n",
       "<table border=\"1\" class=\"dataframe\">\n",
       "  <thead>\n",
       "    <tr style=\"text-align: right;\">\n",
       "      <th></th>\n",
       "      <th>mzs</th>\n",
       "      <th>intensities</th>\n",
       "      <th>inchi</th>\n",
       "      <th>inchikey</th>\n",
       "      <th>precursor_mz</th>\n",
       "      <th>adduct</th>\n",
       "      <th>parent_mass</th>\n",
       "      <th>formula</th>\n",
       "      <th>precursor_formula</th>\n",
       "      <th>instrument_type</th>\n",
       "      <th>collision_energy</th>\n",
       "      <th>identifier</th>\n",
       "      <th>smiles</th>\n",
       "      <th>fold</th>\n",
       "      <th>simulation_challenge</th>\n",
       "      <th>cluster</th>\n",
       "      <th>stratification_group</th>\n",
       "    </tr>\n",
       "  </thead>\n",
       "  <tbody>\n",
       "    <tr>\n",
       "      <th>0</th>\n",
       "      <td>91.0542,125.0233,154.0499,155.0577,185.0961,20...</td>\n",
       "      <td>0.24524524524524524,1.0,0.08008008008008008,0....</td>\n",
       "      <td>InChI=1S/C16H17NO4/c1-11(18)17-14(8-12-6-4-3-5...</td>\n",
       "      <td>VFMQMACUYWGDOJ</td>\n",
       "      <td>288.1225</td>\n",
       "      <td>[M+H]+</td>\n",
       "      <td>287.115224</td>\n",
       "      <td>C16H17NO4</td>\n",
       "      <td>C16H18NO4</td>\n",
       "      <td>ITFT</td>\n",
       "      <td>30.0</td>\n",
       "      <td>MassSpecGymID0000001</td>\n",
       "      <td>CC(=O)N[C@@H](CC1=CC=CC=C1)C2=CC(=CC(=O)O2)OC</td>\n",
       "      <td>train</td>\n",
       "      <td>True</td>\n",
       "      <td>108</td>\n",
       "      <td>[M+H]+ITFT30.0(5, 100]</td>\n",
       "    </tr>\n",
       "    <tr>\n",
       "      <th>1</th>\n",
       "      <td>91.0542,125.0233,155.0577,185.0961,229.0859,24...</td>\n",
       "      <td>0.0990990990990991,0.28128128128128127,0.04004...</td>\n",
       "      <td>InChI=1S/C16H17NO4/c1-11(18)17-14(8-12-6-4-3-5...</td>\n",
       "      <td>VFMQMACUYWGDOJ</td>\n",
       "      <td>288.1225</td>\n",
       "      <td>[M+H]+</td>\n",
       "      <td>287.115224</td>\n",
       "      <td>C16H17NO4</td>\n",
       "      <td>C16H18NO4</td>\n",
       "      <td>ITFT</td>\n",
       "      <td>20.0</td>\n",
       "      <td>MassSpecGymID0000002</td>\n",
       "      <td>CC(=O)N[C@@H](CC1=CC=CC=C1)C2=CC(=CC(=O)O2)OC</td>\n",
       "      <td>train</td>\n",
       "      <td>True</td>\n",
       "      <td>108</td>\n",
       "      <td>[M+H]+ITFT20.0(5, 100]</td>\n",
       "    </tr>\n",
       "    <tr>\n",
       "      <th>2</th>\n",
       "      <td>69.0343,91.0542,125.0233,127.039,153.0699,154....</td>\n",
       "      <td>0.03403403403403404,0.31431431431431434,1.0,0....</td>\n",
       "      <td>InChI=1S/C16H17NO4/c1-11(18)17-14(8-12-6-4-3-5...</td>\n",
       "      <td>VFMQMACUYWGDOJ</td>\n",
       "      <td>288.1225</td>\n",
       "      <td>[M+H]+</td>\n",
       "      <td>287.115224</td>\n",
       "      <td>C16H17NO4</td>\n",
       "      <td>C16H18NO4</td>\n",
       "      <td>ITFT</td>\n",
       "      <td>40.0</td>\n",
       "      <td>MassSpecGymID0000003</td>\n",
       "      <td>CC(=O)N[C@@H](CC1=CC=CC=C1)C2=CC(=CC(=O)O2)OC</td>\n",
       "      <td>train</td>\n",
       "      <td>True</td>\n",
       "      <td>108</td>\n",
       "      <td>[M+H]+ITFTother(5, 100]</td>\n",
       "    </tr>\n",
       "    <tr>\n",
       "      <th>3</th>\n",
       "      <td>69.0343,91.0542,110.06,111.0441,112.0393,120.0...</td>\n",
       "      <td>0.17917917917917917,0.47347347347347346,0.0380...</td>\n",
       "      <td>InChI=1S/C16H17NO4/c1-11(18)17-14(8-12-6-4-3-5...</td>\n",
       "      <td>VFMQMACUYWGDOJ</td>\n",
       "      <td>288.1225</td>\n",
       "      <td>[M+H]+</td>\n",
       "      <td>287.115224</td>\n",
       "      <td>C16H17NO4</td>\n",
       "      <td>C16H18NO4</td>\n",
       "      <td>ITFT</td>\n",
       "      <td>55.0</td>\n",
       "      <td>MassSpecGymID0000004</td>\n",
       "      <td>CC(=O)N[C@@H](CC1=CC=CC=C1)C2=CC(=CC(=O)O2)OC</td>\n",
       "      <td>train</td>\n",
       "      <td>True</td>\n",
       "      <td>108</td>\n",
       "      <td>[M+H]+ITFTother(5, 100]</td>\n",
       "    </tr>\n",
       "    <tr>\n",
       "      <th>4</th>\n",
       "      <td>91.0542,125.0233,185.0961,229.0859,246.1125,28...</td>\n",
       "      <td>0.07807807807807808,0.1841841841841842,0.03503...</td>\n",
       "      <td>InChI=1S/C16H17NO4/c1-11(18)17-14(8-12-6-4-3-5...</td>\n",
       "      <td>VFMQMACUYWGDOJ</td>\n",
       "      <td>288.1225</td>\n",
       "      <td>[M+H]+</td>\n",
       "      <td>287.115224</td>\n",
       "      <td>C16H17NO4</td>\n",
       "      <td>C16H18NO4</td>\n",
       "      <td>ITFT</td>\n",
       "      <td>10.0</td>\n",
       "      <td>MassSpecGymID0000005</td>\n",
       "      <td>CC(=O)N[C@@H](CC1=CC=CC=C1)C2=CC(=CC(=O)O2)OC</td>\n",
       "      <td>train</td>\n",
       "      <td>True</td>\n",
       "      <td>108</td>\n",
       "      <td>[M+H]+ITFT10.0(5, 100]</td>\n",
       "    </tr>\n",
       "    <tr>\n",
       "      <th>...</th>\n",
       "      <td>...</td>\n",
       "      <td>...</td>\n",
       "      <td>...</td>\n",
       "      <td>...</td>\n",
       "      <td>...</td>\n",
       "      <td>...</td>\n",
       "      <td>...</td>\n",
       "      <td>...</td>\n",
       "      <td>...</td>\n",
       "      <td>...</td>\n",
       "      <td>...</td>\n",
       "      <td>...</td>\n",
       "      <td>...</td>\n",
       "      <td>...</td>\n",
       "      <td>...</td>\n",
       "      <td>...</td>\n",
       "      <td>...</td>\n",
       "    </tr>\n",
       "    <tr>\n",
       "      <th>231099</th>\n",
       "      <td>55.054474,58.029369,58.065601,59.049339,69.032...</td>\n",
       "      <td>0.0004935684823754727,0.00012405427491363124,0...</td>\n",
       "      <td>InChI=1S/C46H77NO17/c1-13-33-30(22-58-45-42(57...</td>\n",
       "      <td>WBPYTXDJUQJLPQ</td>\n",
       "      <td>916.5290</td>\n",
       "      <td>[M+H]+</td>\n",
       "      <td>915.521724</td>\n",
       "      <td>C46H77NO17</td>\n",
       "      <td>C46H78NO17</td>\n",
       "      <td>QTOF</td>\n",
       "      <td>NaN</td>\n",
       "      <td>MassSpecGymID0414168</td>\n",
       "      <td>CC[C@@H]1[C@H](/C=C(/C=C\\C(=O)[C@@H](C[C@@H]([...</td>\n",
       "      <td>val</td>\n",
       "      <td>False</td>\n",
       "      <td>1383</td>\n",
       "      <td>[M+H]+QTOFnone(0, 3)</td>\n",
       "    </tr>\n",
       "    <tr>\n",
       "      <th>231100</th>\n",
       "      <td>72.043739,86.060242,98.058304,99.0634,126.0537...</td>\n",
       "      <td>0.0019527744563354998,0.0016939927337585416,0....</td>\n",
       "      <td>InChI=1S/C22H23ClN2O8/c1-21(32)7-6-8-15(25(2)3...</td>\n",
       "      <td>DHPRQBPJLMKORJ</td>\n",
       "      <td>479.1230</td>\n",
       "      <td>[M+H]+</td>\n",
       "      <td>478.115724</td>\n",
       "      <td>C22H23ClN2O8</td>\n",
       "      <td>C22H24ClN2O8</td>\n",
       "      <td>QTOF</td>\n",
       "      <td>NaN</td>\n",
       "      <td>MassSpecGymID0414171</td>\n",
       "      <td>C[C@@]1([C@H]2C[C@H]3[C@@H](C(=O)C(=C([C@]3(C(...</td>\n",
       "      <td>test</td>\n",
       "      <td>False</td>\n",
       "      <td>654</td>\n",
       "      <td>[M+H]+QTOFnone(0, 3)</td>\n",
       "    </tr>\n",
       "    <tr>\n",
       "      <th>231101</th>\n",
       "      <td>72.080132,102.233917,113.082344,113.121498,114...</td>\n",
       "      <td>0.021173783463613503,0.007516001055215398,0.03...</td>\n",
       "      <td>InChI=1S/C21H43N5O7/c1-9(25-3)13-6-5-10(22)19(...</td>\n",
       "      <td>CEAZRRDELHUEMR</td>\n",
       "      <td>478.3250</td>\n",
       "      <td>[M+H]+</td>\n",
       "      <td>477.317724</td>\n",
       "      <td>C21H43N5O7</td>\n",
       "      <td>C21H44N5O7</td>\n",
       "      <td>QTOF</td>\n",
       "      <td>NaN</td>\n",
       "      <td>MassSpecGymID0414172</td>\n",
       "      <td>C[C@H]([C@@H]1CC[C@H]([C@H](O1)O[C@@H]2[C@H](C...</td>\n",
       "      <td>val</td>\n",
       "      <td>False</td>\n",
       "      <td>144</td>\n",
       "      <td>[M+H]+QTOFnone(3, 5]</td>\n",
       "    </tr>\n",
       "    <tr>\n",
       "      <th>231102</th>\n",
       "      <td>55.053627,56.455425,58.065819,67.053543,82.065...</td>\n",
       "      <td>0.031731527156456024,0.017878400151027027,0.07...</td>\n",
       "      <td>InChI=1S/C21H43N5O7/c1-9(25-3)13-6-5-10(22)19(...</td>\n",
       "      <td>CEAZRRDELHUEMR</td>\n",
       "      <td>478.3250</td>\n",
       "      <td>[M+H]+</td>\n",
       "      <td>477.317724</td>\n",
       "      <td>C21H43N5O7</td>\n",
       "      <td>C21H44N5O7</td>\n",
       "      <td>QTOF</td>\n",
       "      <td>NaN</td>\n",
       "      <td>MassSpecGymID0414173</td>\n",
       "      <td>C[C@H]([C@@H]1CC[C@H]([C@H](O1)O[C@@H]2[C@H](C...</td>\n",
       "      <td>val</td>\n",
       "      <td>False</td>\n",
       "      <td>144</td>\n",
       "      <td>[M+H]+QTOFnone(3, 5]</td>\n",
       "    </tr>\n",
       "    <tr>\n",
       "      <th>231103</th>\n",
       "      <td>55.055058,56.049213,57.05315,58.064835,58.0875...</td>\n",
       "      <td>0.1514287137530871,0.09596071713375486,0.06401...</td>\n",
       "      <td>InChI=1S/C21H43N5O7/c1-9(25-3)13-6-5-10(22)19(...</td>\n",
       "      <td>CEAZRRDELHUEMR</td>\n",
       "      <td>478.3250</td>\n",
       "      <td>[M+H]+</td>\n",
       "      <td>477.317724</td>\n",
       "      <td>C21H43N5O7</td>\n",
       "      <td>C21H44N5O7</td>\n",
       "      <td>QTOF</td>\n",
       "      <td>NaN</td>\n",
       "      <td>MassSpecGymID0414174</td>\n",
       "      <td>C[C@H]([C@@H]1CC[C@H]([C@H](O1)O[C@@H]2[C@H](C...</td>\n",
       "      <td>val</td>\n",
       "      <td>False</td>\n",
       "      <td>144</td>\n",
       "      <td>[M+H]+QTOFnone(3, 5]</td>\n",
       "    </tr>\n",
       "  </tbody>\n",
       "</table>\n",
       "<p>231104 rows × 17 columns</p>\n",
       "</div>"
      ],
      "text/plain": [
       "                                                      mzs  \\\n",
       "0       91.0542,125.0233,154.0499,155.0577,185.0961,20...   \n",
       "1       91.0542,125.0233,155.0577,185.0961,229.0859,24...   \n",
       "2       69.0343,91.0542,125.0233,127.039,153.0699,154....   \n",
       "3       69.0343,91.0542,110.06,111.0441,112.0393,120.0...   \n",
       "4       91.0542,125.0233,185.0961,229.0859,246.1125,28...   \n",
       "...                                                   ...   \n",
       "231099  55.054474,58.029369,58.065601,59.049339,69.032...   \n",
       "231100  72.043739,86.060242,98.058304,99.0634,126.0537...   \n",
       "231101  72.080132,102.233917,113.082344,113.121498,114...   \n",
       "231102  55.053627,56.455425,58.065819,67.053543,82.065...   \n",
       "231103  55.055058,56.049213,57.05315,58.064835,58.0875...   \n",
       "\n",
       "                                              intensities  \\\n",
       "0       0.24524524524524524,1.0,0.08008008008008008,0....   \n",
       "1       0.0990990990990991,0.28128128128128127,0.04004...   \n",
       "2       0.03403403403403404,0.31431431431431434,1.0,0....   \n",
       "3       0.17917917917917917,0.47347347347347346,0.0380...   \n",
       "4       0.07807807807807808,0.1841841841841842,0.03503...   \n",
       "...                                                   ...   \n",
       "231099  0.0004935684823754727,0.00012405427491363124,0...   \n",
       "231100  0.0019527744563354998,0.0016939927337585416,0....   \n",
       "231101  0.021173783463613503,0.007516001055215398,0.03...   \n",
       "231102  0.031731527156456024,0.017878400151027027,0.07...   \n",
       "231103  0.1514287137530871,0.09596071713375486,0.06401...   \n",
       "\n",
       "                                                    inchi        inchikey  \\\n",
       "0       InChI=1S/C16H17NO4/c1-11(18)17-14(8-12-6-4-3-5...  VFMQMACUYWGDOJ   \n",
       "1       InChI=1S/C16H17NO4/c1-11(18)17-14(8-12-6-4-3-5...  VFMQMACUYWGDOJ   \n",
       "2       InChI=1S/C16H17NO4/c1-11(18)17-14(8-12-6-4-3-5...  VFMQMACUYWGDOJ   \n",
       "3       InChI=1S/C16H17NO4/c1-11(18)17-14(8-12-6-4-3-5...  VFMQMACUYWGDOJ   \n",
       "4       InChI=1S/C16H17NO4/c1-11(18)17-14(8-12-6-4-3-5...  VFMQMACUYWGDOJ   \n",
       "...                                                   ...             ...   \n",
       "231099  InChI=1S/C46H77NO17/c1-13-33-30(22-58-45-42(57...  WBPYTXDJUQJLPQ   \n",
       "231100  InChI=1S/C22H23ClN2O8/c1-21(32)7-6-8-15(25(2)3...  DHPRQBPJLMKORJ   \n",
       "231101  InChI=1S/C21H43N5O7/c1-9(25-3)13-6-5-10(22)19(...  CEAZRRDELHUEMR   \n",
       "231102  InChI=1S/C21H43N5O7/c1-9(25-3)13-6-5-10(22)19(...  CEAZRRDELHUEMR   \n",
       "231103  InChI=1S/C21H43N5O7/c1-9(25-3)13-6-5-10(22)19(...  CEAZRRDELHUEMR   \n",
       "\n",
       "        precursor_mz  adduct  parent_mass       formula precursor_formula  \\\n",
       "0           288.1225  [M+H]+   287.115224     C16H17NO4         C16H18NO4   \n",
       "1           288.1225  [M+H]+   287.115224     C16H17NO4         C16H18NO4   \n",
       "2           288.1225  [M+H]+   287.115224     C16H17NO4         C16H18NO4   \n",
       "3           288.1225  [M+H]+   287.115224     C16H17NO4         C16H18NO4   \n",
       "4           288.1225  [M+H]+   287.115224     C16H17NO4         C16H18NO4   \n",
       "...              ...     ...          ...           ...               ...   \n",
       "231099      916.5290  [M+H]+   915.521724    C46H77NO17        C46H78NO17   \n",
       "231100      479.1230  [M+H]+   478.115724  C22H23ClN2O8      C22H24ClN2O8   \n",
       "231101      478.3250  [M+H]+   477.317724    C21H43N5O7        C21H44N5O7   \n",
       "231102      478.3250  [M+H]+   477.317724    C21H43N5O7        C21H44N5O7   \n",
       "231103      478.3250  [M+H]+   477.317724    C21H43N5O7        C21H44N5O7   \n",
       "\n",
       "       instrument_type  collision_energy            identifier  \\\n",
       "0                 ITFT              30.0  MassSpecGymID0000001   \n",
       "1                 ITFT              20.0  MassSpecGymID0000002   \n",
       "2                 ITFT              40.0  MassSpecGymID0000003   \n",
       "3                 ITFT              55.0  MassSpecGymID0000004   \n",
       "4                 ITFT              10.0  MassSpecGymID0000005   \n",
       "...                ...               ...                   ...   \n",
       "231099            QTOF               NaN  MassSpecGymID0414168   \n",
       "231100            QTOF               NaN  MassSpecGymID0414171   \n",
       "231101            QTOF               NaN  MassSpecGymID0414172   \n",
       "231102            QTOF               NaN  MassSpecGymID0414173   \n",
       "231103            QTOF               NaN  MassSpecGymID0414174   \n",
       "\n",
       "                                                   smiles   fold  \\\n",
       "0           CC(=O)N[C@@H](CC1=CC=CC=C1)C2=CC(=CC(=O)O2)OC  train   \n",
       "1           CC(=O)N[C@@H](CC1=CC=CC=C1)C2=CC(=CC(=O)O2)OC  train   \n",
       "2           CC(=O)N[C@@H](CC1=CC=CC=C1)C2=CC(=CC(=O)O2)OC  train   \n",
       "3           CC(=O)N[C@@H](CC1=CC=CC=C1)C2=CC(=CC(=O)O2)OC  train   \n",
       "4           CC(=O)N[C@@H](CC1=CC=CC=C1)C2=CC(=CC(=O)O2)OC  train   \n",
       "...                                                   ...    ...   \n",
       "231099  CC[C@@H]1[C@H](/C=C(/C=C\\C(=O)[C@@H](C[C@@H]([...    val   \n",
       "231100  C[C@@]1([C@H]2C[C@H]3[C@@H](C(=O)C(=C([C@]3(C(...   test   \n",
       "231101  C[C@H]([C@@H]1CC[C@H]([C@H](O1)O[C@@H]2[C@H](C...    val   \n",
       "231102  C[C@H]([C@@H]1CC[C@H]([C@H](O1)O[C@@H]2[C@H](C...    val   \n",
       "231103  C[C@H]([C@@H]1CC[C@H]([C@H](O1)O[C@@H]2[C@H](C...    val   \n",
       "\n",
       "        simulation_challenge  cluster     stratification_group  \n",
       "0                       True      108   [M+H]+ITFT30.0(5, 100]  \n",
       "1                       True      108   [M+H]+ITFT20.0(5, 100]  \n",
       "2                       True      108  [M+H]+ITFTother(5, 100]  \n",
       "3                       True      108  [M+H]+ITFTother(5, 100]  \n",
       "4                       True      108   [M+H]+ITFT10.0(5, 100]  \n",
       "...                      ...      ...                      ...  \n",
       "231099                 False     1383     [M+H]+QTOFnone(0, 3)  \n",
       "231100                 False      654     [M+H]+QTOFnone(0, 3)  \n",
       "231101                 False      144     [M+H]+QTOFnone(3, 5]  \n",
       "231102                 False      144     [M+H]+QTOFnone(3, 5]  \n",
       "231103                 False      144     [M+H]+QTOFnone(3, 5]  \n",
       "\n",
       "[231104 rows x 17 columns]"
      ]
     },
     "execution_count": 18,
     "metadata": {},
     "output_type": "execute_result"
    }
   ],
   "source": [
    "df"
   ]
  },
  {
   "cell_type": "code",
   "execution_count": 19,
   "metadata": {},
   "outputs": [],
   "source": [
    "df = df_split.drop(columns=['cluster', 'stratification_group'])\n",
    "df.to_csv('../../data/data/MassSpecGym_split.tsv', sep='\\t', index=False)"
   ]
  }
 ],
 "metadata": {
  "kernelspec": {
   "display_name": "massspecgym",
   "language": "python",
   "name": "python3"
  },
  "language_info": {
   "codemirror_mode": {
    "name": "ipython",
    "version": 3
   },
   "file_extension": ".py",
   "mimetype": "text/x-python",
   "name": "python",
   "nbconvert_exporter": "python",
   "pygments_lexer": "ipython3",
   "version": "3.11.9"
  }
 },
 "nbformat": 4,
 "nbformat_minor": 2
}
