{
 "cells": [
  {
   "cell_type": "code",
   "execution_count": 12,
   "metadata": {},
   "outputs": [],
   "source": [
    "import pandas as pd\n",
    "import numpy as np\n",
    "import json\n",
    "from tqdm import tqdm\n",
    "tqdm.pandas()\n",
    "from matchms import Spectrum\n",
    "from matchms.exporting import save_as_mgf\n",
    "from pathlib import Path"
   ]
  },
  {
   "cell_type": "code",
   "execution_count": 18,
   "metadata": {},
   "outputs": [
    {
     "data": {
      "text/plain": [
       "231104"
      ]
     },
     "execution_count": 18,
     "metadata": {},
     "output_type": "execute_result"
    }
   ],
   "source": [
    "df = pd.read_csv('../../data/data/MassSpecGym_with_test.tsv', sep='\\t')\n",
    "len(df)"
   ]
  },
  {
   "cell_type": "code",
   "execution_count": 17,
   "metadata": {},
   "outputs": [],
   "source": [
    "df = df[df['fold'] != 'test']\n",
    "df.to_csv('../../data/data/MassSpecGym.tsv', sep='\\t', index=False)"
   ]
  },
  {
   "cell_type": "markdown",
   "metadata": {},
   "source": [
    "### Convert final dataset to `.mgf`"
   ]
  },
  {
   "cell_type": "code",
   "execution_count": 5,
   "metadata": {},
   "outputs": [
    {
     "name": "stderr",
     "output_type": "stream",
     "text": [
      "100%|██████████| 213548/213548 [00:19<00:00, 10688.26it/s]\n"
     ]
    }
   ],
   "source": [
    "out_pth = Path('../../data/data/auxiliary/MassSpecGym.mgf')\n",
    "# out_pth = Path('../../data/data/auxiliary/MassSpecGym_with_test.mgf')\n",
    "\n",
    "spectra = []\n",
    "for i, row in tqdm(df.iterrows(), total=len(df)):\n",
    "    spec = Spectrum(\n",
    "        mz=row['mzs'],\n",
    "        intensities=row['intensities'],\n",
    "        metadata={k: v for k, v in row.items() if k not in ['mzs', 'intensities']}\n",
    "    )\n",
    "    spectra.append(spec)\n",
    "save_as_mgf(spectra, str(out_pth))"
   ]
  },
  {
   "cell_type": "markdown",
   "metadata": {},
   "source": [
    "### Convert final dataset to `.ms` files\n",
    "The cell below was reproduced from https://github.com/samgoldman97/mist/blob/4c23d34fc82425ad5474a53e10b4622dcdbca479/src/mist/utils/parse_utils.py#L71"
   ]
  },
  {
   "cell_type": "code",
   "execution_count": 6,
   "metadata": {},
   "outputs": [],
   "source": [
    "from typing import List, Tuple\n",
    "import numpy as np\n",
    "\n",
    "def spec_to_ms_str(\n",
    "    spec: List[Tuple[str, np.ndarray]], essential_keys: dict, comments: dict = {}\n",
    ") -> str:\n",
    "    \"\"\"spec_to_ms_str.\n",
    "\n",
    "    Turn spec ars and info dicts into str for output file\n",
    "\n",
    "\n",
    "    Args:\n",
    "        spec (List[Tuple[str, np.ndarray]]): spec\n",
    "        essential_keys (dict): essential_keys\n",
    "        comments (dict): comments\n",
    "\n",
    "    Returns:\n",
    "        str:\n",
    "    \"\"\"\n",
    "\n",
    "    def pair_rows(rows):\n",
    "        return \"\\n\".join([f\"{i} {j}\" for i, j in rows])\n",
    "\n",
    "    header = \"\\n\".join(f\">{k} {v}\" for k, v in essential_keys.items())\n",
    "    # comments = \"\\n\".join(f\"#{k} {v}\" for k, v in essential_keys.items())\n",
    "    spec_strs = [f\">{name}\\n{pair_rows(ar)}\" for name, ar in spec]\n",
    "    spec_str = \"\\n\\n\".join(spec_strs)\n",
    "    output = f\"{header}\\n\\n{spec_str}\"\n",
    "    return output"
   ]
  },
  {
   "cell_type": "code",
   "execution_count": 7,
   "metadata": {},
   "outputs": [],
   "source": [
    "tgt_dir = Path('../../data/data/auxiliary')\n",
    "(tgt_dir / 'MassSpecGym_ms_files' / 'spec_files').mkdir(exist_ok=True, parents=True)\n",
    "(tgt_dir / 'MassSpecGym_ms_files' / 'splits').mkdir(exist_ok=True, parents=True)"
   ]
  },
  {
   "cell_type": "code",
   "execution_count": 9,
   "metadata": {},
   "outputs": [
    {
     "name": "stderr",
     "output_type": "stream",
     "text": [
      "213548it [00:40, 5226.96it/s]\n"
     ]
    }
   ],
   "source": [
    "for i, row in tqdm(df.iterrows()):\n",
    "    spec = np.stack([\n",
    "        row['mzs'],\n",
    "        row['intensities']\n",
    "    ]).T\n",
    "\n",
    "    ms_str = spec_to_ms_str(\n",
    "        [('ms2peaks', spec)],\n",
    "        essential_keys={\n",
    "            'compound': i,\n",
    "            'formula': row['formula'],\n",
    "            'parentmass': row['parent_mass'],\n",
    "            'ionization': '[M + H]+' if row['adduct'] == '[M+H]+' else '[M + Na]+',\n",
    "            'InChIKey': row['inchikey'],\n",
    "        },\n",
    "    )\n",
    "\n",
    "    with open(tgt_dir / 'MassSpecGym_ms_files' / 'spec_files' / f\"{i}.ms\", \"w\") as f:\n",
    "        f.write(ms_str)"
   ]
  },
  {
   "cell_type": "code",
   "execution_count": 10,
   "metadata": {},
   "outputs": [],
   "source": [
    "df_split = df.reset_index()[['identifier', 'fold']]\n",
    "df_split = df_split.rename(columns={'identifier': 'name'})\n",
    "df_split.to_csv(tgt_dir / 'MassSpecGym_ms_files' / 'splits' / 'split.csv', index=False)"
   ]
  },
  {
   "cell_type": "markdown",
   "metadata": {},
   "source": [
    "### Remove test SMILES from candidate lists"
   ]
  },
  {
   "cell_type": "code",
   "execution_count": null,
   "metadata": {},
   "outputs": [],
   "source": [
    "dev_dir = Path('/Users/roman/HuggingFaceHub/MassSpecGym_dev')\n",
    "tgt_dir = Path('/Users/roman/HuggingFaceHub/MassSpecGym')\n",
    "for cands_suffix in ['formula', 'mass']:\n",
    "    with open(dev_dir / f'data/molecules/MassSpecGym_retrieval_candidates_{cands_suffix}.json', 'r') as f:\n",
    "        cands = json.load(f)\n",
    "    print(len(cands.keys()))\n",
    "    smiles = set(df['smiles'])\n",
    "    cands = {k: v for k, v in cands.items() if k in smiles}\n",
    "    print(len(cands.keys()))\n",
    "    with open(tgt_dir / f'data/molecules/MassSpecGym_retrieval_candidates_{cands_suffix}.json', 'w') as f:\n",
    "        json.dump(cands, f)"
   ]
  }
 ],
 "metadata": {
  "kernelspec": {
   "display_name": "massspecgym",
   "language": "python",
   "name": "python3"
  },
  "language_info": {
   "codemirror_mode": {
    "name": "ipython",
    "version": 3
   },
   "file_extension": ".py",
   "mimetype": "text/x-python",
   "name": "python",
   "nbconvert_exporter": "python",
   "pygments_lexer": "ipython3",
   "version": "3.11.9"
  }
 },
 "nbformat": 4,
 "nbformat_minor": 2
}
