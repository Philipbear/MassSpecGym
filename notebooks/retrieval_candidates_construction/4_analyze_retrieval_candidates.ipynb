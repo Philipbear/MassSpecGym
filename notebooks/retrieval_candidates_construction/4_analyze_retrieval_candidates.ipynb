{
 "cells": [
  {
   "cell_type": "code",
   "execution_count": 1,
   "metadata": {},
   "outputs": [],
   "source": [
    "%load_ext autoreload\n",
    "%autoreload 2"
   ]
  },
  {
   "cell_type": "code",
   "execution_count": 8,
   "metadata": {},
   "outputs": [],
   "source": [
    "import json\n",
    "\n",
    "import matplotlib.pyplot as plt\n",
    "import pandas as pd\n",
    "from rdkit import RDLogger\n",
    "from pandarallel import pandarallel\n",
    "\n",
    "import massspecgym.utils as utils"
   ]
  },
  {
   "cell_type": "code",
   "execution_count": 3,
   "metadata": {},
   "outputs": [
    {
     "name": "stdout",
     "output_type": "stream",
     "text": [
      "INFO: Pandarallel will run on 6 workers.\n",
      "INFO: Pandarallel will use standard multiprocessing data transfer (pipe) to transfer data between the main process and workers.\n"
     ]
    }
   ],
   "source": [
    "# Suppress RDKit warnings and errors\n",
    "lg = RDLogger.logger()\n",
    "lg.setLevel(RDLogger.CRITICAL)\n",
    "\n",
    "pandarallel.initialize(nb_workers=6, progress_bar=True)"
   ]
  },
  {
   "cell_type": "code",
   "execution_count": 11,
   "metadata": {},
   "outputs": [
    {
     "data": {
      "application/vnd.jupyter.widget-view+json": {
       "model_id": "19de82cc25764d9e91690d174b2113df",
       "version_major": 2,
       "version_minor": 0
      },
      "text/plain": [
       "(…)ssSpecGym_retrieval_candidates_mass.json:   0%|          | 0.00/455M [00:00<?, ?B/s]"
      ]
     },
     "metadata": {},
     "output_type": "display_data"
    }
   ],
   "source": [
    "with open(utils.hugging_face_download('molecules/MassSpecGym_retrieval_candidates_mass.json')) as f:\n",
    "    cands_mass = json.load(f)\n",
    "cands_mass = pd.DataFrame({'smiles': cands_mass.keys(), 'cands': cands_mass.values()})\n",
    "\n",
    "with open(utils.hugging_face_download('molecules/MassSpecGym_retrieval_candidates_formula.json')) as f:\n",
    "    cands_formula = json.load(f)\n",
    "cands_formula = pd.DataFrame({'smiles': cands_formula.keys(), 'cands': cands_formula.values()})\n",
    "\n",
    "# with open('./MassSpecGym_retrieval_candidates_mass.json') as f:\n",
    "#     cands_mass = json.load(f)\n",
    "# cands_mass = pd.DataFrame({'smiles': cands_mass.keys(), 'cands': cands_mass.values()})\n",
    "\n",
    "# with open('./MassSpecGym_retrieval_candidates_formula.json') as f:\n",
    "#     cands_formula = json.load(f)\n",
    "# cands_formula = pd.DataFrame({'smiles': cands_formula.keys(), 'cands': cands_formula.values()})"
   ]
  },
  {
   "attachments": {},
   "cell_type": "markdown",
   "metadata": {},
   "source": [
    "## Number of candidates"
   ]
  },
  {
   "cell_type": "code",
   "execution_count": 9,
   "metadata": {},
   "outputs": [
    {
     "data": {
      "image/png": "[encoded data removed]",
      "text/plain": [
       "<Figure size 640x480 with 1 Axes>"
      ]
     },
     "metadata": {},
     "output_type": "display_data"
    },
    {
     "data": {
      "text/plain": [
       "n_cands\n",
       "256    30948\n",
       "115       14\n",
       "243       13\n",
       "157       13\n",
       "230       11\n",
       "       ...  \n",
       "12         1\n",
       "31         1\n",
       "60         1\n",
       "66         1\n",
       "30         1\n",
       "Name: count, Length: 225, dtype: int64"
      ]
     },
     "execution_count": 9,
     "metadata": {},
     "output_type": "execute_result"
    }
   ],
   "source": [
    "cands_mass['n_cands'] = cands_mass['cands'].apply(len)\n",
    "cands_mass['n_cands'].hist(bins=100)\n",
    "plt.show()\n",
    "cands_mass['n_cands'].value_counts()"
   ]
  },
  {
   "cell_type": "code",
   "execution_count": 10,
   "metadata": {},
   "outputs": [
    {
     "data": {
      "image/png": "[encoded data removed]",
      "text/plain": [
       "<Figure size 640x480 with 1 Axes>"
      ]
     },
     "metadata": {},
     "output_type": "display_data"
    },
    {
     "data": {
      "text/plain": [
       "n_cands\n",
       "256    23137\n",
       "1        128\n",
       "5        104\n",
       "4        103\n",
       "7         93\n",
       "       ...  \n",
       "175       12\n",
       "200       12\n",
       "247       12\n",
       "232       11\n",
       "255        8\n",
       "Name: count, Length: 256, dtype: int64"
      ]
     },
     "execution_count": 10,
     "metadata": {},
     "output_type": "execute_result"
    }
   ],
   "source": [
    "cands_formula['n_cands'] = cands_formula['cands'].apply(len)\n",
    "cands_formula['n_cands'].hist(bins=100)\n",
    "plt.show()\n",
    "cands_formula['n_cands'].value_counts()"
   ]
  },
  {
   "attachments": {},
   "cell_type": "markdown",
   "metadata": {},
   "source": [
    "## Number of positive samples among candidates"
   ]
  },
  {
   "cell_type": "code",
   "execution_count": 5,
   "metadata": {},
   "outputs": [
    {
     "data": {
      "application/vnd.jupyter.widget-view+json": {
       "model_id": "0bcac65925da4011beca3af398285335",
       "version_major": 2,
       "version_minor": 0
      },
      "text/plain": [
       "VBox(children=(HBox(children=(IntProgress(value=0, description='0.00%', max=5335), Label(value='0 / 5335'))), …"
      ]
     },
     "metadata": {},
     "output_type": "display_data"
    },
    {
     "data": {
      "text/plain": [
       "n_pos\n",
       "1    32010\n",
       "Name: count, dtype: int64"
      ]
     },
     "execution_count": 5,
     "metadata": {},
     "output_type": "execute_result"
    }
   ],
   "source": [
    "def n_pos(row):\n",
    "    inchi_true = utils.smiles_to_inchi_key(row['smiles'])\n",
    "    return sum(utils.smiles_to_inchi_key(c) == inchi_true for c in row['cands'])\n",
    "\n",
    "cands_mass['n_pos'] = cands_mass.parallel_apply(n_pos, axis=1)\n",
    "cands_mass['n_pos'].value_counts()"
   ]
  },
  {
   "cell_type": "code",
   "execution_count": 6,
   "metadata": {},
   "outputs": [
    {
     "data": {
      "application/vnd.jupyter.widget-view+json": {
       "model_id": "229220dc6cf34c6ba7349019fed880e7",
       "version_major": 2,
       "version_minor": 0
      },
      "text/plain": [
       "VBox(children=(HBox(children=(IntProgress(value=0, description='0.00%', max=5335), Label(value='0 / 5335'))), …"
      ]
     },
     "metadata": {},
     "output_type": "display_data"
    },
    {
     "data": {
      "text/plain": [
       "n_pos\n",
       "1    32010\n",
       "Name: count, dtype: int64"
      ]
     },
     "execution_count": 6,
     "metadata": {},
     "output_type": "execute_result"
    }
   ],
   "source": [
    "def n_pos(row):\n",
    "    inchi_true = utils.smiles_to_inchi_key(row['smiles'])\n",
    "    return sum(utils.smiles_to_inchi_key(c) == inchi_true for c in row['cands'])\n",
    "\n",
    "cands_formula['n_pos'] = cands_formula.parallel_apply(n_pos, axis=1)\n",
    "cands_formula['n_pos'].value_counts()"
   ]
  },
  {
   "attachments": {},
   "cell_type": "markdown",
   "metadata": {},
   "source": [
    "## Analyze InChiKeys of queries"
   ]
  },
  {
   "cell_type": "code",
   "execution_count": 10,
   "metadata": {},
   "outputs": [
    {
     "data": {
      "text/plain": [
       "(32010, 29294)"
      ]
     },
     "execution_count": 10,
     "metadata": {},
     "output_type": "execute_result"
    }
   ],
   "source": [
    "len(cands_mass['smiles']), cands_mass['smiles'].apply(utils.smiles_to_inchi_key).nunique()"
   ]
  }
 ],
 "metadata": {
  "kernelspec": {
   "display_name": "massspecgym",
   "language": "python",
   "name": "python3"
  },
  "language_info": {
   "codemirror_mode": {
    "name": "ipython",
    "version": 3
   },
   "file_extension": ".py",
   "mimetype": "text/x-python",
   "name": "python",
   "nbconvert_exporter": "python",
   "pygments_lexer": "ipython3",
   "version": "3.11.9"
  },
  "orig_nbformat": 4
 },
 "nbformat": 4,
 "nbformat_minor": 2
}
