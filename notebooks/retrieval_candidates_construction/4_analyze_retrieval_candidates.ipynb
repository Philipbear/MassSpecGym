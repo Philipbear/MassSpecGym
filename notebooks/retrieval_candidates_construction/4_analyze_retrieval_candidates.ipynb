{
 "cells": [
  {
   "cell_type": "code",
   "execution_count": 1,
   "metadata": {},
   "outputs": [],
   "source": [
    "%load_ext autoreload\n",
    "%autoreload 2"
   ]
  },
  {
   "cell_type": "code",
   "execution_count": 6,
   "metadata": {},
   "outputs": [],
   "source": [
    "import json\n",
    "\n",
    "import pandas as pd\n",
    "from rdkit import RDLogger\n",
    "from pandarallel import pandarallel\n",
    "\n",
    "import massspecgym.utils as utils"
   ]
  },
  {
   "cell_type": "code",
   "execution_count": 7,
   "metadata": {},
   "outputs": [
    {
     "name": "stdout",
     "output_type": "stream",
     "text": [
      "INFO: Pandarallel will run on 6 workers.\n",
      "INFO: Pandarallel will use standard multiprocessing data transfer (pipe) to transfer data between the main process and workers.\n"
     ]
    }
   ],
   "source": [
    "# Suppress RDKit warnings and errors\n",
    "lg = RDLogger.logger()\n",
    "lg.setLevel(RDLogger.CRITICAL)\n",
    "\n",
    "pandarallel.initialize(nb_workers=6, progress_bar=True)"
   ]
  },
  {
   "cell_type": "code",
   "execution_count": 4,
   "metadata": {},
   "outputs": [],
   "source": [
    "with open(utils.hugging_face_download('molecules/MassSpecGym_retrieval_candidates_mass.json')) as f:\n",
    "    cands_mass = json.load(f)\n",
    "cands_mass = pd.DataFrame({'smiles': cands_mass.keys(), 'cands': cands_mass.values()})\n",
    "\n",
    "with open(utils.hugging_face_download('molecules/MassSpecGym_retrieval_candidates_formula.json')) as f:\n",
    "    cands_formula = json.load(f)\n",
    "cands_formula = pd.DataFrame({'smiles': cands_formula.keys(), 'cands': cands_formula.values()})"
   ]
  },
  {
   "attachments": {},
   "cell_type": "markdown",
   "metadata": {},
   "source": [
    "## Number of positive samples among candidates"
   ]
  },
  {
   "cell_type": "code",
   "execution_count": 8,
   "metadata": {},
   "outputs": [
    {
     "data": {
      "application/vnd.jupyter.widget-view+json": {
       "model_id": "707726f922f645bf8ff3030b35bb593a",
       "version_major": 2,
       "version_minor": 0
      },
      "text/plain": [
       "VBox(children=(HBox(children=(IntProgress(value=0, description='0.00%', max=5600), Label(value='0 / 5600'))), …"
      ]
     },
     "metadata": {},
     "output_type": "display_data"
    },
    {
     "data": {
      "text/plain": [
       "n_pos\n",
       "1      24875\n",
       "2       4306\n",
       "3       1453\n",
       "4        689\n",
       "5        451\n",
       "       ...  \n",
       "103        1\n",
       "81         1\n",
       "129        1\n",
       "85         1\n",
       "64         1\n",
       "Name: count, Length: 80, dtype: int64"
      ]
     },
     "execution_count": 8,
     "metadata": {},
     "output_type": "execute_result"
    }
   ],
   "source": [
    "def n_pos(row):\n",
    "    inchi_true = utils.smiles_to_inchi_key(row['smiles'])\n",
    "    return sum(utils.smiles_to_inchi_key(c) == inchi_true for c in row['cands'])\n",
    "\n",
    "cands_mass['n_pos'] = cands_mass.parallel_apply(n_pos, axis=1)\n",
    "cands_mass['n_pos'].value_counts()"
   ]
  },
  {
   "cell_type": "code",
   "execution_count": 9,
   "metadata": {},
   "outputs": [
    {
     "data": {
      "application/vnd.jupyter.widget-view+json": {
       "model_id": "3b65e5c7406343329311ace386de0cd6",
       "version_major": 2,
       "version_minor": 0
      },
      "text/plain": [
       "VBox(children=(HBox(children=(IntProgress(value=0, description='0.00%', max=5600), Label(value='0 / 5600'))), …"
      ]
     },
     "metadata": {},
     "output_type": "display_data"
    },
    {
     "data": {
      "text/plain": [
       "n_pos\n",
       "1      14161\n",
       "2       7197\n",
       "3       2619\n",
       "4       2064\n",
       "5       1150\n",
       "       ...  \n",
       "181        1\n",
       "119        1\n",
       "108        1\n",
       "133        1\n",
       "176        1\n",
       "Name: count, Length: 139, dtype: int64"
      ]
     },
     "execution_count": 9,
     "metadata": {},
     "output_type": "execute_result"
    }
   ],
   "source": [
    "def n_pos(row):\n",
    "    inchi_true = utils.smiles_to_inchi_key(row['smiles'])\n",
    "    return sum(utils.smiles_to_inchi_key(c) == inchi_true for c in row['cands'])\n",
    "\n",
    "cands_formula['n_pos'] = cands_formula.parallel_apply(n_pos, axis=1)\n",
    "cands_formula['n_pos'].value_counts()"
   ]
  }
 ],
 "metadata": {
  "kernelspec": {
   "display_name": "massspecgym",
   "language": "python",
   "name": "python3"
  },
  "language_info": {
   "codemirror_mode": {
    "name": "ipython",
    "version": 3
   },
   "file_extension": ".py",
   "mimetype": "text/x-python",
   "name": "python",
   "nbconvert_exporter": "python",
   "pygments_lexer": "ipython3",
   "version": "3.11.9"
  },
  "orig_nbformat": 4
 },
 "nbformat": 4,
 "nbformat_minor": 2
}
