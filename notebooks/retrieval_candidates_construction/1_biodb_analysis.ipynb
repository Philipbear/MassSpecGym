{
 "cells": [
  {
   "cell_type": "code",
   "execution_count": 1,
   "metadata": {},
   "outputs": [],
   "source": [
    "import pandas as pd\n",
    "import seaborn as sns\n",
    "import matplotlib.pyplot as plt\n",
    "import json\n",
    "import massspecgym.utils as utils\n",
    "from pandarallel import pandarallel\n",
    "from matchms.importing import load_from_mgf\n",
    "from tqdm import tqdm\n",
    "tqdm.pandas()\n",
    "from rdkit import Chem\n",
    "from rdkit.Chem.rdMolDescriptors import CalcMolFormula, CalcExactMolWt\n",
    "utils.init_plotting(figsize=(4, 4))\n",
    "%reload_ext autoreload\n",
    "%autoreload 2"
   ]
  },
  {
   "cell_type": "code",
   "execution_count": 2,
   "metadata": {},
   "outputs": [
    {
     "data": {
      "text/plain": [
       "((1032456, 5),\n",
       " Index(['smiles', 'inchi_key_2D', 'inchi', 'formula', 'weight'], dtype='object'))"
      ]
     },
     "execution_count": 2,
     "metadata": {},
     "output_type": "execute_result"
    }
   ],
   "source": [
    "df_1M = pd.read_csv(utils.hugging_face_download('MassSpecGym_candidate_molecules.tsv'), sep='\\t')\n",
    "df_1M.shape, df_1M.columns"
   ]
  },
  {
   "cell_type": "code",
   "execution_count": 4,
   "metadata": {},
   "outputs": [
    {
     "data": {
      "text/plain": [
       "((3891780, 4),\n",
       " Index(['smiles', 'inchikey', 'weight', 'formula'], dtype='object'))"
      ]
     },
     "execution_count": 4,
     "metadata": {},
     "output_type": "execute_result"
    }
   ],
   "source": [
    "df_4M = pd.read_csv(utils.hugging_face_download('MassSpecGym_unlabeled_molecules.tsv'), sep='\\t')\n",
    "df_4M.shape, df_4M.columns"
   ]
  },
  {
   "cell_type": "code",
   "execution_count": 5,
   "metadata": {},
   "outputs": [
    {
     "data": {
      "text/plain": [
       "(448979, 37151)"
      ]
     },
     "execution_count": 5,
     "metadata": {},
     "output_type": "execute_result"
    }
   ],
   "source": [
    "spectra = list(load_from_mgf(utils.hugging_face_download('MassSpecGym_labeled_data.mgf')))\n",
    "smiles = pd.Series([s.metadata['smiles'] for s in spectra])\n",
    "smiles = smiles.apply(lambda x: Chem.MolToSmiles(Chem.MolFromSmiles(x)))\n",
    "smiles = smiles.drop_duplicates()\n",
    "len(spectra), len(smiles)"
   ]
  },
  {
   "cell_type": "code",
   "execution_count": 9,
   "metadata": {},
   "outputs": [],
   "source": [
    "smiles_std = pd.Series(utils.standardize_smiles(smiles.tolist()))\n",
    "len(smiles_std), len(smiles_std.dropna()), len(smiles_std.drop_duplicates())"
   ]
  },
  {
   "cell_type": "code",
   "execution_count": 35,
   "metadata": {},
   "outputs": [],
   "source": [
    "def get_candidates(query_smiles, df, cand_type='formula'):\n",
    "    candidates = {}\n",
    "    n_queries_absent_in_db = 0\n",
    "    for s in tqdm(query_smiles):\n",
    "        if cand_type == 'formula':\n",
    "            formula = CalcMolFormula(Chem.MolFromSmiles(s))\n",
    "            candidates[s] = df['smiles'][df['formula'] == formula].tolist()\n",
    "        elif cand_type == 'mass':\n",
    "            mass = CalcExactMolWt(Chem.MolFromSmiles(s))\n",
    "            mass_eps = mass * 1e-6 * 10  # 10 ppm\n",
    "            candidates[s] = df['smiles'][(df['weight'] - mass).abs() < mass_eps].tolist()\n",
    "        else:\n",
    "            raise ValueError(f'Unknown candidates type {cand_type}.')\n",
    "\n",
    "        if s not in candidates[s]:\n",
    "            n_queries_absent_in_db += 1\n",
    "            candidates[s].append(s)\n",
    "    print('Number of queries absent in the database:', n_queries_absent_in_db)\n",
    "    return candidates"
   ]
  },
  {
   "cell_type": "code",
   "execution_count": 13,
   "metadata": {},
   "outputs": [
    {
     "name": "stderr",
     "output_type": "stream",
     "text": [
      "100%|██████████| 37151/37151 [20:34<00:00, 30.10it/s]"
     ]
    },
    {
     "name": "stdout",
     "output_type": "stream",
     "text": [
      "Number of queries absent in the database: 36572\n"
     ]
    },
    {
     "name": "stderr",
     "output_type": "stream",
     "text": [
      "\n"
     ]
    }
   ],
   "source": [
    "cands_formula_1M = get_candidates(smiles, df_1M, cand_type='formula')"
   ]
  },
  {
   "cell_type": "code",
   "execution_count": 14,
   "metadata": {},
   "outputs": [
    {
     "name": "stderr",
     "output_type": "stream",
     "text": [
      "100%|██████████| 37151/37151 [1:15:29<00:00,  8.20it/s]"
     ]
    },
    {
     "name": "stdout",
     "output_type": "stream",
     "text": [
      "Number of queries absent in the database: 37151\n"
     ]
    },
    {
     "name": "stderr",
     "output_type": "stream",
     "text": [
      "\n"
     ]
    }
   ],
   "source": [
    "cands_formula_4M = get_candidates(smiles, df_4M, cand_type='formula')"
   ]
  },
  {
   "cell_type": "code",
   "execution_count": 36,
   "metadata": {},
   "outputs": [
    {
     "name": "stderr",
     "output_type": "stream",
     "text": [
      "100%|██████████| 37151/37151 [01:06<00:00, 562.49it/s]\n"
     ]
    },
    {
     "name": "stdout",
     "output_type": "stream",
     "text": [
      "Number of queries absent in the database: 36528\n"
     ]
    },
    {
     "name": "stderr",
     "output_type": "stream",
     "text": [
      "100%|██████████| 37151/37151 [04:18<00:00, 143.55it/s]"
     ]
    },
    {
     "name": "stdout",
     "output_type": "stream",
     "text": [
      "Number of queries absent in the database: 37151\n"
     ]
    },
    {
     "name": "stderr",
     "output_type": "stream",
     "text": [
      "\n"
     ]
    }
   ],
   "source": [
    "cands_mass_1M = get_candidates(smiles, df_1M, cand_type='mass')\n",
    "cands_mass_4M = get_candidates(smiles, df_4M, cand_type='mass')"
   ]
  },
  {
   "cell_type": "code",
   "execution_count": 130,
   "metadata": {},
   "outputs": [
    {
     "data": {
      "text/html": [
       "<div>\n",
       "<style scoped>\n",
       "    .dataframe tbody tr th:only-of-type {\n",
       "        vertical-align: middle;\n",
       "    }\n",
       "\n",
       "    .dataframe tbody tr th {\n",
       "        vertical-align: top;\n",
       "    }\n",
       "\n",
       "    .dataframe thead th {\n",
       "        text-align: right;\n",
       "    }\n",
       "</style>\n",
       "<table border=\"1\" class=\"dataframe\">\n",
       "  <thead>\n",
       "    <tr style=\"text-align: right;\">\n",
       "      <th></th>\n",
       "      <th>Num. candidates</th>\n",
       "      <th>Database</th>\n",
       "      <th>Type</th>\n",
       "    </tr>\n",
       "  </thead>\n",
       "  <tbody>\n",
       "    <tr>\n",
       "      <th>0</th>\n",
       "      <td>89</td>\n",
       "      <td>1M</td>\n",
       "      <td>Formula</td>\n",
       "    </tr>\n",
       "    <tr>\n",
       "      <th>1</th>\n",
       "      <td>101</td>\n",
       "      <td>1M</td>\n",
       "      <td>Formula</td>\n",
       "    </tr>\n",
       "    <tr>\n",
       "      <th>2</th>\n",
       "      <td>24</td>\n",
       "      <td>1M</td>\n",
       "      <td>Formula</td>\n",
       "    </tr>\n",
       "    <tr>\n",
       "      <th>3</th>\n",
       "      <td>20</td>\n",
       "      <td>1M</td>\n",
       "      <td>Formula</td>\n",
       "    </tr>\n",
       "    <tr>\n",
       "      <th>4</th>\n",
       "      <td>15</td>\n",
       "      <td>1M</td>\n",
       "      <td>Formula</td>\n",
       "    </tr>\n",
       "    <tr>\n",
       "      <th>...</th>\n",
       "      <td>...</td>\n",
       "      <td>...</td>\n",
       "      <td>...</td>\n",
       "    </tr>\n",
       "    <tr>\n",
       "      <th>37146</th>\n",
       "      <td>629</td>\n",
       "      <td>4M</td>\n",
       "      <td>Mass</td>\n",
       "    </tr>\n",
       "    <tr>\n",
       "      <th>37147</th>\n",
       "      <td>98</td>\n",
       "      <td>4M</td>\n",
       "      <td>Mass</td>\n",
       "    </tr>\n",
       "    <tr>\n",
       "      <th>37148</th>\n",
       "      <td>1295</td>\n",
       "      <td>4M</td>\n",
       "      <td>Mass</td>\n",
       "    </tr>\n",
       "    <tr>\n",
       "      <th>37149</th>\n",
       "      <td>850</td>\n",
       "      <td>4M</td>\n",
       "      <td>Mass</td>\n",
       "    </tr>\n",
       "    <tr>\n",
       "      <th>37150</th>\n",
       "      <td>1256</td>\n",
       "      <td>4M</td>\n",
       "      <td>Mass</td>\n",
       "    </tr>\n",
       "  </tbody>\n",
       "</table>\n",
       "<p>148604 rows × 3 columns</p>\n",
       "</div>"
      ],
      "text/plain": [
       "       Num. candidates Database     Type\n",
       "0                   89       1M  Formula\n",
       "1                  101       1M  Formula\n",
       "2                   24       1M  Formula\n",
       "3                   20       1M  Formula\n",
       "4                   15       1M  Formula\n",
       "...                ...      ...      ...\n",
       "37146              629       4M     Mass\n",
       "37147               98       4M     Mass\n",
       "37148             1295       4M     Mass\n",
       "37149              850       4M     Mass\n",
       "37150             1256       4M     Mass\n",
       "\n",
       "[148604 rows x 3 columns]"
      ]
     },
     "execution_count": 130,
     "metadata": {},
     "output_type": "execute_result"
    }
   ],
   "source": [
    "num_cands_df = []\n",
    "for cands, db_name, cand_type in [(cands_formula_1M, '1M', 'Formula'), (cands_formula_4M, '4M', 'Formula'), (cands_mass_1M, '1M', 'Mass'), (cands_mass_4M, '4M', 'Mass')]:\n",
    "    num_cands_df.append(pd.DataFrame({\n",
    "        'Num. candidates': [len(cands[s]) - 1 for s in smiles],\n",
    "        'Database': db_name,\n",
    "        'Type': cand_type\n",
    "    }))\n",
    "num_cands_df = pd.concat(num_cands_df)\n",
    "num_cands_df"
   ]
  },
  {
   "cell_type": "code",
   "execution_count": 163,
   "metadata": {},
   "outputs": [
    {
     "data": {
      "text/plain": [
       "<Axes: xlabel='Database', ylabel='Num. candidates'>"
      ]
     },
     "execution_count": 163,
     "metadata": {},
     "output_type": "execute_result"
    },
    {
     "data": {
      "image/png": "[encoded data removed]",
      "text/plain": [
       "<Figure size 300x300 with 1 Axes>"
      ]
     },
     "metadata": {},
     "output_type": "display_data"
    }
   ],
   "source": [
    "utils.init_plotting(figsize=(3, 3))\n",
    "sns.boxplot(data=num_cands_df, x='Database', y='Num. candidates', hue='Type')"
   ]
  },
  {
   "cell_type": "code",
   "execution_count": 160,
   "metadata": {},
   "outputs": [
    {
     "data": {
      "text/html": [
       "<div>\n",
       "<style scoped>\n",
       "    .dataframe tbody tr th:only-of-type {\n",
       "        vertical-align: middle;\n",
       "    }\n",
       "\n",
       "    .dataframe tbody tr th {\n",
       "        vertical-align: top;\n",
       "    }\n",
       "\n",
       "    .dataframe thead th {\n",
       "        text-align: right;\n",
       "    }\n",
       "</style>\n",
       "<table border=\"1\" class=\"dataframe\">\n",
       "  <thead>\n",
       "    <tr style=\"text-align: right;\">\n",
       "      <th></th>\n",
       "      <th>Num. candidates &lt; k [%]</th>\n",
       "      <th>Database</th>\n",
       "      <th>Type</th>\n",
       "      <th>k</th>\n",
       "    </tr>\n",
       "  </thead>\n",
       "  <tbody>\n",
       "    <tr>\n",
       "      <th>0</th>\n",
       "      <td>6.355145</td>\n",
       "      <td>1M</td>\n",
       "      <td>Formula</td>\n",
       "      <td>1</td>\n",
       "    </tr>\n",
       "    <tr>\n",
       "      <th>1</th>\n",
       "      <td>0.398374</td>\n",
       "      <td>1M</td>\n",
       "      <td>Mass</td>\n",
       "      <td>1</td>\n",
       "    </tr>\n",
       "    <tr>\n",
       "      <th>2</th>\n",
       "      <td>6.373987</td>\n",
       "      <td>4M</td>\n",
       "      <td>Formula</td>\n",
       "      <td>1</td>\n",
       "    </tr>\n",
       "    <tr>\n",
       "      <th>3</th>\n",
       "      <td>0.309548</td>\n",
       "      <td>4M</td>\n",
       "      <td>Mass</td>\n",
       "      <td>1</td>\n",
       "    </tr>\n",
       "    <tr>\n",
       "      <th>4</th>\n",
       "      <td>28.346478</td>\n",
       "      <td>1M</td>\n",
       "      <td>Formula</td>\n",
       "      <td>5</td>\n",
       "    </tr>\n",
       "    <tr>\n",
       "      <th>5</th>\n",
       "      <td>2.624425</td>\n",
       "      <td>1M</td>\n",
       "      <td>Mass</td>\n",
       "      <td>5</td>\n",
       "    </tr>\n",
       "    <tr>\n",
       "      <th>6</th>\n",
       "      <td>16.260666</td>\n",
       "      <td>4M</td>\n",
       "      <td>Formula</td>\n",
       "      <td>5</td>\n",
       "    </tr>\n",
       "    <tr>\n",
       "      <th>7</th>\n",
       "      <td>1.491212</td>\n",
       "      <td>4M</td>\n",
       "      <td>Mass</td>\n",
       "      <td>5</td>\n",
       "    </tr>\n",
       "    <tr>\n",
       "      <th>8</th>\n",
       "      <td>39.646308</td>\n",
       "      <td>1M</td>\n",
       "      <td>Formula</td>\n",
       "      <td>10</td>\n",
       "    </tr>\n",
       "    <tr>\n",
       "      <th>9</th>\n",
       "      <td>5.684908</td>\n",
       "      <td>1M</td>\n",
       "      <td>Mass</td>\n",
       "      <td>10</td>\n",
       "    </tr>\n",
       "    <tr>\n",
       "      <th>10</th>\n",
       "      <td>23.391026</td>\n",
       "      <td>4M</td>\n",
       "      <td>Formula</td>\n",
       "      <td>10</td>\n",
       "    </tr>\n",
       "    <tr>\n",
       "      <th>11</th>\n",
       "      <td>2.863988</td>\n",
       "      <td>4M</td>\n",
       "      <td>Mass</td>\n",
       "      <td>10</td>\n",
       "    </tr>\n",
       "    <tr>\n",
       "      <th>12</th>\n",
       "      <td>52.765740</td>\n",
       "      <td>1M</td>\n",
       "      <td>Formula</td>\n",
       "      <td>20</td>\n",
       "    </tr>\n",
       "    <tr>\n",
       "      <th>13</th>\n",
       "      <td>11.030659</td>\n",
       "      <td>1M</td>\n",
       "      <td>Mass</td>\n",
       "      <td>20</td>\n",
       "    </tr>\n",
       "    <tr>\n",
       "      <th>14</th>\n",
       "      <td>32.820113</td>\n",
       "      <td>4M</td>\n",
       "      <td>Formula</td>\n",
       "      <td>20</td>\n",
       "    </tr>\n",
       "    <tr>\n",
       "      <th>15</th>\n",
       "      <td>5.216549</td>\n",
       "      <td>4M</td>\n",
       "      <td>Mass</td>\n",
       "      <td>20</td>\n",
       "    </tr>\n",
       "  </tbody>\n",
       "</table>\n",
       "</div>"
      ],
      "text/plain": [
       "    Num. candidates < k [%] Database     Type   k\n",
       "0                  6.355145       1M  Formula   1\n",
       "1                  0.398374       1M     Mass   1\n",
       "2                  6.373987       4M  Formula   1\n",
       "3                  0.309548       4M     Mass   1\n",
       "4                 28.346478       1M  Formula   5\n",
       "5                  2.624425       1M     Mass   5\n",
       "6                 16.260666       4M  Formula   5\n",
       "7                  1.491212       4M     Mass   5\n",
       "8                 39.646308       1M  Formula  10\n",
       "9                  5.684908       1M     Mass  10\n",
       "10                23.391026       4M  Formula  10\n",
       "11                 2.863988       4M     Mass  10\n",
       "12                52.765740       1M  Formula  20\n",
       "13                11.030659       1M     Mass  20\n",
       "14                32.820113       4M  Formula  20\n",
       "15                 5.216549       4M     Mass  20"
      ]
     },
     "execution_count": 160,
     "metadata": {},
     "output_type": "execute_result"
    }
   ],
   "source": [
    "df_cands_at_k = []\n",
    "for k in [1, 5, 10, 20]:\n",
    "    for d in num_cands_df['Database'].unique():\n",
    "        for t in num_cands_df['Type'].unique():\n",
    "            df_subset = num_cands_df[(num_cands_df['Database'] == d) & (num_cands_df['Type'] == t)]\n",
    "            df_cands_at_k.append({\n",
    "                'Num. candidates < k [%]': (df_subset['Num. candidates'] < k).sum() / len(df_subset) * 100,\n",
    "                'Database': d,\n",
    "                'Type': t,\n",
    "                'k': k\n",
    "            })\n",
    "df_cands_at_k = pd.DataFrame(df_cands_at_k)\n",
    "df_cands_at_k"
   ]
  },
  {
   "cell_type": "code",
   "execution_count": 161,
   "metadata": {},
   "outputs": [
    {
     "data": {
      "image/png": "[encoded data removed]",
      "text/plain": [
       "<Figure size 200x200 with 1 Axes>"
      ]
     },
     "metadata": {},
     "output_type": "display_data"
    },
    {
     "data": {
      "image/png": "[encoded data removed]",
      "text/plain": [
       "<Figure size 200x200 with 1 Axes>"
      ]
     },
     "metadata": {},
     "output_type": "display_data"
    },
    {
     "data": {
      "image/png": "[encoded data removed]",
      "text/plain": [
       "<Figure size 200x200 with 1 Axes>"
      ]
     },
     "metadata": {},
     "output_type": "display_data"
    },
    {
     "data": {
      "image/png": "[encoded data removed]",
      "text/plain": [
       "<Figure size 200x200 with 1 Axes>"
      ]
     },
     "metadata": {},
     "output_type": "display_data"
    }
   ],
   "source": [
    "utils.init_plotting(figsize=(2, 2))\n",
    "for k in df_cands_at_k['k'].unique():\n",
    "    sns.barplot(data=df_cands_at_k[df_cands_at_k['k'] == k], x='Database', y='Num. candidates < k [%]', hue='Type', hue_order=['Formula', 'Mass'])\n",
    "    plt.ylabel(f'Number of candidates < {k} [%]')\n",
    "    plt.show()"
   ]
  },
  {
   "cell_type": "code",
   "execution_count": 180,
   "metadata": {},
   "outputs": [
    {
     "name": "stderr",
     "output_type": "stream",
     "text": [
      "100%|██████████| 37151/37151 [17:06<00:00, 36.19it/s] \n"
     ]
    },
    {
     "data": {
      "text/plain": [
       "<Axes: ylabel='Count'>"
      ]
     },
     "execution_count": 180,
     "metadata": {},
     "output_type": "execute_result"
    },
    {
     "data": {
      "image/png": "[encoded data removed]",
      "text/plain": [
       "<Figure size 300x300 with 1 Axes>"
      ]
     },
     "metadata": {},
     "output_type": "display_data"
    }
   ],
   "source": [
    "def smiles_to_inchi2d(smiles):\n",
    "    return Chem.MolToInchiKey(Chem.MolFromSmiles(smiles)).split('-')[0]\n",
    "\n",
    "num_cands_same_inchi = []\n",
    "for k, v in tqdm(cands_formula_4M.items()):\n",
    "    k_inchi = smiles_to_inchi2d(k)\n",
    "    num_cands_same_inchi.append(sum([smiles_to_inchi2d(s) == k_inchi for s in v]))\n",
    "num_cands_same_inchi = pd.Series(num_cands_same_inchi)\n",
    "sns.histplot(num_cands_same_inchi, discrete=True)"
   ]
  },
  {
   "cell_type": "code",
   "execution_count": 164,
   "metadata": {},
   "outputs": [],
   "source": [
    "with open('../../data/candidates_formula_1M.json', 'w') as f:\n",
    "    json.dump(cands_formula_1M, f)\n",
    "with open('../../data/candidates_formula_4M.json', 'w') as f:\n",
    "    json.dump(cands_formula_4M, f)\n",
    "with open('../../data/candidates_mass_1M.json', 'w') as f:\n",
    "    json.dump(cands_mass_1M, f)\n",
    "with open('../../data/candidates_mass_4M.json', 'w') as f:\n",
    "    json.dump(cands_mass_4M, f)"
   ]
  }
 ],
 "metadata": {
  "kernelspec": {
   "display_name": "massspecgym",
   "language": "python",
   "name": "python3"
  },
  "language_info": {
   "codemirror_mode": {
    "name": "ipython",
    "version": 3
   },
   "file_extension": ".py",
   "mimetype": "text/x-python",
   "name": "python",
   "nbconvert_exporter": "python",
   "pygments_lexer": "ipython3",
   "version": "3.11.0"
  }
 },
 "nbformat": 4,
 "nbformat_minor": 2
}
