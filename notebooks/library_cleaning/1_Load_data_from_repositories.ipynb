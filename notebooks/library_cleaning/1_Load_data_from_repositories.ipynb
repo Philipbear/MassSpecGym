{
 "cells": [
  {
   "cell_type": "markdown",
   "id": "b5e36c74-17c4-425e-9668-afe26a076e1a",
   "metadata": {},
   "source": [
    "### Load mass spec data\n",
    "Libraries are downloaded on 13/05/2024 from:\n",
    "- GNPS: https://gnps-external.ucsd.edu/gnpslibrary\n",
    "- Mona: https://mona.fiehnlab.ucdavis.edu/downloads\n",
    "- MassBank: https://github.com/MassBank/MassBank-data/releases\n",
    "- Public libary created in https://doi.org/10.26434/chemrxiv-2024-l1tqh Downloaded from: https://zenodo.org/records/11163381 From now on named Corinna Bruns Library."
   ]
  },
  {
   "cell_type": "markdown",
   "id": "009ba127-ec58-42a0-b3f0-d2138186b626",
   "metadata": {},
   "source": [
    "From GNPS the following libraries were downloaded:\n",
    "'BERKELEY-LAB.mgf',\n",
    " 'BILELIB19.mgf',\n",
    " 'BIRMINGHAM-UHPLC-MS-NEG.mgf',\n",
    " 'BIRMINGHAM-UHPLC-MS-POS.mgf',\n",
    " 'BMDMS-NP.mgf',\n",
    " 'CASMI.mgf',\n",
    " 'DRUGS-OF-ABUSE-LIBRARY.mgf',\n",
    " 'ECG-ACYL-AMIDES-C4-C24-LIBRARY.mgf',\n",
    " 'ECG-ACYL-ESTERS-C4-C24-LIBRARY.mgf',\n",
    " 'GNPS-COLLECTIONS-MISC.mgf',\n",
    " 'GNPS-COLLECTIONS-PESTICIDES-NEGATIVE.mgf',\n",
    " 'GNPS-COLLECTIONS-PESTICIDES-POSITIVE.mgf',\n",
    " 'GNPS-D2-AMINO-LIPID-LIBRARY.mgf',\n",
    " 'GNPS-EMBL-MCF.mgf',\n",
    " 'GNPS-FAULKNERLEGACY.mgf',\n",
    " 'GNPS-IOBA-NHC.mgf',\n",
    " 'GNPS-LIBRARY.mgf',\n",
    " 'GNPS-MSMLS.mgf',\n",
    " 'GNPS-NIH-CLINICALCOLLECTION1.mgf',\n",
    " 'GNPS-NIH-CLINICALCOLLECTION2.mgf',\n",
    " 'GNPS-NIH-NATURALPRODUCTSLIBRARY.mgf',\n",
    " 'GNPS-NIH-NATURALPRODUCTSLIBRARY_ROUND2_NEGATIVE.mgf',\n",
    " 'GNPS-NIH-NATURALPRODUCTSLIBRARY_ROUND2_POSITIVE.mgf',\n",
    " 'GNPS-NIH-SMALLMOLECULEPHARMACOLOGICALLYACTIVE.mgf',\n",
    " 'GNPS-NIST14-MATCHES.mgf',\n",
    " 'GNPS-NUTRI-METAB-FEM-NEG.mgf',\n",
    " 'GNPS-NUTRI-METAB-FEM-POS.mgf',\n",
    " 'GNPS-PRESTWICKPHYTOCHEM.mgf',\n",
    " 'GNPS-SAM-SIK-KANG-LEGACY-LIBRARY.mgf',\n",
    " 'GNPS-SCIEX-LIBRARY.mgf',\n",
    " 'GNPS-SELLECKCHEM-FDA-PART1.mgf',\n",
    " 'GNPS-SELLECKCHEM-FDA-PART2.mgf',\n",
    " 'HCE-CELL-LYSATE-LIPIDS.mgf',\n",
    " 'HMDB.mgf',\n",
    " 'IQAMDB.mgf',\n",
    " 'LDB_NEGATIVE.mgf',\n",
    " 'LDB_POSITIVE.mgf',\n",
    " 'MIADB.mgf',\n",
    " 'MMV_NEGATIVE.mgf',\n",
    " 'MMV_POSITIVE.mgf',\n",
    " 'PNNL-LIPIDS-NEGATIVE.mgf',\n",
    " 'PNNL-LIPIDS-POSITIVE.mgf',\n",
    " 'PSU-MSMLS.mgf',\n",
    " 'RESPECT.mgf',\n",
    " 'SUMNER.mgf',\n",
    " 'UM-NPDC.mgf'"
   ]
  },
  {
   "cell_type": "markdown",
   "id": "e2d5fc30-0731-431a-b03f-62522a423d03",
   "metadata": {},
   "source": [
    "From Mona the following libraries were downloaded: \"LC-MS Spectra\""
   ]
  },
  {
   "cell_type": "markdown",
   "id": "4afcbdba-8948-45e0-960a-442dcd8267a9",
   "metadata": {},
   "source": [
    "From MassBank version 2023.11 was downloaded"
   ]
  },
  {
   "cell_type": "markdown",
   "id": "3dea4c19-4a7b-456e-86de-98df23d10b9b",
   "metadata": {},
   "source": [
    "From https://zenodo.org/records/11163381 the files \"20231031_nihnp_library_neg_all_lib_MSn.mgf\", \"20231130_mcescaf_library_neg_all_lib_MSn.mgf\",\n",
    "\"20231130_otavapep_library_neg_all_lib_MSn.mgf\", \"20240411_mcebio_library_neg_all_lib_MSn.mgf\",                  \"20231031_nihnp_library_pos_all_lib_MSn.mgf\", \"20231130_mcescaf_library_pos_all_lib_MSn.mgf\",                  \"20231130_otavapep_library_pos_all_lib_MSn.mgf\", \"20240411_mcebio_library_pos_all_lib_MSn.mgf\" where downloaded"
   ]
  },
  {
   "cell_type": "markdown",
   "id": "90acb368-1df1-494e-869b-4a623c649d28",
   "metadata": {},
   "source": [
    "## Remove merged spectra\n",
    "Corinna Bruns library contained merged spectra, which were removed."
   ]
  },
  {
   "cell_type": "code",
   "execution_count": 2,
   "id": "c4ee9416-3082-4d46-a3db-53fc2c347065",
   "metadata": {},
   "outputs": [],
   "source": [
    "raw_library_folder = \"unprocessed_libraries/\""
   ]
  },
  {
   "cell_type": "code",
   "execution_count": null,
   "id": "c87ea549-3e54-4555-a8f2-207a59221bf1",
   "metadata": {},
   "outputs": [
    {
     "name": "stderr",
     "output_type": "stream",
     "text": [
      "100%|██████████████████████████████████████████████████████████████████████████████████████████████████████████████████████████████████████████████████████████████████████████████████████████| 85569/85569 [00:05<00:00, 16038.92it/s]\n",
      "100%|██████████████████████████████████████████████████████████████████████████████████████████████████████████████████████████████████████████████████████████████████████████████████████████| 75704/75704 [00:04<00:00, 15853.53it/s]\n",
      "100%|██████████████████████████████████████████████████████████████████████████████████████████████████████████████████████████████████████████████████████████████████████████████████████████| 31955/31955 [00:02<00:00, 15686.76it/s]\n",
      "100%|████████████████████████████████████████████████████████████████████████████████████████████████████████████████████████████████████████████████████████████████████████████████████████| 130364/130364 [00:08<00:00, 15309.93it/s]\n",
      "100%|████████████████████████████████████████████████████████████████████████████████████████████████████████████████████████████████████████████████████████████████████████████████████████| 122837/122837 [00:08<00:00, 15293.52it/s]\n"
     ]
    }
   ],
   "source": [
    "from matchms.importing.load_from_mgf import load_from_mgf\n",
    "from matchms.exporting.save_as_mgf import save_as_mgf\n",
    "from tqdm import tqdm\n",
    "import os\n",
    "\n",
    "corinna_bruns_library = []\n",
    "for file_name in (\"20231031_nihnp_library_neg_all_lib_MSn.mgf\", \"20231130_mcescaf_library_neg_all_lib_MSn.mgf\",\n",
    "                  \"20231130_otavapep_library_neg_all_lib_MSn.mgf\", \"20240411_mcebio_library_neg_all_lib_MSn.mgf\",\n",
    "                  \"20231031_nihnp_library_pos_all_lib_MSn.mgf\", \"20231130_mcescaf_library_pos_all_lib_MSn.mgf\",\n",
    "                  \"20231130_otavapep_library_pos_all_lib_MSn.mgf\", \"20240411_mcebio_library_pos_all_lib_MSn.mgf\"):\n",
    "    spectra = list(load_from_mgf(os.path.join(raw_library_folder, file_name)))\n",
    "    for spectrum in tqdm(spectra):\n",
    "        if spectrum.get(\"spectype\") is None:\n",
    "            corinna_bruns_library.append(spectrum)\n"
   ]
  },
  {
   "cell_type": "code",
   "execution_count": null,
   "id": "8283796f-7585-4964-a67c-2e064d127bcb",
   "metadata": {},
   "outputs": [],
   "source": [
    "save_as_mgf(corinna_bruns_library, os.path.join(raw_library_folder, \"ms2_spectra_corinna.mgf\"))"
   ]
  },
  {
   "cell_type": "markdown",
   "id": "8a5b1c1b-f27b-4d7b-82c4-bf40f517b081",
   "metadata": {},
   "source": [
    "## Download GNPS Library"
   ]
  },
  {
   "cell_type": "code",
   "execution_count": 16,
   "id": "b7f830d1-7fa2-4a46-9e1f-86fa76011551",
   "metadata": {},
   "outputs": [
    {
     "name": "stdout",
     "output_type": "stream",
     "text": [
      "File downloaded successfully and saved as BERKELEY-LAB.mgf\n",
      "File downloaded successfully and saved as BILELIB19.mgf\n",
      "File downloaded successfully and saved as BIRMINGHAM-UHPLC-MS-NEG.mgf\n",
      "File downloaded successfully and saved as BIRMINGHAM-UHPLC-MS-POS.mgf\n",
      "File downloaded successfully and saved as BMDMS-NP.mgf\n",
      "File downloaded successfully and saved as CASMI.mgf\n",
      "File downloaded successfully and saved as DRUGS-OF-ABUSE-LIBRARY.mgf\n",
      "File downloaded successfully and saved as ECG-ACYL-AMIDES-C4-C24-LIBRARY.mgf\n",
      "File downloaded successfully and saved as ECG-ACYL-ESTERS-C4-C24-LIBRARY.mgf\n",
      "File downloaded successfully and saved as GNPS-COLLECTIONS-MISC.mgf\n",
      "File downloaded successfully and saved as GNPS-COLLECTIONS-PESTICIDES-NEGATIVE.mgf\n",
      "File downloaded successfully and saved as GNPS-COLLECTIONS-PESTICIDES-POSITIVE.mgf\n",
      "File downloaded successfully and saved as GNPS-D2-AMINO-LIPID-LIBRARY.mgf\n",
      "File downloaded successfully and saved as GNPS-EMBL-MCF.mgf\n",
      "File downloaded successfully and saved as GNPS-FAULKNERLEGACY.mgf\n",
      "File downloaded successfully and saved as GNPS-IOBA-NHC.mgf\n",
      "File downloaded successfully and saved as GNPS-LIBRARY.mgf\n",
      "File downloaded successfully and saved as GNPS-MSMLS.mgf\n",
      "File downloaded successfully and saved as GNPS-NIH-CLINICALCOLLECTION1.mgf\n",
      "File downloaded successfully and saved as GNPS-NIH-CLINICALCOLLECTION2.mgf\n",
      "File downloaded successfully and saved as GNPS-NIH-NATURALPRODUCTSLIBRARY.mgf\n",
      "File downloaded successfully and saved as GNPS-NIH-NATURALPRODUCTSLIBRARY_ROUND2_NEGATIVE.mgf\n",
      "File downloaded successfully and saved as GNPS-NIH-NATURALPRODUCTSLIBRARY_ROUND2_POSITIVE.mgf\n",
      "File downloaded successfully and saved as GNPS-NIH-SMALLMOLECULEPHARMACOLOGICALLYACTIVE.mgf\n",
      "File downloaded successfully and saved as GNPS-NIST14-MATCHES.mgf\n",
      "File downloaded successfully and saved as GNPS-NUTRI-METAB-FEM-NEG.mgf\n",
      "File downloaded successfully and saved as GNPS-NUTRI-METAB-FEM-POS.mgf\n",
      "File downloaded successfully and saved as GNPS-PRESTWICKPHYTOCHEM.mgf\n",
      "File downloaded successfully and saved as GNPS-SAM-SIK-KANG-LEGACY-LIBRARY.mgf\n",
      "File downloaded successfully and saved as GNPS-SCIEX-LIBRARY.mgf\n",
      "File downloaded successfully and saved as GNPS-SELLECKCHEM-FDA-PART1.mgf\n",
      "File downloaded successfully and saved as GNPS-SELLECKCHEM-FDA-PART2.mgf\n",
      "File downloaded successfully and saved as HCE-CELL-LYSATE-LIPIDS.mgf\n",
      "File downloaded successfully and saved as HMDB.mgf\n",
      "File downloaded successfully and saved as IQAMDB.mgf\n",
      "File downloaded successfully and saved as LDB_NEGATIVE.mgf\n",
      "File downloaded successfully and saved as LDB_POSITIVE.mgf\n",
      "File downloaded successfully and saved as MIADB.mgf\n",
      "File downloaded successfully and saved as MMV_NEGATIVE.mgf\n",
      "File downloaded successfully and saved as MMV_POSITIVE.mgf\n",
      "File downloaded successfully and saved as PNNL-LIPIDS-NEGATIVE.mgf\n",
      "File downloaded successfully and saved as PNNL-LIPIDS-POSITIVE.mgf\n",
      "File downloaded successfully and saved as PSU-MSMLS.mgf\n",
      "File downloaded successfully and saved as RESPECT.mgf\n",
      "File downloaded successfully and saved as SUMNER.mgf\n",
      "File downloaded successfully and saved as UM-NPDC.mgf\n"
     ]
    }
   ],
   "source": [
    "import requests\n",
    " \n",
    "for file_name in ('BERKELEY-LAB.mgf', 'BILELIB19.mgf', 'BIRMINGHAM-UHPLC-MS-NEG.mgf', 'BIRMINGHAM-UHPLC-MS-POS.mgf', 'BMDMS-NP.mgf', 'CASMI.mgf', 'DRUGS-OF-ABUSE-LIBRARY.mgf', 'ECG-ACYL-AMIDES-C4-C24-LIBRARY.mgf', 'ECG-ACYL-ESTERS-C4-C24-LIBRARY.mgf', 'GNPS-COLLECTIONS-MISC.mgf', 'GNPS-COLLECTIONS-PESTICIDES-NEGATIVE.mgf', 'GNPS-COLLECTIONS-PESTICIDES-POSITIVE.mgf', 'GNPS-D2-AMINO-LIPID-LIBRARY.mgf', 'GNPS-EMBL-MCF.mgf', 'GNPS-FAULKNERLEGACY.mgf', 'GNPS-IOBA-NHC.mgf', 'GNPS-LIBRARY.mgf', 'GNPS-MSMLS.mgf', 'GNPS-NIH-CLINICALCOLLECTION1.mgf', 'GNPS-NIH-CLINICALCOLLECTION2.mgf', 'GNPS-NIH-NATURALPRODUCTSLIBRARY.mgf', 'GNPS-NIH-NATURALPRODUCTSLIBRARY_ROUND2_NEGATIVE.mgf', 'GNPS-NIH-NATURALPRODUCTSLIBRARY_ROUND2_POSITIVE.mgf', 'GNPS-NIH-SMALLMOLECULEPHARMACOLOGICALLYACTIVE.mgf', 'GNPS-NIST14-MATCHES.mgf', 'GNPS-NUTRI-METAB-FEM-NEG.mgf', 'GNPS-NUTRI-METAB-FEM-POS.mgf', 'GNPS-PRESTWICKPHYTOCHEM.mgf', 'GNPS-SAM-SIK-KANG-LEGACY-LIBRARY.mgf', 'GNPS-SCIEX-LIBRARY.mgf', 'GNPS-SELLECKCHEM-FDA-PART1.mgf', 'GNPS-SELLECKCHEM-FDA-PART2.mgf', 'HCE-CELL-LYSATE-LIPIDS.mgf', 'HMDB.mgf', 'IQAMDB.mgf', 'LDB_NEGATIVE.mgf', 'LDB_POSITIVE.mgf', 'MIADB.mgf', 'MMV_NEGATIVE.mgf', 'MMV_POSITIVE.mgf', 'PNNL-LIPIDS-NEGATIVE.mgf', 'PNNL-LIPIDS-POSITIVE.mgf', 'PSU-MSMLS.mgf', 'RESPECT.mgf', 'SUMNER.mgf', 'UM-NPDC.mgf'):\n",
    "    gnps_url = \"https://gnps-external.ucsd.edu/gnpslibrary/\" + file_name\n",
    "    response = requests.get(gnps_url)\n",
    "    # Check if the request was successful (status code 200)\n",
    "    if response.status_code == 200:\n",
    "        # Open the local file in write-binary mode and write the contents of the response\n",
    "        with open(os.path.join(raw_library_folder, file_name), 'wb') as f:\n",
    "            f.write(response.content)\n",
    "        print(f'File downloaded successfully and saved as {file_name}')\n",
    "    else:\n",
    "        print(f'Failed to download file. HTTP Status Code: {response.status_code}')\n",
    "        print(response)"
   ]
  },
  {
   "cell_type": "markdown",
   "id": "7d09030c-a9eb-40a7-9881-e41ad93869d2",
   "metadata": {},
   "source": [
    "## Merge libraries"
   ]
  },
  {
   "cell_type": "code",
   "execution_count": null,
   "id": "3355cb76-7443-493a-980d-bff690769c2e",
   "metadata": {},
   "outputs": [
    {
     "name": "stderr",
     "output_type": "stream",
     "text": [
      "117732it [01:13, 1603.60it/s]\n",
      "160993it [11:36, 231.03it/s] \n",
      "675902it [03:29, 3230.71it/s]\n",
      "25009it [00:05, 4334.92it/s]\n",
      "5008it [00:03, 1445.71it/s]\n",
      "7232it [00:01, 4592.55it/s]\n",
      "7058it [00:01, 4342.81it/s]\n",
      "227307it [00:55, 4082.86it/s]\n",
      "562it [00:00, 4516.46it/s]\n",
      "480it [00:00, 3085.45it/s]\n",
      "3144it [00:00, 3441.31it/s]\n",
      "496it [00:00, 3979.66it/s]\n",
      "46it [00:00, 2908.63it/s]\n",
      "76it [00:00, 3711.56it/s]\n",
      "653it [00:00, 1979.92it/s]\n",
      "54it [00:00, 2903.67it/s]\n",
      "585it [00:00, 4133.56it/s]\n",
      "127it [00:00, 3803.99it/s]\n",
      "196it [00:00, 1814.08it/s]\n",
      "14312it [00:10, 1384.05it/s]\n",
      "863it [00:00, 4029.58it/s]\n",
      "377it [00:00, 1084.91it/s]\n",
      "195it [00:00, 1427.39it/s]\n",
      "1267it [00:02, 464.49it/s]\n",
      "1863it [00:00, 3728.18it/s]\n",
      "7915it [00:04, 1826.42it/s]\n",
      "1460it [00:04, 308.64it/s]\n",
      "5763it [00:02, 2317.36it/s]\n",
      "2239it [00:00, 3332.39it/s]\n",
      "2543it [00:00, 2971.84it/s]\n",
      "143it [00:00, 651.02it/s]\n",
      "336it [00:00, 3417.52it/s]\n",
      "314it [00:00, 4816.63it/s]\n",
      "2388it [00:00, 2433.43it/s]\n",
      "656it [00:00, 730.12it/s]\n",
      "115it [00:00, 260.90it/s]\n",
      "2235it [00:00, 5026.01it/s]\n",
      "324it [00:00, 3550.48it/s]\n",
      "580it [00:01, 339.66it/s]\n",
      "700it [00:01, 418.23it/s] \n",
      "172it [00:00, 490.26it/s]\n",
      "47it [00:00, 3152.55it/s]\n",
      "110it [00:00, 1820.93it/s]\n",
      "16142it [00:04, 3522.35it/s]\n",
      "30582it [00:09, 3066.09it/s]\n",
      "576it [00:00, 3180.58it/s]\n",
      "7112it [00:01, 5123.85it/s]\n",
      "904it [00:00, 4715.83it/s]\n",
      "69it [00:00, 1441.68it/s]\n"
     ]
    }
   ],
   "source": [
    "from matchms.importing.load_spectra import load_spectra\n",
    "from matchms.exporting.save_as_mgf import save_as_mgf\n",
    "from tqdm import tqdm\n",
    "\n",
    "gnps_file_names = ('BERKELEY-LAB.mgf', 'BILELIB19.mgf', 'BIRMINGHAM-UHPLC-MS-NEG.mgf', 'BIRMINGHAM-UHPLC-MS-POS.mgf', 'BMDMS-NP.mgf', 'CASMI.mgf', 'DRUGS-OF-ABUSE-LIBRARY.mgf', 'ECG-ACYL-AMIDES-C4-C24-LIBRARY.mgf', 'ECG-ACYL-ESTERS-C4-C24-LIBRARY.mgf', 'GNPS-COLLECTIONS-MISC.mgf', 'GNPS-COLLECTIONS-PESTICIDES-NEGATIVE.mgf', 'GNPS-COLLECTIONS-PESTICIDES-POSITIVE.mgf', 'GNPS-D2-AMINO-LIPID-LIBRARY.mgf', 'GNPS-EMBL-MCF.mgf', 'GNPS-FAULKNERLEGACY.mgf', 'GNPS-IOBA-NHC.mgf', 'GNPS-LIBRARY.mgf', 'GNPS-MSMLS.mgf', 'GNPS-NIH-CLINICALCOLLECTION1.mgf', 'GNPS-NIH-CLINICALCOLLECTION2.mgf', 'GNPS-NIH-NATURALPRODUCTSLIBRARY.mgf', 'GNPS-NIH-NATURALPRODUCTSLIBRARY_ROUND2_NEGATIVE.mgf', 'GNPS-NIH-NATURALPRODUCTSLIBRARY_ROUND2_POSITIVE.mgf', 'GNPS-NIH-SMALLMOLECULEPHARMACOLOGICALLYACTIVE.mgf', 'GNPS-NIST14-MATCHES.mgf', 'GNPS-NUTRI-METAB-FEM-NEG.mgf', 'GNPS-NUTRI-METAB-FEM-POS.mgf', 'GNPS-PRESTWICKPHYTOCHEM.mgf', 'GNPS-SAM-SIK-KANG-LEGACY-LIBRARY.mgf', 'GNPS-SCIEX-LIBRARY.mgf', 'GNPS-SELLECKCHEM-FDA-PART1.mgf', 'GNPS-SELLECKCHEM-FDA-PART2.mgf', 'HCE-CELL-LYSATE-LIPIDS.mgf', 'HMDB.mgf', 'IQAMDB.mgf', 'LDB_NEGATIVE.mgf', 'LDB_POSITIVE.mgf', 'MIADB.mgf', 'MMV_NEGATIVE.mgf', 'MMV_POSITIVE.mgf', 'PNNL-LIPIDS-NEGATIVE.mgf', 'PNNL-LIPIDS-POSITIVE.mgf', 'PSU-MSMLS.mgf', 'RESPECT.mgf', 'SUMNER.mgf', 'UM-NPDC.mgf')\n",
    "spectra = []\n",
    "for file_name in (\"MassBank_NIST.msp\",\n",
    "                  \"MoNA-export-LC-MS_Spectra.msp\",\n",
    "                  \"ms2_spectra_corinna.mgf\",) + gnps_file_names:\n",
    "    spectrum_generator = load_spectra(os.path.join(raw_library_folder, file_name), metadata_harmonization=False)\n",
    "    for spectrum in tqdm(spectrum_generator):\n",
    "        spectra.append(spectrum)\n",
    "\n",
    "save_as_mgf(spectra, os.path.join(raw_library_folder, \"merged_libraries.mgf\"))"
   ]
  }
 ],
 "metadata": {
  "kernelspec": {
   "display_name": "Python 3 (ipykernel)",
   "language": "python",
   "name": "python3"
  },
  "language_info": {
   "codemirror_mode": {
    "name": "ipython",
    "version": 3
   },
   "file_extension": ".py",
   "mimetype": "text/x-python",
   "name": "python",
   "nbconvert_exporter": "python",
   "pygments_lexer": "ipython3",
   "version": "3.9.19"
  }
 },
 "nbformat": 4,
 "nbformat_minor": 5
}
