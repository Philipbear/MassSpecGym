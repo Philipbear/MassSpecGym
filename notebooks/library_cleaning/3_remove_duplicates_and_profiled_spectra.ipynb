{
 "cells": [
  {
   "cell_type": "markdown",
   "id": "6597a82d-bb6a-4ded-9434-95d274b78213",
   "metadata": {},
   "source": [
    "## Remove duplicates and profile spectra\n",
    "This notebooks removes duplicated spectra and removes profile spectra"
   ]
  },
  {
   "cell_type": "code",
   "execution_count": 2,
   "id": "6c15b292-570f-4a47-b8f9-de8d7d2fac6c",
   "metadata": {},
   "outputs": [
    {
     "name": "stderr",
     "output_type": "stream",
     "text": [
      "449721it [01:55, 3892.10it/s]\n"
     ]
    },
    {
     "data": {
      "text/plain": [
       "449721"
      ]
     },
     "execution_count": 2,
     "metadata": {},
     "output_type": "execute_result"
    }
   ],
   "source": [
    "from matchms.importing.load_from_mgf import load_from_mgf\n",
    "from tqdm import tqdm\n",
    "\n",
    "file_name = \"results_library_cleaning/cleaned_libraries.mgf\"\n",
    "cleaned_spectra = list(tqdm(load_from_mgf(file_name)))\n",
    "len(cleaned_spectra)"
   ]
  },
  {
   "cell_type": "code",
   "execution_count": 3,
   "id": "36da75d6-03e1-4600-b606-e6dea787450e",
   "metadata": {},
   "outputs": [
    {
     "name": "stderr",
     "output_type": "stream",
     "text": [
      "selecting spectra: 449721it [00:10, 43685.05it/s]\n"
     ]
    },
    {
     "name": "stdout",
     "output_type": "stream",
     "text": [
      "34938\n"
     ]
    },
    {
     "name": "stderr",
     "output_type": "stream",
     "text": [
      "looping inchikeys: 100%|██████████████████████████████████████████████████████████████████████████████████████████████████████████████████████████████████████████████████████████████████████████| 34938/34938 [53:01<00:00, 10.98it/s]\n"
     ]
    }
   ],
   "source": [
    "from matchms.exporting import save_as_mgf\n",
    "from matchms.importing import load_from_mgf\n",
    "from matchms.similarity.CosineGreedy import CosineGreedy\n",
    "from matchms import calculate_scores\n",
    "from tqdm import tqdm\n",
    "import numpy as np\n",
    "\n",
    "unique_inchikeys = {}\n",
    "# select unique inchikeys\n",
    "# save the spectrum index\n",
    "for i,  spectrum in tqdm(enumerate(cleaned_spectra), desc=\"selecting spectra\"):\n",
    "    inchikey = spectrum.get(\"inchikey\")\n",
    "    if inchikey is None:\n",
    "        print(\"Warning inchikey was None\")\n",
    "    if inchikey in unique_inchikeys:\n",
    "        unique_inchikeys[inchikey].append(i)\n",
    "    else:\n",
    "        unique_inchikeys[inchikey] = [i]\n",
    "print(len(unique_inchikeys))\n",
    "non_duplicate_spectra = []\n",
    "removed_spectra = []\n",
    "for inchikey in tqdm(unique_inchikeys, desc=\"looping inchikeys\"):\n",
    "    matching_spectra = []\n",
    "    for spectrum_idx in unique_inchikeys[inchikey]:\n",
    "        matching_spectra.append(cleaned_spectra[spectrum_idx])\n",
    "    scores = calculate_scores(references=matching_spectra,\n",
    "                              queries=matching_spectra,\n",
    "                              similarity_function=CosineGreedy())\n",
    "    scores_array = scores.to_array(name=\"CosineGreedy_score\")\n",
    "    indices = np.argwhere(scores_array == 1.0)\n",
    "\n",
    "    # Step 2: Filter out diagonal indices\n",
    "    non_diagonal_indices = [tuple(index) for index in indices if index[0] != index[1]]\n",
    "\n",
    "    indexes_removed = []\n",
    "    for index1, index2 in non_diagonal_indices:\n",
    "        if index1 not in indexes_removed and index2 not in indexes_removed:\n",
    "            indexes_removed.append(index1)\n",
    "    for i, spectrum in enumerate(matching_spectra):\n",
    "        if i not in indexes_removed:\n",
    "            non_duplicate_spectra.append(spectrum)\n",
    "        else:\n",
    "            removed_spectra.append(spectrum)\n"
   ]
  },
  {
   "cell_type": "code",
   "execution_count": 4,
   "id": "a4b931e9-f209-4365-a190-120aee881941",
   "metadata": {},
   "outputs": [
    {
     "data": {
      "text/plain": [
       "22504"
      ]
     },
     "execution_count": 4,
     "metadata": {},
     "output_type": "execute_result"
    }
   ],
   "source": [
    "len(removed_spectra)"
   ]
  },
  {
   "cell_type": "markdown",
   "id": "26ca18e4-52c9-42ed-a949-ab9710ee11e7",
   "metadata": {},
   "source": [
    "## Remove profiled spectra\n"
   ]
  },
  {
   "cell_type": "code",
   "execution_count": 5,
   "id": "9ef6fdcb-a09f-47f4-8432-cf5ea68b5f1e",
   "metadata": {},
   "outputs": [],
   "source": [
    "import logging\n",
    "import numpy as np\n",
    "from matchms.Spectrum import Spectrum\n",
    "\n",
    "\n",
    "logger = logging.getLogger(\"matchms\")\n",
    "\n",
    "\n",
    "def remove_profiled_spectra(spectrum: Spectrum, mz_window=0.5):\n",
    "    \"\"\"Remove profiled spectra\n",
    "\n",
    "    Spectra are removed if within the mz_window of 0.5 of the highest peak at least 2 peaks next to the main peak are of\n",
    "    intensity > max_intensity/2.\n",
    "\n",
    "    Reproduced from MZmine.\n",
    "    https://github.com/mzmine/mzmine3/blob/master/src/main/java/io/github/mzmine/util/scans/ScanUtils.java#L609\n",
    "    \"\"\"\n",
    "    peaks_n = spectrum.mz.shape[0]\n",
    "    if peaks_n < 3:\n",
    "        return spectrum\n",
    "\n",
    "    # mz_window = spectrum.mz[-1] - spectrum.mz[0] / 1000\n",
    "    number_of_high_intensity_surounding_peaks = _get_number_of_high_intensity_surounding_peaks(spectrum.intensities,\n",
    "                                                                                               spectrum.mz, mz_window)\n",
    "    if number_of_high_intensity_surounding_peaks < 3:\n",
    "        return spectrum\n",
    "    logger.info(\n",
    "        \"Spectrum removed because likely profile data.\"\n",
    "        \"Number of high intensity fragments next to the highest peak = %s.\",\n",
    "        number_of_high_intensity_surounding_peaks)\n",
    "    return None\n",
    "\n",
    "\n",
    "def _get_number_of_high_intensity_surounding_peaks(intensities, mz, mz_window):\n",
    "    base_peak_i = intensities.argmax()\n",
    "\n",
    "    intensities_within_mz_window = _select_intensities_within_mz_window(intensities, mz, mz_window)\n",
    "    nr_of_peaks_above_threshold_before_base_peak, nr_of_peaks_above_threshold_after_base_peak = _get_peak_intens_neighbourhood(intensities_within_mz_window)\n",
    "    base_peak_min_i = base_peak_i - nr_of_peaks_above_threshold_before_base_peak\n",
    "    base_peak_max_i = base_peak_i + nr_of_peaks_above_threshold_after_base_peak\n",
    "\n",
    "    number_of_high_intensity_surounding_peaks = base_peak_max_i - base_peak_min_i + 1\n",
    "    return number_of_high_intensity_surounding_peaks\n",
    "\n",
    "\n",
    "def _select_intensities_within_mz_window(intensities, mz, mz_span):\n",
    "    base_peak_i = intensities.argmax()\n",
    "    within_mz_window = (mz > mz[base_peak_i] - mz_span) & (mz < mz[base_peak_i] + mz_span)\n",
    "    intensities_within_mz_window = intensities[within_mz_window]\n",
    "    return intensities_within_mz_window\n",
    "\n",
    "\n",
    "def _get_peak_intens_neighbourhood(intensities):\n",
    "    \"\"\"\n",
    "    Returns the range of indices around the highest peak that are more than half the intensity of the highest peak.\n",
    "    \"\"\"\n",
    "\n",
    "    base_peak_i = intensities.argmax()\n",
    "    intensity_threshold = intensities[base_peak_i] / 2\n",
    "\n",
    "    # Select true for each peak above threshold. Adding False on both ends, to always get a result from np.argmin.\n",
    "    threshold_mask = np.concatenate([[False], intensities > intensity_threshold, [False]])\n",
    "\n",
    "    nr_of_peaks_above_threshold_before_base_peak = np.argmin(np.flip(threshold_mask[:base_peak_i + 1]))\n",
    "    nr_of_peaks_above_threshold_after_base_peak = np.argmin(threshold_mask[base_peak_i + 2:])\n",
    "    return nr_of_peaks_above_threshold_before_base_peak, nr_of_peaks_above_threshold_after_base_peak"
   ]
  },
  {
   "cell_type": "code",
   "execution_count": 6,
   "id": "5a445693-5bd9-4d1b-a6d9-95e11b33a6c4",
   "metadata": {},
   "outputs": [
    {
     "name": "stderr",
     "output_type": "stream",
     "text": [
      "100%|████████████████████████████████████████████████████████████████████████████████████████████████████████████████████████████████████████████████████████████████████████████████████████| 427217/427217 [00:21<00:00, 19949.47it/s]\n"
     ]
    }
   ],
   "source": [
    "non_profile_spectra = []\n",
    "for spectrum in tqdm(non_duplicate_spectra):\n",
    "    spectrum = remove_profiled_spectra(spectrum)\n",
    "    if spectrum is not None:\n",
    "        non_profile_spectra.append(spectrum)"
   ]
  },
  {
   "cell_type": "code",
   "execution_count": 7,
   "id": "cab8dd1c-077f-4903-9ba2-25d9c6e9c763",
   "metadata": {},
   "outputs": [
    {
     "name": "stdout",
     "output_type": "stream",
     "text": [
      "427217\n",
      "425604\n"
     ]
    }
   ],
   "source": [
    "print(len(non_duplicate_spectra))\n",
    "print(len(non_profile_spectra))"
   ]
  },
  {
   "cell_type": "code",
   "execution_count": 8,
   "id": "0dd351f8-5adc-476b-8a87-4085718cc44b",
   "metadata": {},
   "outputs": [],
   "source": [
    "file_name = \"results_library_cleaning/cleaned_libraries_2.mgf\"\n",
    "save_as_mgf(non_profile_spectra, file_name)\n"
   ]
  },
  {
   "cell_type": "markdown",
   "id": "3a705045-ae4c-45f4-bf9a-55bab25ee413",
   "metadata": {},
   "source": [
    "## Remove spectra with more than 300 peaks\n",
    "This can also be done by setting pipeline.processing_queries.parse_and_add_filter((require_number_of_peaks_below_maximum, {\"maximum_number_of_fragments\": 1000})) to 300 in the previous notebook. \n"
   ]
  },
  {
   "cell_type": "code",
   "execution_count": 9,
   "id": "6816713a-b07f-4095-8ce1-a7e1687683fb",
   "metadata": {},
   "outputs": [
    {
     "name": "stderr",
     "output_type": "stream",
     "text": [
      "100%|████████████████████████████████████████████████████████████████████████████████████████████████████████████████████████████████████████| 425604/425604 [00:06<00:00, 62020.36it/s]\n"
     ]
    }
   ],
   "source": [
    "kept_spectra = []\n",
    "for spectrum in tqdm(non_profile_spectra):\n",
    "    if len(spectrum.mz) < 300:\n",
    "        kept_spectra.append(spectrum)\n"
   ]
  },
  {
   "cell_type": "code",
   "execution_count": 12,
   "id": "339226a7-2374-43a4-bed1-946cd0b93232",
   "metadata": {},
   "outputs": [],
   "source": [
    "file_name = \"results_library_cleaning/cleaned_libraries_3.mgf\"\n",
    "save_as_mgf(kept_spectra, file_name)"
   ]
  },
  {
   "cell_type": "markdown",
   "id": "c802aa80-da84-46cf-8bb5-d5d58224d986",
   "metadata": {},
   "source": [
    "## Add massspecgym identifier"
   ]
  },
  {
   "cell_type": "code",
   "execution_count": 32,
   "id": "c97dd637-5a35-4da8-831a-1419e300e253",
   "metadata": {},
   "outputs": [
    {
     "name": "stderr",
     "output_type": "stream",
     "text": [
      "100%|█████████████████████████████████████████████████████████████████████████████████████████████████████████████████████████████████████████| 414174/414174 [01:46<00:00, 3885.52it/s]\n"
     ]
    }
   ],
   "source": [
    "spectrum_with_id = []\n",
    "for i, spectrum_in in enumerate(tqdm(kept_spectra)):\n",
    "    spectrum = spectrum_in.clone()\n",
    "    spectrum.set(\"identifier\", f\"MassSpecGymID{i+1:0{7}d}\")\n",
    "    spectrum_with_id.append(spectrum)"
   ]
  },
  {
   "cell_type": "code",
   "execution_count": 34,
   "id": "a261c638-cba1-4b43-bd0b-b86fa7ba77f3",
   "metadata": {},
   "outputs": [],
   "source": [
    "file_name = \"results_library_cleaning/cleaned_libraries_4.mgf\"\n",
    "save_as_mgf(spectrum_with_id, file_name)"
   ]
  }
 ],
 "metadata": {
  "kernelspec": {
   "display_name": "Python 3 (ipykernel)",
   "language": "python",
   "name": "python3"
  },
  "language_info": {
   "codemirror_mode": {
    "name": "ipython",
    "version": 3
   },
   "file_extension": ".py",
   "mimetype": "text/x-python",
   "name": "python",
   "nbconvert_exporter": "python",
   "pygments_lexer": "ipython3",
   "version": "3.9.19"
  }
 },
 "nbformat": 4,
 "nbformat_minor": 5
}
