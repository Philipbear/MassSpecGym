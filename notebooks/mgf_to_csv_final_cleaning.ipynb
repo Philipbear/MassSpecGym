{
 "cells": [
  {
   "cell_type": "code",
   "execution_count": 13,
   "metadata": {},
   "outputs": [],
   "source": [
    "import json\n",
    "import re\n",
    "import pandas as pd\n",
    "import numpy as np\n",
    "from rdkit import Chem\n",
    "from tqdm import tqdm\n",
    "from matchms.importing import load_from_mgf\n",
    "from matchms.exporting import save_as_mgf"
   ]
  },
  {
   "cell_type": "markdown",
   "metadata": {},
   "source": [
    "### Standardize SMILES"
   ]
  },
  {
   "cell_type": "code",
   "execution_count": 6,
   "metadata": {},
   "outputs": [
    {
     "name": "stdout",
     "output_type": "stream",
     "text": [
      "31555\n"
     ]
    },
    {
     "data": {
      "image/png": "[encoded data removed]",
      "text/plain": [
       "<rdkit.Chem.rdchem.Mol at 0x16b673b50>"
      ]
     },
     "metadata": {},
     "output_type": "display_data"
    },
    {
     "data": {
      "image/png": "[encoded data removed]",
      "text/plain": [
       "<rdkit.Chem.rdchem.Mol at 0x16b673b50>"
      ]
     },
     "metadata": {},
     "output_type": "display_data"
    }
   ],
   "source": [
    "with open('../data/all_smiles.json', 'r') as f:\n",
    "    smiles_in = json.load(f)\n",
    "print(len(smiles_in))\n",
    "with open('../data/all_smiles_standardized_mces/all_smiles_standardized.json', 'r') as f:\n",
    "    smiles_out = json.load(f)\n",
    "len(smiles_out)\n",
    "\n",
    "std_smiles_map = {}\n",
    "for k, v in smiles_in.items():\n",
    "    for i, s in enumerate(v):\n",
    "        std_smiles_map[s] = smiles_out[k][i]\n",
    "len(std_smiles_map)\n",
    "s = list(std_smiles_map.keys())[13112]\n",
    "display(Chem.MolFromSmiles(s))\n",
    "display(Chem.MolFromSmiles(std_smiles_map[s]))"
   ]
  },
  {
   "cell_type": "code",
   "execution_count": 7,
   "metadata": {},
   "outputs": [
    {
     "name": "stdout",
     "output_type": "stream",
     "text": [
      "413153\n"
     ]
    },
    {
     "data": {
      "text/plain": [
       "{'smiles': 'CCC\\\\C=C\\\\C=C\\\\C(CCC(=O)OC)C(CO)C(O)=O',\n",
       " 'inchi': 'InChI=1S/C15H24O5/c1-3-4-5-6-7-8-12(9-10-14(17)20-2)13(11-16)15(18)19/h5-8,12-13,16H,3-4,9-11H2,1-2H3,(H,18,19)/b6-5+,8-7+',\n",
       " 'inchikey': 'PVHUKALHRBPQNM-BSWSSELBSA-N',\n",
       " 'precursor_mz': 285.169,\n",
       " 'adduct': '[M+H]+',\n",
       " 'parent_mass': '284.161724',\n",
       " 'formula': 'C15H24O5',\n",
       " 'precursor_formula': 'C15H25O5',\n",
       " 'instrument_type': 'LC-ESI-QTOF',\n",
       " 'identifier': 'MassSpecGymID0000001'}"
      ]
     },
     "execution_count": 7,
     "metadata": {},
     "output_type": "execute_result"
    }
   ],
   "source": [
    "spectra = list(load_from_mgf('../data/MassSpecGymSpectra.mgf'))\n",
    "print(len(spectra))\n",
    "spectra[0].metadata"
   ]
  },
  {
   "cell_type": "markdown",
   "metadata": {},
   "source": [
    "### Standardize collision energies"
   ]
  },
  {
   "cell_type": "code",
   "execution_count": 8,
   "metadata": {},
   "outputs": [],
   "source": [
    "# Code from Adamo: https://github.com/pluskal-lab/MassSpecGym/blob/8c6514cbbc2804ff57b5e9e39fe010a9d2ca310b/notebooks/simulation_preproc.ipynb.\n",
    "\n",
    "def parse_ce_str(ce_str):\n",
    "\n",
    "    ce_str = str(ce_str)\n",
    "    normal_regex = re.compile(r'\\d+(\\.\\d+)?')\n",
    "    # ramped_regex = re.compile(r'\\d+(\\.\\d+)?-\\d+(\\.\\d+)?')\n",
    "    ramped_regex = re.compile(r'\\d+(\\.\\d+)?(V)?(-|->)\\d+(\\.\\d+)?(V)?')\n",
    "    ce_str = ce_str.split(\";\")[-1]\n",
    "    try:\n",
    "        if \"%\" in ce_str:\n",
    "            normalized = True\n",
    "        else:\n",
    "            normalized = False\n",
    "        if \"-\" in ce_str or \"Ramp\" in ce_str or \"RAMP\" in ce_str or \"->\" in ce_str:\n",
    "            ramped = True\n",
    "            ramped_ce = ramped_regex.search(ce_str).group(0)\n",
    "            if \"->\" in ramped_ce:\n",
    "                min_ce, max_ce = ramped_ce.split(\"->\")\n",
    "            else:\n",
    "                min_ce, max_ce = ramped_ce.split(\"-\")\n",
    "            ce = 0.5*float(min_ce.strip(\"V\")) + 0.5*float(max_ce.strip(\"V\"))\n",
    "        else:\n",
    "            ramped = False\n",
    "            ce = normal_regex.search(ce_str).group(0)\n",
    "            ce = float(ce)\n",
    "    except:\n",
    "        ce = np.nan\n",
    "        normalized = False\n",
    "        ramped = False\n",
    "    return ce, normalized, ramped\n",
    "\n",
    "def convert_nce(row):\n",
    "    # assumes charge factor of 1\n",
    "    if row[\"normalized\"]:\n",
    "        nce = row[\"ce\"]\n",
    "        ace = (nce * row[\"precursor_mz\"] * 1.) / 500.\n",
    "    else:\n",
    "        ace = row[\"ce\"]\n",
    "    return ace"
   ]
  },
  {
   "cell_type": "code",
   "execution_count": 21,
   "metadata": {},
   "outputs": [
    {
     "name": "stderr",
     "output_type": "stream",
     "text": [
      "100%|██████████| 413153/413153 [00:04<00:00, 84099.05it/s]\n",
      "100%|██████████| 413153/413153 [00:04<00:00, 94396.00it/s]\n"
     ]
    },
    {
     "name": "stdout",
     "output_type": "stream",
     "text": [
      "271459\n",
      "271853\n"
     ]
    },
    {
     "data": {
      "text/html": [
       "<div>\n",
       "<style scoped>\n",
       "    .dataframe tbody tr th:only-of-type {\n",
       "        vertical-align: middle;\n",
       "    }\n",
       "\n",
       "    .dataframe tbody tr th {\n",
       "        vertical-align: top;\n",
       "    }\n",
       "\n",
       "    .dataframe thead th {\n",
       "        text-align: right;\n",
       "    }\n",
       "</style>\n",
       "<table border=\"1\" class=\"dataframe\">\n",
       "  <thead>\n",
       "    <tr style=\"text-align: right;\">\n",
       "      <th></th>\n",
       "      <th>ce</th>\n",
       "      <th>precursor_mz</th>\n",
       "      <th>normalized</th>\n",
       "      <th>ramped</th>\n",
       "      <th>ce_str</th>\n",
       "    </tr>\n",
       "  </thead>\n",
       "  <tbody>\n",
       "    <tr>\n",
       "      <th>0</th>\n",
       "      <td>NaN</td>\n",
       "      <td>285.169000</td>\n",
       "      <td>False</td>\n",
       "      <td>False</td>\n",
       "      <td>NaN</td>\n",
       "    </tr>\n",
       "    <tr>\n",
       "      <th>1</th>\n",
       "      <td>NaN</td>\n",
       "      <td>285.169000</td>\n",
       "      <td>False</td>\n",
       "      <td>False</td>\n",
       "      <td>NaN</td>\n",
       "    </tr>\n",
       "    <tr>\n",
       "      <th>2</th>\n",
       "      <td>NaN</td>\n",
       "      <td>285.170000</td>\n",
       "      <td>False</td>\n",
       "      <td>False</td>\n",
       "      <td>NaN</td>\n",
       "    </tr>\n",
       "    <tr>\n",
       "      <th>3</th>\n",
       "      <td>65.0</td>\n",
       "      <td>307.151581</td>\n",
       "      <td>False</td>\n",
       "      <td>False</td>\n",
       "      <td>65.0 (normalized=False, ramped=False)</td>\n",
       "    </tr>\n",
       "    <tr>\n",
       "      <th>4</th>\n",
       "      <td>45.0</td>\n",
       "      <td>307.151581</td>\n",
       "      <td>False</td>\n",
       "      <td>False</td>\n",
       "      <td>45.0 (normalized=False, ramped=False)</td>\n",
       "    </tr>\n",
       "    <tr>\n",
       "      <th>...</th>\n",
       "      <td>...</td>\n",
       "      <td>...</td>\n",
       "      <td>...</td>\n",
       "      <td>...</td>\n",
       "      <td>...</td>\n",
       "    </tr>\n",
       "    <tr>\n",
       "      <th>413148</th>\n",
       "      <td>55.0</td>\n",
       "      <td>420.166100</td>\n",
       "      <td>False</td>\n",
       "      <td>False</td>\n",
       "      <td>55.0 (normalized=False, ramped=False)</td>\n",
       "    </tr>\n",
       "    <tr>\n",
       "      <th>413149</th>\n",
       "      <td>40.0</td>\n",
       "      <td>420.166100</td>\n",
       "      <td>False</td>\n",
       "      <td>False</td>\n",
       "      <td>40.0 (normalized=False, ramped=False)</td>\n",
       "    </tr>\n",
       "    <tr>\n",
       "      <th>413150</th>\n",
       "      <td>30.0</td>\n",
       "      <td>420.166100</td>\n",
       "      <td>False</td>\n",
       "      <td>False</td>\n",
       "      <td>30.0 (normalized=False, ramped=False)</td>\n",
       "    </tr>\n",
       "    <tr>\n",
       "      <th>413151</th>\n",
       "      <td>20.0</td>\n",
       "      <td>420.166100</td>\n",
       "      <td>False</td>\n",
       "      <td>False</td>\n",
       "      <td>20.0 (normalized=False, ramped=False)</td>\n",
       "    </tr>\n",
       "    <tr>\n",
       "      <th>413152</th>\n",
       "      <td>10.0</td>\n",
       "      <td>420.166100</td>\n",
       "      <td>False</td>\n",
       "      <td>False</td>\n",
       "      <td>10.0 (normalized=False, ramped=False)</td>\n",
       "    </tr>\n",
       "  </tbody>\n",
       "</table>\n",
       "<p>413153 rows × 5 columns</p>\n",
       "</div>"
      ],
      "text/plain": [
       "          ce  precursor_mz  normalized  ramped  \\\n",
       "0        NaN    285.169000       False   False   \n",
       "1        NaN    285.169000       False   False   \n",
       "2        NaN    285.170000       False   False   \n",
       "3       65.0    307.151581       False   False   \n",
       "4       45.0    307.151581       False   False   \n",
       "...      ...           ...         ...     ...   \n",
       "413148  55.0    420.166100       False   False   \n",
       "413149  40.0    420.166100       False   False   \n",
       "413150  30.0    420.166100       False   False   \n",
       "413151  20.0    420.166100       False   False   \n",
       "413152  10.0    420.166100       False   False   \n",
       "\n",
       "                                       ce_str  \n",
       "0                                         NaN  \n",
       "1                                         NaN  \n",
       "2                                         NaN  \n",
       "3       65.0 (normalized=False, ramped=False)  \n",
       "4       45.0 (normalized=False, ramped=False)  \n",
       "...                                       ...  \n",
       "413148  55.0 (normalized=False, ramped=False)  \n",
       "413149  40.0 (normalized=False, ramped=False)  \n",
       "413150  30.0 (normalized=False, ramped=False)  \n",
       "413151  20.0 (normalized=False, ramped=False)  \n",
       "413152  10.0 (normalized=False, ramped=False)  \n",
       "\n",
       "[413153 rows x 5 columns]"
      ]
     },
     "execution_count": 21,
     "metadata": {},
     "output_type": "execute_result"
    }
   ],
   "source": [
    "ce_df = pd.DataFrame({\n",
    "    \"ce\": [s.get('collision_energy') for s in tqdm(spectra)],\n",
    "    \"precursor_mz\": [s.get('precursor_mz') for s in tqdm(spectra)]\n",
    "})\n",
    "print(ce_df['ce'].isna().sum())\n",
    "ce_df[\"ce\"], ce_df[\"normalized\"], ce_df[\"ramped\"] = zip(*ce_df[\"ce\"].apply(parse_ce_str))\n",
    "ce_df[\"ce\"] = ce_df.apply(convert_nce, axis=1)\n",
    "print(ce_df['ce'].isna().sum())\n",
    "ce_df[\"ce_str\"] = ce_df.apply(\n",
    "    lambda row: f'{row[\"ce\"]} (normalized={row[\"normalized\"]}, ramped={row[\"ramped\"]})'\n",
    "                if not pd.isnull(row[\"ce\"])\n",
    "                else row[\"ce\"],\n",
    "    axis=1\n",
    ")\n",
    "ce_df"
   ]
  },
  {
   "cell_type": "markdown",
   "metadata": {},
   "source": [
    "### Standardize instruments"
   ]
  },
  {
   "cell_type": "code",
   "execution_count": 35,
   "metadata": {},
   "outputs": [],
   "source": [
    "def standardize_instrument_type(instr):\n",
    "    if instr.startswith(\"LC-\"):\n",
    "        instr = instr[3:]\n",
    "    if instr.startswith(\"ESI-\"):\n",
    "        instr = instr[4:]\n",
    "    return instr"
   ]
  },
  {
   "cell_type": "markdown",
   "metadata": {},
   "source": [
    "### Apply all the processing steps"
   ]
  },
  {
   "cell_type": "code",
   "execution_count": 37,
   "metadata": {},
   "outputs": [
    {
     "name": "stderr",
     "output_type": "stream",
     "text": [
      "100%|██████████| 413153/413153 [01:17<00:00, 5339.25it/s]"
     ]
    },
    {
     "name": "stdout",
     "output_type": "stream",
     "text": [
      "413153\n"
     ]
    },
    {
     "name": "stderr",
     "output_type": "stream",
     "text": [
      "\n"
     ]
    },
    {
     "data": {
      "text/plain": [
       "{'smiles': 'CCC/C=C/C=C/C(CCC(=O)OC)C(CO)C(=O)O',\n",
       " 'inchi': 'InChI=1S/C15H24O5/c1-3-4-5-6-7-8-12(9-10-14(17)20-2)13(11-16)15(18)19/h5-8,12-13,16H,3-4,9-11H2,1-2H3,(H,18,19)/b6-5+,8-7+',\n",
       " 'inchikey': 'PVHUKALHRBPQNM-BSWSSELBSA-N',\n",
       " 'precursor_mz': 307.1515808105469,\n",
       " 'adduct': '[M+Na]+',\n",
       " 'parent_mass': '284.1623628105469',\n",
       " 'formula': 'C15H24O5',\n",
       " 'precursor_formula': 'C15H24NaO5',\n",
       " 'instrument_type': 'QFT',\n",
       " 'collision_energy': '65.0 (normalized=False, ramped=False)',\n",
       " 'identifier': 'MassSpecGymID0000004'}"
      ]
     },
     "execution_count": 37,
     "metadata": {},
     "output_type": "execute_result"
    }
   ],
   "source": [
    "spectra_new = []\n",
    "for i, spec in enumerate(tqdm(spectra)):\n",
    "    spec_new = spec.clone()\n",
    "    spec_new.set('smiles', std_smiles_map[spec.get('smiles')])\n",
    "    if 'collision_energy' in spec.metadata.keys():\n",
    "        spec_new.set('collision_energy', ce_df['ce_str'].iloc[i])\n",
    "    if 'instrument_type' in spec.metadata.keys():\n",
    "        spec_new.set('instrument_type', standardize_instrument_type(spec.get('instrument_type')))\n",
    "    spectra_new.append(spec_new)\n",
    "print(len(spectra_new))\n",
    "spectra_new[3].metadata"
   ]
  },
  {
   "cell_type": "markdown",
   "metadata": {},
   "source": [
    "### Drop empty spectra"
   ]
  },
  {
   "cell_type": "code",
   "execution_count": 38,
   "metadata": {},
   "outputs": [
    {
     "name": "stdout",
     "output_type": "stream",
     "text": [
      "413153\n"
     ]
    },
    {
     "name": "stderr",
     "output_type": "stream",
     "text": [
      "100%|██████████| 413153/413153 [00:01<00:00, 239976.57it/s]"
     ]
    },
    {
     "name": "stdout",
     "output_type": "stream",
     "text": [
      "412402\n"
     ]
    },
    {
     "name": "stderr",
     "output_type": "stream",
     "text": [
      "\n"
     ]
    }
   ],
   "source": [
    "print(len(spectra_new))\n",
    "spectra_new = [s for s in tqdm(spectra_new) if len(s.peaks) > 0]\n",
    "print(len(spectra_new))"
   ]
  },
  {
   "cell_type": "markdown",
   "metadata": {},
   "source": [
    "### Convert to `.tsv`"
   ]
  },
  {
   "cell_type": "code",
   "execution_count": 39,
   "metadata": {},
   "outputs": [
    {
     "name": "stderr",
     "output_type": "stream",
     "text": [
      "100%|██████████| 412402/412402 [00:21<00:00, 19309.09it/s]\n"
     ]
    },
    {
     "data": {
      "text/html": [
       "<div>\n",
       "<style scoped>\n",
       "    .dataframe tbody tr th:only-of-type {\n",
       "        vertical-align: middle;\n",
       "    }\n",
       "\n",
       "    .dataframe tbody tr th {\n",
       "        vertical-align: top;\n",
       "    }\n",
       "\n",
       "    .dataframe thead th {\n",
       "        text-align: right;\n",
       "    }\n",
       "</style>\n",
       "<table border=\"1\" class=\"dataframe\">\n",
       "  <thead>\n",
       "    <tr style=\"text-align: right;\">\n",
       "      <th></th>\n",
       "      <th>mzs</th>\n",
       "      <th>intensities</th>\n",
       "      <th>smiles</th>\n",
       "      <th>inchi</th>\n",
       "      <th>inchikey</th>\n",
       "      <th>precursor_mz</th>\n",
       "      <th>adduct</th>\n",
       "      <th>parent_mass</th>\n",
       "      <th>formula</th>\n",
       "      <th>precursor_formula</th>\n",
       "      <th>instrument_type</th>\n",
       "      <th>identifier</th>\n",
       "      <th>collision_energy</th>\n",
       "    </tr>\n",
       "  </thead>\n",
       "  <tbody>\n",
       "    <tr>\n",
       "      <th>0</th>\n",
       "      <td>79.054138,81.07048,82.074127,91.051361,93.0693...</td>\n",
       "      <td>0.38100102145045966,0.3953013278855976,0.10929...</td>\n",
       "      <td>CCC/C=C/C=C/C(CCC(=O)OC)C(CO)C(=O)O</td>\n",
       "      <td>InChI=1S/C15H24O5/c1-3-4-5-6-7-8-12(9-10-14(17...</td>\n",
       "      <td>PVHUKALHRBPQNM-BSWSSELBSA-N</td>\n",
       "      <td>285.169000</td>\n",
       "      <td>[M+H]+</td>\n",
       "      <td>284.161724</td>\n",
       "      <td>C15H24O5</td>\n",
       "      <td>C15H25O5</td>\n",
       "      <td>QTOF</td>\n",
       "      <td>MassSpecGymID0000001</td>\n",
       "      <td>NaN</td>\n",
       "    </tr>\n",
       "    <tr>\n",
       "      <th>1</th>\n",
       "      <td>71.056847,79.052544,80.058685,81.0382,81.06829...</td>\n",
       "      <td>0.06227883934890304,0.39419674451521586,0.0651...</td>\n",
       "      <td>CCC/C=C/C=C/C(CCC(=O)OC)C(CO)C(=O)O</td>\n",
       "      <td>InChI=1S/C15H24O5/c1-3-4-5-6-7-8-12(9-10-14(17...</td>\n",
       "      <td>PVHUKALHRBPQNM-BSWSSELBSA-N</td>\n",
       "      <td>285.169000</td>\n",
       "      <td>[M+H]+</td>\n",
       "      <td>284.161724</td>\n",
       "      <td>C15H24O5</td>\n",
       "      <td>C15H25O5</td>\n",
       "      <td>QTOF</td>\n",
       "      <td>MassSpecGymID0000002</td>\n",
       "      <td>NaN</td>\n",
       "    </tr>\n",
       "    <tr>\n",
       "      <th>2</th>\n",
       "      <td>79.052597,83.050301,91.057404,217.120804</td>\n",
       "      <td>0.7272727272727273,0.8484848484848485,1.0,0.63...</td>\n",
       "      <td>CCC/C=C/C=C/C(CCC(=O)OC)C(CO)C(=O)O</td>\n",
       "      <td>InChI=1S/C15H24O5/c1-3-4-5-6-7-8-12(9-10-14(17...</td>\n",
       "      <td>PVHUKALHRBPQNM-BSWSSELBSA-N</td>\n",
       "      <td>285.170000</td>\n",
       "      <td>[M+H]+</td>\n",
       "      <td>284.162724</td>\n",
       "      <td>C15H24O5</td>\n",
       "      <td>C15H25O5</td>\n",
       "      <td>QTOF</td>\n",
       "      <td>MassSpecGymID0000003</td>\n",
       "      <td>NaN</td>\n",
       "    </tr>\n",
       "    <tr>\n",
       "      <th>3</th>\n",
       "      <td>50.149521,50.251616,50.872388,51.607089,52.201...</td>\n",
       "      <td>0.01164719,0.01650368,0.01631492,0.01584310000...</td>\n",
       "      <td>CCC/C=C/C=C/C(CCC(=O)OC)C(CO)C(=O)O</td>\n",
       "      <td>InChI=1S/C15H24O5/c1-3-4-5-6-7-8-12(9-10-14(17...</td>\n",
       "      <td>PVHUKALHRBPQNM-BSWSSELBSA-N</td>\n",
       "      <td>307.151581</td>\n",
       "      <td>[M+Na]+</td>\n",
       "      <td>284.1623628105469</td>\n",
       "      <td>C15H24O5</td>\n",
       "      <td>C15H24NaO5</td>\n",
       "      <td>QFT</td>\n",
       "      <td>MassSpecGymID0000004</td>\n",
       "      <td>65.0 (normalized=False, ramped=False)</td>\n",
       "    </tr>\n",
       "    <tr>\n",
       "      <th>4</th>\n",
       "      <td>50.028968,50.261588,50.86206,51.129337,51.1694...</td>\n",
       "      <td>0.023949630000000003,0.017280439999999998,0.01...</td>\n",
       "      <td>CCC/C=C/C=C/C(CCC(=O)OC)C(CO)C(=O)O</td>\n",
       "      <td>InChI=1S/C15H24O5/c1-3-4-5-6-7-8-12(9-10-14(17...</td>\n",
       "      <td>PVHUKALHRBPQNM-BSWSSELBSA-N</td>\n",
       "      <td>307.151581</td>\n",
       "      <td>[M+Na]+</td>\n",
       "      <td>284.1623628105469</td>\n",
       "      <td>C15H24O5</td>\n",
       "      <td>C15H24NaO5</td>\n",
       "      <td>QFT</td>\n",
       "      <td>MassSpecGymID0000005</td>\n",
       "      <td>45.0 (normalized=False, ramped=False)</td>\n",
       "    </tr>\n",
       "    <tr>\n",
       "      <th>...</th>\n",
       "      <td>...</td>\n",
       "      <td>...</td>\n",
       "      <td>...</td>\n",
       "      <td>...</td>\n",
       "      <td>...</td>\n",
       "      <td>...</td>\n",
       "      <td>...</td>\n",
       "      <td>...</td>\n",
       "      <td>...</td>\n",
       "      <td>...</td>\n",
       "      <td>...</td>\n",
       "      <td>...</td>\n",
       "      <td>...</td>\n",
       "    </tr>\n",
       "    <tr>\n",
       "      <th>412397</th>\n",
       "      <td>106.04,107.0478,108.0556,162.0298,206.0713,207...</td>\n",
       "      <td>0.03542691,0.03522694,0.05052716,0.04053966,0....</td>\n",
       "      <td>CC(C)(C=C)[C@]12C=C(C(=O)N\\3[C@@]1(NC(=O)/C3=C...</td>\n",
       "      <td>InChI=1S/C22H21N5O4/c1-4-20(2,3)21-10-17(28)19...</td>\n",
       "      <td>YEVSOYBNHBOQJZ-GCTRCSCRSA-N</td>\n",
       "      <td>420.166100</td>\n",
       "      <td>[M+H]+</td>\n",
       "      <td>419.158824</td>\n",
       "      <td>C22H21N5O4</td>\n",
       "      <td>C22H22N5O4</td>\n",
       "      <td>ITFT</td>\n",
       "      <td>MassSpecGymID0413149</td>\n",
       "      <td>55.0 (normalized=False, ramped=False)</td>\n",
       "    </tr>\n",
       "    <tr>\n",
       "      <th>412398</th>\n",
       "      <td>233.0822,234.0662,234.09,235.074,261.0771,262....</td>\n",
       "      <td>0.03712262,0.04683089,0.23339173,0.04925900000...</td>\n",
       "      <td>CC(C)(C=C)[C@]12C=C(C(=O)N\\3[C@@]1(NC(=O)/C3=C...</td>\n",
       "      <td>InChI=1S/C22H21N5O4/c1-4-20(2,3)21-10-17(28)19...</td>\n",
       "      <td>YEVSOYBNHBOQJZ-GCTRCSCRSA-N</td>\n",
       "      <td>420.166100</td>\n",
       "      <td>[M+H]+</td>\n",
       "      <td>419.158824</td>\n",
       "      <td>C22H21N5O4</td>\n",
       "      <td>C22H22N5O4</td>\n",
       "      <td>ITFT</td>\n",
       "      <td>MassSpecGymID0413150</td>\n",
       "      <td>40.0 (normalized=False, ramped=False)</td>\n",
       "    </tr>\n",
       "    <tr>\n",
       "      <th>412399</th>\n",
       "      <td>234.09,261.0771,262.0849,263.0927,289.072,290....</td>\n",
       "      <td>0.08706889999999999,0.35219439999999996,0.0831...</td>\n",
       "      <td>CC(C)(C=C)[C@]12C=C(C(=O)N\\3[C@@]1(NC(=O)/C3=C...</td>\n",
       "      <td>InChI=1S/C22H21N5O4/c1-4-20(2,3)21-10-17(28)19...</td>\n",
       "      <td>YEVSOYBNHBOQJZ-GCTRCSCRSA-N</td>\n",
       "      <td>420.166100</td>\n",
       "      <td>[M+H]+</td>\n",
       "      <td>419.158824</td>\n",
       "      <td>C22H21N5O4</td>\n",
       "      <td>C22H22N5O4</td>\n",
       "      <td>ITFT</td>\n",
       "      <td>MassSpecGymID0413151</td>\n",
       "      <td>30.0 (normalized=False, ramped=False)</td>\n",
       "    </tr>\n",
       "    <tr>\n",
       "      <th>412400</th>\n",
       "      <td>261.0771,289.072,306.0985,317.0669,334.0934,33...</td>\n",
       "      <td>0.04071511,1.0,0.05180584,0.038061199999999996...</td>\n",
       "      <td>CC(C)(C=C)[C@]12C=C(C(=O)N\\3[C@@]1(NC(=O)/C3=C...</td>\n",
       "      <td>InChI=1S/C22H21N5O4/c1-4-20(2,3)21-10-17(28)19...</td>\n",
       "      <td>YEVSOYBNHBOQJZ-GCTRCSCRSA-N</td>\n",
       "      <td>420.166100</td>\n",
       "      <td>[M+H]+</td>\n",
       "      <td>419.158824</td>\n",
       "      <td>C22H21N5O4</td>\n",
       "      <td>C22H22N5O4</td>\n",
       "      <td>ITFT</td>\n",
       "      <td>MassSpecGymID0413152</td>\n",
       "      <td>20.0 (normalized=False, ramped=False)</td>\n",
       "    </tr>\n",
       "    <tr>\n",
       "      <th>412401</th>\n",
       "      <td>289.072,334.0934,335.1026,351.0962,403.1639,42...</td>\n",
       "      <td>0.17058150000000002,0.29628058,0.07662326,0.08...</td>\n",
       "      <td>CC(C)(C=C)[C@]12C=C(C(=O)N\\3[C@@]1(NC(=O)/C3=C...</td>\n",
       "      <td>InChI=1S/C22H21N5O4/c1-4-20(2,3)21-10-17(28)19...</td>\n",
       "      <td>YEVSOYBNHBOQJZ-GCTRCSCRSA-N</td>\n",
       "      <td>420.166100</td>\n",
       "      <td>[M+H]+</td>\n",
       "      <td>419.158824</td>\n",
       "      <td>C22H21N5O4</td>\n",
       "      <td>C22H22N5O4</td>\n",
       "      <td>ITFT</td>\n",
       "      <td>MassSpecGymID0413153</td>\n",
       "      <td>10.0 (normalized=False, ramped=False)</td>\n",
       "    </tr>\n",
       "  </tbody>\n",
       "</table>\n",
       "<p>412402 rows × 13 columns</p>\n",
       "</div>"
      ],
      "text/plain": [
       "                                                      mzs  \\\n",
       "0       79.054138,81.07048,82.074127,91.051361,93.0693...   \n",
       "1       71.056847,79.052544,80.058685,81.0382,81.06829...   \n",
       "2                79.052597,83.050301,91.057404,217.120804   \n",
       "3       50.149521,50.251616,50.872388,51.607089,52.201...   \n",
       "4       50.028968,50.261588,50.86206,51.129337,51.1694...   \n",
       "...                                                   ...   \n",
       "412397  106.04,107.0478,108.0556,162.0298,206.0713,207...   \n",
       "412398  233.0822,234.0662,234.09,235.074,261.0771,262....   \n",
       "412399  234.09,261.0771,262.0849,263.0927,289.072,290....   \n",
       "412400  261.0771,289.072,306.0985,317.0669,334.0934,33...   \n",
       "412401  289.072,334.0934,335.1026,351.0962,403.1639,42...   \n",
       "\n",
       "                                              intensities  \\\n",
       "0       0.38100102145045966,0.3953013278855976,0.10929...   \n",
       "1       0.06227883934890304,0.39419674451521586,0.0651...   \n",
       "2       0.7272727272727273,0.8484848484848485,1.0,0.63...   \n",
       "3       0.01164719,0.01650368,0.01631492,0.01584310000...   \n",
       "4       0.023949630000000003,0.017280439999999998,0.01...   \n",
       "...                                                   ...   \n",
       "412397  0.03542691,0.03522694,0.05052716,0.04053966,0....   \n",
       "412398  0.03712262,0.04683089,0.23339173,0.04925900000...   \n",
       "412399  0.08706889999999999,0.35219439999999996,0.0831...   \n",
       "412400  0.04071511,1.0,0.05180584,0.038061199999999996...   \n",
       "412401  0.17058150000000002,0.29628058,0.07662326,0.08...   \n",
       "\n",
       "                                                   smiles  \\\n",
       "0                     CCC/C=C/C=C/C(CCC(=O)OC)C(CO)C(=O)O   \n",
       "1                     CCC/C=C/C=C/C(CCC(=O)OC)C(CO)C(=O)O   \n",
       "2                     CCC/C=C/C=C/C(CCC(=O)OC)C(CO)C(=O)O   \n",
       "3                     CCC/C=C/C=C/C(CCC(=O)OC)C(CO)C(=O)O   \n",
       "4                     CCC/C=C/C=C/C(CCC(=O)OC)C(CO)C(=O)O   \n",
       "...                                                   ...   \n",
       "412397  CC(C)(C=C)[C@]12C=C(C(=O)N\\3[C@@]1(NC(=O)/C3=C...   \n",
       "412398  CC(C)(C=C)[C@]12C=C(C(=O)N\\3[C@@]1(NC(=O)/C3=C...   \n",
       "412399  CC(C)(C=C)[C@]12C=C(C(=O)N\\3[C@@]1(NC(=O)/C3=C...   \n",
       "412400  CC(C)(C=C)[C@]12C=C(C(=O)N\\3[C@@]1(NC(=O)/C3=C...   \n",
       "412401  CC(C)(C=C)[C@]12C=C(C(=O)N\\3[C@@]1(NC(=O)/C3=C...   \n",
       "\n",
       "                                                    inchi  \\\n",
       "0       InChI=1S/C15H24O5/c1-3-4-5-6-7-8-12(9-10-14(17...   \n",
       "1       InChI=1S/C15H24O5/c1-3-4-5-6-7-8-12(9-10-14(17...   \n",
       "2       InChI=1S/C15H24O5/c1-3-4-5-6-7-8-12(9-10-14(17...   \n",
       "3       InChI=1S/C15H24O5/c1-3-4-5-6-7-8-12(9-10-14(17...   \n",
       "4       InChI=1S/C15H24O5/c1-3-4-5-6-7-8-12(9-10-14(17...   \n",
       "...                                                   ...   \n",
       "412397  InChI=1S/C22H21N5O4/c1-4-20(2,3)21-10-17(28)19...   \n",
       "412398  InChI=1S/C22H21N5O4/c1-4-20(2,3)21-10-17(28)19...   \n",
       "412399  InChI=1S/C22H21N5O4/c1-4-20(2,3)21-10-17(28)19...   \n",
       "412400  InChI=1S/C22H21N5O4/c1-4-20(2,3)21-10-17(28)19...   \n",
       "412401  InChI=1S/C22H21N5O4/c1-4-20(2,3)21-10-17(28)19...   \n",
       "\n",
       "                           inchikey  precursor_mz   adduct        parent_mass  \\\n",
       "0       PVHUKALHRBPQNM-BSWSSELBSA-N    285.169000   [M+H]+         284.161724   \n",
       "1       PVHUKALHRBPQNM-BSWSSELBSA-N    285.169000   [M+H]+         284.161724   \n",
       "2       PVHUKALHRBPQNM-BSWSSELBSA-N    285.170000   [M+H]+         284.162724   \n",
       "3       PVHUKALHRBPQNM-BSWSSELBSA-N    307.151581  [M+Na]+  284.1623628105469   \n",
       "4       PVHUKALHRBPQNM-BSWSSELBSA-N    307.151581  [M+Na]+  284.1623628105469   \n",
       "...                             ...           ...      ...                ...   \n",
       "412397  YEVSOYBNHBOQJZ-GCTRCSCRSA-N    420.166100   [M+H]+         419.158824   \n",
       "412398  YEVSOYBNHBOQJZ-GCTRCSCRSA-N    420.166100   [M+H]+         419.158824   \n",
       "412399  YEVSOYBNHBOQJZ-GCTRCSCRSA-N    420.166100   [M+H]+         419.158824   \n",
       "412400  YEVSOYBNHBOQJZ-GCTRCSCRSA-N    420.166100   [M+H]+         419.158824   \n",
       "412401  YEVSOYBNHBOQJZ-GCTRCSCRSA-N    420.166100   [M+H]+         419.158824   \n",
       "\n",
       "           formula precursor_formula instrument_type            identifier  \\\n",
       "0         C15H24O5          C15H25O5            QTOF  MassSpecGymID0000001   \n",
       "1         C15H24O5          C15H25O5            QTOF  MassSpecGymID0000002   \n",
       "2         C15H24O5          C15H25O5            QTOF  MassSpecGymID0000003   \n",
       "3         C15H24O5        C15H24NaO5             QFT  MassSpecGymID0000004   \n",
       "4         C15H24O5        C15H24NaO5             QFT  MassSpecGymID0000005   \n",
       "...            ...               ...             ...                   ...   \n",
       "412397  C22H21N5O4        C22H22N5O4            ITFT  MassSpecGymID0413149   \n",
       "412398  C22H21N5O4        C22H22N5O4            ITFT  MassSpecGymID0413150   \n",
       "412399  C22H21N5O4        C22H22N5O4            ITFT  MassSpecGymID0413151   \n",
       "412400  C22H21N5O4        C22H22N5O4            ITFT  MassSpecGymID0413152   \n",
       "412401  C22H21N5O4        C22H22N5O4            ITFT  MassSpecGymID0413153   \n",
       "\n",
       "                             collision_energy  \n",
       "0                                         NaN  \n",
       "1                                         NaN  \n",
       "2                                         NaN  \n",
       "3       65.0 (normalized=False, ramped=False)  \n",
       "4       45.0 (normalized=False, ramped=False)  \n",
       "...                                       ...  \n",
       "412397  55.0 (normalized=False, ramped=False)  \n",
       "412398  40.0 (normalized=False, ramped=False)  \n",
       "412399  30.0 (normalized=False, ramped=False)  \n",
       "412400  20.0 (normalized=False, ramped=False)  \n",
       "412401  10.0 (normalized=False, ramped=False)  \n",
       "\n",
       "[412402 rows x 13 columns]"
      ]
     },
     "execution_count": 39,
     "metadata": {},
     "output_type": "execute_result"
    }
   ],
   "source": [
    "df = []\n",
    "for s in tqdm(spectra_new):\n",
    "    row = {\n",
    "        'mzs': ','.join([str(m) for m in s.peaks.mz]),\n",
    "        'intensities': ','.join([str(m) for m in s.peaks.intensities])\n",
    "    }\n",
    "    row.update(s.metadata)\n",
    "    df.append(row)\n",
    "df = pd.DataFrame(df)\n",
    "df"
   ]
  },
  {
   "cell_type": "markdown",
   "metadata": {},
   "source": [
    "### Double-check the validity of the SMILES standardization in the final `.tsv`"
   ]
  },
  {
   "cell_type": "code",
   "execution_count": 43,
   "metadata": {},
   "outputs": [
    {
     "data": {
      "image/png": "[encoded data removed]",
      "text/plain": [
       "<rdkit.Chem.rdchem.Mol at 0x2e0f6f840>"
      ]
     },
     "metadata": {},
     "output_type": "display_data"
    },
    {
     "data": {
      "image/png": "[encoded data removed]",
      "text/plain": [
       "<rdkit.Chem.rdchem.Mol at 0x2e0f6f840>"
      ]
     },
     "metadata": {},
     "output_type": "display_data"
    }
   ],
   "source": [
    "df_ = df.sample(1)\n",
    "display(Chem.MolFromInchi(df_['inchi'].values[0]))\n",
    "display(Chem.MolFromSmiles(df_['smiles'].values[0]))"
   ]
  },
  {
   "cell_type": "code",
   "execution_count": 44,
   "metadata": {},
   "outputs": [],
   "source": [
    "df.to_csv('../data/data/MassSpecGym.tsv', index=False, sep='\\t')"
   ]
  },
  {
   "cell_type": "code",
   "execution_count": 45,
   "metadata": {},
   "outputs": [],
   "source": [
    "save_as_mgf(spectra_new, '../data/data/auxiliary/MassSpecGym.mgf')"
   ]
  }
 ],
 "metadata": {
  "kernelspec": {
   "display_name": "massspecgym",
   "language": "python",
   "name": "python3"
  },
  "language_info": {
   "codemirror_mode": {
    "name": "ipython",
    "version": 3
   },
   "file_extension": ".py",
   "mimetype": "text/x-python",
   "name": "python",
   "nbconvert_exporter": "python",
   "pygments_lexer": "ipython3",
   "version": "3.11.0"
  }
 },
 "nbformat": 4,
 "nbformat_minor": 2
}
