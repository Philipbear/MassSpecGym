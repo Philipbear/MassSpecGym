{
 "cells": [
  {
   "cell_type": "code",
   "execution_count": 1,
   "metadata": {},
   "outputs": [],
   "source": [
    "import pandas as pd\n",
    "import h5py\n",
    "import numpy as np\n",
    "import seaborn as sns\n",
    "import matplotlib.pyplot as plt\n",
    "from tqdm import tqdm\n",
    "tqdm.pandas()\n",
    "from sklearn.model_selection import StratifiedGroupKFold\n",
    "from pandarallel import pandarallel\n",
    "from sklearn.cluster import AgglomerativeClustering\n",
    "from scipy.spatial.distance import squareform\n",
    "from rdkit import Chem\n",
    "from rdkit.Chem import Draw\n",
    "from rdkit.Chem import DataStructs\n",
    "import massspecgym.utils as utils"
   ]
  },
  {
   "cell_type": "code",
   "execution_count": 2,
   "metadata": {},
   "outputs": [
    {
     "name": "stderr",
     "output_type": "stream",
     "text": [
      "/var/folders/73/x57b4d9x09qbcqjjd5ccz_6r0000gn/T/ipykernel_50248/2111678167.py:1: DtypeWarning: Columns (11) have mixed types. Specify dtype option on import or set low_memory=False.\n",
      "  df = pd.read_csv('../data/data/MassSpecGym.tsv', sep='\\t')\n"
     ]
    },
    {
     "data": {
      "text/html": [
       "<div>\n",
       "<style scoped>\n",
       "    .dataframe tbody tr th:only-of-type {\n",
       "        vertical-align: middle;\n",
       "    }\n",
       "\n",
       "    .dataframe tbody tr th {\n",
       "        vertical-align: top;\n",
       "    }\n",
       "\n",
       "    .dataframe thead th {\n",
       "        text-align: right;\n",
       "    }\n",
       "</style>\n",
       "<table border=\"1\" class=\"dataframe\">\n",
       "  <thead>\n",
       "    <tr style=\"text-align: right;\">\n",
       "      <th></th>\n",
       "      <th>mzs</th>\n",
       "      <th>intensities</th>\n",
       "      <th>smiles</th>\n",
       "      <th>inchi</th>\n",
       "      <th>inchikey</th>\n",
       "      <th>precursor_mz</th>\n",
       "      <th>adduct</th>\n",
       "      <th>parent_mass</th>\n",
       "      <th>formula</th>\n",
       "      <th>precursor_formula</th>\n",
       "      <th>instrument_type</th>\n",
       "      <th>collision_energy</th>\n",
       "      <th>identifier</th>\n",
       "    </tr>\n",
       "  </thead>\n",
       "  <tbody>\n",
       "    <tr>\n",
       "      <th>0</th>\n",
       "      <td>91.0542,125.0233,154.0499,155.0577,185.0961,20...</td>\n",
       "      <td>0.24524524524524524,1.0,0.08008008008008008,0....</td>\n",
       "      <td>CC(=O)N[C@@H](CC1=CC=CC=C1)C2=CC(=CC(=O)O2)OC</td>\n",
       "      <td>InChI=1S/C16H17NO4/c1-11(18)17-14(8-12-6-4-3-5...</td>\n",
       "      <td>VFMQMACUYWGDOJ-AWEZNQCLSA-N</td>\n",
       "      <td>288.1225</td>\n",
       "      <td>[M+H]+</td>\n",
       "      <td>287.115224</td>\n",
       "      <td>C16H17NO4</td>\n",
       "      <td>C16H18NO4</td>\n",
       "      <td>ITFT</td>\n",
       "      <td>30.0 (normalized=False, ramped=False)</td>\n",
       "      <td>MassSpecGymID0000001</td>\n",
       "    </tr>\n",
       "    <tr>\n",
       "      <th>1</th>\n",
       "      <td>91.0542,125.0233,155.0577,185.0961,229.0859,24...</td>\n",
       "      <td>0.0990990990990991,0.28128128128128127,0.04004...</td>\n",
       "      <td>CC(=O)N[C@@H](CC1=CC=CC=C1)C2=CC(=CC(=O)O2)OC</td>\n",
       "      <td>InChI=1S/C16H17NO4/c1-11(18)17-14(8-12-6-4-3-5...</td>\n",
       "      <td>VFMQMACUYWGDOJ-AWEZNQCLSA-N</td>\n",
       "      <td>288.1225</td>\n",
       "      <td>[M+H]+</td>\n",
       "      <td>287.115224</td>\n",
       "      <td>C16H17NO4</td>\n",
       "      <td>C16H18NO4</td>\n",
       "      <td>ITFT</td>\n",
       "      <td>20.0 (normalized=False, ramped=False)</td>\n",
       "      <td>MassSpecGymID0000002</td>\n",
       "    </tr>\n",
       "    <tr>\n",
       "      <th>2</th>\n",
       "      <td>69.0343,91.0542,125.0233,127.039,153.0699,154....</td>\n",
       "      <td>0.03403403403403404,0.31431431431431434,1.0,0....</td>\n",
       "      <td>CC(=O)N[C@@H](CC1=CC=CC=C1)C2=CC(=CC(=O)O2)OC</td>\n",
       "      <td>InChI=1S/C16H17NO4/c1-11(18)17-14(8-12-6-4-3-5...</td>\n",
       "      <td>VFMQMACUYWGDOJ-AWEZNQCLSA-N</td>\n",
       "      <td>288.1225</td>\n",
       "      <td>[M+H]+</td>\n",
       "      <td>287.115224</td>\n",
       "      <td>C16H17NO4</td>\n",
       "      <td>C16H18NO4</td>\n",
       "      <td>ITFT</td>\n",
       "      <td>40.0 (normalized=False, ramped=False)</td>\n",
       "      <td>MassSpecGymID0000003</td>\n",
       "    </tr>\n",
       "    <tr>\n",
       "      <th>3</th>\n",
       "      <td>69.0343,91.0542,110.06,111.0441,112.0393,120.0...</td>\n",
       "      <td>0.17917917917917917,0.47347347347347346,0.0380...</td>\n",
       "      <td>CC(=O)N[C@@H](CC1=CC=CC=C1)C2=CC(=CC(=O)O2)OC</td>\n",
       "      <td>InChI=1S/C16H17NO4/c1-11(18)17-14(8-12-6-4-3-5...</td>\n",
       "      <td>VFMQMACUYWGDOJ-AWEZNQCLSA-N</td>\n",
       "      <td>288.1225</td>\n",
       "      <td>[M+H]+</td>\n",
       "      <td>287.115224</td>\n",
       "      <td>C16H17NO4</td>\n",
       "      <td>C16H18NO4</td>\n",
       "      <td>ITFT</td>\n",
       "      <td>55.0 (normalized=False, ramped=False)</td>\n",
       "      <td>MassSpecGymID0000004</td>\n",
       "    </tr>\n",
       "    <tr>\n",
       "      <th>4</th>\n",
       "      <td>91.0542,125.0233,185.0961,229.0859,246.1125,28...</td>\n",
       "      <td>0.07807807807807808,0.1841841841841842,0.03503...</td>\n",
       "      <td>CC(=O)N[C@@H](CC1=CC=CC=C1)C2=CC(=CC(=O)O2)OC</td>\n",
       "      <td>InChI=1S/C16H17NO4/c1-11(18)17-14(8-12-6-4-3-5...</td>\n",
       "      <td>VFMQMACUYWGDOJ-AWEZNQCLSA-N</td>\n",
       "      <td>288.1225</td>\n",
       "      <td>[M+H]+</td>\n",
       "      <td>287.115224</td>\n",
       "      <td>C16H17NO4</td>\n",
       "      <td>C16H18NO4</td>\n",
       "      <td>ITFT</td>\n",
       "      <td>10.0 (normalized=False, ramped=False)</td>\n",
       "      <td>MassSpecGymID0000005</td>\n",
       "    </tr>\n",
       "  </tbody>\n",
       "</table>\n",
       "</div>"
      ],
      "text/plain": [
       "                                                 mzs  \\\n",
       "0  91.0542,125.0233,154.0499,155.0577,185.0961,20...   \n",
       "1  91.0542,125.0233,155.0577,185.0961,229.0859,24...   \n",
       "2  69.0343,91.0542,125.0233,127.039,153.0699,154....   \n",
       "3  69.0343,91.0542,110.06,111.0441,112.0393,120.0...   \n",
       "4  91.0542,125.0233,185.0961,229.0859,246.1125,28...   \n",
       "\n",
       "                                         intensities  \\\n",
       "0  0.24524524524524524,1.0,0.08008008008008008,0....   \n",
       "1  0.0990990990990991,0.28128128128128127,0.04004...   \n",
       "2  0.03403403403403404,0.31431431431431434,1.0,0....   \n",
       "3  0.17917917917917917,0.47347347347347346,0.0380...   \n",
       "4  0.07807807807807808,0.1841841841841842,0.03503...   \n",
       "\n",
       "                                          smiles  \\\n",
       "0  CC(=O)N[C@@H](CC1=CC=CC=C1)C2=CC(=CC(=O)O2)OC   \n",
       "1  CC(=O)N[C@@H](CC1=CC=CC=C1)C2=CC(=CC(=O)O2)OC   \n",
       "2  CC(=O)N[C@@H](CC1=CC=CC=C1)C2=CC(=CC(=O)O2)OC   \n",
       "3  CC(=O)N[C@@H](CC1=CC=CC=C1)C2=CC(=CC(=O)O2)OC   \n",
       "4  CC(=O)N[C@@H](CC1=CC=CC=C1)C2=CC(=CC(=O)O2)OC   \n",
       "\n",
       "                                               inchi  \\\n",
       "0  InChI=1S/C16H17NO4/c1-11(18)17-14(8-12-6-4-3-5...   \n",
       "1  InChI=1S/C16H17NO4/c1-11(18)17-14(8-12-6-4-3-5...   \n",
       "2  InChI=1S/C16H17NO4/c1-11(18)17-14(8-12-6-4-3-5...   \n",
       "3  InChI=1S/C16H17NO4/c1-11(18)17-14(8-12-6-4-3-5...   \n",
       "4  InChI=1S/C16H17NO4/c1-11(18)17-14(8-12-6-4-3-5...   \n",
       "\n",
       "                      inchikey  precursor_mz  adduct  parent_mass    formula  \\\n",
       "0  VFMQMACUYWGDOJ-AWEZNQCLSA-N      288.1225  [M+H]+   287.115224  C16H17NO4   \n",
       "1  VFMQMACUYWGDOJ-AWEZNQCLSA-N      288.1225  [M+H]+   287.115224  C16H17NO4   \n",
       "2  VFMQMACUYWGDOJ-AWEZNQCLSA-N      288.1225  [M+H]+   287.115224  C16H17NO4   \n",
       "3  VFMQMACUYWGDOJ-AWEZNQCLSA-N      288.1225  [M+H]+   287.115224  C16H17NO4   \n",
       "4  VFMQMACUYWGDOJ-AWEZNQCLSA-N      288.1225  [M+H]+   287.115224  C16H17NO4   \n",
       "\n",
       "  precursor_formula instrument_type                       collision_energy  \\\n",
       "0         C16H18NO4            ITFT  30.0 (normalized=False, ramped=False)   \n",
       "1         C16H18NO4            ITFT  20.0 (normalized=False, ramped=False)   \n",
       "2         C16H18NO4            ITFT  40.0 (normalized=False, ramped=False)   \n",
       "3         C16H18NO4            ITFT  55.0 (normalized=False, ramped=False)   \n",
       "4         C16H18NO4            ITFT  10.0 (normalized=False, ramped=False)   \n",
       "\n",
       "             identifier  \n",
       "0  MassSpecGymID0000001  \n",
       "1  MassSpecGymID0000002  \n",
       "2  MassSpecGymID0000003  \n",
       "3  MassSpecGymID0000004  \n",
       "4  MassSpecGymID0000005  "
      ]
     },
     "execution_count": 2,
     "metadata": {},
     "output_type": "execute_result"
    }
   ],
   "source": [
    "df = pd.read_csv('../data/data/MassSpecGym.tsv', sep='\\t')\n",
    "df.head()"
   ]
  },
  {
   "cell_type": "markdown",
   "metadata": {},
   "source": [
    "### Prepare SMILES and pre-computed MCES distances"
   ]
  },
  {
   "cell_type": "code",
   "execution_count": 3,
   "metadata": {},
   "outputs": [
    {
     "name": "stdout",
     "output_type": "stream",
     "text": [
      "['mces', 'mces_smiles_order']\n"
     ]
    },
    {
     "data": {
      "text/plain": [
       "((34731, 34731), 34731)"
      ]
     },
     "execution_count": 3,
     "metadata": {},
     "output_type": "execute_result"
    }
   ],
   "source": [
    "f = h5py.File('../data/all_smiles_standardized_mces/all_smiles_mces.hdf5', 'r')\n",
    "print(list(f.keys()))\n",
    "dists = squareform(f['mces'])\n",
    "dists_smiles = f['mces_smiles_order'][:].astype(str).tolist()\n",
    "dists.shape, len(dists_smiles)"
   ]
  },
  {
   "cell_type": "code",
   "execution_count": 4,
   "metadata": {},
   "outputs": [],
   "source": [
    "for s in df['smiles'].unique():\n",
    "    assert s in dists_smiles"
   ]
  },
  {
   "cell_type": "code",
   "execution_count": 5,
   "metadata": {},
   "outputs": [
    {
     "name": "stdout",
     "output_type": "stream",
     "text": [
      "34731 33597 33597\n",
      "True\n"
     ]
    },
    {
     "data": {
      "text/plain": [
       "(33597, (33597, 33597))"
      ]
     },
     "execution_count": 5,
     "metadata": {},
     "output_type": "execute_result"
    }
   ],
   "source": [
    "unique_smiles = df['smiles'].unique()\n",
    "smiles_mask = np.array([s in unique_smiles for s in dists_smiles])\n",
    "print(smiles_mask.shape[0], smiles_mask.sum(), len(unique_smiles))\n",
    "\n",
    "dists = dists[smiles_mask, :][:, smiles_mask]\n",
    "dists_smiles = np.array(dists_smiles)[smiles_mask]\n",
    "\n",
    "from scipy.linalg import issymmetric\n",
    "print(issymmetric(dists))\n",
    "\n",
    "len(dists_smiles), dists.shape"
   ]
  },
  {
   "cell_type": "markdown",
   "metadata": {},
   "source": [
    "### Perform agglomerative clustering using MCES distances"
   ]
  },
  {
   "cell_type": "code",
   "execution_count": 6,
   "metadata": {},
   "outputs": [
    {
     "data": {
      "text/plain": [
       "86      21807\n",
       "236       128\n",
       "1912      101\n",
       "207        94\n",
       "480        91\n",
       "        ...  \n",
       "5323        1\n",
       "5324        1\n",
       "5325        1\n",
       "5326        1\n",
       "647         1\n",
       "Name: count, Length: 7702, dtype: int64"
      ]
     },
     "execution_count": 6,
     "metadata": {},
     "output_type": "execute_result"
    }
   ],
   "source": [
    "clustering = AgglomerativeClustering(\n",
    "    metric='precomputed',\n",
    "    linkage='single',\n",
    "    distance_threshold=10,\n",
    "    n_clusters=None\n",
    ").fit(dists)\n",
    "clusters = clustering.labels_\n",
    "pd.Series(clusters).value_counts()"
   ]
  },
  {
   "cell_type": "code",
   "execution_count": 7,
   "metadata": {},
   "outputs": [
    {
     "data": {
      "image/png": "[encoded data removed]",
      "text/plain": [
       "<IPython.core.display.Image object>"
      ]
     },
     "execution_count": 7,
     "metadata": {},
     "output_type": "execute_result"
    }
   ],
   "source": [
    "Draw.MolsToGridImage([Chem.MolFromSmiles(s) for s in dists_smiles[np.where(clusters == 80)[0]]], molsPerRow=6, subImgSize=(200, 200))"
   ]
  },
  {
   "cell_type": "markdown",
   "metadata": {},
   "source": [
    "### Define train-validation-test split"
   ]
  },
  {
   "cell_type": "markdown",
   "metadata": {},
   "source": [
    "Compute metadata stratification groups"
   ]
  },
  {
   "cell_type": "code",
   "execution_count": 8,
   "metadata": {},
   "outputs": [
    {
     "data": {
      "text/plain": [
       "stratification_group\n",
       "[M+H]+ITFTnone(5, 100]                                        73652\n",
       "[M+H]+ITFTnone(100, inf)                                      57974\n",
       "[M+Na]+ITFTnone(5, 100]                                       55004\n",
       "[M+Na]+ITFTnone(100, inf)                                     48371\n",
       "[M+H]+QTOFother(5, 100]                                       16550\n",
       "                                                              ...  \n",
       "[M+H]+nan10.0 (normalized=False, ramped=False)(0, 3)              1\n",
       "[M+H]+nan30.0 (normalized=False, ramped=False)(0, 3)              1\n",
       "[M+Na]+QTOF30.0 (normalized=False, ramped=False)(3, 5]            1\n",
       "[M+Na]+Orbitrap60.0 (normalized=False, ramped=False)(0, 3)        1\n",
       "[M+Na]+Orbitrapother(0, 3)                                        1\n",
       "Name: count, Length: 166, dtype: int64"
      ]
     },
     "execution_count": 8,
     "metadata": {},
     "output_type": "execute_result"
    }
   ],
   "source": [
    "smiles_to_cluster = dict(zip(dists_smiles, clusters))\n",
    "df['cluster'] = df['smiles'].map(smiles_to_cluster)\n",
    "\n",
    "top_k_ces = df['collision_energy'].value_counts().index[:5]\n",
    "smiles_vc = df['smiles'].value_counts()\n",
    "\n",
    "def simple_ce(ce):\n",
    "    if pd.isnull(ce):\n",
    "        return 'none'\n",
    "    if ce in top_k_ces:\n",
    "        return ce\n",
    "    return 'other'\n",
    "\n",
    "def simple_smiles_count(smiles):\n",
    "    c = smiles_vc[smiles]\n",
    "    if c < 3:\n",
    "        return '(0, 3)'\n",
    "    elif c <= 5:\n",
    "        return '(3, 5]'\n",
    "    elif c > 100:\n",
    "        return '(100, inf)'\n",
    "    return '(5, 100]'\n",
    "\n",
    "def stratification_group(row):\n",
    "    return str(row['adduct']) + \\\n",
    "        str(row['instrument_type']) + \\\n",
    "        str(simple_ce(row['collision_energy'])) + \\\n",
    "        str(simple_smiles_count(row['smiles']))\n",
    "df['stratification_group'] = df.apply(stratification_group, axis=1)\n",
    "df['stratification_group'].value_counts()"
   ]
  },
  {
   "cell_type": "code",
   "execution_count": 94,
   "metadata": {},
   "outputs": [],
   "source": [
    "# def smiles_stratification_group(row):\n",
    "#     n_spectra = row['n_spectra']\n",
    "#     if n_spectra < 3:\n",
    "#         return '(0, 3]'\n",
    "#     elif n_spectra <= 5:\n",
    "#         return '(3, 5]'\n",
    "#     elif n_spectra > 100:\n",
    "#         return '(100, inf)'\n",
    "#     return '(5, 100]'\n",
    "\n",
    "# df_smiles = df.groupby('smiles').agg({\n",
    "#     'identifier': 'count',\n",
    "#     'cluster': 'first'\n",
    "# }).rename(columns={\n",
    "#     'identifier': 'n_spectra'\n",
    "# }).reset_index()\n",
    "\n",
    "# df_smiles['stratification_group'] = df_smiles.apply(smiles_stratification_group, axis=1)\n",
    "# df_smiles\n",
    "\n",
    "# X = df_smiles['smiles'].values\n",
    "# y = df_smiles['stratification_group'].values\n",
    "# groups = df_smiles['cluster'].values\n",
    "# sgkf = StratifiedGroupKFold(n_splits=3)\n",
    "# sgkf_split = sgkf.split(X, y, groups)\n",
    "# folds = []\n",
    "# for i, (train_index, test_index) in enumerate(sgkf_split):\n",
    "#     print(f'{len(test_index)} ({len(test_index) / len(X) * 100:.2f} %)')\n",
    "#     folds.append(X[test_index])"
   ]
  },
  {
   "cell_type": "markdown",
   "metadata": {},
   "source": [
    "Split with `StratifiedGroupKFold`"
   ]
  },
  {
   "cell_type": "code",
   "execution_count": 9,
   "metadata": {},
   "outputs": [
    {
     "name": "stderr",
     "output_type": "stream",
     "text": [
      "/Users/roman/miniconda/envs/massspecgym/lib/python3.11/site-packages/sklearn/model_selection/_split.py:994: UserWarning: The least populated class in y has only 1 members, which is less than n_splits=3.\n",
      "  warnings.warn(\n"
     ]
    },
    {
     "name": "stdout",
     "output_type": "stream",
     "text": [
      "307981 (74.38 %)\n",
      "52944 (12.79 %)\n",
      "53124 (12.83 %)\n"
     ]
    }
   ],
   "source": [
    "X = df['identifier'].values\n",
    "y = df['stratification_group'].values\n",
    "groups = df['cluster'].values\n",
    "sgkf = StratifiedGroupKFold(n_splits=3)\n",
    "sgkf_split = sgkf.split(X, y, groups)\n",
    "folds = []\n",
    "for i, (train_index, test_index) in enumerate(sgkf_split):\n",
    "    print(f'{len(test_index)} ({len(test_index) / len(X) * 100:.2f} %)')\n",
    "    folds.append(X[test_index])"
   ]
  },
  {
   "cell_type": "code",
   "execution_count": 10,
   "metadata": {},
   "outputs": [
    {
     "name": "stdout",
     "output_type": "stream",
     "text": [
      "Full dataset (percentage=False)\n"
     ]
    },
    {
     "data": {
      "text/html": [
       "<div>\n",
       "<style scoped>\n",
       "    .dataframe tbody tr th:only-of-type {\n",
       "        vertical-align: middle;\n",
       "    }\n",
       "\n",
       "    .dataframe tbody tr th {\n",
       "        vertical-align: top;\n",
       "    }\n",
       "\n",
       "    .dataframe thead th {\n",
       "        text-align: right;\n",
       "    }\n",
       "</style>\n",
       "<table border=\"1\" class=\"dataframe\">\n",
       "  <thead>\n",
       "    <tr style=\"text-align: right;\">\n",
       "      <th></th>\n",
       "      <th>smiles</th>\n",
       "      <th>identifier</th>\n",
       "      <th>cluster</th>\n",
       "    </tr>\n",
       "    <tr>\n",
       "      <th>fold</th>\n",
       "      <th></th>\n",
       "      <th></th>\n",
       "      <th></th>\n",
       "    </tr>\n",
       "  </thead>\n",
       "  <tbody>\n",
       "    <tr>\n",
       "      <th>test</th>\n",
       "      <td>5866</td>\n",
       "      <td>53124</td>\n",
       "      <td>3827</td>\n",
       "    </tr>\n",
       "    <tr>\n",
       "      <th>train</th>\n",
       "      <td>21864</td>\n",
       "      <td>307981</td>\n",
       "      <td>58</td>\n",
       "    </tr>\n",
       "    <tr>\n",
       "      <th>val</th>\n",
       "      <td>5867</td>\n",
       "      <td>52944</td>\n",
       "      <td>3817</td>\n",
       "    </tr>\n",
       "  </tbody>\n",
       "</table>\n",
       "</div>"
      ],
      "text/plain": [
       "       smiles  identifier  cluster\n",
       "fold                              \n",
       "test     5866       53124     3827\n",
       "train   21864      307981       58\n",
       "val      5867       52944     3817"
      ]
     },
     "metadata": {},
     "output_type": "display_data"
    },
    {
     "name": "stdout",
     "output_type": "stream",
     "text": [
      "All metadata available (percentage=False)\n"
     ]
    },
    {
     "data": {
      "text/html": [
       "<div>\n",
       "<style scoped>\n",
       "    .dataframe tbody tr th:only-of-type {\n",
       "        vertical-align: middle;\n",
       "    }\n",
       "\n",
       "    .dataframe tbody tr th {\n",
       "        vertical-align: top;\n",
       "    }\n",
       "\n",
       "    .dataframe thead th {\n",
       "        text-align: right;\n",
       "    }\n",
       "</style>\n",
       "<table border=\"1\" class=\"dataframe\">\n",
       "  <thead>\n",
       "    <tr style=\"text-align: right;\">\n",
       "      <th></th>\n",
       "      <th>smiles</th>\n",
       "      <th>identifier</th>\n",
       "      <th>cluster</th>\n",
       "    </tr>\n",
       "    <tr>\n",
       "      <th>fold</th>\n",
       "      <th></th>\n",
       "      <th></th>\n",
       "      <th></th>\n",
       "    </tr>\n",
       "  </thead>\n",
       "  <tbody>\n",
       "    <tr>\n",
       "      <th>test</th>\n",
       "      <td>4255</td>\n",
       "      <td>18768</td>\n",
       "      <td>3252</td>\n",
       "    </tr>\n",
       "    <tr>\n",
       "      <th>train</th>\n",
       "      <td>10757</td>\n",
       "      <td>104014</td>\n",
       "      <td>58</td>\n",
       "    </tr>\n",
       "    <tr>\n",
       "      <th>val</th>\n",
       "      <td>4235</td>\n",
       "      <td>18611</td>\n",
       "      <td>3234</td>\n",
       "    </tr>\n",
       "  </tbody>\n",
       "</table>\n",
       "</div>"
      ],
      "text/plain": [
       "       smiles  identifier  cluster\n",
       "fold                              \n",
       "test     4255       18768     3252\n",
       "train   10757      104014       58\n",
       "val      4235       18611     3234"
      ]
     },
     "metadata": {},
     "output_type": "display_data"
    },
    {
     "name": "stdout",
     "output_type": "stream",
     "text": [
      "Full dataset (percentage=True)\n"
     ]
    },
    {
     "data": {
      "text/html": [
       "<div>\n",
       "<style scoped>\n",
       "    .dataframe tbody tr th:only-of-type {\n",
       "        vertical-align: middle;\n",
       "    }\n",
       "\n",
       "    .dataframe tbody tr th {\n",
       "        vertical-align: top;\n",
       "    }\n",
       "\n",
       "    .dataframe thead th {\n",
       "        text-align: right;\n",
       "    }\n",
       "</style>\n",
       "<table border=\"1\" class=\"dataframe\">\n",
       "  <thead>\n",
       "    <tr style=\"text-align: right;\">\n",
       "      <th></th>\n",
       "      <th>smiles</th>\n",
       "      <th>identifier</th>\n",
       "      <th>cluster</th>\n",
       "    </tr>\n",
       "    <tr>\n",
       "      <th>fold</th>\n",
       "      <th></th>\n",
       "      <th></th>\n",
       "      <th></th>\n",
       "    </tr>\n",
       "  </thead>\n",
       "  <tbody>\n",
       "    <tr>\n",
       "      <th>test</th>\n",
       "      <td>17.46</td>\n",
       "      <td>12.83</td>\n",
       "      <td>49.69</td>\n",
       "    </tr>\n",
       "    <tr>\n",
       "      <th>train</th>\n",
       "      <td>65.08</td>\n",
       "      <td>74.38</td>\n",
       "      <td>0.75</td>\n",
       "    </tr>\n",
       "    <tr>\n",
       "      <th>val</th>\n",
       "      <td>17.46</td>\n",
       "      <td>12.79</td>\n",
       "      <td>49.56</td>\n",
       "    </tr>\n",
       "  </tbody>\n",
       "</table>\n",
       "</div>"
      ],
      "text/plain": [
       "       smiles  identifier  cluster\n",
       "fold                              \n",
       "test    17.46       12.83    49.69\n",
       "train   65.08       74.38     0.75\n",
       "val     17.46       12.79    49.56"
      ]
     },
     "metadata": {},
     "output_type": "display_data"
    },
    {
     "name": "stdout",
     "output_type": "stream",
     "text": [
      "All metadata available (percentage=True)\n"
     ]
    },
    {
     "data": {
      "text/html": [
       "<div>\n",
       "<style scoped>\n",
       "    .dataframe tbody tr th:only-of-type {\n",
       "        vertical-align: middle;\n",
       "    }\n",
       "\n",
       "    .dataframe tbody tr th {\n",
       "        vertical-align: top;\n",
       "    }\n",
       "\n",
       "    .dataframe thead th {\n",
       "        text-align: right;\n",
       "    }\n",
       "</style>\n",
       "<table border=\"1\" class=\"dataframe\">\n",
       "  <thead>\n",
       "    <tr style=\"text-align: right;\">\n",
       "      <th></th>\n",
       "      <th>smiles</th>\n",
       "      <th>identifier</th>\n",
       "      <th>cluster</th>\n",
       "    </tr>\n",
       "    <tr>\n",
       "      <th>fold</th>\n",
       "      <th></th>\n",
       "      <th></th>\n",
       "      <th></th>\n",
       "    </tr>\n",
       "  </thead>\n",
       "  <tbody>\n",
       "    <tr>\n",
       "      <th>test</th>\n",
       "      <td>22.11</td>\n",
       "      <td>13.27</td>\n",
       "      <td>49.69</td>\n",
       "    </tr>\n",
       "    <tr>\n",
       "      <th>train</th>\n",
       "      <td>55.89</td>\n",
       "      <td>73.56</td>\n",
       "      <td>0.89</td>\n",
       "    </tr>\n",
       "    <tr>\n",
       "      <th>val</th>\n",
       "      <td>22.00</td>\n",
       "      <td>13.16</td>\n",
       "      <td>49.42</td>\n",
       "    </tr>\n",
       "  </tbody>\n",
       "</table>\n",
       "</div>"
      ],
      "text/plain": [
       "       smiles  identifier  cluster\n",
       "fold                              \n",
       "test    22.11       13.27    49.69\n",
       "train   55.89       73.56     0.89\n",
       "val     22.00       13.16    49.42"
      ]
     },
     "metadata": {},
     "output_type": "display_data"
    }
   ],
   "source": [
    "folds_map = {}\n",
    "for i, fold in enumerate(folds):\n",
    "    for identifier in fold:\n",
    "        folds_map[identifier] = ['train', 'val', 'test'][i]\n",
    "df['fold'] = df['identifier'].map(folds_map)\n",
    "\n",
    "def fold_composition(df_q, percentage=True):\n",
    "    # Compute unique counts\n",
    "    unique_counts = df_q.groupby(['fold']).agg({'smiles': 'nunique', 'identifier': 'nunique', 'cluster': 'nunique'})\n",
    "    if not percentage:\n",
    "        return unique_counts\n",
    "    total_counts = df_q.agg({'smiles': 'nunique', 'identifier': 'nunique', 'cluster': 'nunique'})\n",
    "    percentage_counts = (unique_counts / total_counts) * 100\n",
    "    percentage_counts = percentage_counts.round(2)\n",
    "    return percentage_counts\n",
    "for percentage in [False, True]:\n",
    "    print(f'Full dataset (percentage={percentage})')\n",
    "    display(fold_composition(df, percentage=percentage))\n",
    "    print(f'All metadata available (percentage={percentage})')\n",
    "    display(fold_composition(df.dropna(), percentage=percentage))"
   ]
  },
  {
   "cell_type": "code",
   "execution_count": 11,
   "metadata": {},
   "outputs": [
    {
     "name": "stdout",
     "output_type": "stream",
     "text": [
      "Full dataset (percentage=False)\n"
     ]
    },
    {
     "data": {
      "text/html": [
       "<div>\n",
       "<style scoped>\n",
       "    .dataframe tbody tr th:only-of-type {\n",
       "        vertical-align: middle;\n",
       "    }\n",
       "\n",
       "    .dataframe tbody tr th {\n",
       "        vertical-align: top;\n",
       "    }\n",
       "\n",
       "    .dataframe thead th {\n",
       "        text-align: right;\n",
       "    }\n",
       "</style>\n",
       "<table border=\"1\" class=\"dataframe\">\n",
       "  <thead>\n",
       "    <tr style=\"text-align: right;\">\n",
       "      <th></th>\n",
       "      <th>smiles</th>\n",
       "      <th>identifier</th>\n",
       "      <th>cluster</th>\n",
       "    </tr>\n",
       "    <tr>\n",
       "      <th>fold</th>\n",
       "      <th></th>\n",
       "      <th></th>\n",
       "      <th></th>\n",
       "    </tr>\n",
       "  </thead>\n",
       "  <tbody>\n",
       "    <tr>\n",
       "      <th>test</th>\n",
       "      <td>3316</td>\n",
       "      <td>25146</td>\n",
       "      <td>2327</td>\n",
       "    </tr>\n",
       "    <tr>\n",
       "      <th>train</th>\n",
       "      <td>26777</td>\n",
       "      <td>361307</td>\n",
       "      <td>3058</td>\n",
       "    </tr>\n",
       "    <tr>\n",
       "      <th>val</th>\n",
       "      <td>3504</td>\n",
       "      <td>27596</td>\n",
       "      <td>2317</td>\n",
       "    </tr>\n",
       "  </tbody>\n",
       "</table>\n",
       "</div>"
      ],
      "text/plain": [
       "       smiles  identifier  cluster\n",
       "fold                              \n",
       "test     3316       25146     2327\n",
       "train   26777      361307     3058\n",
       "val      3504       27596     2317"
      ]
     },
     "metadata": {},
     "output_type": "display_data"
    },
    {
     "name": "stdout",
     "output_type": "stream",
     "text": [
      "All metadata available (percentage=False)\n"
     ]
    },
    {
     "data": {
      "text/html": [
       "<div>\n",
       "<style scoped>\n",
       "    .dataframe tbody tr th:only-of-type {\n",
       "        vertical-align: middle;\n",
       "    }\n",
       "\n",
       "    .dataframe tbody tr th {\n",
       "        vertical-align: top;\n",
       "    }\n",
       "\n",
       "    .dataframe thead th {\n",
       "        text-align: right;\n",
       "    }\n",
       "</style>\n",
       "<table border=\"1\" class=\"dataframe\">\n",
       "  <thead>\n",
       "    <tr style=\"text-align: right;\">\n",
       "      <th></th>\n",
       "      <th>smiles</th>\n",
       "      <th>identifier</th>\n",
       "      <th>cluster</th>\n",
       "    </tr>\n",
       "    <tr>\n",
       "      <th>fold</th>\n",
       "      <th></th>\n",
       "      <th></th>\n",
       "      <th></th>\n",
       "    </tr>\n",
       "  </thead>\n",
       "  <tbody>\n",
       "    <tr>\n",
       "      <th>test</th>\n",
       "      <td>2516</td>\n",
       "      <td>10613</td>\n",
       "      <td>1980</td>\n",
       "    </tr>\n",
       "    <tr>\n",
       "      <th>train</th>\n",
       "      <td>14173</td>\n",
       "      <td>119585</td>\n",
       "      <td>2596</td>\n",
       "    </tr>\n",
       "    <tr>\n",
       "      <th>val</th>\n",
       "      <td>2558</td>\n",
       "      <td>11195</td>\n",
       "      <td>1968</td>\n",
       "    </tr>\n",
       "  </tbody>\n",
       "</table>\n",
       "</div>"
      ],
      "text/plain": [
       "       smiles  identifier  cluster\n",
       "fold                              \n",
       "test     2516       10613     1980\n",
       "train   14173      119585     2596\n",
       "val      2558       11195     1968"
      ]
     },
     "metadata": {},
     "output_type": "display_data"
    },
    {
     "name": "stdout",
     "output_type": "stream",
     "text": [
      "Full dataset (percentage=True)\n"
     ]
    },
    {
     "data": {
      "text/html": [
       "<div>\n",
       "<style scoped>\n",
       "    .dataframe tbody tr th:only-of-type {\n",
       "        vertical-align: middle;\n",
       "    }\n",
       "\n",
       "    .dataframe tbody tr th {\n",
       "        vertical-align: top;\n",
       "    }\n",
       "\n",
       "    .dataframe thead th {\n",
       "        text-align: right;\n",
       "    }\n",
       "</style>\n",
       "<table border=\"1\" class=\"dataframe\">\n",
       "  <thead>\n",
       "    <tr style=\"text-align: right;\">\n",
       "      <th></th>\n",
       "      <th>smiles</th>\n",
       "      <th>identifier</th>\n",
       "      <th>cluster</th>\n",
       "    </tr>\n",
       "    <tr>\n",
       "      <th>fold</th>\n",
       "      <th></th>\n",
       "      <th></th>\n",
       "      <th></th>\n",
       "    </tr>\n",
       "  </thead>\n",
       "  <tbody>\n",
       "    <tr>\n",
       "      <th>test</th>\n",
       "      <td>9.87</td>\n",
       "      <td>6.07</td>\n",
       "      <td>30.21</td>\n",
       "    </tr>\n",
       "    <tr>\n",
       "      <th>train</th>\n",
       "      <td>79.70</td>\n",
       "      <td>87.26</td>\n",
       "      <td>39.70</td>\n",
       "    </tr>\n",
       "    <tr>\n",
       "      <th>val</th>\n",
       "      <td>10.43</td>\n",
       "      <td>6.66</td>\n",
       "      <td>30.08</td>\n",
       "    </tr>\n",
       "  </tbody>\n",
       "</table>\n",
       "</div>"
      ],
      "text/plain": [
       "       smiles  identifier  cluster\n",
       "fold                              \n",
       "test     9.87        6.07    30.21\n",
       "train   79.70       87.26    39.70\n",
       "val     10.43        6.66    30.08"
      ]
     },
     "metadata": {},
     "output_type": "display_data"
    },
    {
     "name": "stdout",
     "output_type": "stream",
     "text": [
      "All metadata available (percentage=True)\n"
     ]
    },
    {
     "data": {
      "text/html": [
       "<div>\n",
       "<style scoped>\n",
       "    .dataframe tbody tr th:only-of-type {\n",
       "        vertical-align: middle;\n",
       "    }\n",
       "\n",
       "    .dataframe tbody tr th {\n",
       "        vertical-align: top;\n",
       "    }\n",
       "\n",
       "    .dataframe thead th {\n",
       "        text-align: right;\n",
       "    }\n",
       "</style>\n",
       "<table border=\"1\" class=\"dataframe\">\n",
       "  <thead>\n",
       "    <tr style=\"text-align: right;\">\n",
       "      <th></th>\n",
       "      <th>smiles</th>\n",
       "      <th>identifier</th>\n",
       "      <th>cluster</th>\n",
       "    </tr>\n",
       "    <tr>\n",
       "      <th>fold</th>\n",
       "      <th></th>\n",
       "      <th></th>\n",
       "      <th></th>\n",
       "    </tr>\n",
       "  </thead>\n",
       "  <tbody>\n",
       "    <tr>\n",
       "      <th>test</th>\n",
       "      <td>13.07</td>\n",
       "      <td>7.51</td>\n",
       "      <td>30.26</td>\n",
       "    </tr>\n",
       "    <tr>\n",
       "      <th>train</th>\n",
       "      <td>73.64</td>\n",
       "      <td>84.58</td>\n",
       "      <td>39.67</td>\n",
       "    </tr>\n",
       "    <tr>\n",
       "      <th>val</th>\n",
       "      <td>13.29</td>\n",
       "      <td>7.92</td>\n",
       "      <td>30.07</td>\n",
       "    </tr>\n",
       "  </tbody>\n",
       "</table>\n",
       "</div>"
      ],
      "text/plain": [
       "       smiles  identifier  cluster\n",
       "fold                              \n",
       "test    13.07        7.51    30.26\n",
       "train   73.64       84.58    39.67\n",
       "val     13.29        7.92    30.07"
      ]
     },
     "metadata": {},
     "output_type": "display_data"
    }
   ],
   "source": [
    "df_split = df.copy()\n",
    "for f in ['val', 'test']:\n",
    "    df_fold = df[df['fold'] == f].copy()\n",
    "    rand_fold_clusters = df_fold['cluster'].drop_duplicates().sample(n=1500, random_state=42).values\n",
    "    df_split.loc[df_split['cluster'].isin(rand_fold_clusters), 'fold'] = 'train'\n",
    "\n",
    "for percentage in [False, True]:\n",
    "    print(f'Full dataset (percentage={percentage})')\n",
    "    display(fold_composition(df_split, percentage=percentage))\n",
    "    print(f'All metadata available (percentage={percentage})')\n",
    "    display(fold_composition(df_split.dropna(), percentage=percentage))"
   ]
  },
  {
   "cell_type": "code",
   "execution_count": 12,
   "metadata": {},
   "outputs": [
    {
     "name": "stdout",
     "output_type": "stream",
     "text": [
      "------------------------------ Full dataset ------------------------------\n"
     ]
    },
    {
     "data": {
      "image/png": "[encoded data removed]",
      "text/plain": [
       "<Figure size 300x300 with 1 Axes>"
      ]
     },
     "metadata": {},
     "output_type": "display_data"
    },
    {
     "data": {
      "image/png": "[encoded data removed]",
      "text/plain": [
       "<Figure size 300x300 with 1 Axes>"
      ]
     },
     "metadata": {},
     "output_type": "display_data"
    },
    {
     "data": {
      "image/png": "[encoded data removed]",
      "text/plain": [
       "<Figure size 300x300 with 1 Axes>"
      ]
     },
     "metadata": {},
     "output_type": "display_data"
    },
    {
     "data": {
      "image/png": "[encoded data removed]",
      "text/plain": [
       "<Figure size 300x300 with 1 Axes>"
      ]
     },
     "metadata": {},
     "output_type": "display_data"
    },
    {
     "name": "stdout",
     "output_type": "stream",
     "text": [
      "------------------------------ All metadata available ------------------------------\n"
     ]
    },
    {
     "data": {
      "image/png": "[encoded data removed]",
      "text/plain": [
       "<Figure size 300x300 with 1 Axes>"
      ]
     },
     "metadata": {},
     "output_type": "display_data"
    },
    {
     "data": {
      "image/png": "[encoded data removed]",
      "text/plain": [
       "<Figure size 300x300 with 1 Axes>"
      ]
     },
     "metadata": {},
     "output_type": "display_data"
    },
    {
     "data": {
      "image/png": "[encoded data removed]",
      "text/plain": [
       "<Figure size 300x300 with 1 Axes>"
      ]
     },
     "metadata": {},
     "output_type": "display_data"
    },
    {
     "data": {
      "image/png": "[encoded data removed]",
      "text/plain": [
       "<Figure size 300x300 with 1 Axes>"
      ]
     },
     "metadata": {},
     "output_type": "display_data"
    }
   ],
   "source": [
    "utils.init_plotting(figsize=(3, 3))\n",
    "\n",
    "for df_name, df_plot in [('Full dataset', df_split.copy()), ('All metadata available', df_split.copy().dropna())]:\n",
    "    print('-' * 30, df_name, '-' * 30)\n",
    "    df_plot['instrument_type'] = df_plot['instrument_type'].str.replace('Q Exactive Focus Hybrid Quadrupole Orbitrap Mass Spectrometer (Thermo Fisher Scientific)', 'Q Exactive')\n",
    "    df_plot['collision_energy'] = df_plot['collision_energy'].apply(simple_ce)\n",
    "    df_plot['smiles_count'] = df_plot['smiles'].apply(simple_smiles_count)\n",
    "\n",
    "    sns.histplot(y='instrument_type', data=df_plot, hue='fold', multiple='dodge', discrete=True, shrink=.8)\n",
    "    plt.xscale('log')\n",
    "    plt.show()\n",
    "\n",
    "    sns.histplot(y='collision_energy', data=df_plot, hue='fold', multiple='dodge', discrete=True, shrink=.8)\n",
    "    plt.xscale('log')\n",
    "    plt.show()\n",
    "\n",
    "    sns.histplot(y='adduct', data=df_plot, hue='fold', multiple='dodge', discrete=True, shrink=.8)\n",
    "    # plt.xscale('log')\n",
    "    plt.show()\n",
    "\n",
    "    sns.histplot(y='smiles_count', data=df_plot, hue='fold', multiple='dodge', discrete=True, shrink=.8)\n",
    "    plt.show()"
   ]
  },
  {
   "cell_type": "code",
   "execution_count": 31,
   "metadata": {},
   "outputs": [
    {
     "name": "stderr",
     "output_type": "stream",
     "text": [
      "100%|██████████| 26777/26777 [00:03<00:00, 6837.52it/s]\n",
      "100%|██████████| 3504/3504 [00:00<00:00, 4810.18it/s]\n",
      "100%|██████████| 3316/3316 [00:00<00:00, 4962.28it/s]\n"
     ]
    }
   ],
   "source": [
    "fps = {}\n",
    "for fold in ['train', 'val', 'test']:\n",
    "    df_fold = df_split[df_split['fold'] == fold]\n",
    "    df_fold = df_fold.drop_duplicates(subset='smiles')\n",
    "    fps[fold] = df_fold['smiles'].progress_apply(lambda s: utils.morgan_fp(Chem.MolFromSmiles(s), to_np=False))\n",
    "def max_train_tanimoto(test_fp, train_fps=fps['train']):\n",
    "    return max([DataStructs.FingerprintSimilarity(test_fp, train_fp) for train_fp in train_fps])"
   ]
  },
  {
   "cell_type": "code",
   "execution_count": 32,
   "metadata": {},
   "outputs": [
    {
     "name": "stdout",
     "output_type": "stream",
     "text": [
      "INFO: Pandarallel will run on 8 workers.\n",
      "INFO: Pandarallel will use standard multiprocessing data transfer (pipe) to transfer data between the main process and workers.\n"
     ]
    },
    {
     "data": {
      "application/vnd.jupyter.widget-view+json": {
       "model_id": "99c0dd5ff034411aa34348ec2275c955",
       "version_major": 2,
       "version_minor": 0
      },
      "text/plain": [
       "VBox(children=(HBox(children=(IntProgress(value=0, description='0.00%', max=415), Label(value='0 / 415'))), HB…"
      ]
     },
     "metadata": {},
     "output_type": "display_data"
    },
    {
     "data": {
      "image/png": "[encoded data removed]",
      "text/plain": [
       "<Figure size 400x300 with 1 Axes>"
      ]
     },
     "metadata": {},
     "output_type": "display_data"
    }
   ],
   "source": [
    "pandarallel.initialize(nb_workers=8, progress_bar=True)\n",
    "max_train_tanimotos = fps['test'].parallel_apply(lambda f: max_train_tanimoto(f, pd.concat([fps['train'], fps['val']])))\n",
    "utils.init_plotting(figsize=(4, 3))\n",
    "sns.histplot(max_train_tanimotos)\n",
    "plt.xlabel('Max Tanimoto from train+val set for test example')\n",
    "plt.show()"
   ]
  },
  {
   "cell_type": "code",
   "execution_count": 33,
   "metadata": {},
   "outputs": [
    {
     "name": "stdout",
     "output_type": "stream",
     "text": [
      "INFO: Pandarallel will run on 8 workers.\n",
      "INFO: Pandarallel will use standard multiprocessing data transfer (pipe) to transfer data between the main process and workers.\n"
     ]
    },
    {
     "data": {
      "application/vnd.jupyter.widget-view+json": {
       "model_id": "c6f1f5d72c2c498b902dd5fb9f52bae0",
       "version_major": 2,
       "version_minor": 0
      },
      "text/plain": [
       "VBox(children=(HBox(children=(IntProgress(value=0, description='0.00%', max=438), Label(value='0 / 438'))), HB…"
      ]
     },
     "metadata": {},
     "output_type": "display_data"
    }
   ],
   "source": [
    "pandarallel.initialize(nb_workers=8, progress_bar=True)\n",
    "max_train_tanimotos = fps['val'].parallel_apply(lambda f: max_train_tanimoto(f, fps['train']))\n",
    "utils.init_plotting(figsize=(4, 3))\n",
    "sns.histplot(max_train_tanimotos)\n",
    "plt.xlabel('Max Tanimoto from train set for validation example')\n",
    "plt.show()"
   ]
  },
  {
   "cell_type": "code",
   "execution_count": 29,
   "metadata": {},
   "outputs": [],
   "source": [
    "df = df_split.drop(columns=['cluster', 'stratification_group'])\n",
    "df['simulation_challenge'] = (~df.isna().sum(axis=1)) & (df['adduct'] == '[M+H]+')\n",
    "df.to_csv('../data/data/MassSpecGym.tsv', sep='\\t', index=False)"
   ]
  },
  {
   "cell_type": "code",
   "execution_count": 30,
   "metadata": {},
   "outputs": [
    {
     "data": {
      "text/plain": [
       "fold\n",
       "train    307981\n",
       "test      53124\n",
       "val       52944\n",
       "Name: count, dtype: int64"
      ]
     },
     "execution_count": 30,
     "metadata": {},
     "output_type": "execute_result"
    }
   ],
   "source": [
    "df['fold'].value_counts()"
   ]
  }
 ],
 "metadata": {
  "kernelspec": {
   "display_name": "massspecgym",
   "language": "python",
   "name": "python3"
  },
  "language_info": {
   "codemirror_mode": {
    "name": "ipython",
    "version": 3
   },
   "file_extension": ".py",
   "mimetype": "text/x-python",
   "name": "python",
   "nbconvert_exporter": "python",
   "pygments_lexer": "ipython3",
   "version": "3.11.0"
  }
 },
 "nbformat": 4,
 "nbformat_minor": 2
}
